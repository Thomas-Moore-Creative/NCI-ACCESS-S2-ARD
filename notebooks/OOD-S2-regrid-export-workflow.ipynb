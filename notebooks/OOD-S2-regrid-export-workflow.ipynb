{
 "cells": [
  {
   "cell_type": "markdown",
   "id": "15d93d15",
   "metadata": {},
   "source": [
    "# S2-regrid-export-workflow"
   ]
  },
  {
   "cell_type": "markdown",
   "id": "6f560886",
   "metadata": {},
   "source": [
    "**Date:** <br>\n",
    "10 November 2021 <br>\n",
    "**Background:** <br>\n",
    "Issue -  <br>\n",
    "**Author(s):**<br>\n",
    "Thomas Moore<br>"
   ]
  },
  {
   "cell_type": "code",
   "execution_count": 1,
   "id": "9e6e7cd2",
   "metadata": {},
   "outputs": [],
   "source": [
    "Author1 = {\"name\": \"Thomas Moore\", \"affiliation\": \"CSIRO\", \"email\": \"thomas.moore@csiro.au\", \"orcid\": \"0000-0003-3930-1946\"}"
   ]
  },
  {
   "cell_type": "code",
   "execution_count": 2,
   "id": "1c5509f5",
   "metadata": {
    "tags": []
   },
   "outputs": [
    {
     "ename": "ModuleNotFoundError",
     "evalue": "No module named 'xarray'",
     "output_type": "error",
     "traceback": [
      "\u001b[0;31m---------------------------------------------------------------------------\u001b[0m",
      "\u001b[0;31mModuleNotFoundError\u001b[0m                       Traceback (most recent call last)",
      "\u001b[0;32m/local/v14/tm4888/tmp/ipykernel_1370222/2709617809.py\u001b[0m in \u001b[0;36m<module>\u001b[0;34m\u001b[0m\n\u001b[0;32m----> 1\u001b[0;31m \u001b[0;32mimport\u001b[0m \u001b[0mxarray\u001b[0m \u001b[0;32mas\u001b[0m \u001b[0mxr\u001b[0m\u001b[0;34m\u001b[0m\u001b[0;34m\u001b[0m\u001b[0m\n\u001b[0m\u001b[1;32m      2\u001b[0m \u001b[0;32mfrom\u001b[0m \u001b[0mdask_jobqueue\u001b[0m \u001b[0;32mimport\u001b[0m \u001b[0mPBSCluster\u001b[0m\u001b[0;34m\u001b[0m\u001b[0;34m\u001b[0m\u001b[0m\n\u001b[1;32m      3\u001b[0m \u001b[0;32mfrom\u001b[0m \u001b[0mdask\u001b[0m\u001b[0;34m.\u001b[0m\u001b[0mdistributed\u001b[0m \u001b[0;32mimport\u001b[0m \u001b[0mClient\u001b[0m\u001b[0;34m\u001b[0m\u001b[0;34m\u001b[0m\u001b[0m\n\u001b[1;32m      4\u001b[0m \u001b[0;32mimport\u001b[0m \u001b[0mnumpy\u001b[0m \u001b[0;32mas\u001b[0m \u001b[0mnp\u001b[0m\u001b[0;34m\u001b[0m\u001b[0;34m\u001b[0m\u001b[0m\n\u001b[1;32m      5\u001b[0m \u001b[0;32mimport\u001b[0m \u001b[0mxrft\u001b[0m\u001b[0;34m\u001b[0m\u001b[0;34m\u001b[0m\u001b[0m\n",
      "\u001b[0;31mModuleNotFoundError\u001b[0m: No module named 'xarray'"
     ]
    }
   ],
   "source": [
    "import xarray as xr\n",
    "from dask_jobqueue import PBSCluster\n",
    "from dask.distributed import Client\n",
    "import numpy as np\n",
    "import xrft\n",
    "import xesmf as xe\n",
    "import scipy\n",
    "import matplotlib.pyplot as plt\n",
    "import datetime\n",
    "import pandas as pd\n",
    "import matplotlib.dates as mdates\n",
    "from matplotlib.dates import DateFormatter\n",
    "import os\n",
    "import re\n",
    "import cartopy.crs as ccrs\n",
    "import proplot as pplt\n",
    "%config Completer.use_jedi = False"
   ]
  },
  {
   "cell_type": "code",
   "execution_count": null,
   "id": "7727eeb3",
   "metadata": {},
   "outputs": [],
   "source": [
    "# supress warnings\n",
    "import warnings\n",
    "warnings.filterwarnings('ignore')"
   ]
  },
  {
   "cell_type": "markdown",
   "id": "6cedc6a4",
   "metadata": {},
   "source": [
    "# Spin up cluster with `dask-jobqueue` \n",
    "*----*<br>"
   ]
  },
  {
   "cell_type": "markdown",
   "id": "81fd9f54",
   "metadata": {},
   "source": [
    "### Specs for an individual worker"
   ]
  },
  {
   "cell_type": "code",
   "execution_count": 4,
   "id": "a3b47604",
   "metadata": {},
   "outputs": [],
   "source": [
    "walltime = '02:00:00'\n",
    "cores = 2\n",
    "memory = '8GB'\n",
    "\n",
    "cluster = PBSCluster(processes = 1, walltime=str(walltime), cores=cores, memory=str(memory),\n",
    "                     job_extra=['-P xv83','-l ncpus='+str(cores),'-l mem='+str(memory),\n",
    "                                '-l storage=gdata/v14+scratch/v14+gdata/lp01+scratch/lp01+scratch/ux06+gdata/rr3+gdata/al33+gdata/zv2+gdata/ux62+gdata/xv83'],\n",
    "                     header_skip=[\"select\"], death_timeout = 180, interface='lo')"
   ]
  },
  {
   "cell_type": "markdown",
   "id": "36b16a2a",
   "metadata": {},
   "source": [
    "### Scale up to n workers"
   ]
  },
  {
   "cell_type": "code",
   "execution_count": 5,
   "id": "255999d2",
   "metadata": {},
   "outputs": [],
   "source": [
    "cluster.scale(jobs=2)"
   ]
  },
  {
   "cell_type": "code",
   "execution_count": 6,
   "id": "2a66a077",
   "metadata": {},
   "outputs": [],
   "source": [
    "client = Client(cluster)"
   ]
  },
  {
   "cell_type": "code",
   "execution_count": 9,
   "id": "0ef1ab97",
   "metadata": {
    "tags": []
   },
   "outputs": [
    {
     "data": {
      "text/html": [
       "<table style=\"border: 2px solid white;\">\n",
       "<tr>\n",
       "<td style=\"vertical-align: top; border: 0px solid white\">\n",
       "<h3 style=\"text-align: left;\">Client</h3>\n",
       "<ul style=\"text-align: left; list-style: none; margin: 0; padding: 0;\">\n",
       "  <li><b>Scheduler: </b>tcp://127.0.0.1:36097</li>\n",
       "  <li><b>Dashboard: </b><a href='http://127.0.0.1:8787/status' target='_blank'>http://127.0.0.1:8787/status</a></li>\n",
       "</ul>\n",
       "</td>\n",
       "<td style=\"vertical-align: top; border: 0px solid white\">\n",
       "<h3 style=\"text-align: left;\">Cluster</h3>\n",
       "<ul style=\"text-align: left; list-style:none; margin: 0; padding: 0;\">\n",
       "  <li><b>Workers: </b>0</li>\n",
       "  <li><b>Cores: </b>0</li>\n",
       "  <li><b>Memory: </b>0 B</li>\n",
       "</ul>\n",
       "</td>\n",
       "</tr>\n",
       "</table>"
      ],
      "text/plain": [
       "<Client: 'tcp://127.0.0.1:36097' processes=0 threads=0, memory=0 B>"
      ]
     },
     "execution_count": 9,
     "metadata": {},
     "output_type": "execute_result"
    }
   ],
   "source": [
    "client"
   ]
  },
  {
   "cell_type": "code",
   "execution_count": 8,
   "id": "8e9110e6",
   "metadata": {},
   "outputs": [
    {
     "name": "stdout",
     "output_type": "stream",
     "text": [
      "#!/usr/bin/env bash\n",
      "\n",
      "#PBS -N dask-worker\n",
      "#PBS -l walltime=02:00:00\n",
      "#PBS -P xv83\n",
      "#PBS -l ncpus=2\n",
      "#PBS -l mem=8GB\n",
      "#PBS -l storage=gdata/v14+scratch/v14+gdata/lp01+scratch/lp01+scratch/ux06+gdata/rr3+gdata/al33+gdata/zv2+gdata/ux62+gdata/xv83\n",
      "\n",
      "/g/data/v14/tm4888/miniconda3/envs/pangeo_hpc_operational/bin/python -m distributed.cli.dask_worker tcp://127.0.0.1:36097 --nthreads 2 --memory-limit 8.00GB --name name --nanny --death-timeout 180 --interface lo\n",
      "\n"
     ]
    }
   ],
   "source": [
    "print(cluster.job_script())"
   ]
  },
  {
   "cell_type": "code",
   "execution_count": null,
   "id": "9e05f679",
   "metadata": {},
   "outputs": [],
   "source": [
    "import logging\n",
    "logging.basicConfig(format='%(levelname)s:%(message)s', level=logging.DEBUG)"
   ]
  },
  {
   "cell_type": "code",
   "execution_count": null,
   "id": "81b2cfbf",
   "metadata": {},
   "outputs": [],
   "source": [
    "# define preprocess drop function - this unfortunately removes useful information like areau that's missing from 2015 files\n",
    "def drop_not_in_2015(ds):\n",
    "    if 'latu_bounds' in ds.data_vars:\n",
    "        ds = ds.drop(['latu_bounds'])\n",
    "    if 'lonu_bounds' in ds.data_vars:\n",
    "        ds = ds.drop(['lonu_bounds'])\n",
    "    if 'latv_bounds' in ds.data_vars:\n",
    "        ds = ds.drop(['latv_bounds'])\n",
    "    if 'lonv_bounds' in ds.data_vars:\n",
    "        ds = ds.drop(['lonv_bounds'])\n",
    "    if 'latt_bounds' in ds.data_vars:\n",
    "        ds = ds.drop(['latt_bounds'])\n",
    "    if 'lont_bounds' in ds.data_vars:\n",
    "        ds = ds.drop(['lont_bounds'])    \n",
    "    if 'depthu_bounds' in ds.data_vars:\n",
    "        ds = ds.drop(['depthu_bounds'])\n",
    "    if 'areau' in ds.data_vars:\n",
    "        ds = ds.drop(['areau'])\n",
    "    if 'depthv_bounds' in ds.data_vars:\n",
    "        ds = ds.drop(['depthv_bounds'])\n",
    "    if 'areav' in ds.data_vars:\n",
    "        ds = ds.drop(['areav'])\n",
    "    if 'deptht_bounds' in ds.data_vars:\n",
    "        ds = ds.drop(['deptht_bounds'])\n",
    "    if 'areat' in ds.data_vars:\n",
    "        ds = ds.drop(['areat'])        \n",
    "    return ds"
   ]
  },
  {
   "cell_type": "markdown",
   "id": "ba4c2c82",
   "metadata": {},
   "source": [
    "# SST, SSS, MLD1-2,d20,HC300,td"
   ]
  },
  {
   "cell_type": "markdown",
   "id": "cff68830",
   "metadata": {},
   "source": [
    "### load the whole timeseries using `drop` preproccessor"
   ]
  },
  {
   "cell_type": "code",
   "execution_count": null,
   "id": "356c182c",
   "metadata": {},
   "outputs": [],
   "source": [
    "# this is needed as unexpected permission errors have been introduced by new BoM data\n",
    "year_start = 1981\n",
    "year_end = 2018"
   ]
  },
  {
   "cell_type": "code",
   "execution_count": null,
   "id": "7c62e910",
   "metadata": {},
   "outputs": [],
   "source": [
    "%%time\n",
    "#ds_SST_1981_2018 = xr.open_mfdataset('/g/data/ux62/access-s2/reanalysis/ocean/sst/mo_sst_*.nc',parallel=True,preprocess=drop_not_in_2015)\n",
    "ds_SST_1981_2018 = xr.open_mfdataset(\n",
    "    [f'/g/data/ux62/access-s2/reanalysis/ocean/sst/mo_sst_{x}.nc' for x in range(year_start, year_end)],parallel=True,preprocess=drop_not_in_2015\n",
    ")"
   ]
  },
  {
   "cell_type": "code",
   "execution_count": null,
   "id": "a24ada16",
   "metadata": {},
   "outputs": [],
   "source": [
    "%%time\n",
    "ds_SSS_1981_2018 = xr.open_mfdataset('/g/data/ux62/access-s2/reanalysis/ocean/sss/mo_sss_*.nc',parallel=True,preprocess=drop_not_in_2015)"
   ]
  },
  {
   "cell_type": "code",
   "execution_count": null,
   "id": "9cb5d36a",
   "metadata": {},
   "outputs": [],
   "source": [
    "%%time\n",
    "ds_mld1_1981_2018 = xr.open_mfdataset('/g/data/ux62/access-s2/reanalysis/ocean/mld1/mo_mld1_*.nc',parallel=True,preprocess=drop_not_in_2015)"
   ]
  },
  {
   "cell_type": "code",
   "execution_count": null,
   "id": "201abb76",
   "metadata": {},
   "outputs": [],
   "source": [
    "%%time\n",
    "ds_mld2_1981_2018 = xr.open_mfdataset('/g/data/ux62/access-s2/reanalysis/ocean/mld2/mo_mld2_*.nc',parallel=True,preprocess=drop_not_in_2015)"
   ]
  },
  {
   "cell_type": "code",
   "execution_count": null,
   "id": "59059ddb",
   "metadata": {},
   "outputs": [],
   "source": [
    "%%time\n",
    "ds_D20_1981_2018 = xr.open_mfdataset('/g/data/ux62/access-s2/reanalysis/ocean/d20/mo_d20_*.nc',parallel=True,preprocess=drop_not_in_2015)"
   ]
  },
  {
   "cell_type": "code",
   "execution_count": null,
   "id": "12e21054",
   "metadata": {},
   "outputs": [],
   "source": [
    "%%time\n",
    "ds_hc300_1981_2018 = xr.open_mfdataset('/g/data/ux62/access-s2/reanalysis/ocean/hc300/mo_hc300_*.nc',parallel=True,preprocess=drop_not_in_2015)"
   ]
  },
  {
   "cell_type": "code",
   "execution_count": null,
   "id": "ea202b9c",
   "metadata": {},
   "outputs": [],
   "source": [
    "%%time\n",
    "ds_td_1981_2018 = xr.open_mfdataset('/g/data/ux62/access-s2/reanalysis/ocean/td/mo_td_*.nc',parallel=True,preprocess=drop_not_in_2015)"
   ]
  },
  {
   "cell_type": "code",
   "execution_count": null,
   "id": "758996c8",
   "metadata": {},
   "outputs": [],
   "source": [
    "%%time\n",
    "ds_temp_1981_2018 = xr.open_mfdataset('/g/data/ux62/access-s2/reanalysis/ocean/temp/mo_temp_*.nc',parallel=True,preprocess=drop_not_in_2015)"
   ]
  },
  {
   "cell_type": "code",
   "execution_count": null,
   "id": "576da951",
   "metadata": {},
   "outputs": [],
   "source": [
    "ds_temp50_1981_2018 = ds_temp_1981_2018.sel(deptht=50,method='nearest').rename({'temp':'temp50'})\n",
    "ds_temp100_1981_2018 = ds_temp_1981_2018.sel(deptht=100,method='nearest').rename({'temp':'temp100'})\n",
    "ds_temp200_1981_2018 = ds_temp_1981_2018.sel(deptht=200,method='nearest').rename({'temp':'temp200'})\n",
    "ds_temp500_1981_2018 = ds_temp_1981_2018.sel(deptht=500,method='nearest').rename({'temp':'temp500'})"
   ]
  },
  {
   "cell_type": "code",
   "execution_count": null,
   "id": "857a0596",
   "metadata": {},
   "outputs": [],
   "source": [
    "ds_ACCESS_S2_RA_ocean = xr.merge([ds_temp50_1981_2018.drop('deptht'),\n",
    "                                  ds_temp100_1981_2018.drop('deptht'),\n",
    "                                  ds_temp200_1981_2018.drop('deptht'),\n",
    "                                  ds_temp500_1981_2018.drop('deptht'),\n",
    "                                  ds_SST_1981_2018.squeeze(),\n",
    "                                  ds_SSS_1981_2018.squeeze(),\n",
    "                                  ds_mld1_1981_2018,\n",
    "                                  ds_mld2_1981_2018,\n",
    "                                  ds_D20_1981_2018,\n",
    "                                  ds_hc300_1981_2018,\n",
    "                                  ds_td_1981_2018\n",
    "                                 ],compat='override')\n",
    "ds_ACCESS_S2_RA_ocean = ds_ACCESS_S2_RA_ocean.drop('time_counter_bnds')\n",
    "ds_ACCESS_S2_RA_ocean = ds_ACCESS_S2_RA_ocean.drop('deptht')\n",
    "ds_ACCESS_S2_RA_ocean"
   ]
  },
  {
   "cell_type": "markdown",
   "id": "346a2913",
   "metadata": {},
   "source": [
    "## add back in key metadata"
   ]
  },
  {
   "cell_type": "code",
   "execution_count": null,
   "id": "bbbad9a8",
   "metadata": {},
   "outputs": [],
   "source": [
    "areat = (xr.open_mfdataset('/g/data/ux62/access-s2/reanalysis/ocean/sst/mo_sst_2016.nc',parallel=True)).areat.to_dataset()\n",
    "areau = (xr.open_mfdataset('/g/data/ux62/access-s2/reanalysis/ocean/u/mo_u_2016.nc',parallel=True)).areau.to_dataset()\n",
    "areav = (xr.open_mfdataset('/g/data/ux62/access-s2/reanalysis/ocean/v/mo_v_2016.nc',parallel=True)).areav.to_dataset()"
   ]
  },
  {
   "cell_type": "code",
   "execution_count": null,
   "id": "5f8c1284",
   "metadata": {},
   "outputs": [],
   "source": [
    "ds_ACCESS_S2_RA_ocean = xr.combine_by_coords([ds_ACCESS_S2_RA_ocean,areat])\n",
    "ds_ACCESS_S2_RA_ocean"
   ]
  },
  {
   "cell_type": "markdown",
   "id": "964f81c1",
   "metadata": {},
   "source": [
    "# Deal with the same depth coordinates given two different names & rename time"
   ]
  },
  {
   "cell_type": "code",
   "execution_count": null,
   "id": "ff3866bc",
   "metadata": {},
   "outputs": [],
   "source": [
    "#ds_ACCESS_S2_RA_ocean = ds_ACCESS_S2_RA_ocean.rename({'deptht':'depth','time_counter':'time'})\n",
    "ds_ACCESS_S2_RA_ocean = ds_ACCESS_S2_RA_ocean.rename({'time_counter':'time'})"
   ]
  },
  {
   "cell_type": "code",
   "execution_count": null,
   "id": "0cbce053",
   "metadata": {},
   "outputs": [],
   "source": [
    "ds_ACCESS_S2_RA_ocean.sst.isel(time=0).plot(size = 10)"
   ]
  },
  {
   "cell_type": "raw",
   "id": "d9e369cd",
   "metadata": {},
   "source": [
    "nav_lon = ds_ACCESS_S2_RA_ocean['nav_lon'].compute()\n",
    "nav_lat = ds_ACCESS_S2_RA_ocean['nav_lat'].compute()"
   ]
  },
  {
   "cell_type": "code",
   "execution_count": null,
   "id": "f9ba6e78",
   "metadata": {},
   "outputs": [],
   "source": [
    "ds_ACCESS_S2_RA_ocean = ds_ACCESS_S2_RA_ocean.rename({'nav_lon': 'lon', 'nav_lat': 'lat'})\n",
    "ds_ACCESS_S2_RA_ocean"
   ]
  },
  {
   "cell_type": "code",
   "execution_count": null,
   "id": "34ffd377",
   "metadata": {},
   "outputs": [],
   "source": [
    "ds_ACCESS_S2_RA_ocean.nbytes/1e9"
   ]
  },
  {
   "cell_type": "markdown",
   "id": "0d649bf8",
   "metadata": {},
   "source": [
    "# SAVE ocean tgrid zarr file"
   ]
  },
  {
   "cell_type": "code",
   "execution_count": null,
   "id": "e9835889",
   "metadata": {},
   "outputs": [],
   "source": [
    "ds_ACCESS_S2_RA_ocean.to_zarr(store = '/g/data/v14/tm4888/data/ACCESS-S2/accessS2.RA.ocean.nativeTgrid.zarr',consolidated=True)"
   ]
  },
  {
   "cell_type": "markdown",
   "id": "63ddb082",
   "metadata": {},
   "source": [
    "# Check if zarr collections exist in `/g/data/v14/tm4888/data/ACCESS-S2/` and skip above\n",
    "# $\\Downarrow$"
   ]
  },
  {
   "cell_type": "code",
   "execution_count": null,
   "id": "ca838a08",
   "metadata": {},
   "outputs": [],
   "source": [
    "ds_ACCESS_S2_RA_ocean_nativeTgrid = xr.open_zarr('/g/data/v14/tm4888/data/ACCESS-S2/accessS2.RA.ocean.nativeTgrid.zarr',consolidated=True)"
   ]
  },
  {
   "cell_type": "code",
   "execution_count": null,
   "id": "dda074d4",
   "metadata": {},
   "outputs": [],
   "source": [
    "%%time\n",
    "ds_ACCESS_S2_RA_ocean_nativeTgrid.mld1.mean('time').plot(robust=True)\n",
    "fig = plt.gcf()\n",
    "fig.set_size_inches(10, 10)\n",
    "plt.ylim([200, 400])\n",
    "plt.xlim([300, 500])\n",
    "plt.xlabel('x')\n",
    "plt.ylabel('y')\n",
    "plt.title('mld1')"
   ]
  },
  {
   "cell_type": "markdown",
   "id": "f249b365",
   "metadata": {},
   "source": [
    "# memory // 16GB plus 160GB on cluster"
   ]
  },
  {
   "cell_type": "code",
   "execution_count": null,
   "id": "537931f6",
   "metadata": {},
   "outputs": [],
   "source": [
    "ds_ACCESS_S2_RA_ocean_nativeTgrid.nbytes/1e9"
   ]
  },
  {
   "cell_type": "markdown",
   "id": "1abefdc6",
   "metadata": {},
   "source": [
    "#### let's not persist this given crash on write\n",
    "ds_ACCESS_S2_RA_ocean_nativeTgrid = ds_ACCESS_S2_RA_ocean_nativeTgrid.persist()"
   ]
  },
  {
   "cell_type": "markdown",
   "id": "2633c375",
   "metadata": {},
   "source": [
    "# Regridding Step"
   ]
  },
  {
   "cell_type": "markdown",
   "id": "b0c354a4",
   "metadata": {},
   "source": [
    "## curvilinear grid"
   ]
  },
  {
   "cell_type": "code",
   "execution_count": null,
   "id": "53ad5f46",
   "metadata": {},
   "outputs": [],
   "source": [
    "nav_lon = ds_ACCESS_S2_RA_ocean_nativeTgrid['lon'].compute()\n",
    "nav_lat = ds_ACCESS_S2_RA_ocean_nativeTgrid['lat'].compute()"
   ]
  },
  {
   "cell_type": "code",
   "execution_count": null,
   "id": "618c38ee",
   "metadata": {},
   "outputs": [],
   "source": [
    "plt.scatter(nav_lon, nav_lat, s=0.01)  # plot grid locations\n",
    "fig = plt.gcf()\n",
    "fig.set_size_inches(18.5, 10.5)\n",
    "plt.ylim([-80, 90])\n",
    "plt.xlabel('lon')\n",
    "plt.ylabel('lat')\n",
    "plt.title('ACCESS-S2 Curvilinear grid')"
   ]
  },
  {
   "cell_type": "markdown",
   "id": "8cf97078",
   "metadata": {},
   "source": [
    "# CHOOSE YOUR NEW GRID // define uniform 1x1 grid"
   ]
  },
  {
   "cell_type": "code",
   "execution_count": null,
   "id": "dd374ce5",
   "metadata": {},
   "outputs": [],
   "source": [
    "new_1deg_grid = xe.util.grid_global(1, 1)\n",
    "new_1deg_grid"
   ]
  },
  {
   "cell_type": "code",
   "execution_count": null,
   "id": "d30d453e",
   "metadata": {},
   "outputs": [],
   "source": [
    "plt.scatter(new_1deg_grid.lon, new_1deg_grid.lat, s=0.01)  # plot grid locations\n",
    "fig = plt.gcf()\n",
    "fig.set_size_inches(10, 10)\n",
    "plt.xlabel('lon')\n",
    "plt.ylabel('lat')\n",
    "plt.title('uniform grid')"
   ]
  },
  {
   "cell_type": "code",
   "execution_count": null,
   "id": "ba0544ac",
   "metadata": {},
   "outputs": [],
   "source": [
    "%%time\n",
    "regridder_S2_1deg_Tgrid = xe.Regridder(ds_ACCESS_S2_RA_ocean_nativeTgrid, new_1deg_grid,'bilinear', ignore_degenerate=True, periodic=True,reuse_weights=False)"
   ]
  },
  {
   "cell_type": "markdown",
   "id": "46efbd5a",
   "metadata": {},
   "source": [
    "## EARTH SYSTEM MODELLING FRAMEWORK (NCAR / NOAA) - https://en.wikipedia.org/wiki/Earth_System_Modeling_Framework </br></br>  xESMF // https://github.com/JiaweiZhuang/xESMF/blob/master/README.rst"
   ]
  },
  {
   "cell_type": "markdown",
   "id": "a6d34923",
   "metadata": {},
   "source": [
    "## $\\bigstar$ solution to parallel regridding issue = https://github.com/JiaweiZhuang/xESMF/issues/71"
   ]
  },
  {
   "cell_type": "markdown",
   "id": "02f39281",
   "metadata": {},
   "source": [
    "#### regrid the full dataset object"
   ]
  },
  {
   "cell_type": "code",
   "execution_count": null,
   "id": "0cb651d6",
   "metadata": {},
   "outputs": [],
   "source": [
    "%%time\n",
    "regridder_S2_1deg_Tgrid._grid_in = None\n",
    "regridder_S2_1deg_Tgrid._grid_out = None\n",
    "ds_ACCESS_S2_RA_ocean_1degRegrid = regridder_S2_1deg_Tgrid(ds_ACCESS_S2_RA_ocean_nativeTgrid)"
   ]
  },
  {
   "cell_type": "code",
   "execution_count": null,
   "id": "74cfeb88",
   "metadata": {},
   "outputs": [],
   "source": [
    "ds_ACCESS_S2_RA_ocean_1degRegrid"
   ]
  },
  {
   "cell_type": "code",
   "execution_count": null,
   "id": "2a9d5672",
   "metadata": {},
   "outputs": [],
   "source": [
    "ds_ACCESS_S2_RA_ocean_1degRegrid = ds_ACCESS_S2_RA_ocean_1degRegrid.assign_coords({'x': ds_ACCESS_S2_RA_ocean_1degRegrid.lon.isel(y=0),'y': ds_ACCESS_S2_RA_ocean_1degRegrid.lat.isel(x=0)}).drop(['lon','lat']).rename({'x':'lon','y':'lat'})"
   ]
  },
  {
   "cell_type": "code",
   "execution_count": null,
   "id": "cd60e624",
   "metadata": {},
   "outputs": [],
   "source": [
    "ds_ACCESS_S2_RA_ocean_1degRegrid.nbytes/1e9"
   ]
  },
  {
   "cell_type": "code",
   "execution_count": null,
   "id": "4ef9262b",
   "metadata": {},
   "outputs": [],
   "source": []
  },
  {
   "cell_type": "markdown",
   "id": "8ab4f9ac",
   "metadata": {},
   "source": [
    "## Sanity check"
   ]
  },
  {
   "cell_type": "code",
   "execution_count": null,
   "id": "eefc1705",
   "metadata": {},
   "outputs": [],
   "source": [
    "%%time\n",
    "regrid_data = ds_ACCESS_S2_RA_ocean_1degRegrid.mld1.mean(dim='time').compute()\n",
    "coarsened_data = ds_ACCESS_S2_RA_ocean_nativeTgrid.mld1.mean(dim='time')\n",
    "coarsened_data = coarsened_data.coarsen({'x':4,'y':4}, boundary=\"trim\").mean().compute()"
   ]
  },
  {
   "cell_type": "code",
   "execution_count": null,
   "id": "2bc5499b",
   "metadata": {},
   "outputs": [],
   "source": [
    "%%time\n",
    "fig, (ax1, ax2) = plt.subplots(1, 2,figsize=(20,10))\n",
    "fig.suptitle('compare regridded lon/lat to coarsened native x/y grid',fontsize=20)\n",
    "regrid_data.plot(robust=True,ax=ax1)\n",
    "coarsened_data.plot(robust=True,ax=ax2)\n",
    "ax1.set_ylim([-60,0])\n",
    "ax1.set_xlim([110,180])\n",
    "ax2.set_ylim([50,125])\n",
    "ax2.set_xlim([36,107])"
   ]
  },
  {
   "cell_type": "markdown",
   "id": "b75001b7",
   "metadata": {},
   "source": [
    "# write 1deg Tgrid file to zarr"
   ]
  },
  {
   "cell_type": "code",
   "execution_count": null,
   "id": "356ea8f8",
   "metadata": {},
   "outputs": [],
   "source": [
    "%%time\n",
    "ds_ACCESS_S2_RA_ocean_1degRegrid.to_zarr(store = '/g/data/v14/tm4888/data/ACCESS-S2/accessS2.RA.ocean.Tregrid_1deg.zarr',consolidated=True)"
   ]
  },
  {
   "cell_type": "markdown",
   "id": "b716ca52",
   "metadata": {},
   "source": [
    "# U & V"
   ]
  },
  {
   "cell_type": "markdown",
   "id": "36c359b5",
   "metadata": {},
   "source": [
    "# Check if zarr collections exist in `/g/data/v14/tm4888/data/ACCESS-S2/` and skip arrows if you can\n",
    "# $\\Downarrow$"
   ]
  },
  {
   "cell_type": "markdown",
   "id": "b8cd90a3",
   "metadata": {},
   "source": [
    "# ACCESS-S2 ocean reanalysis (RA) 1981 - 2018"
   ]
  },
  {
   "cell_type": "markdown",
   "id": "93753cf4",
   "metadata": {},
   "source": [
    "# load U & V S2_RA"
   ]
  },
  {
   "cell_type": "code",
   "execution_count": null,
   "id": "1fd29e34",
   "metadata": {},
   "outputs": [],
   "source": [
    "%%time\n",
    "# define preprocess drop function - this unfortunately removes useful information like areau that's missing from 2015 files\n",
    "def drop_not_in_2015(ds):\n",
    "    if 'latu_bounds' in ds.data_vars:\n",
    "        ds = ds.drop(['latu_bounds'])\n",
    "    if 'lonu_bounds' in ds.data_vars:\n",
    "        ds = ds.drop(['lonu_bounds'])\n",
    "    if 'latv_bounds' in ds.data_vars:\n",
    "        ds = ds.drop(['latv_bounds'])\n",
    "    if 'lonv_bounds' in ds.data_vars:\n",
    "        ds = ds.drop(['lonv_bounds'])\n",
    "    if 'depthu_bounds' in ds.data_vars:\n",
    "        ds = ds.drop(['depthu_bounds'])\n",
    "    if 'areau' in ds.data_vars:\n",
    "        ds = ds.drop(['areau'])\n",
    "    if 'depthv_bounds' in ds.data_vars:\n",
    "        ds = ds.drop(['depthv_bounds'])\n",
    "    if 'areav' in ds.data_vars:\n",
    "        ds = ds.drop(['areav'])    \n",
    "    return ds\n",
    "ds_u_1981_2018 = xr.open_mfdataset('/g/data/ux62/access-s2/reanalysis/ocean/u/mo_u_*.nc',parallel=True,preprocess=drop_not_in_2015)\n",
    "ds_u_1981_2018"
   ]
  },
  {
   "cell_type": "code",
   "execution_count": null,
   "id": "10270863",
   "metadata": {},
   "outputs": [],
   "source": [
    "%%time\n",
    "# define preprocess drop function - this unfortunately removes useful information like areau that's missing from 2015 files\n",
    "def drop_not_in_2015(ds):\n",
    "    if 'latu_bounds' in ds.data_vars:\n",
    "        ds = ds.drop(['latu_bounds'])\n",
    "    if 'lonu_bounds' in ds.data_vars:\n",
    "        ds = ds.drop(['lonu_bounds'])\n",
    "    if 'latv_bounds' in ds.data_vars:\n",
    "        ds = ds.drop(['latv_bounds'])\n",
    "    if 'lonv_bounds' in ds.data_vars:\n",
    "        ds = ds.drop(['lonv_bounds'])\n",
    "    if 'depthu_bounds' in ds.data_vars:\n",
    "        ds = ds.drop(['depthu_bounds'])\n",
    "    if 'areau' in ds.data_vars:\n",
    "        ds = ds.drop(['areau'])\n",
    "    if 'depthv_bounds' in ds.data_vars:\n",
    "        ds = ds.drop(['depthv_bounds'])\n",
    "    if 'areav' in ds.data_vars:\n",
    "        ds = ds.drop(['areav'])    \n",
    "    return ds\n",
    "ds_v_1981_2018 = xr.open_mfdataset('/g/data/ux62/access-s2/reanalysis/ocean/v/mo_v_*.nc',parallel=True,preprocess=drop_not_in_2015)\n",
    "ds_v_1981_2018"
   ]
  },
  {
   "cell_type": "markdown",
   "id": "daa6fbf8",
   "metadata": {},
   "source": [
    "# Deal with the same depth coordinates given two different names & rename time"
   ]
  },
  {
   "cell_type": "code",
   "execution_count": null,
   "id": "20c1fa68",
   "metadata": {},
   "outputs": [],
   "source": [
    "ds_u_1981_2018 = ds_u_1981_2018.rename({'depthu':'depth','time_counter':'time'})\n",
    "ds_v_1981_2018 = ds_v_1981_2018.rename({'depthv':'depth','time_counter':'time'})"
   ]
  },
  {
   "cell_type": "markdown",
   "id": "aece35d3",
   "metadata": {},
   "source": [
    "# rechunk the data to shrink chunks from 5GB to 100MB\n",
    "**could use `rechunker` here?**"
   ]
  },
  {
   "cell_type": "code",
   "execution_count": null,
   "id": "4b85d979",
   "metadata": {},
   "outputs": [],
   "source": [
    "u = ds_u_1981_2018.chunk({'time':456,'depth':1,'x':250,'y':250})\n",
    "v = ds_v_1981_2018.chunk({'time':456,'depth':1,'x':250,'y':250})"
   ]
  },
  {
   "cell_type": "markdown",
   "id": "04369026",
   "metadata": {},
   "source": [
    "# write U & V to zarr collections"
   ]
  },
  {
   "cell_type": "code",
   "execution_count": null,
   "id": "ae913e15",
   "metadata": {},
   "outputs": [],
   "source": [
    "%%time\n",
    "!rm -rf /g/data/v14/tm4888/data/ACCESS-S2/accessS2.RA.u.zarr\n",
    "u.to_zarr('/g/data/v14/tm4888/data/ACCESS-S2/accessS2.RA.u.zarr',consolidated=True)"
   ]
  },
  {
   "cell_type": "code",
   "execution_count": null,
   "id": "bd110336",
   "metadata": {},
   "outputs": [],
   "source": [
    "%%time\n",
    "!rm -rf /g/data/v14/tm4888/data/ACCESS-S2/accessS2.RA.v.zarr\n",
    "v.to_zarr('/g/data/v14/tm4888/data/ACCESS-S2/accessS2.RA.v.zarr',consolidated=True)"
   ]
  },
  {
   "cell_type": "markdown",
   "id": "51465776",
   "metadata": {},
   "source": [
    "# $\\Downarrow$\n",
    "# CAN SKIP TO THIS STEP IF U & V `ZARR` FILES ARE WRITTEN AND AVAILABLE\n",
    "hard part for u & v done above"
   ]
  },
  {
   "cell_type": "code",
   "execution_count": null,
   "id": "9761ad2e",
   "metadata": {
    "tags": []
   },
   "outputs": [],
   "source": [
    "u = xr.open_zarr('/g/data/v14/tm4888/data/ACCESS-S2/accessS2.RA.u.zarr',consolidated=True)\n",
    "v = xr.open_zarr('/g/data/v14/tm4888/data/ACCESS-S2/accessS2.RA.v.zarr',consolidated=True)"
   ]
  },
  {
   "cell_type": "code",
   "execution_count": null,
   "id": "6fdcfe51",
   "metadata": {},
   "outputs": [],
   "source": []
  },
  {
   "cell_type": "markdown",
   "id": "529e5b51",
   "metadata": {},
   "source": [
    "# $ The\\ End$"
   ]
  },
  {
   "cell_type": "markdown",
   "id": "0749a63a",
   "metadata": {},
   "source": [
    "# Break glass in case of emergency\n",
    "# $\\Downarrow$"
   ]
  },
  {
   "cell_type": "code",
   "execution_count": null,
   "id": "cf10b4f9",
   "metadata": {},
   "outputs": [],
   "source": [
    "client.restart()"
   ]
  },
  {
   "cell_type": "code",
   "execution_count": null,
   "id": "694bd424",
   "metadata": {},
   "outputs": [],
   "source": []
  },
  {
   "cell_type": "code",
   "execution_count": null,
   "id": "2d9b83c7",
   "metadata": {},
   "outputs": [],
   "source": []
  },
  {
   "cell_type": "code",
   "execution_count": null,
   "id": "bbc8151c",
   "metadata": {},
   "outputs": [],
   "source": []
  },
  {
   "cell_type": "code",
   "execution_count": null,
   "id": "d993fc17",
   "metadata": {},
   "outputs": [],
   "source": []
  },
  {
   "cell_type": "code",
   "execution_count": null,
   "id": "f05aa9d1",
   "metadata": {},
   "outputs": [],
   "source": []
  },
  {
   "cell_type": "code",
   "execution_count": null,
   "id": "beadec4c",
   "metadata": {},
   "outputs": [],
   "source": []
  },
  {
   "cell_type": "code",
   "execution_count": null,
   "id": "757a0986",
   "metadata": {},
   "outputs": [],
   "source": []
  },
  {
   "cell_type": "code",
   "execution_count": null,
   "id": "f41da1a0",
   "metadata": {},
   "outputs": [],
   "source": []
  },
  {
   "cell_type": "code",
   "execution_count": null,
   "id": "264f9d46",
   "metadata": {},
   "outputs": [],
   "source": [
    "def calc_EKE(u, v, time_name = 'time'):\n",
    "    '''\n",
    "    Author1 = {\"name\": \"Thomas Moore\", \"affiliation\": \"CSIRO\", \"email\": \"thomas.moore@csiro.au\", \"orcid\": \"0000-0003-3930-1946\"}\n",
    "    u,v are x and y currents as an xarray data array\n",
    "    '''\n",
    "    u_mean = u.mean(time_name)\n",
    "    v_mean = v.mean(time_name)\n",
    "    MKE = 0.5*(u_mean**2 + v_mean**2).rename('MKE') # currents\n",
    "    EKE = ( 0.5 * ((u-u_mean)**2 + (v-v_mean)**2) ).rename('EKE') # eddies\n",
    "    return EKE, MKE"
   ]
  },
  {
   "cell_type": "code",
   "execution_count": null,
   "id": "7b1c3e02",
   "metadata": {},
   "outputs": [],
   "source": [
    "u_da = u.u\n",
    "v_da = v.v"
   ]
  },
  {
   "cell_type": "code",
   "execution_count": null,
   "id": "fccbc9ba",
   "metadata": {},
   "outputs": [],
   "source": [
    "%%time\n",
    "[EKE, MKE] = calc_EKE(u_da, v_da, time_name='time')"
   ]
  },
  {
   "cell_type": "code",
   "execution_count": null,
   "id": "a3d4c725",
   "metadata": {},
   "outputs": [],
   "source": [
    "KE = xr.merge([EKE,MKE])"
   ]
  },
  {
   "cell_type": "code",
   "execution_count": null,
   "id": "2b3d9149",
   "metadata": {},
   "outputs": [],
   "source": [
    "KE"
   ]
  },
  {
   "cell_type": "code",
   "execution_count": null,
   "id": "6c65dc80",
   "metadata": {},
   "outputs": [],
   "source": [
    "%%time\n",
    "!rm -rf /g/data/v14/tm4888/data/ACCESS-S2/accessS2.RA.EKE.zarr\n",
    "KE.to_zarr('/g/data/v14/tm4888/data/ACCESS-S2/accessS2.RA.EKE.zarr',consolidated=True)"
   ]
  },
  {
   "cell_type": "markdown",
   "id": "cb9aba5f",
   "metadata": {},
   "source": [
    "# $\\Downarrow$\n",
    "# CAN SKIP TO THIS STEP IF EKE `ZARR` FILE IS WRITTEN AND AVAILABLE\n",
    "hard part for u & v & EKE & MKE done above"
   ]
  },
  {
   "cell_type": "code",
   "execution_count": null,
   "id": "7650637b",
   "metadata": {},
   "outputs": [],
   "source": [
    "KE = xr.open_zarr('/g/data/v14/tm4888/data/ACCESS-S2/accessS2.RA.EKE.zarr',consolidated=True)"
   ]
  },
  {
   "cell_type": "code",
   "execution_count": null,
   "id": "0e6c5e0d",
   "metadata": {},
   "outputs": [],
   "source": [
    "EKE_mean = KE.EKE.mean('time').compute()"
   ]
  },
  {
   "cell_type": "markdown",
   "id": "60dee3ac",
   "metadata": {},
   "source": [
    "# reduce dataset to surface only"
   ]
  },
  {
   "cell_type": "code",
   "execution_count": null,
   "id": "67075149",
   "metadata": {},
   "outputs": [],
   "source": [
    "KE_surface = KE.isel(depth=0).compute()"
   ]
  },
  {
   "cell_type": "code",
   "execution_count": null,
   "id": "1bb4f460",
   "metadata": {},
   "outputs": [],
   "source": [
    "KE_surface.sel(x=slice(250,450),y=slice(250,450)).mean('time').EKE.plot(vmax=.05)"
   ]
  },
  {
   "cell_type": "markdown",
   "id": "23b3044f",
   "metadata": {},
   "source": [
    "# write file to netcdf"
   ]
  },
  {
   "cell_type": "code",
   "execution_count": null,
   "id": "3022c76f",
   "metadata": {},
   "outputs": [],
   "source": [
    "%%time\n",
    "KE_surface.to_netcdf('/g/data/v14/tm4888/data/ACCESS-S2/accessS2.RA.EKE_surface.nc',mode='w')"
   ]
  },
  {
   "cell_type": "code",
   "execution_count": null,
   "id": "ba9d883c",
   "metadata": {},
   "outputs": [],
   "source": [
    "KE = KE.persist()"
   ]
  },
  {
   "cell_type": "code",
   "execution_count": null,
   "id": "30d53839",
   "metadata": {},
   "outputs": [],
   "source": [
    "%%time\n",
    "KE.to_netcdf('/g/data/v14/tm4888/data/ACCESS-S2/accessS2.RA.EKE.nc',mode='w')"
   ]
  },
  {
   "cell_type": "markdown",
   "id": "d6399ac4",
   "metadata": {},
   "source": [
    "# $ The\\ End$"
   ]
  },
  {
   "cell_type": "code",
   "execution_count": null,
   "id": "a13b73b8",
   "metadata": {},
   "outputs": [],
   "source": []
  },
  {
   "cell_type": "markdown",
   "id": "6ebe9d03",
   "metadata": {},
   "source": [
    "# Break glass in case of emergency\n",
    "# $\\Downarrow$"
   ]
  },
  {
   "cell_type": "code",
   "execution_count": null,
   "id": "69505898",
   "metadata": {},
   "outputs": [],
   "source": [
    "client.restart()"
   ]
  },
  {
   "cell_type": "code",
   "execution_count": null,
   "id": "ba69f0da",
   "metadata": {},
   "outputs": [],
   "source": [
    "client."
   ]
  }
 ],
 "metadata": {
  "kernelspec": {
   "display_name": "Python 3 (ipykernel)",
   "language": "python",
   "name": "python3"
  },
  "language_info": {
   "codemirror_mode": {
    "name": "ipython",
    "version": 3
   },
   "file_extension": ".py",
   "mimetype": "text/x-python",
   "name": "python",
   "nbconvert_exporter": "python",
   "pygments_lexer": "ipython3",
   "version": "3.7.4"
  }
 },
 "nbformat": 4,
 "nbformat_minor": 5
}
