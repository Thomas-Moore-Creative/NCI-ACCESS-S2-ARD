{
 "cells": [
  {
   "cell_type": "markdown",
   "id": "31bbe048",
   "metadata": {},
   "source": [
    "# S2RA_ETBFcalc"
   ]
  },
  {
   "cell_type": "markdown",
   "id": "fde8a751",
   "metadata": {},
   "source": [
    "**Date:** <br>\n",
    "23 February 2022 <br>\n",
    "**Background:** <br>\n",
    "Issue -  <br>\n",
    "**Author(s):**<br>\n",
    "Thomas Moore<br>"
   ]
  },
  {
   "cell_type": "markdown",
   "id": "f18a60fe",
   "metadata": {},
   "source": [
    "### OOD documentation\n",
    "https://opus.nci.org.au/display/DAE/Setting+up+a+Dask+Cluster+on+OOD"
   ]
  },
  {
   "cell_type": "code",
   "execution_count": 1,
   "id": "26f0f507",
   "metadata": {},
   "outputs": [],
   "source": [
    "Author1 = {\"name\": \"Thomas Moore\", \"affiliation\": \"CSIRO\", \"email\": \"thomas.moore@csiro.au\", \"orcid\": \"0000-0003-3930-1946\"}"
   ]
  },
  {
   "cell_type": "code",
   "execution_count": 2,
   "id": "7586239d",
   "metadata": {
    "tags": []
   },
   "outputs": [],
   "source": [
    "import xarray as xr\n",
    "import numpy as np\n",
    "import xrft\n",
    "import xesmf as xe\n",
    "import scipy\n",
    "import matplotlib.pyplot as plt\n",
    "import datetime\n",
    "import pandas as pd\n",
    "import matplotlib.dates as mdates\n",
    "from matplotlib.dates import DateFormatter\n",
    "import os\n",
    "import re\n",
    "import cartopy.crs as ccrs\n",
    "import proplot as pplt\n",
    "from rechunker import rechunk\n",
    "%config Completer.use_jedi = False"
   ]
  },
  {
   "cell_type": "markdown",
   "id": "66d1ff16-8c67-4360-8920-de24a4df4b12",
   "metadata": {},
   "source": [
    "## import helper"
   ]
  },
  {
   "cell_type": "code",
   "execution_count": 3,
   "id": "4957c4b9-5159-484b-86a1-a8489aa4f19e",
   "metadata": {},
   "outputs": [],
   "source": [
    "import importlib.util\n",
    "spec = importlib.util.spec_from_file_location(\"helper\", \"/g/data/v14/tm4888/code/helper-py/helper_tools.py\")\n",
    "helper = importlib.util.module_from_spec(spec)\n",
    "spec.loader.exec_module(helper)"
   ]
  },
  {
   "cell_type": "markdown",
   "id": "6b3f8b43",
   "metadata": {},
   "source": [
    "## OOD cluster"
   ]
  },
  {
   "cell_type": "raw",
   "id": "4d890946-7069-4f95-8fb6-b9487c50ee6f",
   "metadata": {},
   "source": [
    "from dask.distributed import Client,Scheduler\n",
    "from dask_jobqueue import SLURMCluster\n",
    "cluster = SLURMCluster(cores=2,processes=1,memory=\"47GB\",walltime='02:00:00')\n",
    "client = Client(cluster)\n",
    "cluster.scale(cores=24)"
   ]
  },
  {
   "cell_type": "code",
   "execution_count": 4,
   "id": "d77e4584-525c-4aa2-b294-02fedb93b31e",
   "metadata": {},
   "outputs": [
    {
     "name": "stderr",
     "output_type": "stream",
     "text": [
      "/g/data/v14/tm4888/miniconda3/envs/pangeo_hpc/lib/python3.9/site-packages/dask_jobqueue/core.py:20: FutureWarning: tmpfile is deprecated and will be removed in a future release. Please use dask.utils.tmpfile instead.\n",
      "  from distributed.utils import tmpfile\n"
     ]
    }
   ],
   "source": [
    "from dask.distributed import Client,Scheduler\n",
    "from dask_jobqueue import SLURMCluster\n",
    "cluster = SLURMCluster(cores=2,processes=1,memory=\"47GB\",walltime='02:00:00')\n",
    "client = Client(cluster)\n",
    "cluster.scale(cores=24)"
   ]
  },
  {
   "cell_type": "code",
   "execution_count": 5,
   "id": "b3de759e",
   "metadata": {},
   "outputs": [
    {
     "data": {
      "text/html": [
       "<div>\n",
       "    <div style=\"width: 24px; height: 24px; background-color: #e1e1e1; border: 3px solid #9D9D9D; border-radius: 5px; position: absolute;\"> </div>\n",
       "    <div style=\"margin-left: 48px;\">\n",
       "        <h3 style=\"margin-bottom: 0px;\">Client</h3>\n",
       "        <p style=\"color: #9D9D9D; margin-bottom: 0px;\">Client-3cfbbdb9-9b73-11ec-b277-fa163e8087b0</p>\n",
       "        <table style=\"width: 100%; text-align: left;\">\n",
       "\n",
       "        <tr>\n",
       "        \n",
       "            <td style=\"text-align: left;\"><strong>Connection method:</strong> Cluster object</td>\n",
       "            <td style=\"text-align: left;\"><strong>Cluster type:</strong> dask_jobqueue.SLURMCluster</td>\n",
       "        \n",
       "        </tr>\n",
       "\n",
       "        \n",
       "            <tr>\n",
       "                <td style=\"text-align: left;\">\n",
       "                    <strong>Dashboard: </strong> <a href=\"/proxy/8787/status\" target=\"_blank\">/proxy/8787/status</a>\n",
       "                </td>\n",
       "                <td style=\"text-align: left;\"></td>\n",
       "            </tr>\n",
       "        \n",
       "\n",
       "        </table>\n",
       "\n",
       "        \n",
       "            <details>\n",
       "            <summary style=\"margin-bottom: 20px;\"><h3 style=\"display: inline;\">Cluster Info</h3></summary>\n",
       "            <div class=\"jp-RenderedHTMLCommon jp-RenderedHTML jp-mod-trusted jp-OutputArea-output\">\n",
       "    <div style=\"width: 24px; height: 24px; background-color: #e1e1e1; border: 3px solid #9D9D9D; border-radius: 5px; position: absolute;\">\n",
       "    </div>\n",
       "    <div style=\"margin-left: 48px;\">\n",
       "        <h3 style=\"margin-bottom: 0px; margin-top: 0px;\">SLURMCluster</h3>\n",
       "        <p style=\"color: #9D9D9D; margin-bottom: 0px;\">dcdf6df2</p>\n",
       "        <table style=\"width: 100%; text-align: left;\">\n",
       "            <tr>\n",
       "                <td style=\"text-align: left;\">\n",
       "                    <strong>Dashboard:</strong> <a href=\"/proxy/8787/status\" target=\"_blank\">/proxy/8787/status</a>\n",
       "                </td>\n",
       "                <td style=\"text-align: left;\">\n",
       "                    <strong>Workers:</strong> 0\n",
       "                </td>\n",
       "            </tr>\n",
       "            <tr>\n",
       "                <td style=\"text-align: left;\">\n",
       "                    <strong>Total threads:</strong> 0\n",
       "                </td>\n",
       "                <td style=\"text-align: left;\">\n",
       "                    <strong>Total memory:</strong> 0 B\n",
       "                </td>\n",
       "            </tr>\n",
       "            \n",
       "        </table>\n",
       "\n",
       "        <details>\n",
       "            <summary style=\"margin-bottom: 20px;\">\n",
       "                <h3 style=\"display: inline;\">Scheduler Info</h3>\n",
       "            </summary>\n",
       "\n",
       "            <div style=\"\">\n",
       "    <div>\n",
       "        <div style=\"width: 24px; height: 24px; background-color: #FFF7E5; border: 3px solid #FF6132; border-radius: 5px; position: absolute;\"> </div>\n",
       "        <div style=\"margin-left: 48px;\">\n",
       "            <h3 style=\"margin-bottom: 0px;\">Scheduler</h3>\n",
       "            <p style=\"color: #9D9D9D; margin-bottom: 0px;\">Scheduler-526b8c80-3e27-4423-9e3c-787fbb4828af</p>\n",
       "            <table style=\"width: 100%; text-align: left;\">\n",
       "                <tr>\n",
       "                    <td style=\"text-align: left;\">\n",
       "                        <strong>Comm:</strong> tcp://10.0.128.147:41523\n",
       "                    </td>\n",
       "                    <td style=\"text-align: left;\">\n",
       "                        <strong>Workers:</strong> 0\n",
       "                    </td>\n",
       "                </tr>\n",
       "                <tr>\n",
       "                    <td style=\"text-align: left;\">\n",
       "                        <strong>Dashboard:</strong> <a href=\"/proxy/8787/status\" target=\"_blank\">/proxy/8787/status</a>\n",
       "                    </td>\n",
       "                    <td style=\"text-align: left;\">\n",
       "                        <strong>Total threads:</strong> 0\n",
       "                    </td>\n",
       "                </tr>\n",
       "                <tr>\n",
       "                    <td style=\"text-align: left;\">\n",
       "                        <strong>Started:</strong> Just now\n",
       "                    </td>\n",
       "                    <td style=\"text-align: left;\">\n",
       "                        <strong>Total memory:</strong> 0 B\n",
       "                    </td>\n",
       "                </tr>\n",
       "            </table>\n",
       "        </div>\n",
       "    </div>\n",
       "\n",
       "    <details style=\"margin-left: 48px;\">\n",
       "        <summary style=\"margin-bottom: 20px;\">\n",
       "            <h3 style=\"display: inline;\">Workers</h3>\n",
       "        </summary>\n",
       "\n",
       "        \n",
       "\n",
       "    </details>\n",
       "</div>\n",
       "\n",
       "        </details>\n",
       "    </div>\n",
       "</div>\n",
       "            </details>\n",
       "        \n",
       "\n",
       "    </div>\n",
       "</div>"
      ],
      "text/plain": [
       "<Client: 'tcp://10.0.128.147:41523' processes=0 threads=0, memory=0 B>"
      ]
     },
     "execution_count": 5,
     "metadata": {},
     "output_type": "execute_result"
    }
   ],
   "source": [
    "client"
   ]
  },
  {
   "cell_type": "markdown",
   "id": "745720ce-d572-4130-bfa4-0dd22a0c23a9",
   "metadata": {},
   "source": [
    "# load main collections from zarr"
   ]
  },
  {
   "cell_type": "code",
   "execution_count": 6,
   "id": "760ee6b7-e297-49e2-940c-ee969677e20c",
   "metadata": {},
   "outputs": [
    {
     "name": "stdout",
     "output_type": "stream",
     "text": [
      "CPU times: user 181 ms, sys: 131 ms, total: 312 ms\n",
      "Wall time: 340 ms\n"
     ]
    }
   ],
   "source": [
    "%%time\n",
    "ds_TUV = xr.open_zarr('/g/data/v14/tm4888/data/ACCESS-S2/accessS2.RA.ocean.masked.AUSWCPregion.TUV_025deg.zarr',consolidated=True)"
   ]
  },
  {
   "cell_type": "markdown",
   "id": "892b7310-d38a-478d-955d-2cd5cc05f0f4",
   "metadata": {},
   "source": [
    "# Grid information for ACCESS S2?"
   ]
  },
  {
   "cell_type": "code",
   "execution_count": 7,
   "id": "e2712caf-f9dc-4fbc-93fe-345275105412",
   "metadata": {},
   "outputs": [
    {
     "name": "stdout",
     "output_type": "stream",
     "text": [
      "CPU times: user 76.7 ms, sys: 41.7 ms, total: 118 ms\n",
      "Wall time: 471 ms\n"
     ]
    }
   ],
   "source": [
    "%%time\n",
    "ds_S2_Tgrid = xr.open_mfdataset('/g/data/ux62/access-s2/reanalysis/ocean/temp/mo_temp_1990.nc')"
   ]
  },
  {
   "cell_type": "markdown",
   "id": "12f7f0a2-71f4-4ebe-a979-b5dd495de050",
   "metadata": {},
   "source": [
    "## depth weights"
   ]
  },
  {
   "cell_type": "code",
   "execution_count": 8,
   "id": "f724a173-7956-4189-931f-dd2ba4bd7085",
   "metadata": {
    "tags": []
   },
   "outputs": [
    {
     "data": {
      "text/plain": [
       "array([  1.0239066,   1.0792834,   1.1481192,   1.2337434,   1.3401852,\n",
       "         1.4722052,   1.6352429,   1.8352118,   2.0780945,   2.369277 ,\n",
       "         2.712654 ,   3.1096478,   3.5584164,   4.0536633,   4.5873146,\n",
       "         5.150135 ,   5.7339096,   6.333458 ,   6.948097 ,   7.582039 ,\n",
       "         8.244095 ,   8.946861 ,   9.705849 ,  10.538765 ,  11.465065 ,\n",
       "        12.505692 ,  13.683044 ,  15.021072 ,  16.545197 ,  18.282547 ,\n",
       "        20.261673 ,  22.512512 ,  25.065903 ,  27.952911 ,  31.204071 ,\n",
       "        34.848145 ,  38.910614 ,  43.411926 ,  48.365784 ,  53.776886 ,\n",
       "        59.638855 ,  65.93317  ,  72.62689  ,  79.67352  ,  87.01233  ,\n",
       "        94.57056  , 102.265564 , 110.00891  , 117.70947  , 125.277954 ,\n",
       "       132.63196  , 139.69739  , 146.41333  , 152.73181  , 158.6195   ,\n",
       "       164.05664  , 169.03613  , 173.56226  , 177.64746  , 181.31226  ,\n",
       "       184.5813   , 187.48242  , 190.04639  , 192.30273  , 194.28223  ,\n",
       "       196.01294  , 197.52246  , 198.83594  , 199.97656  , 200.96533  ,\n",
       "       201.8208   , 202.56104  , 203.1997   , 203.75098  , 204.22852  ],\n",
       "      dtype=float32)"
      ]
     },
     "execution_count": 8,
     "metadata": {},
     "output_type": "execute_result"
    }
   ],
   "source": [
    "depth_weights = ds_S2_Tgrid.deptht_bounds.diff(dim='ndepth_bounds').squeeze().rename({'deptht':'depth'})\n",
    "depth_weights.values"
   ]
  },
  {
   "cell_type": "code",
   "execution_count": 9,
   "id": "f7f7da86-fe41-45d6-9200-abe87c4db70e",
   "metadata": {},
   "outputs": [
    {
     "data": {
      "text/html": [
       "<div><svg style=\"position: absolute; width: 0; height: 0; overflow: hidden\">\n",
       "<defs>\n",
       "<symbol id=\"icon-database\" viewBox=\"0 0 32 32\">\n",
       "<path d=\"M16 0c-8.837 0-16 2.239-16 5v4c0 2.761 7.163 5 16 5s16-2.239 16-5v-4c0-2.761-7.163-5-16-5z\"></path>\n",
       "<path d=\"M16 17c-8.837 0-16-2.239-16-5v6c0 2.761 7.163 5 16 5s16-2.239 16-5v-6c0 2.761-7.163 5-16 5z\"></path>\n",
       "<path d=\"M16 26c-8.837 0-16-2.239-16-5v6c0 2.761 7.163 5 16 5s16-2.239 16-5v-6c0 2.761-7.163 5-16 5z\"></path>\n",
       "</symbol>\n",
       "<symbol id=\"icon-file-text2\" viewBox=\"0 0 32 32\">\n",
       "<path d=\"M28.681 7.159c-0.694-0.947-1.662-2.053-2.724-3.116s-2.169-2.030-3.116-2.724c-1.612-1.182-2.393-1.319-2.841-1.319h-15.5c-1.378 0-2.5 1.121-2.5 2.5v27c0 1.378 1.122 2.5 2.5 2.5h23c1.378 0 2.5-1.122 2.5-2.5v-19.5c0-0.448-0.137-1.23-1.319-2.841zM24.543 5.457c0.959 0.959 1.712 1.825 2.268 2.543h-4.811v-4.811c0.718 0.556 1.584 1.309 2.543 2.268zM28 29.5c0 0.271-0.229 0.5-0.5 0.5h-23c-0.271 0-0.5-0.229-0.5-0.5v-27c0-0.271 0.229-0.5 0.5-0.5 0 0 15.499-0 15.5 0v7c0 0.552 0.448 1 1 1h7v19.5z\"></path>\n",
       "<path d=\"M23 26h-14c-0.552 0-1-0.448-1-1s0.448-1 1-1h14c0.552 0 1 0.448 1 1s-0.448 1-1 1z\"></path>\n",
       "<path d=\"M23 22h-14c-0.552 0-1-0.448-1-1s0.448-1 1-1h14c0.552 0 1 0.448 1 1s-0.448 1-1 1z\"></path>\n",
       "<path d=\"M23 18h-14c-0.552 0-1-0.448-1-1s0.448-1 1-1h14c0.552 0 1 0.448 1 1s-0.448 1-1 1z\"></path>\n",
       "</symbol>\n",
       "</defs>\n",
       "</svg>\n",
       "<style>/* CSS stylesheet for displaying xarray objects in jupyterlab.\n",
       " *\n",
       " */\n",
       "\n",
       ":root {\n",
       "  --xr-font-color0: var(--jp-content-font-color0, rgba(0, 0, 0, 1));\n",
       "  --xr-font-color2: var(--jp-content-font-color2, rgba(0, 0, 0, 0.54));\n",
       "  --xr-font-color3: var(--jp-content-font-color3, rgba(0, 0, 0, 0.38));\n",
       "  --xr-border-color: var(--jp-border-color2, #e0e0e0);\n",
       "  --xr-disabled-color: var(--jp-layout-color3, #bdbdbd);\n",
       "  --xr-background-color: var(--jp-layout-color0, white);\n",
       "  --xr-background-color-row-even: var(--jp-layout-color1, white);\n",
       "  --xr-background-color-row-odd: var(--jp-layout-color2, #eeeeee);\n",
       "}\n",
       "\n",
       "html[theme=dark],\n",
       "body.vscode-dark {\n",
       "  --xr-font-color0: rgba(255, 255, 255, 1);\n",
       "  --xr-font-color2: rgba(255, 255, 255, 0.54);\n",
       "  --xr-font-color3: rgba(255, 255, 255, 0.38);\n",
       "  --xr-border-color: #1F1F1F;\n",
       "  --xr-disabled-color: #515151;\n",
       "  --xr-background-color: #111111;\n",
       "  --xr-background-color-row-even: #111111;\n",
       "  --xr-background-color-row-odd: #313131;\n",
       "}\n",
       "\n",
       ".xr-wrap {\n",
       "  display: block;\n",
       "  min-width: 300px;\n",
       "  max-width: 700px;\n",
       "}\n",
       "\n",
       ".xr-text-repr-fallback {\n",
       "  /* fallback to plain text repr when CSS is not injected (untrusted notebook) */\n",
       "  display: none;\n",
       "}\n",
       "\n",
       ".xr-header {\n",
       "  padding-top: 6px;\n",
       "  padding-bottom: 6px;\n",
       "  margin-bottom: 4px;\n",
       "  border-bottom: solid 1px var(--xr-border-color);\n",
       "}\n",
       "\n",
       ".xr-header > div,\n",
       ".xr-header > ul {\n",
       "  display: inline;\n",
       "  margin-top: 0;\n",
       "  margin-bottom: 0;\n",
       "}\n",
       "\n",
       ".xr-obj-type,\n",
       ".xr-array-name {\n",
       "  margin-left: 2px;\n",
       "  margin-right: 10px;\n",
       "}\n",
       "\n",
       ".xr-obj-type {\n",
       "  color: var(--xr-font-color2);\n",
       "}\n",
       "\n",
       ".xr-sections {\n",
       "  padding-left: 0 !important;\n",
       "  display: grid;\n",
       "  grid-template-columns: 150px auto auto 1fr 20px 20px;\n",
       "}\n",
       "\n",
       ".xr-section-item {\n",
       "  display: contents;\n",
       "}\n",
       "\n",
       ".xr-section-item input {\n",
       "  display: none;\n",
       "}\n",
       "\n",
       ".xr-section-item input + label {\n",
       "  color: var(--xr-disabled-color);\n",
       "}\n",
       "\n",
       ".xr-section-item input:enabled + label {\n",
       "  cursor: pointer;\n",
       "  color: var(--xr-font-color2);\n",
       "}\n",
       "\n",
       ".xr-section-item input:enabled + label:hover {\n",
       "  color: var(--xr-font-color0);\n",
       "}\n",
       "\n",
       ".xr-section-summary {\n",
       "  grid-column: 1;\n",
       "  color: var(--xr-font-color2);\n",
       "  font-weight: 500;\n",
       "}\n",
       "\n",
       ".xr-section-summary > span {\n",
       "  display: inline-block;\n",
       "  padding-left: 0.5em;\n",
       "}\n",
       "\n",
       ".xr-section-summary-in:disabled + label {\n",
       "  color: var(--xr-font-color2);\n",
       "}\n",
       "\n",
       ".xr-section-summary-in + label:before {\n",
       "  display: inline-block;\n",
       "  content: '►';\n",
       "  font-size: 11px;\n",
       "  width: 15px;\n",
       "  text-align: center;\n",
       "}\n",
       "\n",
       ".xr-section-summary-in:disabled + label:before {\n",
       "  color: var(--xr-disabled-color);\n",
       "}\n",
       "\n",
       ".xr-section-summary-in:checked + label:before {\n",
       "  content: '▼';\n",
       "}\n",
       "\n",
       ".xr-section-summary-in:checked + label > span {\n",
       "  display: none;\n",
       "}\n",
       "\n",
       ".xr-section-summary,\n",
       ".xr-section-inline-details {\n",
       "  padding-top: 4px;\n",
       "  padding-bottom: 4px;\n",
       "}\n",
       "\n",
       ".xr-section-inline-details {\n",
       "  grid-column: 2 / -1;\n",
       "}\n",
       "\n",
       ".xr-section-details {\n",
       "  display: none;\n",
       "  grid-column: 1 / -1;\n",
       "  margin-bottom: 5px;\n",
       "}\n",
       "\n",
       ".xr-section-summary-in:checked ~ .xr-section-details {\n",
       "  display: contents;\n",
       "}\n",
       "\n",
       ".xr-array-wrap {\n",
       "  grid-column: 1 / -1;\n",
       "  display: grid;\n",
       "  grid-template-columns: 20px auto;\n",
       "}\n",
       "\n",
       ".xr-array-wrap > label {\n",
       "  grid-column: 1;\n",
       "  vertical-align: top;\n",
       "}\n",
       "\n",
       ".xr-preview {\n",
       "  color: var(--xr-font-color3);\n",
       "}\n",
       "\n",
       ".xr-array-preview,\n",
       ".xr-array-data {\n",
       "  padding: 0 5px !important;\n",
       "  grid-column: 2;\n",
       "}\n",
       "\n",
       ".xr-array-data,\n",
       ".xr-array-in:checked ~ .xr-array-preview {\n",
       "  display: none;\n",
       "}\n",
       "\n",
       ".xr-array-in:checked ~ .xr-array-data,\n",
       ".xr-array-preview {\n",
       "  display: inline-block;\n",
       "}\n",
       "\n",
       ".xr-dim-list {\n",
       "  display: inline-block !important;\n",
       "  list-style: none;\n",
       "  padding: 0 !important;\n",
       "  margin: 0;\n",
       "}\n",
       "\n",
       ".xr-dim-list li {\n",
       "  display: inline-block;\n",
       "  padding: 0;\n",
       "  margin: 0;\n",
       "}\n",
       "\n",
       ".xr-dim-list:before {\n",
       "  content: '(';\n",
       "}\n",
       "\n",
       ".xr-dim-list:after {\n",
       "  content: ')';\n",
       "}\n",
       "\n",
       ".xr-dim-list li:not(:last-child):after {\n",
       "  content: ',';\n",
       "  padding-right: 5px;\n",
       "}\n",
       "\n",
       ".xr-has-index {\n",
       "  font-weight: bold;\n",
       "}\n",
       "\n",
       ".xr-var-list,\n",
       ".xr-var-item {\n",
       "  display: contents;\n",
       "}\n",
       "\n",
       ".xr-var-item > div,\n",
       ".xr-var-item label,\n",
       ".xr-var-item > .xr-var-name span {\n",
       "  background-color: var(--xr-background-color-row-even);\n",
       "  margin-bottom: 0;\n",
       "}\n",
       "\n",
       ".xr-var-item > .xr-var-name:hover span {\n",
       "  padding-right: 5px;\n",
       "}\n",
       "\n",
       ".xr-var-list > li:nth-child(odd) > div,\n",
       ".xr-var-list > li:nth-child(odd) > label,\n",
       ".xr-var-list > li:nth-child(odd) > .xr-var-name span {\n",
       "  background-color: var(--xr-background-color-row-odd);\n",
       "}\n",
       "\n",
       ".xr-var-name {\n",
       "  grid-column: 1;\n",
       "}\n",
       "\n",
       ".xr-var-dims {\n",
       "  grid-column: 2;\n",
       "}\n",
       "\n",
       ".xr-var-dtype {\n",
       "  grid-column: 3;\n",
       "  text-align: right;\n",
       "  color: var(--xr-font-color2);\n",
       "}\n",
       "\n",
       ".xr-var-preview {\n",
       "  grid-column: 4;\n",
       "}\n",
       "\n",
       ".xr-var-name,\n",
       ".xr-var-dims,\n",
       ".xr-var-dtype,\n",
       ".xr-preview,\n",
       ".xr-attrs dt {\n",
       "  white-space: nowrap;\n",
       "  overflow: hidden;\n",
       "  text-overflow: ellipsis;\n",
       "  padding-right: 10px;\n",
       "}\n",
       "\n",
       ".xr-var-name:hover,\n",
       ".xr-var-dims:hover,\n",
       ".xr-var-dtype:hover,\n",
       ".xr-attrs dt:hover {\n",
       "  overflow: visible;\n",
       "  width: auto;\n",
       "  z-index: 1;\n",
       "}\n",
       "\n",
       ".xr-var-attrs,\n",
       ".xr-var-data {\n",
       "  display: none;\n",
       "  background-color: var(--xr-background-color) !important;\n",
       "  padding-bottom: 5px !important;\n",
       "}\n",
       "\n",
       ".xr-var-attrs-in:checked ~ .xr-var-attrs,\n",
       ".xr-var-data-in:checked ~ .xr-var-data {\n",
       "  display: block;\n",
       "}\n",
       "\n",
       ".xr-var-data > table {\n",
       "  float: right;\n",
       "}\n",
       "\n",
       ".xr-var-name span,\n",
       ".xr-var-data,\n",
       ".xr-attrs {\n",
       "  padding-left: 25px !important;\n",
       "}\n",
       "\n",
       ".xr-attrs,\n",
       ".xr-var-attrs,\n",
       ".xr-var-data {\n",
       "  grid-column: 1 / -1;\n",
       "}\n",
       "\n",
       "dl.xr-attrs {\n",
       "  padding: 0;\n",
       "  margin: 0;\n",
       "  display: grid;\n",
       "  grid-template-columns: 125px auto;\n",
       "}\n",
       "\n",
       ".xr-attrs dt,\n",
       ".xr-attrs dd {\n",
       "  padding: 0;\n",
       "  margin: 0;\n",
       "  float: left;\n",
       "  padding-right: 10px;\n",
       "  width: auto;\n",
       "}\n",
       "\n",
       ".xr-attrs dt {\n",
       "  font-weight: normal;\n",
       "  grid-column: 1;\n",
       "}\n",
       "\n",
       ".xr-attrs dt:hover span {\n",
       "  display: inline-block;\n",
       "  background: var(--xr-background-color);\n",
       "  padding-right: 10px;\n",
       "}\n",
       "\n",
       ".xr-attrs dd {\n",
       "  grid-column: 2;\n",
       "  white-space: pre-wrap;\n",
       "  word-break: break-all;\n",
       "}\n",
       "\n",
       ".xr-icon-database,\n",
       ".xr-icon-file-text2 {\n",
       "  display: inline-block;\n",
       "  vertical-align: middle;\n",
       "  width: 1em;\n",
       "  height: 1.5em !important;\n",
       "  stroke-width: 0;\n",
       "  stroke: currentColor;\n",
       "  fill: currentColor;\n",
       "}\n",
       "</style><pre class='xr-text-repr-fallback'>&lt;xarray.DataArray &#x27;deptht_bounds&#x27; (depth: 75)&gt;\n",
       "dask.array&lt;getitem, shape=(75,), dtype=float32, chunksize=(75,), chunktype=numpy.ndarray&gt;\n",
       "Coordinates:\n",
       "  * depth    (depth) float32 0.5058 1.556 2.668 ... 5.698e+03 5.902e+03</pre><div class='xr-wrap' hidden><div class='xr-header'><div class='xr-obj-type'>xarray.DataArray</div><div class='xr-array-name'>'deptht_bounds'</div><ul class='xr-dim-list'><li><span class='xr-has-index'>depth</span>: 75</li></ul></div><ul class='xr-sections'><li class='xr-section-item'><div class='xr-array-wrap'><input id='section-87e5ff1e-6a91-4945-838e-63e3f5f9b44c' class='xr-array-in' type='checkbox' checked><label for='section-87e5ff1e-6a91-4945-838e-63e3f5f9b44c' title='Show/hide data repr'><svg class='icon xr-icon-database'><use xlink:href='#icon-database'></use></svg></label><div class='xr-array-preview xr-preview'><span>dask.array&lt;chunksize=(75,), meta=np.ndarray&gt;</span></div><div class='xr-array-data'><table>\n",
       "    <tr>\n",
       "        <td>\n",
       "            <table>\n",
       "                <thead>\n",
       "                    <tr>\n",
       "                        <td> </td>\n",
       "                        <th> Array </th>\n",
       "                        <th> Chunk </th>\n",
       "                    </tr>\n",
       "                </thead>\n",
       "                <tbody>\n",
       "                    \n",
       "                    <tr>\n",
       "                        <th> Bytes </th>\n",
       "                        <td> 300 B </td>\n",
       "                        <td> 300 B </td>\n",
       "                    </tr>\n",
       "                    \n",
       "                    <tr>\n",
       "                        <th> Shape </th>\n",
       "                        <td> (75,) </td>\n",
       "                        <td> (75,) </td>\n",
       "                    </tr>\n",
       "                    <tr>\n",
       "                        <th> Count </th>\n",
       "                        <td> 6 Tasks </td>\n",
       "                        <td> 1 Chunks </td>\n",
       "                    </tr>\n",
       "                    <tr>\n",
       "                    <th> Type </th>\n",
       "                    <td> float32 </td>\n",
       "                    <td> numpy.ndarray </td>\n",
       "                    </tr>\n",
       "                </tbody>\n",
       "            </table>\n",
       "        </td>\n",
       "        <td>\n",
       "        <svg width=\"170\" height=\"76\" style=\"stroke:rgb(0,0,0);stroke-width:1\" >\n",
       "\n",
       "  <!-- Horizontal lines -->\n",
       "  <line x1=\"0\" y1=\"0\" x2=\"120\" y2=\"0\" style=\"stroke-width:2\" />\n",
       "  <line x1=\"0\" y1=\"26\" x2=\"120\" y2=\"26\" style=\"stroke-width:2\" />\n",
       "\n",
       "  <!-- Vertical lines -->\n",
       "  <line x1=\"0\" y1=\"0\" x2=\"0\" y2=\"26\" style=\"stroke-width:2\" />\n",
       "  <line x1=\"120\" y1=\"0\" x2=\"120\" y2=\"26\" style=\"stroke-width:2\" />\n",
       "\n",
       "  <!-- Colored Rectangle -->\n",
       "  <polygon points=\"0.0,0.0 120.0,0.0 120.0,26.84266337678776 0.0,26.84266337678776\" style=\"fill:#ECB172A0;stroke-width:0\"/>\n",
       "\n",
       "  <!-- Text -->\n",
       "  <text x=\"60.000000\" y=\"46.842663\" font-size=\"1.0rem\" font-weight=\"100\" text-anchor=\"middle\" >75</text>\n",
       "  <text x=\"140.000000\" y=\"13.421332\" font-size=\"1.0rem\" font-weight=\"100\" text-anchor=\"middle\" transform=\"rotate(0,140.000000,13.421332)\">1</text>\n",
       "</svg>\n",
       "        </td>\n",
       "    </tr>\n",
       "</table></div></div></li><li class='xr-section-item'><input id='section-2025bfeb-a6fc-4910-be7b-da00535195fc' class='xr-section-summary-in' type='checkbox'  checked><label for='section-2025bfeb-a6fc-4910-be7b-da00535195fc' class='xr-section-summary' >Coordinates: <span>(1)</span></label><div class='xr-section-inline-details'></div><div class='xr-section-details'><ul class='xr-var-list'><li class='xr-var-item'><div class='xr-var-name'><span class='xr-has-index'>depth</span></div><div class='xr-var-dims'>(depth)</div><div class='xr-var-dtype'>float32</div><div class='xr-var-preview xr-preview'>0.5058 1.556 ... 5.902e+03</div><input id='attrs-af433f8b-2dec-4fbd-8c27-5d09d16a53f1' class='xr-var-attrs-in' type='checkbox' ><label for='attrs-af433f8b-2dec-4fbd-8c27-5d09d16a53f1' title='Show/Hide attributes'><svg class='icon xr-icon-file-text2'><use xlink:href='#icon-file-text2'></use></svg></label><input id='data-0b87f3c6-cf49-4445-b446-ab9639fb08e9' class='xr-var-data-in' type='checkbox'><label for='data-0b87f3c6-cf49-4445-b446-ab9639fb08e9' title='Show/Hide data repr'><svg class='icon xr-icon-database'><use xlink:href='#icon-database'></use></svg></label><div class='xr-var-attrs'><dl class='xr-attrs'><dt><span>axis :</span></dt><dd>Z</dd><dt><span>standard_name :</span></dt><dd>depth</dd><dt><span>units :</span></dt><dd>m</dd><dt><span>positive :</span></dt><dd>down</dd><dt><span>valid_min :</span></dt><dd>0.50576</dd><dt><span>valid_max :</span></dt><dd>5902.0576</dd><dt><span>title :</span></dt><dd>deptht</dd><dt><span>long_name :</span></dt><dd>Vertical T levels</dd><dt><span>bounds :</span></dt><dd>deptht_bounds</dd></dl></div><div class='xr-var-data'><pre>array([5.057600e-01, 1.555855e+00, 2.667682e+00, 3.856280e+00, 5.140361e+00,\n",
       "       6.543034e+00, 8.092519e+00, 9.822750e+00, 1.177368e+01, 1.399104e+01,\n",
       "       1.652532e+01, 1.942980e+01, 2.275762e+01, 2.655830e+01, 3.087456e+01,\n",
       "       3.574020e+01, 4.118002e+01, 4.721189e+01, 5.385064e+01, 6.111284e+01,\n",
       "       6.902168e+01, 7.761116e+01, 8.692943e+01, 9.704131e+01, 1.080303e+02,\n",
       "       1.200000e+02, 1.330758e+02, 1.474062e+02, 1.631645e+02, 1.805499e+02,\n",
       "       1.997900e+02, 2.211412e+02, 2.448906e+02, 2.713564e+02, 3.008875e+02,\n",
       "       3.338628e+02, 3.706885e+02, 4.117939e+02, 4.576256e+02, 5.086399e+02,\n",
       "       5.652923e+02, 6.280260e+02, 6.972587e+02, 7.733683e+02, 8.566790e+02,\n",
       "       9.474479e+02, 1.045854e+03, 1.151991e+03, 1.265861e+03, 1.387377e+03,\n",
       "       1.516364e+03, 1.652568e+03, 1.795671e+03, 1.945296e+03, 2.101027e+03,\n",
       "       2.262422e+03, 2.429025e+03, 2.600380e+03, 2.776039e+03, 2.955570e+03,\n",
       "       3.138565e+03, 3.324641e+03, 3.513446e+03, 3.704657e+03, 3.897982e+03,\n",
       "       4.093159e+03, 4.289953e+03, 4.488155e+03, 4.687581e+03, 4.888070e+03,\n",
       "       5.089479e+03, 5.291683e+03, 5.494575e+03, 5.698061e+03, 5.902058e+03],\n",
       "      dtype=float32)</pre></div></li></ul></div></li><li class='xr-section-item'><input id='section-6857b0d8-394d-4bab-bfc8-00f8a4f06dda' class='xr-section-summary-in' type='checkbox' disabled ><label for='section-6857b0d8-394d-4bab-bfc8-00f8a4f06dda' class='xr-section-summary'  title='Expand/collapse section'>Attributes: <span>(0)</span></label><div class='xr-section-inline-details'></div><div class='xr-section-details'><dl class='xr-attrs'></dl></div></li></ul></div></div>"
      ],
      "text/plain": [
       "<xarray.DataArray 'deptht_bounds' (depth: 75)>\n",
       "dask.array<getitem, shape=(75,), dtype=float32, chunksize=(75,), chunktype=numpy.ndarray>\n",
       "Coordinates:\n",
       "  * depth    (depth) float32 0.5058 1.556 2.668 ... 5.698e+03 5.902e+03"
      ]
     },
     "execution_count": 9,
     "metadata": {},
     "output_type": "execute_result"
    }
   ],
   "source": [
    "depth_weights"
   ]
  },
  {
   "cell_type": "markdown",
   "id": "cf384bf9-6f81-46c3-98b9-ce18454c804e",
   "metadata": {},
   "source": [
    "# $\\big\\Downarrow$ Calculate"
   ]
  },
  {
   "cell_type": "markdown",
   "id": "f525c275-958a-4d21-a926-536315e11f89",
   "metadata": {},
   "source": [
    "# EKE"
   ]
  },
  {
   "cell_type": "code",
   "execution_count": 10,
   "id": "a3a3a40a-9a9d-424e-bcea-d5042b44af07",
   "metadata": {},
   "outputs": [],
   "source": [
    "def calc_EKE(u, v, time_name = 'time'):\n",
    "    '''\n",
    "    Author1 = {\"name\": \"Thomas Moore\", \"affiliation\": \"CSIRO\", \"email\": \"thomas.moore@csiro.au\", \"orcid\": \"0000-0003-3930-1946\"}\n",
    "    u,v are x and y currents as an xarray data array\n",
    "    '''\n",
    "    u_mean = u.mean(time_name)\n",
    "    v_mean = v.mean(time_name)\n",
    "    MKE = 0.5*(u_mean**2 + v_mean**2).rename('MKE') # currents\n",
    "    EKE = ( 0.5 * ((u-u_mean)**2 + (v-v_mean)**2) ).rename('EKE') # eddies\n",
    "    return EKE, MKE"
   ]
  },
  {
   "cell_type": "code",
   "execution_count": 11,
   "id": "92f2e522-9c6e-4112-b34d-97db66528bcd",
   "metadata": {},
   "outputs": [
    {
     "name": "stdout",
     "output_type": "stream",
     "text": [
      "CPU times: user 47.1 ms, sys: 7.98 ms, total: 55.1 ms\n",
      "Wall time: 53.8 ms\n"
     ]
    }
   ],
   "source": [
    "%%time\n",
    "[EKE, MKE] = calc_EKE(ds_TUV.u, ds_TUV.v, time_name='time')"
   ]
  },
  {
   "cell_type": "markdown",
   "id": "f9a2ad3d-ebf4-4c2e-93b1-7c47d3ae3e2e",
   "metadata": {},
   "source": [
    "# U100"
   ]
  },
  {
   "cell_type": "code",
   "execution_count": 12,
   "id": "5df1c8ae-75cb-4239-9ab2-ac83011364dc",
   "metadata": {},
   "outputs": [],
   "source": [
    "u100 = ds_TUV.u.sel(depth=100,method='nearest')"
   ]
  },
  {
   "cell_type": "markdown",
   "id": "8d658bd0-b739-4f13-aa5f-41132dd01e2e",
   "metadata": {},
   "source": [
    "# V100"
   ]
  },
  {
   "cell_type": "code",
   "execution_count": 13,
   "id": "20216691-f7be-41d9-8fb4-689674151007",
   "metadata": {},
   "outputs": [],
   "source": [
    "v100 = ds_TUV.v.sel(depth=100,method='nearest')"
   ]
  },
  {
   "cell_type": "markdown",
   "id": "bafa0585-9c2b-482d-8fc3-8e68b12a793e",
   "metadata": {},
   "source": [
    "# u100_300"
   ]
  },
  {
   "cell_type": "markdown",
   "id": "ec8893b2-547d-4924-9750-fda4e606c6b3",
   "metadata": {},
   "source": [
    "## need to use depth weighted mean"
   ]
  },
  {
   "cell_type": "code",
   "execution_count": 14,
   "id": "b1cbaf52-6113-4e67-bd0b-85b1b7f41009",
   "metadata": {},
   "outputs": [],
   "source": [
    "def weighted_ocean_mean(ds,weights=None,dim=None,sel_dict=None):\n",
    "    \"\"\"\n",
    "    weighted_ocean_mean\n",
    "    Returns: ds_weighted\n",
    "    Defaults: no spatial and time selection, no weights, no selected dims\n",
    "    Author: Thomas Moore (based on Dougie Squire code)\n",
    "    Date created: 11/02/2020\n",
    "\n",
    "    Assumptions:\n",
    "    Dataset or Dataarray = ds\n",
    "    Use:\n",
    "    Limitations:\n",
    "    \"\"\"\n",
    "\n",
    "    if weights is None:\n",
    "        return ds.sel(sel_dict).mean(dim)\n",
    "    else:\n",
    "        #weights = (0 * da + 1) * weights\n",
    "        #return (da * weights).sum(dim) / weights.sum(dim)\n",
    "        return (ds.sel(sel_dict) * weights).sum(dim,skipna=True) / weights.where(ds.sel(sel_dict).notnull()).sum(dim,skipna=True)"
   ]
  },
  {
   "cell_type": "code",
   "execution_count": 15,
   "id": "ab7c7ddb-03ef-47f6-9486-7298812d7226",
   "metadata": {},
   "outputs": [],
   "source": [
    "u100_300 = helper.weighted_ocean_mean(ds_TUV.u,weights=depth_weights,dim='depth',sel_dict={'depth':slice(100,300)})"
   ]
  },
  {
   "cell_type": "markdown",
   "id": "a3419aea-6613-409b-b357-d05d7cdef4c8",
   "metadata": {},
   "source": [
    "# v100_300"
   ]
  },
  {
   "cell_type": "markdown",
   "id": "713e9fb3-ce3d-441f-a27d-2a5cfe5ca0a1",
   "metadata": {},
   "source": [
    "## need to use depth weighted mean"
   ]
  },
  {
   "cell_type": "code",
   "execution_count": 16,
   "id": "2f15edc2-31b3-4278-9ed9-0ea467fc3a0f",
   "metadata": {},
   "outputs": [],
   "source": [
    "v100_300 = helper.weighted_ocean_mean(ds_TUV.v,weights=depth_weights,dim='depth',sel_dict={'depth':slice(100,300)})"
   ]
  },
  {
   "cell_type": "markdown",
   "id": "f2515506-d6c0-47b6-a068-e7bda8385d84",
   "metadata": {
    "tags": []
   },
   "source": [
    "# EKE_300"
   ]
  },
  {
   "cell_type": "markdown",
   "id": "d2cc0cfc-5c97-42ec-a413-80d3efd503ce",
   "metadata": {},
   "source": [
    "## need to account for variable cell thickness without formal integration"
   ]
  },
  {
   "cell_type": "code",
   "execution_count": 17,
   "id": "5739e46f-0cb0-4f6f-9526-5e9b7cfef035",
   "metadata": {},
   "outputs": [],
   "source": [
    "eke300 = (EKE * depth_weights).sel(depth=slice(0,300)).sum('depth',skipna=True)\n",
    "eke300 = eke300.where(eke300 != 0)"
   ]
  },
  {
   "cell_type": "markdown",
   "id": "1ba559f8-7800-4889-a21c-fc9fb633bb9b",
   "metadata": {},
   "source": [
    "# EKE_2000"
   ]
  },
  {
   "cell_type": "markdown",
   "id": "43d15a44-b5e8-4975-8a9a-e755c4d71248",
   "metadata": {
    "tags": []
   },
   "source": [
    "## need to account for variable cell thickness without formal integration"
   ]
  },
  {
   "cell_type": "code",
   "execution_count": 18,
   "id": "8c4052af-d5ae-4f38-a14b-01edbf4d279f",
   "metadata": {},
   "outputs": [],
   "source": [
    "eke2000 = (EKE * depth_weights).sel(depth=slice(0,2000)).sum('depth',skipna=True)\n",
    "eke2000 = eke2000.where(eke2000 != 0)"
   ]
  },
  {
   "cell_type": "markdown",
   "id": "ec8609ae-879a-4ac2-8b8e-b7b0ec3abdae",
   "metadata": {},
   "source": [
    "# Merge added calculated variables"
   ]
  },
  {
   "cell_type": "code",
   "execution_count": 19,
   "id": "70a2be2e-612a-4136-8edc-65769d4b965f",
   "metadata": {},
   "outputs": [],
   "source": [
    "ds_TUV['u100'] = u100\n",
    "ds_TUV['v100'] = v100\n",
    "ds_TUV['u100_300'] = u100_300\n",
    "ds_TUV['v100_300'] = v100_300\n",
    "ds_TUV['eke300'] = eke300\n",
    "ds_TUV['eke2000'] = eke2000"
   ]
  },
  {
   "cell_type": "markdown",
   "id": "3f658aad-1e40-4551-bea3-cd7031ed0917",
   "metadata": {},
   "source": [
    "# Drop 3D u & v as well as depth coordinate"
   ]
  },
  {
   "cell_type": "code",
   "execution_count": 20,
   "id": "12dd42ba-047a-4de4-8bfe-a4185f01c869",
   "metadata": {},
   "outputs": [],
   "source": [
    "ds_TUV = ds_TUV.drop_vars(['u','v'])\n",
    "ds_TUV = ds_TUV.drop_dims(['depth'])"
   ]
  },
  {
   "cell_type": "code",
   "execution_count": 21,
   "id": "f6a68c29-4f6f-4dc3-90c9-0f697955cbc8",
   "metadata": {},
   "outputs": [
    {
     "data": {
      "text/plain": [
       "9.229576852"
      ]
     },
     "execution_count": 21,
     "metadata": {},
     "output_type": "execute_result"
    }
   ],
   "source": [
    "ds_TUV.nbytes/1e9"
   ]
  },
  {
   "cell_type": "markdown",
   "id": "8225e7bc-47a9-4730-bde5-21a7966eeb6a",
   "metadata": {},
   "source": [
    "# Write out single zarr collection"
   ]
  },
  {
   "cell_type": "code",
   "execution_count": 22,
   "id": "b5565872-e1e3-4ab9-9667-eaed9015c67b",
   "metadata": {},
   "outputs": [
    {
     "name": "stdout",
     "output_type": "stream",
     "text": [
      "CPU times: user 53.7 s, sys: 5.44 s, total: 59.1 s\n",
      "Wall time: 1min 41s\n"
     ]
    },
    {
     "data": {
      "text/plain": [
       "<xarray.backends.zarr.ZarrStore at 0x7fcb5a80ef20>"
      ]
     },
     "execution_count": 22,
     "metadata": {},
     "output_type": "execute_result"
    }
   ],
   "source": [
    "%%time\n",
    "ds_TUV.to_zarr('/g/data/v14/tm4888/data/ACCESS-S2/accessS2.RA.ocean.masked.AUSWCPregion.ETBFvars.zarr',consolidated=True)"
   ]
  },
  {
   "cell_type": "markdown",
   "id": "c4067bce-baee-4f5e-ba0e-835221b4cd48",
   "metadata": {},
   "source": [
    "# $ The\\ End$"
   ]
  },
  {
   "cell_type": "markdown",
   "id": "b09b8aab-8bc3-407c-ad57-6252ea42293b",
   "metadata": {},
   "source": [
    "# Break glass in case of emergency\n",
    "# $\\Downarrow$"
   ]
  },
  {
   "cell_type": "code",
   "execution_count": null,
   "id": "1a65ef49-d1f3-49ae-bb47-21465b35901c",
   "metadata": {},
   "outputs": [],
   "source": [
    "client.restart()"
   ]
  },
  {
   "cell_type": "code",
   "execution_count": null,
   "id": "76991ca7-13c0-49cc-8b86-b6474f083f8d",
   "metadata": {},
   "outputs": [],
   "source": [
    "client.shutdown()"
   ]
  },
  {
   "cell_type": "code",
   "execution_count": null,
   "id": "417ef20d-c44c-4b7f-a979-b925369702cb",
   "metadata": {},
   "outputs": [],
   "source": [
    "client.restart()"
   ]
  }
 ],
 "metadata": {
  "kernelspec": {
   "display_name": "Python 3",
   "language": "python",
   "name": "python3"
  },
  "language_info": {
   "codemirror_mode": {
    "name": "ipython",
    "version": 3
   },
   "file_extension": ".py",
   "mimetype": "text/x-python",
   "name": "python",
   "nbconvert_exporter": "python",
   "pygments_lexer": "ipython3",
   "version": "3.9.4"
  }
 },
 "nbformat": 4,
 "nbformat_minor": 5
}
