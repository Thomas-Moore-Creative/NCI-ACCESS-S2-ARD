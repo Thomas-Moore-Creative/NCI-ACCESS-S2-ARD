{
 "cells": [
  {
   "cell_type": "markdown",
   "id": "b4a0f901-dc0b-4f02-b1b6-1acb62c902f9",
   "metadata": {},
   "source": [
    "# ACCESS-S2 sandbox"
   ]
  },
  {
   "cell_type": "markdown",
   "id": "d2822c63-9e0a-48a6-a74c-b443fe8858f9",
   "metadata": {},
   "source": [
    ">9 June 2021<br>\n",
    ">Thomas Moore"
   ]
  },
  {
   "cell_type": "code",
   "execution_count": 1,
   "id": "08242a75-b1fb-4c48-b74f-a2cdc43a6916",
   "metadata": {},
   "outputs": [],
   "source": [
    "import xarray as xr\n",
    "from dask_jobqueue import PBSCluster\n",
    "from dask.distributed import Client\n",
    "import numpy as np\n",
    "import xrft\n",
    "import scipy\n",
    "import matplotlib.pyplot as plt\n",
    "import datetime\n",
    "import pandas as pd\n",
    "import matplotlib.dates as mdates\n",
    "from matplotlib.dates import DateFormatter\n",
    "import os\n",
    "import re\n",
    "%config Completer.use_jedi = False"
   ]
  },
  {
   "cell_type": "code",
   "execution_count": 2,
   "id": "6327af7b-4360-4750-9456-1dbd1c32d2f5",
   "metadata": {},
   "outputs": [],
   "source": [
    "# supress warnings\n",
    "import warnings\n",
    "warnings.filterwarnings('ignore')"
   ]
  },
  {
   "cell_type": "markdown",
   "id": "74d7a255-3ef9-4e73-846c-25cf732de00c",
   "metadata": {},
   "source": [
    "# Spin up a tiny little cluster with `dask-jobqueue`"
   ]
  },
  {
   "cell_type": "markdown",
   "id": "0e313226-2d86-4a3c-973c-fad8746d012f",
   "metadata": {},
   "source": [
    "### Specs for an individual worker"
   ]
  },
  {
   "cell_type": "code",
   "execution_count": 3,
   "id": "b366713b-6e53-4d2d-b5c0-9ef049dfd211",
   "metadata": {},
   "outputs": [],
   "source": [
    "walltime = '01:00:00'\n",
    "cores = 4\n",
    "memory = '16GB'\n",
    "\n",
    "cluster = PBSCluster(walltime=str(walltime), cores=cores, memory=str(memory),\n",
    "                     job_extra=['-l ncpus='+str(cores),'-l mem='+str(memory),\n",
    "                                '-l storage=gdata/v14+scratch/v14+gdata/lp01+scratch/lp01+scratch/ux06+gdata/rr3+gdata/al33+gdata/zv2+gdata/ux62'],\n",
    "                     header_skip=[\"select\"])"
   ]
  },
  {
   "cell_type": "markdown",
   "id": "ddcd0469-5235-4223-98d9-ad1efbe985a4",
   "metadata": {},
   "source": [
    "### Scale up to n workers"
   ]
  },
  {
   "cell_type": "code",
   "execution_count": 4,
   "id": "c741baec-f6dd-4e20-887e-0e7130f14ea6",
   "metadata": {},
   "outputs": [],
   "source": [
    "cluster.scale(jobs=5)"
   ]
  },
  {
   "cell_type": "code",
   "execution_count": 5,
   "id": "ed71f2f0-ad77-44f3-b96b-7c41cec7faa8",
   "metadata": {},
   "outputs": [],
   "source": [
    "client = Client(cluster)"
   ]
  },
  {
   "cell_type": "code",
   "execution_count": 7,
   "id": "13f57e91-8084-49df-b1f4-bf93a1cf7d5e",
   "metadata": {
    "tags": []
   },
   "outputs": [
    {
     "data": {
      "text/html": [
       "<table style=\"border: 2px solid white;\">\n",
       "<tr>\n",
       "<td style=\"vertical-align: top; border: 0px solid white\">\n",
       "<h3 style=\"text-align: left;\">Client</h3>\n",
       "<ul style=\"text-align: left; list-style: none; margin: 0; padding: 0;\">\n",
       "  <li><b>Scheduler: </b>tcp://10.6.55.54:38653</li>\n",
       "  <li><b>Dashboard: </b><a href='http://10.6.55.54:8787/status' target='_blank'>http://10.6.55.54:8787/status</a></li>\n",
       "</ul>\n",
       "</td>\n",
       "<td style=\"vertical-align: top; border: 0px solid white\">\n",
       "<h3 style=\"text-align: left;\">Cluster</h3>\n",
       "<ul style=\"text-align: left; list-style:none; margin: 0; padding: 0;\">\n",
       "  <li><b>Workers: </b>20</li>\n",
       "  <li><b>Cores: </b>20</li>\n",
       "  <li><b>Memory: </b>74.60 GiB</li>\n",
       "</ul>\n",
       "</td>\n",
       "</tr>\n",
       "</table>"
      ],
      "text/plain": [
       "<Client: 'tcp://10.6.55.54:38653' processes=20 threads=20, memory=74.60 GiB>"
      ]
     },
     "execution_count": 7,
     "metadata": {},
     "output_type": "execute_result"
    }
   ],
   "source": [
    "client"
   ]
  },
  {
   "cell_type": "markdown",
   "id": "12b78d56-70a3-4dcd-9bd2-721fb108bbcf",
   "metadata": {},
   "source": [
    "# ACCESS-S2 ocean hindcasts\n",
    ">Dates: mo_T_19810101_e01.nc - mo_T_20181231_e01.nc<br>\n",
    ">Ensembles: 3? e01-3<br>\n",
    ">8 month long forecasts?<br>\n",
    "> 75 depth levels for T"
   ]
  },
  {
   "cell_type": "code",
   "execution_count": 17,
   "id": "086e322e-12ca-43f1-bc14-de74c170d26b",
   "metadata": {},
   "outputs": [],
   "source": [
    "root_path = '/g/data/ux62/access-s2/'\n",
    "hindcast_ocean_path = '/g/data/ux62/access-s2/hindcast/raw_model/ocean/'\n",
    "hindcast_ocean_varaibles_list = ['hc300','ssh','sss','sst','T']\n",
    "hindcast_ocean_variables_standard_keys = ['integral_of_sea_water_potential_temperature_wrt_depth_expressed_as_heat_content',\n",
    "                                          'sea_surface_height_above_geoid',\n",
    "                                          ,'sst_sea_water_potential_temperature'\n",
    "                                          'sea_water_potential_temperature']\n",
    "hindcast_ocean_variables_long_keys = ['Heat content 300 m',\n",
    "                                      'Sea Surface Height',\n",
    "                                      'Temperature']"
   ]
  },
  {
   "cell_type": "code",
   "execution_count": null,
   "id": "1b57e490-6249-4486-9ae8-018938977f76",
   "metadata": {},
   "outputs": [],
   "source": [
    "hindcast_example = xr.open_dataset('/g/data/ux62/access-s2/hindcast/raw_model/ocean/T/monthly/e01/mo_T_20181231_e01.nc')\n",
    "hindcast_example"
   ]
  },
  {
   "cell_type": "code",
   "execution_count": 18,
   "id": "604306df-3258-4a6a-b91d-52ccb30647fa",
   "metadata": {
    "tags": []
   },
   "outputs": [
    {
     "data": {
      "text/html": [
       "<div><svg style=\"position: absolute; width: 0; height: 0; overflow: hidden\">\n",
       "<defs>\n",
       "<symbol id=\"icon-database\" viewBox=\"0 0 32 32\">\n",
       "<path d=\"M16 0c-8.837 0-16 2.239-16 5v4c0 2.761 7.163 5 16 5s16-2.239 16-5v-4c0-2.761-7.163-5-16-5z\"></path>\n",
       "<path d=\"M16 17c-8.837 0-16-2.239-16-5v6c0 2.761 7.163 5 16 5s16-2.239 16-5v-6c0 2.761-7.163 5-16 5z\"></path>\n",
       "<path d=\"M16 26c-8.837 0-16-2.239-16-5v6c0 2.761 7.163 5 16 5s16-2.239 16-5v-6c0 2.761-7.163 5-16 5z\"></path>\n",
       "</symbol>\n",
       "<symbol id=\"icon-file-text2\" viewBox=\"0 0 32 32\">\n",
       "<path d=\"M28.681 7.159c-0.694-0.947-1.662-2.053-2.724-3.116s-2.169-2.030-3.116-2.724c-1.612-1.182-2.393-1.319-2.841-1.319h-15.5c-1.378 0-2.5 1.121-2.5 2.5v27c0 1.378 1.122 2.5 2.5 2.5h23c1.378 0 2.5-1.122 2.5-2.5v-19.5c0-0.448-0.137-1.23-1.319-2.841zM24.543 5.457c0.959 0.959 1.712 1.825 2.268 2.543h-4.811v-4.811c0.718 0.556 1.584 1.309 2.543 2.268zM28 29.5c0 0.271-0.229 0.5-0.5 0.5h-23c-0.271 0-0.5-0.229-0.5-0.5v-27c0-0.271 0.229-0.5 0.5-0.5 0 0 15.499-0 15.5 0v7c0 0.552 0.448 1 1 1h7v19.5z\"></path>\n",
       "<path d=\"M23 26h-14c-0.552 0-1-0.448-1-1s0.448-1 1-1h14c0.552 0 1 0.448 1 1s-0.448 1-1 1z\"></path>\n",
       "<path d=\"M23 22h-14c-0.552 0-1-0.448-1-1s0.448-1 1-1h14c0.552 0 1 0.448 1 1s-0.448 1-1 1z\"></path>\n",
       "<path d=\"M23 18h-14c-0.552 0-1-0.448-1-1s0.448-1 1-1h14c0.552 0 1 0.448 1 1s-0.448 1-1 1z\"></path>\n",
       "</symbol>\n",
       "</defs>\n",
       "</svg>\n",
       "<style>/* CSS stylesheet for displaying xarray objects in jupyterlab.\n",
       " *\n",
       " */\n",
       "\n",
       ":root {\n",
       "  --xr-font-color0: var(--jp-content-font-color0, rgba(0, 0, 0, 1));\n",
       "  --xr-font-color2: var(--jp-content-font-color2, rgba(0, 0, 0, 0.54));\n",
       "  --xr-font-color3: var(--jp-content-font-color3, rgba(0, 0, 0, 0.38));\n",
       "  --xr-border-color: var(--jp-border-color2, #e0e0e0);\n",
       "  --xr-disabled-color: var(--jp-layout-color3, #bdbdbd);\n",
       "  --xr-background-color: var(--jp-layout-color0, white);\n",
       "  --xr-background-color-row-even: var(--jp-layout-color1, white);\n",
       "  --xr-background-color-row-odd: var(--jp-layout-color2, #eeeeee);\n",
       "}\n",
       "\n",
       "html[theme=dark],\n",
       "body.vscode-dark {\n",
       "  --xr-font-color0: rgba(255, 255, 255, 1);\n",
       "  --xr-font-color2: rgba(255, 255, 255, 0.54);\n",
       "  --xr-font-color3: rgba(255, 255, 255, 0.38);\n",
       "  --xr-border-color: #1F1F1F;\n",
       "  --xr-disabled-color: #515151;\n",
       "  --xr-background-color: #111111;\n",
       "  --xr-background-color-row-even: #111111;\n",
       "  --xr-background-color-row-odd: #313131;\n",
       "}\n",
       "\n",
       ".xr-wrap {\n",
       "  display: block;\n",
       "  min-width: 300px;\n",
       "  max-width: 700px;\n",
       "}\n",
       "\n",
       ".xr-text-repr-fallback {\n",
       "  /* fallback to plain text repr when CSS is not injected (untrusted notebook) */\n",
       "  display: none;\n",
       "}\n",
       "\n",
       ".xr-header {\n",
       "  padding-top: 6px;\n",
       "  padding-bottom: 6px;\n",
       "  margin-bottom: 4px;\n",
       "  border-bottom: solid 1px var(--xr-border-color);\n",
       "}\n",
       "\n",
       ".xr-header > div,\n",
       ".xr-header > ul {\n",
       "  display: inline;\n",
       "  margin-top: 0;\n",
       "  margin-bottom: 0;\n",
       "}\n",
       "\n",
       ".xr-obj-type,\n",
       ".xr-array-name {\n",
       "  margin-left: 2px;\n",
       "  margin-right: 10px;\n",
       "}\n",
       "\n",
       ".xr-obj-type {\n",
       "  color: var(--xr-font-color2);\n",
       "}\n",
       "\n",
       ".xr-sections {\n",
       "  padding-left: 0 !important;\n",
       "  display: grid;\n",
       "  grid-template-columns: 150px auto auto 1fr 20px 20px;\n",
       "}\n",
       "\n",
       ".xr-section-item {\n",
       "  display: contents;\n",
       "}\n",
       "\n",
       ".xr-section-item input {\n",
       "  display: none;\n",
       "}\n",
       "\n",
       ".xr-section-item input + label {\n",
       "  color: var(--xr-disabled-color);\n",
       "}\n",
       "\n",
       ".xr-section-item input:enabled + label {\n",
       "  cursor: pointer;\n",
       "  color: var(--xr-font-color2);\n",
       "}\n",
       "\n",
       ".xr-section-item input:enabled + label:hover {\n",
       "  color: var(--xr-font-color0);\n",
       "}\n",
       "\n",
       ".xr-section-summary {\n",
       "  grid-column: 1;\n",
       "  color: var(--xr-font-color2);\n",
       "  font-weight: 500;\n",
       "}\n",
       "\n",
       ".xr-section-summary > span {\n",
       "  display: inline-block;\n",
       "  padding-left: 0.5em;\n",
       "}\n",
       "\n",
       ".xr-section-summary-in:disabled + label {\n",
       "  color: var(--xr-font-color2);\n",
       "}\n",
       "\n",
       ".xr-section-summary-in + label:before {\n",
       "  display: inline-block;\n",
       "  content: '►';\n",
       "  font-size: 11px;\n",
       "  width: 15px;\n",
       "  text-align: center;\n",
       "}\n",
       "\n",
       ".xr-section-summary-in:disabled + label:before {\n",
       "  color: var(--xr-disabled-color);\n",
       "}\n",
       "\n",
       ".xr-section-summary-in:checked + label:before {\n",
       "  content: '▼';\n",
       "}\n",
       "\n",
       ".xr-section-summary-in:checked + label > span {\n",
       "  display: none;\n",
       "}\n",
       "\n",
       ".xr-section-summary,\n",
       ".xr-section-inline-details {\n",
       "  padding-top: 4px;\n",
       "  padding-bottom: 4px;\n",
       "}\n",
       "\n",
       ".xr-section-inline-details {\n",
       "  grid-column: 2 / -1;\n",
       "}\n",
       "\n",
       ".xr-section-details {\n",
       "  display: none;\n",
       "  grid-column: 1 / -1;\n",
       "  margin-bottom: 5px;\n",
       "}\n",
       "\n",
       ".xr-section-summary-in:checked ~ .xr-section-details {\n",
       "  display: contents;\n",
       "}\n",
       "\n",
       ".xr-array-wrap {\n",
       "  grid-column: 1 / -1;\n",
       "  display: grid;\n",
       "  grid-template-columns: 20px auto;\n",
       "}\n",
       "\n",
       ".xr-array-wrap > label {\n",
       "  grid-column: 1;\n",
       "  vertical-align: top;\n",
       "}\n",
       "\n",
       ".xr-preview {\n",
       "  color: var(--xr-font-color3);\n",
       "}\n",
       "\n",
       ".xr-array-preview,\n",
       ".xr-array-data {\n",
       "  padding: 0 5px !important;\n",
       "  grid-column: 2;\n",
       "}\n",
       "\n",
       ".xr-array-data,\n",
       ".xr-array-in:checked ~ .xr-array-preview {\n",
       "  display: none;\n",
       "}\n",
       "\n",
       ".xr-array-in:checked ~ .xr-array-data,\n",
       ".xr-array-preview {\n",
       "  display: inline-block;\n",
       "}\n",
       "\n",
       ".xr-dim-list {\n",
       "  display: inline-block !important;\n",
       "  list-style: none;\n",
       "  padding: 0 !important;\n",
       "  margin: 0;\n",
       "}\n",
       "\n",
       ".xr-dim-list li {\n",
       "  display: inline-block;\n",
       "  padding: 0;\n",
       "  margin: 0;\n",
       "}\n",
       "\n",
       ".xr-dim-list:before {\n",
       "  content: '(';\n",
       "}\n",
       "\n",
       ".xr-dim-list:after {\n",
       "  content: ')';\n",
       "}\n",
       "\n",
       ".xr-dim-list li:not(:last-child):after {\n",
       "  content: ',';\n",
       "  padding-right: 5px;\n",
       "}\n",
       "\n",
       ".xr-has-index {\n",
       "  font-weight: bold;\n",
       "}\n",
       "\n",
       ".xr-var-list,\n",
       ".xr-var-item {\n",
       "  display: contents;\n",
       "}\n",
       "\n",
       ".xr-var-item > div,\n",
       ".xr-var-item label,\n",
       ".xr-var-item > .xr-var-name span {\n",
       "  background-color: var(--xr-background-color-row-even);\n",
       "  margin-bottom: 0;\n",
       "}\n",
       "\n",
       ".xr-var-item > .xr-var-name:hover span {\n",
       "  padding-right: 5px;\n",
       "}\n",
       "\n",
       ".xr-var-list > li:nth-child(odd) > div,\n",
       ".xr-var-list > li:nth-child(odd) > label,\n",
       ".xr-var-list > li:nth-child(odd) > .xr-var-name span {\n",
       "  background-color: var(--xr-background-color-row-odd);\n",
       "}\n",
       "\n",
       ".xr-var-name {\n",
       "  grid-column: 1;\n",
       "}\n",
       "\n",
       ".xr-var-dims {\n",
       "  grid-column: 2;\n",
       "}\n",
       "\n",
       ".xr-var-dtype {\n",
       "  grid-column: 3;\n",
       "  text-align: right;\n",
       "  color: var(--xr-font-color2);\n",
       "}\n",
       "\n",
       ".xr-var-preview {\n",
       "  grid-column: 4;\n",
       "}\n",
       "\n",
       ".xr-var-name,\n",
       ".xr-var-dims,\n",
       ".xr-var-dtype,\n",
       ".xr-preview,\n",
       ".xr-attrs dt {\n",
       "  white-space: nowrap;\n",
       "  overflow: hidden;\n",
       "  text-overflow: ellipsis;\n",
       "  padding-right: 10px;\n",
       "}\n",
       "\n",
       ".xr-var-name:hover,\n",
       ".xr-var-dims:hover,\n",
       ".xr-var-dtype:hover,\n",
       ".xr-attrs dt:hover {\n",
       "  overflow: visible;\n",
       "  width: auto;\n",
       "  z-index: 1;\n",
       "}\n",
       "\n",
       ".xr-var-attrs,\n",
       ".xr-var-data {\n",
       "  display: none;\n",
       "  background-color: var(--xr-background-color) !important;\n",
       "  padding-bottom: 5px !important;\n",
       "}\n",
       "\n",
       ".xr-var-attrs-in:checked ~ .xr-var-attrs,\n",
       ".xr-var-data-in:checked ~ .xr-var-data {\n",
       "  display: block;\n",
       "}\n",
       "\n",
       ".xr-var-data > table {\n",
       "  float: right;\n",
       "}\n",
       "\n",
       ".xr-var-name span,\n",
       ".xr-var-data,\n",
       ".xr-attrs {\n",
       "  padding-left: 25px !important;\n",
       "}\n",
       "\n",
       ".xr-attrs,\n",
       ".xr-var-attrs,\n",
       ".xr-var-data {\n",
       "  grid-column: 1 / -1;\n",
       "}\n",
       "\n",
       "dl.xr-attrs {\n",
       "  padding: 0;\n",
       "  margin: 0;\n",
       "  display: grid;\n",
       "  grid-template-columns: 125px auto;\n",
       "}\n",
       "\n",
       ".xr-attrs dt,\n",
       ".xr-attrs dd {\n",
       "  padding: 0;\n",
       "  margin: 0;\n",
       "  float: left;\n",
       "  padding-right: 10px;\n",
       "  width: auto;\n",
       "}\n",
       "\n",
       ".xr-attrs dt {\n",
       "  font-weight: normal;\n",
       "  grid-column: 1;\n",
       "}\n",
       "\n",
       ".xr-attrs dt:hover span {\n",
       "  display: inline-block;\n",
       "  background: var(--xr-background-color);\n",
       "  padding-right: 10px;\n",
       "}\n",
       "\n",
       ".xr-attrs dd {\n",
       "  grid-column: 2;\n",
       "  white-space: pre-wrap;\n",
       "  word-break: break-all;\n",
       "}\n",
       "\n",
       ".xr-icon-database,\n",
       ".xr-icon-file-text2 {\n",
       "  display: inline-block;\n",
       "  vertical-align: middle;\n",
       "  width: 1em;\n",
       "  height: 1.5em !important;\n",
       "  stroke-width: 0;\n",
       "  stroke: currentColor;\n",
       "  fill: currentColor;\n",
       "}\n",
       "</style><pre class='xr-text-repr-fallback'>&lt;xarray.Dataset&gt;\n",
       "Dimensions:            (deptht: 1, ncorners: 4, ndepth_bounds: 2, tbnds: 2, time_counter: 9, x: 1442, y: 1021)\n",
       "Coordinates:\n",
       "    nav_lon            (y, x) float32 ...\n",
       "    nav_lat            (y, x) float32 ...\n",
       "  * deptht             (deptht) float32 0.5058\n",
       "  * time_counter       (time_counter) datetime64[ns] 2019-01-16T12:00:00 ... ...\n",
       "Dimensions without coordinates: ncorners, ndepth_bounds, tbnds, x, y\n",
       "Data variables:\n",
       "    lont_bounds        (y, x, ncorners) float32 ...\n",
       "    latt_bounds        (y, x, ncorners) float32 ...\n",
       "    areat              (y, x) float32 ...\n",
       "    e1t                (y, x) float32 ...\n",
       "    e2t                (y, x) float32 ...\n",
       "    ang1t              (y, x) float32 ...\n",
       "    deptht_bounds      (deptht, ndepth_bounds) float32 0.0 1.024\n",
       "    e3t                (deptht) float32 1.023\n",
       "    time_counter_bnds  (time_counter, tbnds) datetime64[ns] 2019-01-16 ... 20...\n",
       "    temp               (time_counter, deptht, y, x) float32 ...\n",
       "Attributes:\n",
       "    Conventions:      CF-1.1\n",
       "    production:       An IPSL model\n",
       "    TimeStamp:        03/03/2021 02:22:39 -0000\n",
       "    file_name:        cplhco.1d.mersea.grid_T.nc\n",
       "    history:          Thu Mar  4 01:18:22 2021: ncks -O -F -a -v ang1t,e1t,e2...\n",
       "    NCO:              &quot;4.5.3&quot;\n",
       "    monthly_average:  Monthly file built with script ./process_missing_monthl...</pre><div class='xr-wrap' hidden><div class='xr-header'><div class='xr-obj-type'>xarray.Dataset</div></div><ul class='xr-sections'><li class='xr-section-item'><input id='section-da2d69ea-9618-418c-9e58-0d174ab498c6' class='xr-section-summary-in' type='checkbox' disabled ><label for='section-da2d69ea-9618-418c-9e58-0d174ab498c6' class='xr-section-summary'  title='Expand/collapse section'>Dimensions:</label><div class='xr-section-inline-details'><ul class='xr-dim-list'><li><span class='xr-has-index'>deptht</span>: 1</li><li><span>ncorners</span>: 4</li><li><span>ndepth_bounds</span>: 2</li><li><span>tbnds</span>: 2</li><li><span class='xr-has-index'>time_counter</span>: 9</li><li><span>x</span>: 1442</li><li><span>y</span>: 1021</li></ul></div><div class='xr-section-details'></div></li><li class='xr-section-item'><input id='section-d33984a6-ddc7-473b-8fd9-172a5f3eeef1' class='xr-section-summary-in' type='checkbox'  checked><label for='section-d33984a6-ddc7-473b-8fd9-172a5f3eeef1' class='xr-section-summary' >Coordinates: <span>(4)</span></label><div class='xr-section-inline-details'></div><div class='xr-section-details'><ul class='xr-var-list'><li class='xr-var-item'><div class='xr-var-name'><span>nav_lon</span></div><div class='xr-var-dims'>(y, x)</div><div class='xr-var-dtype'>float32</div><div class='xr-var-preview xr-preview'>...</div><input id='attrs-3d92f9a8-b9cf-431b-9882-52e45be14dc0' class='xr-var-attrs-in' type='checkbox' ><label for='attrs-3d92f9a8-b9cf-431b-9882-52e45be14dc0' title='Show/Hide attributes'><svg class='icon xr-icon-file-text2'><use xlink:href='#icon-file-text2'></use></svg></label><input id='data-32c061dc-6ab1-4df3-944f-8faa5ab40c38' class='xr-var-data-in' type='checkbox'><label for='data-32c061dc-6ab1-4df3-944f-8faa5ab40c38' title='Show/Hide data repr'><svg class='icon xr-icon-database'><use xlink:href='#icon-database'></use></svg></label><div class='xr-var-attrs'><dl class='xr-attrs'><dt><span>standard_name :</span></dt><dd>longitude</dd><dt><span>units :</span></dt><dd>degrees_east</dd><dt><span>valid_min :</span></dt><dd>-180.0</dd><dt><span>valid_max :</span></dt><dd>180.0</dd><dt><span>long_name :</span></dt><dd>Longitude</dd><dt><span>nav_model :</span></dt><dd>Default grid</dd><dt><span>bounds :</span></dt><dd>lont_bounds</dd></dl></div><div class='xr-var-data'><pre>[1472282 values with dtype=float32]</pre></div></li><li class='xr-var-item'><div class='xr-var-name'><span>nav_lat</span></div><div class='xr-var-dims'>(y, x)</div><div class='xr-var-dtype'>float32</div><div class='xr-var-preview xr-preview'>...</div><input id='attrs-5ed59996-912b-454a-abc5-c3e8962f3c9e' class='xr-var-attrs-in' type='checkbox' ><label for='attrs-5ed59996-912b-454a-abc5-c3e8962f3c9e' title='Show/Hide attributes'><svg class='icon xr-icon-file-text2'><use xlink:href='#icon-file-text2'></use></svg></label><input id='data-78336895-8f11-4a25-8d5e-f230c92e6878' class='xr-var-data-in' type='checkbox'><label for='data-78336895-8f11-4a25-8d5e-f230c92e6878' title='Show/Hide data repr'><svg class='icon xr-icon-database'><use xlink:href='#icon-database'></use></svg></label><div class='xr-var-attrs'><dl class='xr-attrs'><dt><span>standard_name :</span></dt><dd>latitude</dd><dt><span>units :</span></dt><dd>degrees_north</dd><dt><span>valid_min :</span></dt><dd>-77.010475</dd><dt><span>valid_max :</span></dt><dd>89.94787</dd><dt><span>long_name :</span></dt><dd>Latitude</dd><dt><span>nav_model :</span></dt><dd>Default grid</dd><dt><span>bounds :</span></dt><dd>latt_bounds</dd></dl></div><div class='xr-var-data'><pre>[1472282 values with dtype=float32]</pre></div></li><li class='xr-var-item'><div class='xr-var-name'><span class='xr-has-index'>deptht</span></div><div class='xr-var-dims'>(deptht)</div><div class='xr-var-dtype'>float32</div><div class='xr-var-preview xr-preview'>0.5058</div><input id='attrs-07042d33-f486-4ed1-95e2-2d8a79fb1f54' class='xr-var-attrs-in' type='checkbox' ><label for='attrs-07042d33-f486-4ed1-95e2-2d8a79fb1f54' title='Show/Hide attributes'><svg class='icon xr-icon-file-text2'><use xlink:href='#icon-file-text2'></use></svg></label><input id='data-3aa74ddf-8cc0-420c-ae60-08abb548d29f' class='xr-var-data-in' type='checkbox'><label for='data-3aa74ddf-8cc0-420c-ae60-08abb548d29f' title='Show/Hide data repr'><svg class='icon xr-icon-database'><use xlink:href='#icon-database'></use></svg></label><div class='xr-var-attrs'><dl class='xr-attrs'><dt><span>axis :</span></dt><dd>Z</dd><dt><span>standard_name :</span></dt><dd>depth</dd><dt><span>units :</span></dt><dd>m</dd><dt><span>positive :</span></dt><dd>down</dd><dt><span>valid_min :</span></dt><dd>0.50576</dd><dt><span>valid_max :</span></dt><dd>5902.0576</dd><dt><span>title :</span></dt><dd>deptht</dd><dt><span>long_name :</span></dt><dd>Vertical T levels</dd><dt><span>bounds :</span></dt><dd>deptht_bounds</dd></dl></div><div class='xr-var-data'><pre>array([0.50576], dtype=float32)</pre></div></li><li class='xr-var-item'><div class='xr-var-name'><span class='xr-has-index'>time_counter</span></div><div class='xr-var-dims'>(time_counter)</div><div class='xr-var-dtype'>datetime64[ns]</div><div class='xr-var-preview xr-preview'>2019-01-16T12:00:00 ... 2019-09-16</div><input id='attrs-352f1523-bca5-47bc-b4a5-9d60a9d05bbf' class='xr-var-attrs-in' type='checkbox' ><label for='attrs-352f1523-bca5-47bc-b4a5-9d60a9d05bbf' title='Show/Hide attributes'><svg class='icon xr-icon-file-text2'><use xlink:href='#icon-file-text2'></use></svg></label><input id='data-6f84150a-82fc-4647-9ecd-b8dc1ef8ac02' class='xr-var-data-in' type='checkbox'><label for='data-6f84150a-82fc-4647-9ecd-b8dc1ef8ac02' title='Show/Hide data repr'><svg class='icon xr-icon-database'><use xlink:href='#icon-database'></use></svg></label><div class='xr-var-attrs'><dl class='xr-attrs'><dt><span>axis :</span></dt><dd>T</dd><dt><span>standard_name :</span></dt><dd>time</dd><dt><span>title :</span></dt><dd>Time</dd><dt><span>long_name :</span></dt><dd>Time axis</dd><dt><span>time_origin :</span></dt><dd> 2018-DEC-31 00:00:00</dd><dt><span>bounds :</span></dt><dd>time_counter_bnds</dd></dl></div><div class='xr-var-data'><pre>array([&#x27;2019-01-16T12:00:00.000000000&#x27;, &#x27;2019-02-15T00:00:00.000000000&#x27;,\n",
       "       &#x27;2019-03-16T12:00:00.000000000&#x27;, &#x27;2019-04-16T00:00:00.000000000&#x27;,\n",
       "       &#x27;2019-05-16T12:00:00.000000000&#x27;, &#x27;2019-06-16T00:00:00.000000000&#x27;,\n",
       "       &#x27;2019-07-16T12:00:00.000000000&#x27;, &#x27;2019-08-16T12:00:00.000000000&#x27;,\n",
       "       &#x27;2019-09-16T00:00:00.000000000&#x27;], dtype=&#x27;datetime64[ns]&#x27;)</pre></div></li></ul></div></li><li class='xr-section-item'><input id='section-ead0cd11-4298-4fd3-b2f0-1f319abbe445' class='xr-section-summary-in' type='checkbox'  checked><label for='section-ead0cd11-4298-4fd3-b2f0-1f319abbe445' class='xr-section-summary' >Data variables: <span>(10)</span></label><div class='xr-section-inline-details'></div><div class='xr-section-details'><ul class='xr-var-list'><li class='xr-var-item'><div class='xr-var-name'><span>lont_bounds</span></div><div class='xr-var-dims'>(y, x, ncorners)</div><div class='xr-var-dtype'>float32</div><div class='xr-var-preview xr-preview'>...</div><input id='attrs-2482ba62-f670-4b93-a6d1-9c837f2eccb5' class='xr-var-attrs-in' type='checkbox' ><label for='attrs-2482ba62-f670-4b93-a6d1-9c837f2eccb5' title='Show/Hide attributes'><svg class='icon xr-icon-file-text2'><use xlink:href='#icon-file-text2'></use></svg></label><input id='data-dc1972ee-2e6b-46f8-ab55-94ab8eb6131f' class='xr-var-data-in' type='checkbox'><label for='data-dc1972ee-2e6b-46f8-ab55-94ab8eb6131f' title='Show/Hide data repr'><svg class='icon xr-icon-database'><use xlink:href='#icon-database'></use></svg></label><div class='xr-var-attrs'><dl class='xr-attrs'><dt><span>long_name :</span></dt><dd>longitude boundaries of cells</dd></dl></div><div class='xr-var-data'><pre>[5889128 values with dtype=float32]</pre></div></li><li class='xr-var-item'><div class='xr-var-name'><span>latt_bounds</span></div><div class='xr-var-dims'>(y, x, ncorners)</div><div class='xr-var-dtype'>float32</div><div class='xr-var-preview xr-preview'>...</div><input id='attrs-9b286e36-6fe7-413b-8801-0f2eece328e0' class='xr-var-attrs-in' type='checkbox' ><label for='attrs-9b286e36-6fe7-413b-8801-0f2eece328e0' title='Show/Hide attributes'><svg class='icon xr-icon-file-text2'><use xlink:href='#icon-file-text2'></use></svg></label><input id='data-c7c7a7ec-7fe4-40b0-a3d3-19ad302c8b7d' class='xr-var-data-in' type='checkbox'><label for='data-c7c7a7ec-7fe4-40b0-a3d3-19ad302c8b7d' title='Show/Hide data repr'><svg class='icon xr-icon-database'><use xlink:href='#icon-database'></use></svg></label><div class='xr-var-attrs'><dl class='xr-attrs'><dt><span>long_name :</span></dt><dd>latitude boundaries of cells</dd></dl></div><div class='xr-var-data'><pre>[5889128 values with dtype=float32]</pre></div></li><li class='xr-var-item'><div class='xr-var-name'><span>areat</span></div><div class='xr-var-dims'>(y, x)</div><div class='xr-var-dtype'>float32</div><div class='xr-var-preview xr-preview'>...</div><input id='attrs-fb4d3f1a-2d1a-4e17-96ff-923dc356f8f5' class='xr-var-attrs-in' type='checkbox' ><label for='attrs-fb4d3f1a-2d1a-4e17-96ff-923dc356f8f5' title='Show/Hide attributes'><svg class='icon xr-icon-file-text2'><use xlink:href='#icon-file-text2'></use></svg></label><input id='data-94e81c6b-3680-4fb2-9408-fe602155e50b' class='xr-var-data-in' type='checkbox'><label for='data-94e81c6b-3680-4fb2-9408-fe602155e50b' title='Show/Hide data repr'><svg class='icon xr-icon-database'><use xlink:href='#icon-database'></use></svg></label><div class='xr-var-attrs'><dl class='xr-attrs'><dt><span>units :</span></dt><dd>m2</dd><dt><span>long_name :</span></dt><dd>area of grid cell</dd><dt><span>standard_name :</span></dt><dd>cell_area</dd></dl></div><div class='xr-var-data'><pre>[1472282 values with dtype=float32]</pre></div></li><li class='xr-var-item'><div class='xr-var-name'><span>e1t</span></div><div class='xr-var-dims'>(y, x)</div><div class='xr-var-dtype'>float32</div><div class='xr-var-preview xr-preview'>...</div><input id='attrs-e00038bd-1a49-4f02-a127-1702a6a01efc' class='xr-var-attrs-in' type='checkbox' ><label for='attrs-e00038bd-1a49-4f02-a127-1702a6a01efc' title='Show/Hide attributes'><svg class='icon xr-icon-file-text2'><use xlink:href='#icon-file-text2'></use></svg></label><input id='data-1a042369-80b9-4823-841a-a7f693231951' class='xr-var-data-in' type='checkbox'><label for='data-1a042369-80b9-4823-841a-a7f693231951' title='Show/Hide data repr'><svg class='icon xr-icon-database'><use xlink:href='#icon-database'></use></svg></label><div class='xr-var-attrs'><dl class='xr-attrs'><dt><span>units :</span></dt><dd>m</dd><dt><span>long_name :</span></dt><dd>scale factor 1</dd><dt><span>standard_name :</span></dt><dd>magnitude_of_derivative_of_position_wrt_x_coordinate_index</dd></dl></div><div class='xr-var-data'><pre>[1472282 values with dtype=float32]</pre></div></li><li class='xr-var-item'><div class='xr-var-name'><span>e2t</span></div><div class='xr-var-dims'>(y, x)</div><div class='xr-var-dtype'>float32</div><div class='xr-var-preview xr-preview'>...</div><input id='attrs-50234be0-a354-42c7-b5e1-3878af5cb9ff' class='xr-var-attrs-in' type='checkbox' ><label for='attrs-50234be0-a354-42c7-b5e1-3878af5cb9ff' title='Show/Hide attributes'><svg class='icon xr-icon-file-text2'><use xlink:href='#icon-file-text2'></use></svg></label><input id='data-4fd2da98-82f1-4e2c-98cb-a5e5347a19f5' class='xr-var-data-in' type='checkbox'><label for='data-4fd2da98-82f1-4e2c-98cb-a5e5347a19f5' title='Show/Hide data repr'><svg class='icon xr-icon-database'><use xlink:href='#icon-database'></use></svg></label><div class='xr-var-attrs'><dl class='xr-attrs'><dt><span>units :</span></dt><dd>m</dd><dt><span>long_name :</span></dt><dd>scale factor 2</dd><dt><span>standard_name :</span></dt><dd>magnitude_of_derivative_of_position_wrt_y_coordinate_index</dd></dl></div><div class='xr-var-data'><pre>[1472282 values with dtype=float32]</pre></div></li><li class='xr-var-item'><div class='xr-var-name'><span>ang1t</span></div><div class='xr-var-dims'>(y, x)</div><div class='xr-var-dtype'>float32</div><div class='xr-var-preview xr-preview'>...</div><input id='attrs-c46d25c3-e0be-4baa-9404-da230caae68b' class='xr-var-attrs-in' type='checkbox' ><label for='attrs-c46d25c3-e0be-4baa-9404-da230caae68b' title='Show/Hide attributes'><svg class='icon xr-icon-file-text2'><use xlink:href='#icon-file-text2'></use></svg></label><input id='data-920c6951-e732-4752-b478-fae8c3ad7d34' class='xr-var-data-in' type='checkbox'><label for='data-920c6951-e732-4752-b478-fae8c3ad7d34' title='Show/Hide data repr'><svg class='icon xr-icon-database'><use xlink:href='#icon-database'></use></svg></label><div class='xr-var-attrs'><dl class='xr-attrs'><dt><span>units :</span></dt><dd>degree</dd><dt><span>long_name :</span></dt><dd>grid_angle_1</dd><dt><span>standard_name :</span></dt><dd>angle_of_rotation_from_east_to_x</dd></dl></div><div class='xr-var-data'><pre>[1472282 values with dtype=float32]</pre></div></li><li class='xr-var-item'><div class='xr-var-name'><span>deptht_bounds</span></div><div class='xr-var-dims'>(deptht, ndepth_bounds)</div><div class='xr-var-dtype'>float32</div><div class='xr-var-preview xr-preview'>...</div><input id='attrs-631fc1b6-6dfa-40c4-9378-2bf7aa06efd2' class='xr-var-attrs-in' type='checkbox' ><label for='attrs-631fc1b6-6dfa-40c4-9378-2bf7aa06efd2' title='Show/Hide attributes'><svg class='icon xr-icon-file-text2'><use xlink:href='#icon-file-text2'></use></svg></label><input id='data-9aa0771e-1301-4906-bb15-63663f620a7c' class='xr-var-data-in' type='checkbox'><label for='data-9aa0771e-1301-4906-bb15-63663f620a7c' title='Show/Hide data repr'><svg class='icon xr-icon-database'><use xlink:href='#icon-database'></use></svg></label><div class='xr-var-attrs'><dl class='xr-attrs'><dt><span>long_name :</span></dt><dd>depth boundaries of cells</dd></dl></div><div class='xr-var-data'><pre>array([[0.      , 1.023907]], dtype=float32)</pre></div></li><li class='xr-var-item'><div class='xr-var-name'><span>e3t</span></div><div class='xr-var-dims'>(deptht)</div><div class='xr-var-dtype'>float32</div><div class='xr-var-preview xr-preview'>...</div><input id='attrs-71acb125-9426-493f-9880-ad394014d128' class='xr-var-attrs-in' type='checkbox' ><label for='attrs-71acb125-9426-493f-9880-ad394014d128' title='Show/Hide attributes'><svg class='icon xr-icon-file-text2'><use xlink:href='#icon-file-text2'></use></svg></label><input id='data-096300cf-c114-4132-9b99-1593285222b4' class='xr-var-data-in' type='checkbox'><label for='data-096300cf-c114-4132-9b99-1593285222b4' title='Show/Hide data repr'><svg class='icon xr-icon-database'><use xlink:href='#icon-database'></use></svg></label><div class='xr-var-attrs'><dl class='xr-attrs'><dt><span>units :</span></dt><dd>m</dd><dt><span>long_name :</span></dt><dd>scale factor 3</dd><dt><span>standard_name :</span></dt><dd>magnitude_of_derivative_of_position_wrt_model_level_number</dd></dl></div><div class='xr-var-data'><pre>array([1.023461], dtype=float32)</pre></div></li><li class='xr-var-item'><div class='xr-var-name'><span>time_counter_bnds</span></div><div class='xr-var-dims'>(time_counter, tbnds)</div><div class='xr-var-dtype'>datetime64[ns]</div><div class='xr-var-preview xr-preview'>...</div><input id='attrs-cb5887c4-e79f-492f-8364-78268a9f96c9' class='xr-var-attrs-in' type='checkbox' disabled><label for='attrs-cb5887c4-e79f-492f-8364-78268a9f96c9' title='Show/Hide attributes'><svg class='icon xr-icon-file-text2'><use xlink:href='#icon-file-text2'></use></svg></label><input id='data-bf97586b-27e5-4699-a997-c8467f89a430' class='xr-var-data-in' type='checkbox'><label for='data-bf97586b-27e5-4699-a997-c8467f89a430' title='Show/Hide data repr'><svg class='icon xr-icon-database'><use xlink:href='#icon-database'></use></svg></label><div class='xr-var-attrs'><dl class='xr-attrs'></dl></div><div class='xr-var-data'><pre>array([[&#x27;2019-01-16T00:00:00.000000000&#x27;, &#x27;2019-01-17T00:00:00.000000000&#x27;],\n",
       "       [&#x27;2019-02-14T12:00:00.000000000&#x27;, &#x27;2019-02-15T12:00:00.000000000&#x27;],\n",
       "       [&#x27;2019-03-16T00:00:00.000000000&#x27;, &#x27;2019-03-17T00:00:00.000000000&#x27;],\n",
       "       [&#x27;2019-04-15T12:00:00.000000000&#x27;, &#x27;2019-04-16T12:00:00.000000000&#x27;],\n",
       "       [&#x27;2019-05-16T00:00:00.000000000&#x27;, &#x27;2019-05-17T00:00:00.000000000&#x27;],\n",
       "       [&#x27;2019-06-15T12:00:00.000000000&#x27;, &#x27;2019-06-16T12:00:00.000000000&#x27;],\n",
       "       [&#x27;2019-07-16T00:00:00.000000000&#x27;, &#x27;2019-07-17T00:00:00.000000000&#x27;],\n",
       "       [&#x27;2019-08-16T00:00:00.000000000&#x27;, &#x27;2019-08-17T00:00:00.000000000&#x27;],\n",
       "       [&#x27;2019-09-15T12:00:00.000000000&#x27;, &#x27;2019-09-16T12:00:00.000000000&#x27;]],\n",
       "      dtype=&#x27;datetime64[ns]&#x27;)</pre></div></li><li class='xr-var-item'><div class='xr-var-name'><span>temp</span></div><div class='xr-var-dims'>(time_counter, deptht, y, x)</div><div class='xr-var-dtype'>float32</div><div class='xr-var-preview xr-preview'>...</div><input id='attrs-595d0c99-defe-4a02-a18a-920a6cbf1bc0' class='xr-var-attrs-in' type='checkbox' ><label for='attrs-595d0c99-defe-4a02-a18a-920a6cbf1bc0' title='Show/Hide attributes'><svg class='icon xr-icon-file-text2'><use xlink:href='#icon-file-text2'></use></svg></label><input id='data-70e4c7ba-8474-466e-8549-9efa62327cbe' class='xr-var-data-in' type='checkbox'><label for='data-70e4c7ba-8474-466e-8549-9efa62327cbe' title='Show/Hide data repr'><svg class='icon xr-icon-database'><use xlink:href='#icon-database'></use></svg></label><div class='xr-var-attrs'><dl class='xr-attrs'><dt><span>units :</span></dt><dd>degC</dd><dt><span>standard_name :</span></dt><dd>sea_water_potential_temperature</dd><dt><span>long_name :</span></dt><dd>Temperature</dd><dt><span>online_operation :</span></dt><dd>ave(X)</dd><dt><span>interval_operation :</span></dt><dd>1350.0</dd><dt><span>interval_write :</span></dt><dd>86400.0</dd><dt><span>cell_measures :</span></dt><dd>area: areat</dd></dl></div><div class='xr-var-data'><pre>[13250538 values with dtype=float32]</pre></div></li></ul></div></li><li class='xr-section-item'><input id='section-452cc951-4e7c-42ed-96d7-995aabbe2a88' class='xr-section-summary-in' type='checkbox'  checked><label for='section-452cc951-4e7c-42ed-96d7-995aabbe2a88' class='xr-section-summary' >Attributes: <span>(7)</span></label><div class='xr-section-inline-details'></div><div class='xr-section-details'><dl class='xr-attrs'><dt><span>Conventions :</span></dt><dd>CF-1.1</dd><dt><span>production :</span></dt><dd>An IPSL model</dd><dt><span>TimeStamp :</span></dt><dd>03/03/2021 02:22:39 -0000</dd><dt><span>file_name :</span></dt><dd>cplhco.1d.mersea.grid_T.nc</dd><dt><span>history :</span></dt><dd>Thu Mar  4 01:18:22 2021: ncks -O -F -a -v ang1t,e1t,e2t,e3t,latt_bounds,lont_bounds,nav_lat,nav_lon,areat,deptht_bounds,time_counter_bnds,temp -d deptht,0.50576 -d time_counter,1,279 /g/sc/home_trial/coupled_trial/cylc-run/s2hs_20181231/share/data/20181231T0000Z/e01//zz_allsurf_6w_9m.nc do_sst_20181231_e01.nc\n",
       "Thu Mar  4 00:12:44 2021: ncks -O -F -a -v ang1t,e1t,e2t,e3t,latt_bounds,lont_bounds,nav_lat,nav_lon,areat,deptht_bounds,time_counter_bnds,temp,salt,ssh,mld1,mld2,td,hc300,blt,d20 -d deptht,0.50576 /g/sc/home_trial/coupled_trial/cylc-run/s2hs_20181231/work/20181231T0000Z//model_m1_s01/cplhco_1d_20181231_20190109_grid_T.raw.nc /g/sc/home_trial/coupled_trial/cylc-run/s2hs_20181231/share/data/20181231T0000Z/e01//__tmp_surf.nc1</dd><dt><span>NCO :</span></dt><dd>&quot;4.5.3&quot;</dd><dt><span>monthly_average :</span></dt><dd>Monthly file built with script ./process_missing_monthly.py (v0.0) source file /g/data/ux62/access-s2/hindcast/raw_model/ocean/sst/daily/e01/do_sst_20181231_e01.nc (2021-03-18T07:10:42.561428) </dd></dl></div></li></ul></div></div>"
      ],
      "text/plain": [
       "<xarray.Dataset>\n",
       "Dimensions:            (deptht: 1, ncorners: 4, ndepth_bounds: 2, tbnds: 2, time_counter: 9, x: 1442, y: 1021)\n",
       "Coordinates:\n",
       "    nav_lon            (y, x) float32 ...\n",
       "    nav_lat            (y, x) float32 ...\n",
       "  * deptht             (deptht) float32 0.5058\n",
       "  * time_counter       (time_counter) datetime64[ns] 2019-01-16T12:00:00 ... ...\n",
       "Dimensions without coordinates: ncorners, ndepth_bounds, tbnds, x, y\n",
       "Data variables:\n",
       "    lont_bounds        (y, x, ncorners) float32 ...\n",
       "    latt_bounds        (y, x, ncorners) float32 ...\n",
       "    areat              (y, x) float32 ...\n",
       "    e1t                (y, x) float32 ...\n",
       "    e2t                (y, x) float32 ...\n",
       "    ang1t              (y, x) float32 ...\n",
       "    deptht_bounds      (deptht, ndepth_bounds) float32 ...\n",
       "    e3t                (deptht) float32 ...\n",
       "    time_counter_bnds  (time_counter, tbnds) datetime64[ns] ...\n",
       "    temp               (time_counter, deptht, y, x) float32 ...\n",
       "Attributes:\n",
       "    Conventions:      CF-1.1\n",
       "    production:       An IPSL model\n",
       "    TimeStamp:        03/03/2021 02:22:39 -0000\n",
       "    file_name:        cplhco.1d.mersea.grid_T.nc\n",
       "    history:          Thu Mar  4 01:18:22 2021: ncks -O -F -a -v ang1t,e1t,e2...\n",
       "    NCO:              \"4.5.3\"\n",
       "    monthly_average:  Monthly file built with script ./process_missing_monthl..."
      ]
     },
     "execution_count": 18,
     "metadata": {},
     "output_type": "execute_result"
    }
   ],
   "source": [
    "hindcast_example = xr.open_dataset('/g/data/ux62/access-s2/hindcast/raw_model/ocean/sst/monthly/e01/mo_sst_20181231_e01.nc')\n",
    "hindcast_example"
   ]
  },
  {
   "cell_type": "code",
   "execution_count": 14,
   "id": "ebf5e9b9-77e5-412c-b487-1689cbfdf88d",
   "metadata": {
    "tags": []
   },
   "outputs": [
    {
     "data": {
      "text/plain": [
       "<matplotlib.collections.QuadMesh at 0x15068b1dadc0>"
      ]
     },
     "execution_count": 14,
     "metadata": {},
     "output_type": "execute_result"
    },
    {
     "data": {
      "image/png": "[encoded data removed]",
      "text/plain": [
       "<Figure size 432x288 with 2 Axes>"
      ]
     },
     "metadata": {
      "needs_background": "light"
     },
     "output_type": "display_data"
    }
   ],
   "source": [
    "hindcast_example.temp.isel(deptht=0).isel(time_counter=0).plot()"
   ]
  },
  {
   "cell_type": "markdown",
   "id": "7e39701f-0178-4451-b4ca-7ecd5817df39",
   "metadata": {},
   "source": [
    "# ACCESS-S2 ocean reanalysis (RA) 1981 - 2018"
   ]
  },
  {
   "cell_type": "code",
   "execution_count": null,
   "id": "a3a3034f-b8eb-465d-bacc-b0d8c39af58c",
   "metadata": {},
   "outputs": [],
   "source": [
    "root_path = '/g/data/ux62/access-s2/'\n",
    "RA_ocean_path = '/g/data/ux62/access-s2/reanalysis/ocean/'\n",
    "RA_ocean_variables_list = ['blt','d20','emp','hc300','mld1','mld2','salt','ssh','sss','sst','swflx','td','temp','thflx','u','v','w']\n",
    "RA_ocean_variables_standard_keys = ['barrier_layer_thickness',\n",
    "                           'depth_of_20C_isotherm',\n",
    "                           'water_flux_out_of_sea_ice_and_sea_water',\n",
    "                           'integral_of_sea_water_potential_temperature_wrt_depth_expressed_as_heat_content',\n",
    "                           'ocean_mixed_layer_thickness_defined_by_sigma_theta_1',\n",
    "                           'ocean_mixed_layer_thickness_defined_by_sigma_theta_2',\n",
    "                           'sea_water_salinity',\n",
    "                           'sea_surface_height_above_geoid',\n",
    "                           'surface_sea_water_salinity',\n",
    "                           'sea_water_potential_temperature',\n",
    "                           'downwelling_photosynthetic_radiative_flux_in_sea_water',\n",
    "                           'depth_at_maximum_upward_derivative_of_sea_water_potential_temperature',\n",
    "                           'sea_water_potential_temperature',\n",
    "                           'surface_downward_heat_flux_in_sea_water',\n",
    "                           'sea_water_x_velocity',\n",
    "                           'sea_water_y_velocity',\n",
    "                           'sea_water_z_velocity']\n",
    "RA_ocean_variables_long_keys = ['Barrier Layer Thickness',\n",
    "                                'Depth of 20C isotherm',\n",
    "                                'Net Upward Water Flux',\n",
    "                                'Heat content 300 m',\n",
    "                                'Kara Mixed Layer Depth',\n",
    "                                'Mixed Layer Depth 0.01',\n",
    "                                'Salinity',\n",
    "                                'Sea Surface Height',\n",
    "                                'Sea Surface Salinity',\n",
    "                                'Sea Surface Temperature',\n",
    "                                'Shortwave Radiation',\n",
    "                                'Thermocline Depth',\n",
    "                                'Temperature',\n",
    "                                'Net Downward Heat Flux',\n",
    "                                'Zonal Current',\n",
    "                                'Meridional Current',\n",
    "                                'Vertical Velocity']\n",
    "RA_ocean_variables_period_dict = {'daily':'do','monthly':'mo'}\n",
    "RA_ocean_variables_standard_dict = dict(zip(RA_ocean_variables_standard_keys, RA_ocean_variables_list))\n",
    "RA_ocean_variables_long_dict = dict(zip(RA_ocean_variables_long_keys, RA_ocean_variables_list))"
   ]
  },
  {
   "cell_type": "code",
   "execution_count": null,
   "id": "dbc2b0e6-4bc9-4930-83c2-7a1bdfe11603",
   "metadata": {},
   "outputs": [],
   "source": [
    "def make_ACCESS_S2_RA_path(period='monthly',variable_long_key ='Thermocline Depth'):\n",
    "    RA_ocean_path = '/g/data/ux62/access-s2/reanalysis/ocean/'\n",
    "    RA_ocean_variables_list = ['blt','d20','emp','hc300','mld1','mld2','salt','ssh','sss','sst','swflx','td','temp','thflx','u','v','w']\n",
    "    RA_ocean_variables_standard_keys = ['barrier_layer_thickness',\n",
    "                           'depth_of_20C_isotherm',\n",
    "                           'water_flux_out_of_sea_ice_and_sea_water',\n",
    "                           'integral_of_sea_water_potential_temperature_wrt_depth_expressed_as_heat_content',\n",
    "                           'ocean_mixed_layer_thickness_defined_by_sigma_theta_1',\n",
    "                           'ocean_mixed_layer_thickness_defined_by_sigma_theta_2',\n",
    "                           'sea_water_salinity',\n",
    "                           'sea_surface_height_above_geoid',\n",
    "                           'surface_sea_water_salinity',\n",
    "                           'sea_water_potential_temperature',\n",
    "                           'downwelling_photosynthetic_radiative_flux_in_sea_water',\n",
    "                           'depth_at_maximum_upward_derivative_of_sea_water_potential_temperature',\n",
    "                           'sea_water_potential_temperature',\n",
    "                           'surface_downward_heat_flux_in_sea_water',\n",
    "                           'sea_water_x_velocity',\n",
    "                           'sea_water_y_velocity',\n",
    "                           'sea_water_z_velocity']\n",
    "    RA_ocean_variables_long_keys = ['Barrier Layer Thickness',\n",
    "                                'Depth of 20C isotherm',\n",
    "                                'Net Upward Water Flux',\n",
    "                                'Heat content 300 m',\n",
    "                                'Kara Mixed Layer Depth',\n",
    "                                'Mixed Layer Depth 0.01',\n",
    "                                'Salinity',\n",
    "                                'Sea Surface Height',\n",
    "                                'Sea Surface Salinity',\n",
    "                                'Sea Surface Temperature',\n",
    "                                'Shortwave Radiation',\n",
    "                                'Thermocline Depth',\n",
    "                                'Temperature',\n",
    "                                'Net Downward Heat Flux',\n",
    "                                'Zonal Current',\n",
    "                                'Meridional Current',\n",
    "                                'Vertical Velocity']\n",
    "    RA_ocean_variables_period_dict = {'daily':'do','monthly':'mo'}\n",
    "    RA_ocean_variables_standard_dict = dict(zip(RA_ocean_variables_standard_keys, RA_ocean_variables_list))\n",
    "    RA_ocean_variables_long_dict = dict(zip(RA_ocean_variables_long_keys, RA_ocean_variables_list))\n",
    "    ACCESS_S2_RA_path = RA_ocean_path + RA_ocean_variables_long_dict[variable_long_key]+'/'+RA_ocean_variables_period_dict[period]+'_'+RA_ocean_variables_long_dict[variable_long_key]+'*'\n",
    "    return ACCESS_S2_RA_path"
   ]
  },
  {
   "cell_type": "code",
   "execution_count": null,
   "id": "305b1040-6138-4163-abbf-e2740be0c7aa",
   "metadata": {},
   "outputs": [],
   "source": [
    "make_ACCESS_S2_RA_path()"
   ]
  },
  {
   "cell_type": "code",
   "execution_count": null,
   "id": "f4bb0fc9-86dc-49d6-b191-11f8de874d04",
   "metadata": {},
   "outputs": [],
   "source": [
    "ds = xr.open_dataset('/g/data/ux62/access-s2/reanalysis/ocean/td/mo_td_1988.nc')\n",
    "ds"
   ]
  },
  {
   "cell_type": "markdown",
   "id": "adb2ffe0-176c-41ae-b2ec-883e72f2363f",
   "metadata": {},
   "source": [
    "# Q: What is ACCESS-S2 grid size? A: ~ 1/4 degree"
   ]
  },
  {
   "cell_type": "code",
   "execution_count": null,
   "id": "c673a005-3bb9-4152-8c03-b77154d8605b",
   "metadata": {},
   "outputs": [],
   "source": [
    "ds.x"
   ]
  },
  {
   "cell_type": "code",
   "execution_count": null,
   "id": "1ddf15e4-2bfd-4162-917b-903715a5e406",
   "metadata": {},
   "outputs": [],
   "source": [
    "ds.y"
   ]
  },
  {
   "cell_type": "code",
   "execution_count": null,
   "id": "95e087df-582a-402a-bf23-c15d5dde0056",
   "metadata": {},
   "outputs": [],
   "source": [
    "ds.nav_lat.plot()"
   ]
  },
  {
   "cell_type": "code",
   "execution_count": null,
   "id": "c57fea1b-fb57-4911-91b3-f597d7ba40f2",
   "metadata": {},
   "outputs": [],
   "source": [
    "ds.nav_lon.plot()"
   ]
  },
  {
   "cell_type": "code",
   "execution_count": null,
   "id": "3c4bcaa0-bc94-4bf7-ae51-e8c76169051d",
   "metadata": {},
   "outputs": [],
   "source": [
    "ds.nav_lon.min()"
   ]
  },
  {
   "cell_type": "code",
   "execution_count": null,
   "id": "dec8b614-631d-4447-abea-d00e7d8d5796",
   "metadata": {},
   "outputs": [],
   "source": [
    "ds.nav_lat.min()"
   ]
  },
  {
   "cell_type": "code",
   "execution_count": null,
   "id": "091603c2-909e-4d0f-881b-f10c2acb1e07",
   "metadata": {},
   "outputs": [],
   "source": [
    "ds.nav_lat.max()"
   ]
  },
  {
   "cell_type": "code",
   "execution_count": null,
   "id": "8d2e2796-ad8e-42a9-84a2-1bf889cfe6a1",
   "metadata": {},
   "outputs": [],
   "source": [
    "(ds.nav_lat.max() - ds.nav_lat.min())/ds.y.size"
   ]
  },
  {
   "cell_type": "code",
   "execution_count": null,
   "id": "ca19c64a-4ab4-4227-8833-5ca38ea49d40",
   "metadata": {},
   "outputs": [],
   "source": [
    "(ds.nav_lon.max() - ds.nav_lon.min())/ds.x.size"
   ]
  },
  {
   "cell_type": "code",
   "execution_count": null,
   "id": "530ec68a-6c02-4a21-a1dd-ae5c48b3095d",
   "metadata": {},
   "outputs": [],
   "source": [
    "ds.td.max(dim='time_counter').plot()"
   ]
  },
  {
   "cell_type": "code",
   "execution_count": null,
   "id": "5e4824dd-6a3b-4df0-8075-198c67f1da7d",
   "metadata": {},
   "outputs": [],
   "source": [
    "make_ACCESS_S2_RA_path()"
   ]
  },
  {
   "cell_type": "code",
   "execution_count": null,
   "id": "137b05da-6d91-4cf9-984b-c3bf604ca761",
   "metadata": {
    "tags": []
   },
   "outputs": [],
   "source": [
    "ds = xr.open_mfdataset('/g/data/ux62/access-s2/reanalysis/ocean/td/mo_td_19*.nc',parallel=True)\n",
    "ds"
   ]
  },
  {
   "cell_type": "code",
   "execution_count": null,
   "id": "1eae2515-e3a4-4d32-a931-0cecada6433e",
   "metadata": {},
   "outputs": [],
   "source": [
    "file_list =[]\n",
    "regexp = re.compile('mo_td_(201[0-8]).nc')\n",
    "ROOT_DIR ='/g/data/ux62/access-s2/reanalysis/ocean/td/'\n",
    "for root, dirs, files in os.walk(ROOT_DIR):\n",
    "    for file in files:\n",
    "        if regexp.search(file):\n",
    "            file_list.append(os.path.join(root, file))\n",
    "\n",
    "file_list.sort()\n",
    "file_list"
   ]
  },
  {
   "cell_type": "code",
   "execution_count": null,
   "id": "3a2ee962-1ecc-4e00-bc3f-d5b05ed22baa",
   "metadata": {},
   "outputs": [],
   "source": [
    "ds_2010_2018 = xr.open_mfdataset(file_list,parallel=True)\n",
    "ds_2010_2018"
   ]
  },
  {
   "cell_type": "code",
   "execution_count": null,
   "id": "6ef499ee-58a5-428e-860d-9669cf56c83a",
   "metadata": {
    "jupyter": {
     "source_hidden": true
    },
    "tags": []
   },
   "outputs": [],
   "source": [
    "file_list =[]\n",
    "regexp = re.compile('mo_td_(198[1-9]|199[0-9]|200[0-9]).nc')\n",
    "ROOT_DIR ='/g/data/ux62/access-s2/reanalysis/ocean/td/'\n",
    "for root, dirs, files in os.walk(ROOT_DIR):\n",
    "    for file in files:\n",
    "        if regexp.search(file):\n",
    "            file_list.append(os.path.join(root, file))\n",
    "\n",
    "file_list.sort()\n",
    "file_list"
   ]
  },
  {
   "cell_type": "code",
   "execution_count": null,
   "id": "5e66c430-31ce-4c95-a005-d14c19de07eb",
   "metadata": {},
   "outputs": [],
   "source": [
    "ds_1981_2009 = xr.open_mfdataset(file_list,parallel=True)\n",
    "ds_1981_2009"
   ]
  },
  {
   "cell_type": "code",
   "execution_count": null,
   "id": "4297d1e8-874e-4210-a8a2-459b5eb0b832",
   "metadata": {},
   "outputs": [],
   "source": [
    "ds = xr.merge([ds_1981_2009,ds_2010_2018])"
   ]
  },
  {
   "cell_type": "code",
   "execution_count": null,
   "id": "4fa0607a-0f97-4799-b876-cbec76008589",
   "metadata": {},
   "outputs": [],
   "source": [
    "make_ACCESS_S2_RA_path(variable_long_key ='Heat content 300 m')"
   ]
  },
  {
   "cell_type": "code",
   "execution_count": null,
   "id": "ead006ec-2226-4b48-86dc-6dd878068c65",
   "metadata": {},
   "outputs": [],
   "source": [
    "xr.open_mfdataset(make_ACCESS_S2_RA_path(variable_long_key ='Heat content 300 m'),parallel=True)"
   ]
  },
  {
   "cell_type": "code",
   "execution_count": null,
   "id": "f7fb317f-5a4e-4b33-8b81-92b6d0fbbb3f",
   "metadata": {},
   "outputs": [],
   "source": []
  }
 ],
 "metadata": {
  "kernelspec": {
   "display_name": "Python 3",
   "language": "python",
   "name": "python3"
  },
  "language_info": {
   "codemirror_mode": {
    "name": "ipython",
    "version": 3
   },
   "file_extension": ".py",
   "mimetype": "text/x-python",
   "name": "python",
   "nbconvert_exporter": "python",
   "pygments_lexer": "ipython3",
   "version": "3.9.4"
  }
 },
 "nbformat": 4,
 "nbformat_minor": 5
}
