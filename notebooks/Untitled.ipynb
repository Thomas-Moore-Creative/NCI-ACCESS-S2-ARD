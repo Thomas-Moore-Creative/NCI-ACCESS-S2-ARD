{
 "cells": [
  {
   "cell_type": "markdown",
   "id": "b4a0f901-dc0b-4f02-b1b6-1acb62c902f9",
   "metadata": {},
   "source": [
    "# ACCESS-S2 sandbox"
   ]
  },
  {
   "cell_type": "markdown",
   "id": "d2822c63-9e0a-48a6-a74c-b443fe8858f9",
   "metadata": {},
   "source": [
    ">9 June 2021<br>\n",
    ">Thomas Moore"
   ]
  },
  {
   "cell_type": "code",
   "execution_count": 2,
   "id": "08242a75-b1fb-4c48-b74f-a2cdc43a6916",
   "metadata": {},
   "outputs": [],
   "source": [
    "import xarray as xr\n",
    "from dask_jobqueue import PBSCluster\n",
    "from dask.distributed import Client\n",
    "import numpy as np\n",
    "import xrft\n",
    "import scipy\n",
    "import matplotlib.pyplot as plt\n",
    "import datetime\n",
    "import pandas as pd\n",
    "import matplotlib.dates as mdates\n",
    "from matplotlib.dates import DateFormatter\n",
    "%config Completer.use_jedi = False"
   ]
  },
  {
   "cell_type": "code",
   "execution_count": 3,
   "id": "6327af7b-4360-4750-9456-1dbd1c32d2f5",
   "metadata": {},
   "outputs": [],
   "source": [
    "# supress warnings\n",
    "import warnings\n",
    "warnings.filterwarnings('ignore')"
   ]
  },
  {
   "cell_type": "markdown",
   "id": "74d7a255-3ef9-4e73-846c-25cf732de00c",
   "metadata": {},
   "source": [
    "# Spin up a tiny little cluster with `dask-jobqueue`"
   ]
  },
  {
   "cell_type": "markdown",
   "id": "0e313226-2d86-4a3c-973c-fad8746d012f",
   "metadata": {},
   "source": [
    "### Specs for an individual worker"
   ]
  },
  {
   "cell_type": "code",
   "execution_count": 4,
   "id": "b366713b-6e53-4d2d-b5c0-9ef049dfd211",
   "metadata": {},
   "outputs": [],
   "source": [
    "walltime = '04:00:00'\n",
    "cores = 2\n",
    "memory = '8GB'\n",
    "\n",
    "cluster = PBSCluster(walltime=str(walltime), cores=cores, memory=str(memory),\n",
    "                     job_extra=['-l ncpus='+str(cores),'-l mem='+str(memory),\n",
    "                                '-l storage=gdata/v14+scratch/v14+gdata/lp01+scratch/lp01+scratch/ux06+gdata/rr3+gdata/al33+gdata/zv2'],\n",
    "                     header_skip=[\"select\"])"
   ]
  },
  {
   "cell_type": "markdown",
   "id": "ddcd0469-5235-4223-98d9-ad1efbe985a4",
   "metadata": {},
   "source": [
    "### Scale up to n workers"
   ]
  },
  {
   "cell_type": "code",
   "execution_count": 5,
   "id": "c741baec-f6dd-4e20-887e-0e7130f14ea6",
   "metadata": {},
   "outputs": [],
   "source": [
    "cluster.scale(jobs=6)"
   ]
  },
  {
   "cell_type": "code",
   "execution_count": 6,
   "id": "ed71f2f0-ad77-44f3-b96b-7c41cec7faa8",
   "metadata": {},
   "outputs": [],
   "source": [
    "client = Client(cluster)"
   ]
  },
  {
   "cell_type": "code",
   "execution_count": 7,
   "id": "13f57e91-8084-49df-b1f4-bf93a1cf7d5e",
   "metadata": {
    "tags": []
   },
   "outputs": [
    {
     "data": {
      "text/html": [
       "<table style=\"border: 2px solid white;\">\n",
       "<tr>\n",
       "<td style=\"vertical-align: top; border: 0px solid white\">\n",
       "<h3 style=\"text-align: left;\">Client</h3>\n",
       "<ul style=\"text-align: left; list-style: none; margin: 0; padding: 0;\">\n",
       "  <li><b>Scheduler: </b>tcp://10.6.52.40:39043</li>\n",
       "  <li><b>Dashboard: </b><a href='http://10.6.52.40:41823/status' target='_blank'>http://10.6.52.40:41823/status</a></li>\n",
       "</ul>\n",
       "</td>\n",
       "<td style=\"vertical-align: top; border: 0px solid white\">\n",
       "<h3 style=\"text-align: left;\">Cluster</h3>\n",
       "<ul style=\"text-align: left; list-style:none; margin: 0; padding: 0;\">\n",
       "  <li><b>Workers: </b>0</li>\n",
       "  <li><b>Cores: </b>0</li>\n",
       "  <li><b>Memory: </b>0 B</li>\n",
       "</ul>\n",
       "</td>\n",
       "</tr>\n",
       "</table>"
      ],
      "text/plain": [
       "<Client: 'tcp://10.6.52.40:39043' processes=0 threads=0, memory=0 B>"
      ]
     },
     "execution_count": 7,
     "metadata": {},
     "output_type": "execute_result"
    }
   ],
   "source": [
    "client"
   ]
  },
  {
   "cell_type": "code",
   "execution_count": null,
   "id": "a3a3034f-b8eb-465d-bacc-b0d8c39af58c",
   "metadata": {},
   "outputs": [],
   "source": []
  }
 ],
 "metadata": {
  "kernelspec": {
   "display_name": "Python 3",
   "language": "python",
   "name": "python3"
  },
  "language_info": {
   "codemirror_mode": {
    "name": "ipython",
    "version": 3
   },
   "file_extension": ".py",
   "mimetype": "text/x-python",
   "name": "python",
   "nbconvert_exporter": "python",
   "pygments_lexer": "ipython3",
   "version": "3.9.4"
  }
 },
 "nbformat": 4,
 "nbformat_minor": 5
}
