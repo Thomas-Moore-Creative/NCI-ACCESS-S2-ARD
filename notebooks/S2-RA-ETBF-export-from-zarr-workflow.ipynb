{
 "cells": [
  {
   "cell_type": "markdown",
   "id": "31bbe048",
   "metadata": {},
   "source": [
    "# S2-RA-ETBF-export-from-zarr-workflow"
   ]
  },
  {
   "cell_type": "markdown",
   "id": "fde8a751",
   "metadata": {},
   "source": [
    "**Date:** <br>\n",
    "14 December 2021 <br>\n",
    "**Background:** <br>\n",
    "Issue -  <br>\n",
    "**Author(s):**<br>\n",
    "Thomas Moore<br>"
   ]
  },
  {
   "cell_type": "markdown",
   "id": "f18a60fe",
   "metadata": {},
   "source": [
    "### OOD documentation\n",
    "https://opus.nci.org.au/display/DAE/Setting+up+a+Dask+Cluster+on+OOD"
   ]
  },
  {
   "cell_type": "code",
   "execution_count": 1,
   "id": "26f0f507",
   "metadata": {},
   "outputs": [],
   "source": [
    "Author1 = {\"name\": \"Thomas Moore\", \"affiliation\": \"CSIRO\", \"email\": \"thomas.moore@csiro.au\", \"orcid\": \"0000-0003-3930-1946\"}"
   ]
  },
  {
   "cell_type": "code",
   "execution_count": 2,
   "id": "7586239d",
   "metadata": {
    "tags": []
   },
   "outputs": [],
   "source": [
    "import xarray as xr\n",
    "import numpy as np\n",
    "import xrft\n",
    "import xesmf as xe\n",
    "import scipy\n",
    "import matplotlib.pyplot as plt\n",
    "import datetime\n",
    "import pandas as pd\n",
    "import matplotlib.dates as mdates\n",
    "from matplotlib.dates import DateFormatter\n",
    "import os\n",
    "import re\n",
    "import cartopy.crs as ccrs\n",
    "import proplot as pplt\n",
    "from rechunker import rechunk\n",
    "%config Completer.use_jedi = False"
   ]
  },
  {
   "cell_type": "raw",
   "id": "d91dc2bf-6009-41ff-b338-d16f79a585da",
   "metadata": {},
   "source": [
    "# supress warnings\n",
    "import warnings\n",
    "warnings.filterwarnings('ignore')"
   ]
  },
  {
   "cell_type": "markdown",
   "id": "66d1ff16-8c67-4360-8920-de24a4df4b12",
   "metadata": {},
   "source": [
    "## import helper"
   ]
  },
  {
   "cell_type": "code",
   "execution_count": 3,
   "id": "4957c4b9-5159-484b-86a1-a8489aa4f19e",
   "metadata": {},
   "outputs": [],
   "source": [
    "import importlib.util\n",
    "spec = importlib.util.spec_from_file_location(\"helper\", \"/g/data/v14/tm4888/code/helper-py/helper_tools.py\")\n",
    "helper = importlib.util.module_from_spec(spec)\n",
    "spec.loader.exec_module(helper)"
   ]
  },
  {
   "cell_type": "markdown",
   "id": "6b3f8b43",
   "metadata": {},
   "source": [
    "## OOD cluster"
   ]
  },
  {
   "cell_type": "code",
   "execution_count": 4,
   "id": "f9d7a09b",
   "metadata": {},
   "outputs": [
    {
     "name": "stderr",
     "output_type": "stream",
     "text": [
      "/g/data/v14/tm4888/miniconda3/envs/pangeo_hpc/lib/python3.9/site-packages/dask_jobqueue/core.py:20: FutureWarning: tmpfile is deprecated and will be removed in a future release. Please use dask.utils.tmpfile instead.\n",
      "  from distributed.utils import tmpfile\n"
     ]
    }
   ],
   "source": [
    "from dask.distributed import Client,Scheduler\n",
    "from dask_jobqueue import SLURMCluster\n",
    "cluster = SLURMCluster(cores=2,processes=1,memory=\"47GB\",walltime='03:00:00')\n",
    "client = Client(cluster)\n",
    "cluster.scale(cores=24)"
   ]
  },
  {
   "cell_type": "raw",
   "id": "46035612-6b6a-4679-8fd7-b26ff07e55e9",
   "metadata": {},
   "source": [
    "cluster.scale(cores=24)"
   ]
  },
  {
   "cell_type": "code",
   "execution_count": 5,
   "id": "b3de759e",
   "metadata": {},
   "outputs": [
    {
     "data": {
      "text/html": [
       "<div>\n",
       "    <div style=\"width: 24px; height: 24px; background-color: #e1e1e1; border: 3px solid #9D9D9D; border-radius: 5px; position: absolute;\"> </div>\n",
       "    <div style=\"margin-left: 48px;\">\n",
       "        <h3 style=\"margin-bottom: 0px;\">Client</h3>\n",
       "        <p style=\"color: #9D9D9D; margin-bottom: 0px;\">Client-39838dec-5f71-11ec-8db5-fa163efdce2f</p>\n",
       "        <table style=\"width: 100%; text-align: left;\">\n",
       "\n",
       "        <tr>\n",
       "        \n",
       "            <td style=\"text-align: left;\"><strong>Connection method:</strong> Cluster object</td>\n",
       "            <td style=\"text-align: left;\"><strong>Cluster type:</strong> dask_jobqueue.SLURMCluster</td>\n",
       "        \n",
       "        </tr>\n",
       "\n",
       "        \n",
       "            <tr>\n",
       "                <td style=\"text-align: left;\">\n",
       "                    <strong>Dashboard: </strong> <a href=\"/proxy/8787/status\" target=\"_blank\">/proxy/8787/status</a>\n",
       "                </td>\n",
       "                <td style=\"text-align: left;\"></td>\n",
       "            </tr>\n",
       "        \n",
       "\n",
       "        </table>\n",
       "\n",
       "        \n",
       "            <details>\n",
       "            <summary style=\"margin-bottom: 20px;\"><h3 style=\"display: inline;\">Cluster Info</h3></summary>\n",
       "            <div class=\"jp-RenderedHTMLCommon jp-RenderedHTML jp-mod-trusted jp-OutputArea-output\">\n",
       "    <div style=\"width: 24px; height: 24px; background-color: #e1e1e1; border: 3px solid #9D9D9D; border-radius: 5px; position: absolute;\">\n",
       "    </div>\n",
       "    <div style=\"margin-left: 48px;\">\n",
       "        <h3 style=\"margin-bottom: 0px; margin-top: 0px;\">SLURMCluster</h3>\n",
       "        <p style=\"color: #9D9D9D; margin-bottom: 0px;\">33b6d437</p>\n",
       "        <table style=\"width: 100%; text-align: left;\">\n",
       "            <tr>\n",
       "                <td style=\"text-align: left;\">\n",
       "                    <strong>Dashboard:</strong> <a href=\"/proxy/8787/status\" target=\"_blank\">/proxy/8787/status</a>\n",
       "                </td>\n",
       "                <td style=\"text-align: left;\">\n",
       "                    <strong>Workers:</strong> 0\n",
       "                </td>\n",
       "            </tr>\n",
       "            <tr>\n",
       "                <td style=\"text-align: left;\">\n",
       "                    <strong>Total threads:</strong> 0\n",
       "                </td>\n",
       "                <td style=\"text-align: left;\">\n",
       "                    <strong>Total memory:</strong> 0 B\n",
       "                </td>\n",
       "            </tr>\n",
       "            \n",
       "        </table>\n",
       "\n",
       "        <details>\n",
       "            <summary style=\"margin-bottom: 20px;\">\n",
       "                <h3 style=\"display: inline;\">Scheduler Info</h3>\n",
       "            </summary>\n",
       "\n",
       "            <div style=\"\">\n",
       "    <div>\n",
       "        <div style=\"width: 24px; height: 24px; background-color: #FFF7E5; border: 3px solid #FF6132; border-radius: 5px; position: absolute;\"> </div>\n",
       "        <div style=\"margin-left: 48px;\">\n",
       "            <h3 style=\"margin-bottom: 0px;\">Scheduler</h3>\n",
       "            <p style=\"color: #9D9D9D; margin-bottom: 0px;\">Scheduler-09bb27f4-0fd6-413e-8f30-08a52a1edf52</p>\n",
       "            <table style=\"width: 100%; text-align: left;\">\n",
       "                <tr>\n",
       "                    <td style=\"text-align: left;\">\n",
       "                        <strong>Comm:</strong> tcp://10.0.128.130:35051\n",
       "                    </td>\n",
       "                    <td style=\"text-align: left;\">\n",
       "                        <strong>Workers:</strong> 0\n",
       "                    </td>\n",
       "                </tr>\n",
       "                <tr>\n",
       "                    <td style=\"text-align: left;\">\n",
       "                        <strong>Dashboard:</strong> <a href=\"/proxy/8787/status\" target=\"_blank\">/proxy/8787/status</a>\n",
       "                    </td>\n",
       "                    <td style=\"text-align: left;\">\n",
       "                        <strong>Total threads:</strong> 0\n",
       "                    </td>\n",
       "                </tr>\n",
       "                <tr>\n",
       "                    <td style=\"text-align: left;\">\n",
       "                        <strong>Started:</strong> Just now\n",
       "                    </td>\n",
       "                    <td style=\"text-align: left;\">\n",
       "                        <strong>Total memory:</strong> 0 B\n",
       "                    </td>\n",
       "                </tr>\n",
       "            </table>\n",
       "        </div>\n",
       "    </div>\n",
       "\n",
       "    <details style=\"margin-left: 48px;\">\n",
       "        <summary style=\"margin-bottom: 20px;\">\n",
       "            <h3 style=\"display: inline;\">Workers</h3>\n",
       "        </summary>\n",
       "\n",
       "        \n",
       "\n",
       "    </details>\n",
       "</div>\n",
       "\n",
       "        </details>\n",
       "    </div>\n",
       "</div>\n",
       "            </details>\n",
       "        \n",
       "\n",
       "    </div>\n",
       "</div>"
      ],
      "text/plain": [
       "<Client: 'tcp://10.0.128.130:35051' processes=0 threads=0, memory=0 B>"
      ]
     },
     "execution_count": 5,
     "metadata": {},
     "output_type": "execute_result"
    }
   ],
   "source": [
    "client"
   ]
  },
  {
   "cell_type": "markdown",
   "id": "745720ce-d572-4130-bfa4-0dd22a0c23a9",
   "metadata": {},
   "source": [
    "# load naitive grid zarr collections"
   ]
  },
  {
   "cell_type": "code",
   "execution_count": 6,
   "id": "37ec3927-ca62-4812-a546-2a8ca92a1019",
   "metadata": {},
   "outputs": [
    {
     "name": "stdout",
     "output_type": "stream",
     "text": [
      "CPU times: user 151 ms, sys: 31.1 ms, total: 182 ms\n",
      "Wall time: 252 ms\n"
     ]
    }
   ],
   "source": [
    "%%time\n",
    "ds_025_u = xr.open_zarr('/g/data/v14/tm4888/data/ACCESS-S2/accessS2.RA.ocean.u.nativeUgrid.zarr',consolidated=True)\n",
    "ds_025_v = xr.open_zarr('/g/data/v14/tm4888/data/ACCESS-S2/accessS2.RA.ocean.v.nativeVgrid.zarr',consolidated=True)\n",
    "ds_025_KE = xr.open_zarr('/g/data/v14/tm4888/data/ACCESS-S2/accessS2.RA.EKE.nativeGrid.zarr',consolidated=True)\n",
    "ds_025_Tocean = xr.open_zarr('/g/data/v14/tm4888/data/ACCESS-S2/accessS2.RA.ocean.nativeTgrid.zarr',consolidated=True)"
   ]
  },
  {
   "cell_type": "markdown",
   "id": "892b7310-d38a-478d-955d-2cd5cc05f0f4",
   "metadata": {},
   "source": [
    "# Grid information for ACCESS S2?"
   ]
  },
  {
   "cell_type": "code",
   "execution_count": 7,
   "id": "e2712caf-f9dc-4fbc-93fe-345275105412",
   "metadata": {},
   "outputs": [
    {
     "name": "stdout",
     "output_type": "stream",
     "text": [
      "CPU times: user 94.1 ms, sys: 26.5 ms, total: 121 ms\n",
      "Wall time: 160 ms\n"
     ]
    }
   ],
   "source": [
    "%%time\n",
    "ds_S2_Ugrid = xr.open_dataset('/g/data/ux62/access-s2/reanalysis/ocean/u/mo_u_1990.nc')\n",
    "ds_S2_Vgrid = xr.open_dataset('/g/data/ux62/access-s2/reanalysis/ocean/v/mo_v_1990.nc')\n",
    "ds_S2_Tgrid = xr.open_dataset('/g/data/ux62/access-s2/reanalysis/ocean/temp/mo_temp_1990.nc')"
   ]
  },
  {
   "cell_type": "markdown",
   "id": "12f7f0a2-71f4-4ebe-a979-b5dd495de050",
   "metadata": {},
   "source": [
    "## depth weights"
   ]
  },
  {
   "cell_type": "code",
   "execution_count": 8,
   "id": "f724a173-7956-4189-931f-dd2ba4bd7085",
   "metadata": {},
   "outputs": [
    {
     "data": {
      "text/plain": [
       "array([  1.0239066,   1.0792834,   1.1481192,   1.2337434,   1.3401852,\n",
       "         1.4722052,   1.6352429,   1.8352118,   2.0780945,   2.369277 ,\n",
       "         2.712654 ,   3.1096478,   3.5584164,   4.0536633,   4.5873146,\n",
       "         5.150135 ,   5.7339096,   6.333458 ,   6.948097 ,   7.582039 ,\n",
       "         8.244095 ,   8.946861 ,   9.705849 ,  10.538765 ,  11.465065 ,\n",
       "        12.505692 ,  13.683044 ,  15.021072 ,  16.545197 ,  18.282547 ,\n",
       "        20.261673 ,  22.512512 ,  25.065903 ,  27.952911 ,  31.204071 ,\n",
       "        34.848145 ,  38.910614 ,  43.411926 ,  48.365784 ,  53.776886 ,\n",
       "        59.638855 ,  65.93317  ,  72.62689  ,  79.67352  ,  87.01233  ,\n",
       "        94.57056  , 102.265564 , 110.00891  , 117.70947  , 125.277954 ,\n",
       "       132.63196  , 139.69739  , 146.41333  , 152.73181  , 158.6195   ,\n",
       "       164.05664  , 169.03613  , 173.56226  , 177.64746  , 181.31226  ,\n",
       "       184.5813   , 187.48242  , 190.04639  , 192.30273  , 194.28223  ,\n",
       "       196.01294  , 197.52246  , 198.83594  , 199.97656  , 200.96533  ,\n",
       "       201.8208   , 202.56104  , 203.1997   , 203.75098  , 204.22852  ],\n",
       "      dtype=float32)"
      ]
     },
     "execution_count": 8,
     "metadata": {},
     "output_type": "execute_result"
    }
   ],
   "source": [
    "depth_weights = ds_S2_Tgrid.deptht_bounds.diff(dim='ndepth_bounds').squeeze().rename({'deptht':'depth'})\n",
    "depth_weights.values"
   ]
  },
  {
   "cell_type": "markdown",
   "id": "859ce838-8645-40c2-a2a1-851d7768de27",
   "metadata": {},
   "source": [
    "# update metadata"
   ]
  },
  {
   "cell_type": "code",
   "execution_count": 9,
   "id": "c3c0df7d-6ba9-4d08-b87d-51825916ed2d",
   "metadata": {},
   "outputs": [],
   "source": [
    "ds_025_KE.attrs['post processing']='generated by Thomas Moore from raw S2 u & v data on native grid'\n",
    "ds_025_KE.EKE.attrs['standard_name']='EKE'\n",
    "ds_025_KE.MKE.attrs['standard_name']='MKE'\n",
    "ds_025_KE.time.attrs['axis']='time'\n",
    "ds_025_KE.time.attrs['standard_name']='datetime64'"
   ]
  },
  {
   "cell_type": "code",
   "execution_count": 10,
   "id": "d867eb96-4e07-42b5-93f6-f5ca338561be",
   "metadata": {},
   "outputs": [],
   "source": [
    "ds_025_u.time.attrs['axis']='time'\n",
    "ds_025_u.time.attrs['standard_name']='datetime64'\n",
    "ds_025_v.time.attrs['axis']='time'\n",
    "ds_025_v.time.attrs['standard_name']='datetime64'\n",
    "ds_025_Tocean.time.attrs['axis']='time'\n",
    "ds_025_Tocean.time.attrs['standard_name']='datetime64'"
   ]
  },
  {
   "cell_type": "markdown",
   "id": "1e8a09fd-9896-4b02-93ba-11e6d46c92bb",
   "metadata": {},
   "source": [
    "# Replace Zeros with NaN's for land mask"
   ]
  },
  {
   "cell_type": "code",
   "execution_count": 11,
   "id": "81a94798-e16a-47ca-9299-cf3f18d0ec32",
   "metadata": {},
   "outputs": [],
   "source": [
    "ds_025_Tocean_masked = helper.replace_zero_w_nan(ds_025_Tocean)\n",
    "ds_025_u_masked = helper.replace_zero_w_nan(ds_025_u)\n",
    "ds_025_v_masked = helper.replace_zero_w_nan(ds_025_v)\n",
    "ds_025_KE_masked = helper.replace_zero_w_nan(ds_025_KE)"
   ]
  },
  {
   "cell_type": "markdown",
   "id": "78b1f916-c288-4b3a-9952-0b5f4d85a721",
   "metadata": {},
   "source": [
    "# Regrid T-grid and check how it handles NaN's"
   ]
  },
  {
   "cell_type": "markdown",
   "id": "c075be67-9167-4263-ace2-3f4f1e36a499",
   "metadata": {},
   "source": [
    "## curvilinear grid"
   ]
  },
  {
   "cell_type": "code",
   "execution_count": null,
   "id": "7d13189c-05aa-446d-bfdd-e93fa762bb3c",
   "metadata": {},
   "outputs": [],
   "source": [
    "nav_lon = ds_025_Tocean_masked['lon'].compute()\n",
    "nav_lat = ds_025_Tocean_masked['lat'].compute()"
   ]
  },
  {
   "cell_type": "code",
   "execution_count": null,
   "id": "252d7e6b-4261-4b7c-8190-7e2ab9738007",
   "metadata": {},
   "outputs": [],
   "source": [
    "plt.scatter(nav_lon, nav_lat, s=0.01)  # plot grid locations\n",
    "fig = plt.gcf()\n",
    "fig.set_size_inches(18.5, 10.5)\n",
    "plt.ylim([-80, 90])\n",
    "plt.xlabel('lon')\n",
    "plt.ylabel('lat')\n",
    "plt.title('ACCESS-S2 Curvilinear grid')"
   ]
  },
  {
   "cell_type": "markdown",
   "id": "e7723132-28e2-4c17-8df6-cc99daa095e5",
   "metadata": {},
   "source": [
    "# CHOOSE YOUR NEW GRID // define uniform 1x1 grid"
   ]
  },
  {
   "cell_type": "code",
   "execution_count": null,
   "id": "0cc0b52a-0c2e-4071-8c86-cc79be272da0",
   "metadata": {},
   "outputs": [],
   "source": [
    "new_1deg_grid = xe.util.grid_global(1, 1)\n",
    "new_1deg_grid"
   ]
  },
  {
   "cell_type": "code",
   "execution_count": null,
   "id": "8955a3ad-e408-4f27-9dac-1da6ca886193",
   "metadata": {},
   "outputs": [],
   "source": [
    "plt.scatter(new_1deg_grid.lon, new_1deg_grid.lat, s=0.01)  # plot grid locations\n",
    "fig = plt.gcf()\n",
    "fig.set_size_inches(10, 10)\n",
    "plt.xlabel('lon')\n",
    "plt.ylabel('lat')\n",
    "plt.title('uniform grid')"
   ]
  },
  {
   "cell_type": "code",
   "execution_count": null,
   "id": "77922bdd-98bc-48ee-bf33-5a7596675b0b",
   "metadata": {},
   "outputs": [],
   "source": [
    "%%time\n",
    "regridder_S2_1deg_Tgrid = xe.Regridder(ds_025_Tocean_masked, new_1deg_grid,'bilinear', ignore_degenerate=True, periodic=True,reuse_weights=False)"
   ]
  },
  {
   "cell_type": "markdown",
   "id": "6d99a316-b311-4e13-bc22-53d3f82c7a52",
   "metadata": {},
   "source": [
    "## EARTH SYSTEM MODELLING FRAMEWORK (NCAR / NOAA) - https://en.wikipedia.org/wiki/Earth_System_Modeling_Framework </br></br>  xESMF // https://github.com/JiaweiZhuang/xESMF/blob/master/README.rst"
   ]
  },
  {
   "cell_type": "markdown",
   "id": "d59d6334-6762-4e97-92a8-2252b7ff4df6",
   "metadata": {},
   "source": [
    "## $\\bigstar$ solution to parallel regridding issue = https://github.com/JiaweiZhuang/xESMF/issues/71"
   ]
  },
  {
   "cell_type": "markdown",
   "id": "b149df77-57d3-4034-a1ce-ecb265579bb0",
   "metadata": {},
   "source": [
    "#### regrid the full dataset object"
   ]
  },
  {
   "cell_type": "code",
   "execution_count": null,
   "id": "2789e012-808b-4eaf-ae3f-9a5c6fbd75f8",
   "metadata": {},
   "outputs": [],
   "source": [
    "%%time\n",
    "regridder_S2_1deg_Tgrid._grid_in = None\n",
    "regridder_S2_1deg_Tgrid._grid_out = None\n",
    "ds_Tocean_masked_1degRegrid = regridder_S2_1deg_Tgrid(ds_025_Tocean_masked)"
   ]
  },
  {
   "cell_type": "code",
   "execution_count": null,
   "id": "ffe5de76-1308-4e5a-95ae-271cc75815f5",
   "metadata": {},
   "outputs": [],
   "source": [
    "ds_Tocean_masked_1degRegrid = ds_Tocean_masked_1degRegrid.assign_coords({'x': ds_Tocean_masked_1degRegrid.lon.isel(y=0),'y': ds_Tocean_masked_1degRegrid.lat.isel(x=0)}).drop(['lon','lat']).rename({'x':'lon','y':'lat'})"
   ]
  },
  {
   "cell_type": "markdown",
   "id": "577865f0-8a5a-4903-a91b-0a32e489f4c2",
   "metadata": {},
   "source": [
    "## write function to pull back select attribute metadata"
   ]
  },
  {
   "cell_type": "code",
   "execution_count": null,
   "id": "7a64572e-5fba-4ee9-a6fa-4cbbc8feb199",
   "metadata": {},
   "outputs": [],
   "source": [
    "def post_xesmf_attrs_fix(ds_source,ds_target,keys=['long_name','standard_name','units']):\n",
    "    global_attrs = ds_source.attrs\n",
    "    ds_out = ds_target.assign_attrs(global_attrs)\n",
    "    ds_out['time'] = ds_out['time'].assign_attrs(ds_source['time'].attrs)\n",
    "    for var in ds_source.var():\n",
    "        copy_attrs = ds_source[var].attrs\n",
    "        ds_out[var] = ds_out[var].assign_attrs({key: copy_attrs[key] for key in keys})\n",
    "    return ds_out"
   ]
  },
  {
   "cell_type": "code",
   "execution_count": null,
   "id": "6c070e03-ef3b-48ea-8ca5-e2222019d26b",
   "metadata": {},
   "outputs": [],
   "source": [
    "ds_Tocean_masked_1degRegrid = post_xesmf_attrs_fix(ds_025_Tocean_masked,ds_Tocean_masked_1degRegrid)"
   ]
  },
  {
   "cell_type": "code",
   "execution_count": null,
   "id": "b2e44c96-155b-4c08-a738-1b0ea1de51a9",
   "metadata": {},
   "outputs": [],
   "source": [
    "ds_Tocean_masked_1degRegrid.nbytes/1e9"
   ]
  },
  {
   "cell_type": "markdown",
   "id": "356f5d7e-a2ef-40e1-8d56-8be590a67def",
   "metadata": {},
   "source": [
    "## Sanity check - SST"
   ]
  },
  {
   "cell_type": "code",
   "execution_count": null,
   "id": "53e07b48-c217-4e57-a9b9-e528b18bb0e5",
   "metadata": {},
   "outputs": [],
   "source": [
    "%%time\n",
    "regrid_data = ds_Tocean_masked_1degRegrid.sst.mean(dim='time').compute()\n",
    "coarsened_data = ds_025_Tocean_masked.sst.mean(dim='time')\n",
    "coarsened_data = coarsened_data.coarsen({'x':4,'y':4}, boundary=\"trim\").mean().compute()"
   ]
  },
  {
   "cell_type": "code",
   "execution_count": null,
   "id": "85cc571f-4491-4257-9cf2-c56df86a67a4",
   "metadata": {},
   "outputs": [],
   "source": [
    "%%time\n",
    "fig, (ax1, ax2) = plt.subplots(1, 2,figsize=(20,10))\n",
    "fig.suptitle('compare regridded SST lon/lat to coarsened native x/y grid',fontsize=20)\n",
    "regrid_data.plot(robust=True,ax=ax1)\n",
    "coarsened_data.plot(robust=True,ax=ax2)\n",
    "ax1.set_ylim([-60,0])\n",
    "ax1.set_xlim([110,180])\n",
    "ax2.set_ylim([50,125])\n",
    "ax2.set_xlim([36,107])"
   ]
  },
  {
   "cell_type": "markdown",
   "id": "fedcce5b-be1f-46ef-aa81-f87775627ddb",
   "metadata": {},
   "source": [
    "# write 1deg Tgrid file to zarr"
   ]
  },
  {
   "cell_type": "code",
   "execution_count": null,
   "id": "2835ca5d-3e90-4972-beea-1e586995756b",
   "metadata": {},
   "outputs": [],
   "source": [
    "ds_Tocean_masked_1degRegrid"
   ]
  },
  {
   "cell_type": "code",
   "execution_count": null,
   "id": "0bcb424e-4b92-4336-9d1e-a990b230b39e",
   "metadata": {},
   "outputs": [],
   "source": [
    "%%time\n",
    "ds_Tocean_masked_1degRegrid.to_zarr(store = '/g/data/v14/tm4888/data/ACCESS-S2/accessS2.RA.ocean.masked.Tregrid_1deg.zarr',consolidated=True)"
   ]
  },
  {
   "cell_type": "code",
   "execution_count": null,
   "id": "9f6e0f55-43a4-48a7-bd53-2508aae1939e",
   "metadata": {},
   "outputs": [],
   "source": []
  },
  {
   "cell_type": "code",
   "execution_count": null,
   "id": "3fe0b9ed-8f5c-4eda-9a94-4fdc296b555e",
   "metadata": {},
   "outputs": [],
   "source": []
  },
  {
   "cell_type": "markdown",
   "id": "cf384bf9-6f81-46c3-98b9-ce18454c804e",
   "metadata": {
    "jp-MarkdownHeadingCollapsed": true,
    "tags": []
   },
   "source": [
    "# $\\big\\Downarrow$ export masked 1 degree NC files"
   ]
  },
  {
   "cell_type": "markdown",
   "id": "b6c32388-ab7c-4b25-b0b1-b00b63100ac8",
   "metadata": {},
   "source": [
    "# SST"
   ]
  },
  {
   "cell_type": "code",
   "execution_count": null,
   "id": "05949796-b40a-4c63-896e-99866c6f34f5",
   "metadata": {},
   "outputs": [],
   "source": [
    "%%time\n",
    "sst = ds_Tocean_masked_1degRegrid.sst\n",
    "sst.to_netcdf('/g/data/v14/tm4888/data/ACCESS-S2/ETBF_export/accessS2.RA.sst.masked.grid1deg.nc')"
   ]
  },
  {
   "cell_type": "markdown",
   "id": "65aec462-200b-4b8a-807c-a66ed62d0f5b",
   "metadata": {},
   "source": [
    "# SSS"
   ]
  },
  {
   "cell_type": "code",
   "execution_count": null,
   "id": "5ef19268-0834-49c9-b1aa-3ccb92403423",
   "metadata": {},
   "outputs": [],
   "source": [
    "%%time\n",
    "sss = ds_Tocean_masked_1degRegrid.sss\n",
    "sss.to_netcdf('/g/data/v14/tm4888/data/ACCESS-S2/ETBF_export/accessS2.RA.sss.masked.grid1deg.nc')"
   ]
  },
  {
   "cell_type": "markdown",
   "id": "27befe95-6e4c-409f-ba0f-d3e71aab8d18",
   "metadata": {},
   "source": [
    "# mld1"
   ]
  },
  {
   "cell_type": "code",
   "execution_count": null,
   "id": "7582808f-b51f-4074-b49b-ec751a72aeef",
   "metadata": {},
   "outputs": [],
   "source": [
    "%%time\n",
    "mld1 = ds_Tocean_masked_1degRegrid.mld1\n",
    "mld1.to_netcdf('/g/data/v14/tm4888/data/ACCESS-S2/ETBF_export/accessS2.RA.mld1.masked.grid1deg.nc')"
   ]
  },
  {
   "cell_type": "markdown",
   "id": "73a86a37-55bf-4ffd-96a2-b8d8aa8055b8",
   "metadata": {},
   "source": [
    "# mld2"
   ]
  },
  {
   "cell_type": "code",
   "execution_count": null,
   "id": "2cd2536d-3428-4a92-8b4d-4f8eea090020",
   "metadata": {},
   "outputs": [],
   "source": [
    "%%time\n",
    "mld2 = ds_Tocean_masked_1degRegrid.mld2\n",
    "mld2.to_netcdf('/g/data/v14/tm4888/data/ACCESS-S2/ETBF_export/accessS2.RA.mld2.masked.grid1deg.nc')"
   ]
  },
  {
   "cell_type": "markdown",
   "id": "385a44ce-3848-404f-aa67-49595638b8bb",
   "metadata": {},
   "source": [
    "# td"
   ]
  },
  {
   "cell_type": "code",
   "execution_count": null,
   "id": "33f4f1ff-3528-4a22-92cf-5bd05575e6f2",
   "metadata": {},
   "outputs": [],
   "source": [
    "%%time\n",
    "td = ds_Tocean_masked_1degRegrid.td\n",
    "td.to_netcdf('/g/data/v14/tm4888/data/ACCESS-S2/ETBF_export/accessS2.RA.td.masked.grid1deg.nc')"
   ]
  },
  {
   "cell_type": "markdown",
   "id": "1331eaf7-7421-4f1a-ae3f-5b256c4b5c60",
   "metadata": {},
   "source": [
    "# temp50"
   ]
  },
  {
   "cell_type": "code",
   "execution_count": null,
   "id": "0580d80b-0650-4f53-bc8f-b8c9679acfea",
   "metadata": {},
   "outputs": [],
   "source": [
    "%%time\n",
    "temp50 = ds_Tocean_masked_1degRegrid.temp50\n",
    "temp50.to_netcdf('/g/data/v14/tm4888/data/ACCESS-S2/ETBF_export/accessS2.RA.temp50.masked.grid1deg.nc')"
   ]
  },
  {
   "cell_type": "markdown",
   "id": "9c05ba09-afed-416a-9996-610eb63a6f85",
   "metadata": {},
   "source": [
    "# temp100"
   ]
  },
  {
   "cell_type": "code",
   "execution_count": null,
   "id": "d54e8c0a-67e1-44b7-b686-3038b82b0c3d",
   "metadata": {},
   "outputs": [],
   "source": [
    "%%time\n",
    "temp100 = ds_Tocean_masked_1degRegrid.temp100\n",
    "temp100.to_netcdf('/g/data/v14/tm4888/data/ACCESS-S2/ETBF_export/accessS2.RA.temp100.masked.grid1deg.nc')"
   ]
  },
  {
   "cell_type": "markdown",
   "id": "f938e962-24f4-4ee0-95ec-f145ce7d218e",
   "metadata": {},
   "source": [
    "# temp200"
   ]
  },
  {
   "cell_type": "code",
   "execution_count": null,
   "id": "7f55e0d7-c569-4a62-ac89-2c5cc3770d5f",
   "metadata": {},
   "outputs": [],
   "source": [
    "%%time\n",
    "temp200 = ds_Tocean_masked_1degRegrid.temp200\n",
    "temp200.to_netcdf('/g/data/v14/tm4888/data/ACCESS-S2/ETBF_export/accessS2.RA.temp200.masked.grid1deg.nc')"
   ]
  },
  {
   "cell_type": "markdown",
   "id": "cebbbfdd-0b02-4319-bf0c-2ea3abdd1d5a",
   "metadata": {},
   "source": [
    "# temp500"
   ]
  },
  {
   "cell_type": "code",
   "execution_count": null,
   "id": "ee4631a8-11c4-421d-a106-b72045b998a9",
   "metadata": {},
   "outputs": [],
   "source": [
    "%%time\n",
    "temp500 = ds_Tocean_masked_1degRegrid.temp500\n",
    "temp500.to_netcdf('/g/data/v14/tm4888/data/ACCESS-S2/ETBF_export/accessS2.RA.temp500.masked.grid1deg.nc')"
   ]
  },
  {
   "cell_type": "markdown",
   "id": "e4a5f956-19ab-4491-b76c-63b10f822843",
   "metadata": {},
   "source": [
    "# D20"
   ]
  },
  {
   "cell_type": "code",
   "execution_count": null,
   "id": "2ef005e4-893f-40f1-9886-13ab5232f205",
   "metadata": {},
   "outputs": [],
   "source": [
    "%%time\n",
    "d20 = ds_Tocean_masked_1degRegrid.d20\n",
    "d20.to_netcdf('/g/data/v14/tm4888/data/ACCESS-S2/ETBF_export/accessS2.RA.d20.masked.grid1deg.nc')"
   ]
  },
  {
   "cell_type": "markdown",
   "id": "9a6fe9c1-0e5f-49e8-ae15-2f93a34c26d8",
   "metadata": {},
   "source": [
    "# hc300"
   ]
  },
  {
   "cell_type": "code",
   "execution_count": null,
   "id": "ac64e1a6-c41c-4c23-9034-db53ac0d1b2b",
   "metadata": {},
   "outputs": [],
   "source": [
    "%%time\n",
    "hc300 = ds_Tocean_masked_1degRegrid.hc300\n",
    "hc300.to_netcdf('/g/data/v14/tm4888/data/ACCESS-S2/ETBF_export/accessS2.RA.hc300.masked.grid1deg.nc')"
   ]
  },
  {
   "cell_type": "markdown",
   "id": "e78ad05d-741f-403f-800c-dcf521b27b90",
   "metadata": {},
   "source": [
    "# temp sanity checks"
   ]
  },
  {
   "cell_type": "code",
   "execution_count": null,
   "id": "bb8dab29-592b-4137-85f0-b2aa56b624f7",
   "metadata": {},
   "outputs": [],
   "source": [
    "#build datasets\n",
    "temp_1deg = xr.merge([temp50,temp100,temp200,temp500])"
   ]
  },
  {
   "cell_type": "code",
   "execution_count": null,
   "id": "38c5f186-a605-4d34-950f-fc0071e7af3b",
   "metadata": {},
   "outputs": [],
   "source": [
    "import proplot as pplt\n",
    "import numpy as np\n",
    "pplt.rc.cycle = '538'\n",
    "fig, axs = pplt.subplots(ncols=1, span=False, share='labels', refwidth=5.3)\n",
    "labels = ['50', '100', '200', '500']\n",
    "hs1 = []\n",
    "region = {'lat':slice(-50,-15),'lon':slice(150,180)}\n",
    "for i, label in enumerate(labels):\n",
    "    var_string = 'temp'+label\n",
    "    data = temp_1deg[var_string].sel(region).mean({'lat','lon'})\n",
    "    h1 = axs[0].plot(\n",
    "        data, lw=2, label=label, alpha=0.7\n",
    "    )\n",
    "    hs1.extend(h1)\n",
    "\n",
    "# Outer legends\n",
    "ax = axs[0]\n",
    "ax.legend(hs1, loc='b', ncols=3, title='depth in metres', order='C', facecolor='gray2')\n",
    "axs.format(xlabel='date', ylabel='temp', suptitle='ocean temp sanity check - 1deg grid')"
   ]
  },
  {
   "cell_type": "markdown",
   "id": "91096fa9-a37c-4e2f-9f3e-7a50c78cde54",
   "metadata": {},
   "source": [
    "# U regrid"
   ]
  },
  {
   "cell_type": "code",
   "execution_count": null,
   "id": "b3664732-b413-4709-b5ca-b22d6f0a40b2",
   "metadata": {},
   "outputs": [],
   "source": [
    "ds_025_u_masked"
   ]
  },
  {
   "cell_type": "code",
   "execution_count": null,
   "id": "734820ef-9f77-4b85-aed4-58f86fe05ae4",
   "metadata": {},
   "outputs": [],
   "source": [
    "ds_025_u_masked = ds_025_u_masked.chunk({'y':1021, 'x':1442}) #xesmf hates chunks across grid vars?"
   ]
  },
  {
   "cell_type": "code",
   "execution_count": null,
   "id": "92b7f813-9bdb-447f-ba68-519133c19838",
   "metadata": {},
   "outputs": [],
   "source": [
    "%%time\n",
    "regridder_S2_1deg_Ugrid = xe.Regridder(ds_025_u_masked, new_1deg_grid,'bilinear', ignore_degenerate=True, periodic=True,reuse_weights=False)"
   ]
  },
  {
   "cell_type": "markdown",
   "id": "3dfa6514-ac0d-4054-8b15-ff3ce9702ac7",
   "metadata": {},
   "source": [
    "## EARTH SYSTEM MODELLING FRAMEWORK (NCAR / NOAA) - https://en.wikipedia.org/wiki/Earth_System_Modeling_Framework </br></br>  xESMF // https://github.com/JiaweiZhuang/xESMF/blob/master/README.rst"
   ]
  },
  {
   "cell_type": "markdown",
   "id": "b8250d6d-f638-4386-9f9c-4e9a8baf2ced",
   "metadata": {},
   "source": [
    "## $\\bigstar$ solution to parallel regridding issue = https://github.com/JiaweiZhuang/xESMF/issues/71"
   ]
  },
  {
   "cell_type": "markdown",
   "id": "92deab1b-e6cf-4464-8649-da70c54e2145",
   "metadata": {},
   "source": [
    "#### regrid the full dataset object"
   ]
  },
  {
   "cell_type": "code",
   "execution_count": null,
   "id": "6a18faa3-4233-4c3c-8f5e-22b590641ebc",
   "metadata": {},
   "outputs": [],
   "source": [
    "%%time\n",
    "regridder_S2_1deg_Ugrid._grid_in = None\n",
    "regridder_S2_1deg_Ugrid._grid_out = None\n",
    "ds_ACCESS_S2_RA_ocean_u_masked_1degRegrid = regridder_S2_1deg_Ugrid(ds_025_u_masked)"
   ]
  },
  {
   "cell_type": "code",
   "execution_count": null,
   "id": "b8a66d27-8f73-4b2f-a685-5dd3bd70a751",
   "metadata": {},
   "outputs": [],
   "source": [
    "ds_ACCESS_S2_RA_ocean_u_masked_1degRegrid = helper.post_xesmf_attrs_fix(ds_025_u_masked,ds_ACCESS_S2_RA_ocean_u_masked_1degRegrid)"
   ]
  },
  {
   "cell_type": "code",
   "execution_count": null,
   "id": "b7dbe983-aa23-489b-9054-3475dc82334b",
   "metadata": {},
   "outputs": [],
   "source": []
  },
  {
   "cell_type": "markdown",
   "id": "cc461c7a-8ce4-4e72-bb65-42e42199206f",
   "metadata": {},
   "source": [
    "# V regrid"
   ]
  },
  {
   "cell_type": "code",
   "execution_count": null,
   "id": "2d7379d6-ef46-4f12-94d7-8de78f820036",
   "metadata": {},
   "outputs": [],
   "source": [
    "ds_025_v_masked = ds_025_v_masked.chunk({'y':1021, 'x':1442}) #xesmf hates chunks across grid vars?"
   ]
  },
  {
   "cell_type": "code",
   "execution_count": null,
   "id": "daf2c59c-be24-44e2-8188-eeb434ab491d",
   "metadata": {},
   "outputs": [],
   "source": [
    "%%time\n",
    "regridder_S2_1deg_Vgrid = xe.Regridder(ds_025_v_masked, new_1deg_grid,'bilinear', ignore_degenerate=True, periodic=True,reuse_weights=False)"
   ]
  },
  {
   "cell_type": "markdown",
   "id": "e48863a0-b111-4de2-b203-7449cbc1bd05",
   "metadata": {},
   "source": [
    "## EARTH SYSTEM MODELLING FRAMEWORK (NCAR / NOAA) - https://en.wikipedia.org/wiki/Earth_System_Modeling_Framework </br></br>  xESMF // https://github.com/JiaweiZhuang/xESMF/blob/master/README.rst"
   ]
  },
  {
   "cell_type": "markdown",
   "id": "c80e50e8-d617-445f-9e7c-8274759d3a47",
   "metadata": {},
   "source": [
    "## $\\bigstar$ solution to parallel regridding issue = https://github.com/JiaweiZhuang/xESMF/issues/71"
   ]
  },
  {
   "cell_type": "markdown",
   "id": "ea97c41a-9644-453a-8b27-7c4367a3bb37",
   "metadata": {},
   "source": [
    "#### regrid the full dataset object"
   ]
  },
  {
   "cell_type": "code",
   "execution_count": null,
   "id": "4d5ed182-aa83-422e-ba10-a055f9fd9745",
   "metadata": {},
   "outputs": [],
   "source": [
    "%%time\n",
    "regridder_S2_1deg_Vgrid._grid_in = None\n",
    "regridder_S2_1deg_Vgrid._grid_out = None\n",
    "ds_ACCESS_S2_RA_ocean_v_masked_1degRegrid = regridder_S2_1deg_Vgrid(ds_025_v_masked)"
   ]
  },
  {
   "cell_type": "code",
   "execution_count": null,
   "id": "aab8cb52-b0e2-4293-ba2a-9e0ac704b21a",
   "metadata": {},
   "outputs": [],
   "source": [
    "ds_ACCESS_S2_RA_ocean_v_masked_1degRegrid = post_xesmf_attrs_fix(ds_025_v_masked,ds_ACCESS_S2_RA_ocean_v_masked_1degRegrid)"
   ]
  },
  {
   "cell_type": "code",
   "execution_count": null,
   "id": "38a0ac2e-005f-4d3e-9150-46f0816febde",
   "metadata": {},
   "outputs": [],
   "source": [
    "ds_ACCESS_S2_RA_ocean_v_masked_1degRegrid = ds_ACCESS_S2_RA_ocean_v_masked_1degRegrid.assign_coords(\n",
    "    {'x': ds_ACCESS_S2_RA_ocean_v_masked_1degRegrid.lon.isel(y=0),\n",
    "    'y': ds_ACCESS_S2_RA_ocean_v_masked_1degRegrid.lat.isel(x=0)}).drop(\n",
    "    ['lon','lat']).rename({'x':'lon','y':'lat'})"
   ]
  },
  {
   "cell_type": "code",
   "execution_count": null,
   "id": "e634b0e6-23bc-4fcf-beb0-38c2555b3d4c",
   "metadata": {},
   "outputs": [],
   "source": [
    "ds_ACCESS_S2_RA_ocean_u_masked_1degRegrid = ds_ACCESS_S2_RA_ocean_u_masked_1degRegrid.assign_coords(\n",
    "    {'x': ds_ACCESS_S2_RA_ocean_u_masked_1degRegrid.lon.isel(y=0),\n",
    "    'y': ds_ACCESS_S2_RA_ocean_u_masked_1degRegrid.lat.isel(x=0)}).drop(\n",
    "    ['lon','lat']).rename({'x':'lon','y':'lat'})"
   ]
  },
  {
   "cell_type": "code",
   "execution_count": null,
   "id": "af5467b3-19cc-4bc5-a05d-44f290e25bc4",
   "metadata": {},
   "outputs": [],
   "source": []
  },
  {
   "cell_type": "code",
   "execution_count": null,
   "id": "f8a884ab-b0db-419a-a61d-9be93c179d6c",
   "metadata": {},
   "outputs": [],
   "source": []
  },
  {
   "cell_type": "markdown",
   "id": "2b3127ca-3d7c-48df-85f2-967c31139381",
   "metadata": {},
   "source": [
    "# write out the 1deg u & v zarr collections"
   ]
  },
  {
   "cell_type": "code",
   "execution_count": null,
   "id": "38ead95e-8a99-46e4-97c4-d25ec70500bb",
   "metadata": {},
   "outputs": [],
   "source": [
    "%%time\n",
    "!rm -rf /g/data/v14/tm4888/data/ACCESS-S2/accessS2.RA.ocean.u.masked.regrid_1deg.zarr\n",
    "ds_ACCESS_S2_RA_ocean_u_masked_1degRegrid.to_zarr('/g/data/v14/tm4888/data/ACCESS-S2/accessS2.RA.ocean.u.masked.regrid_1deg.zarr',\n",
    "                                           consolidated=True)"
   ]
  },
  {
   "cell_type": "code",
   "execution_count": null,
   "id": "35a4d69d-1c27-4d5e-bd07-d41c400adfea",
   "metadata": {},
   "outputs": [],
   "source": [
    "%%time\n",
    "!rm -rf /g/data/v14/tm4888/data/ACCESS-S2/accessS2.RA.ocean.v.masked.regrid_1deg.zarr\n",
    "ds_ACCESS_S2_RA_ocean_v_masked_1degRegrid.to_zarr('/g/data/v14/tm4888/data/ACCESS-S2/accessS2.RA.ocean.v.masked.regrid_1deg.zarr',\n",
    "                                           consolidated=True)"
   ]
  },
  {
   "cell_type": "markdown",
   "id": "4dde7d35-b537-46f1-8f67-1e20025773c9",
   "metadata": {},
   "source": [
    "# Load 1deg U&V from zarr"
   ]
  },
  {
   "cell_type": "code",
   "execution_count": 12,
   "id": "3cfb203d-2b2c-4938-affe-971f3694b4eb",
   "metadata": {},
   "outputs": [],
   "source": [
    "ds_u = xr.open_zarr('/g/data/v14/tm4888/data/ACCESS-S2/accessS2.RA.ocean.u.masked.regrid_1deg.zarr')\n",
    "ds_v = xr.open_zarr('/g/data/v14/tm4888/data/ACCESS-S2/accessS2.RA.ocean.v.masked.regrid_1deg.zarr')"
   ]
  },
  {
   "cell_type": "markdown",
   "id": "2b0924cf-f984-4890-9fcf-67805becd362",
   "metadata": {},
   "source": [
    "# sanity check"
   ]
  },
  {
   "cell_type": "code",
   "execution_count": null,
   "id": "ba884312-a01d-432e-a695-7cd260571917",
   "metadata": {},
   "outputs": [],
   "source": [
    "ds_u.u.isel(time=0).max('depth').plot()"
   ]
  },
  {
   "cell_type": "code",
   "execution_count": null,
   "id": "ac7ef5ac-892b-47e9-8d88-d64975eaffb8",
   "metadata": {},
   "outputs": [],
   "source": [
    "ds_v.v.isel(time=0).max('depth').plot()"
   ]
  },
  {
   "cell_type": "markdown",
   "id": "f9a2ad3d-ebf4-4c2e-93b1-7c47d3ae3e2e",
   "metadata": {},
   "source": [
    "# U100"
   ]
  },
  {
   "cell_type": "code",
   "execution_count": 14,
   "id": "5df1c8ae-75cb-4239-9ab2-ac83011364dc",
   "metadata": {},
   "outputs": [
    {
     "name": "stdout",
     "output_type": "stream",
     "text": [
      "CPU times: user 1.18 s, sys: 172 ms, total: 1.35 s\n",
      "Wall time: 9.75 s\n"
     ]
    }
   ],
   "source": [
    "%%time\n",
    "u100 = ds_u.u.sel(depth=100,method='nearest')\n",
    "u100 = u100.to_dataset(name='u100')\n",
    "u100.attrs['post_processing']='generated by Thomas Moore from S2 u data using nearest method'\n",
    "u100.u100.attrs['standard_name']='u100'\n",
    "u100.u100.attrs['long_name']='x velocity at 100m'\n",
    "u100.to_netcdf('/g/data/v14/tm4888/data/ACCESS-S2/ETBF_export/accessS2.RA.u100.masked.grid1deg.nc')"
   ]
  },
  {
   "cell_type": "markdown",
   "id": "8d658bd0-b739-4f13-aa5f-41132dd01e2e",
   "metadata": {},
   "source": [
    "# V100"
   ]
  },
  {
   "cell_type": "code",
   "execution_count": 15,
   "id": "20216691-f7be-41d9-8fb4-689674151007",
   "metadata": {},
   "outputs": [
    {
     "name": "stdout",
     "output_type": "stream",
     "text": [
      "CPU times: user 1.01 s, sys: 146 ms, total: 1.16 s\n",
      "Wall time: 9.11 s\n"
     ]
    }
   ],
   "source": [
    "%%time\n",
    "v100 = ds_v.v.sel(depth=100,method='nearest')\n",
    "v100 = v100.to_dataset(name='v100')\n",
    "v100.attrs['post_processing']='generated by Thomas Moore from S2 v data using nearest method'\n",
    "v100.v100.attrs['standard_name']='v100'\n",
    "v100.v100.attrs['long_name']='y velocity at 100m'\n",
    "v100.to_netcdf('/g/data/v14/tm4888/data/ACCESS-S2/ETBF_export/accessS2.RA.v100.masked.grid1deg.nc')"
   ]
  },
  {
   "cell_type": "markdown",
   "id": "bafa0585-9c2b-482d-8fc3-8e68b12a793e",
   "metadata": {},
   "source": [
    "# u100_300"
   ]
  },
  {
   "cell_type": "markdown",
   "id": "ec8893b2-547d-4924-9750-fda4e606c6b3",
   "metadata": {},
   "source": [
    "## need to use depth weighted mean"
   ]
  },
  {
   "cell_type": "code",
   "execution_count": 16,
   "id": "ab7c7ddb-03ef-47f6-9486-7298812d7226",
   "metadata": {},
   "outputs": [],
   "source": [
    "u100_300 = helper.weighted_ocean_mean(ds_u.u,weights=depth_weights,dim='depth',sel_dict={'depth':slice(100,300)})"
   ]
  },
  {
   "cell_type": "code",
   "execution_count": 17,
   "id": "02790d90-dad6-4c8d-acd5-a464e70ef7b7",
   "metadata": {},
   "outputs": [],
   "source": [
    "u100_300 = u100_300.to_dataset(name='u100_300')"
   ]
  },
  {
   "cell_type": "code",
   "execution_count": 18,
   "id": "65293a67-8199-4c2a-bf53-288aaf623671",
   "metadata": {},
   "outputs": [],
   "source": [
    "u100_300.attrs['post_processing']='generated by Thomas Moore from S2 u data after masking and regridding to 1deg'\n",
    "u100_300.u100_300.attrs['standard_name']='u100_300'\n",
    "u100_300.u100_300.attrs['long_name']='x velocity depth weighted mean between 100-300m'\n",
    "u100_300.u100_300.attrs['units']='m/s'"
   ]
  },
  {
   "cell_type": "code",
   "execution_count": 20,
   "id": "193cee35-c514-49b7-bec0-93317d5c7ac8",
   "metadata": {},
   "outputs": [
    {
     "name": "stdout",
     "output_type": "stream",
     "text": [
      "CPU times: user 4.17 s, sys: 614 ms, total: 4.79 s\n",
      "Wall time: 26.5 s\n"
     ]
    }
   ],
   "source": [
    "%%time\n",
    "u100_300.to_netcdf('/g/data/v14/tm4888/data/ACCESS-S2/ETBF_export/accessS2.RA.u100_300.masked.grid1deg.nc')"
   ]
  },
  {
   "cell_type": "markdown",
   "id": "a3419aea-6613-409b-b357-d05d7cdef4c8",
   "metadata": {},
   "source": [
    "# v100_300"
   ]
  },
  {
   "cell_type": "markdown",
   "id": "713e9fb3-ce3d-441f-a27d-2a5cfe5ca0a1",
   "metadata": {},
   "source": [
    "## need to use depth weighted mean"
   ]
  },
  {
   "cell_type": "code",
   "execution_count": 21,
   "id": "2f15edc2-31b3-4278-9ed9-0ea467fc3a0f",
   "metadata": {},
   "outputs": [
    {
     "name": "stdout",
     "output_type": "stream",
     "text": [
      "CPU times: user 45.8 ms, sys: 1.93 ms, total: 47.7 ms\n",
      "Wall time: 45.7 ms\n"
     ]
    }
   ],
   "source": [
    "%%time\n",
    "v100_300 = helper.weighted_ocean_mean(ds_v.v,weights=depth_weights,dim='depth',sel_dict={'depth':slice(100,300)})"
   ]
  },
  {
   "cell_type": "code",
   "execution_count": 22,
   "id": "12ec4958-7c57-4ea3-8a1b-3cf0a844af3b",
   "metadata": {},
   "outputs": [],
   "source": [
    "v100_300 = v100_300.to_dataset(name='v100_300')\n",
    "v100_300.attrs['post_processing']='generated by Thomas Moore from S2 v data after masking and regridding to 1deg'\n",
    "v100_300.v100_300.attrs['standard_name']='v100_300'\n",
    "v100_300.v100_300.attrs['long_name']='y velocity depth weighted mean between 100-300m'\n",
    "v100_300.v100_300.attrs['units']='m/s'"
   ]
  },
  {
   "cell_type": "code",
   "execution_count": 24,
   "id": "2d561f64-12e8-4cfc-a656-0392b7c3691b",
   "metadata": {},
   "outputs": [
    {
     "name": "stdout",
     "output_type": "stream",
     "text": [
      "CPU times: user 1.51 s, sys: 172 ms, total: 1.68 s\n",
      "Wall time: 7.87 s\n"
     ]
    }
   ],
   "source": [
    "%%time\n",
    "v100_300.to_netcdf('/g/data/v14/tm4888/data/ACCESS-S2/ETBF_export/accessS2.RA.v100_300.masked.grid1deg.nc')"
   ]
  },
  {
   "cell_type": "code",
   "execution_count": null,
   "id": "113cfbec-dda3-4c1e-a5dc-148524ab5393",
   "metadata": {},
   "outputs": [],
   "source": []
  },
  {
   "cell_type": "code",
   "execution_count": null,
   "id": "dfe63b1f-e753-4bac-8887-d5eb370d3458",
   "metadata": {},
   "outputs": [],
   "source": []
  },
  {
   "cell_type": "code",
   "execution_count": null,
   "id": "6bc08790-01dc-4054-8d76-48a43766a6ff",
   "metadata": {},
   "outputs": [],
   "source": []
  },
  {
   "cell_type": "markdown",
   "id": "ce705627-d1cb-47dc-83dd-44c969e40fe0",
   "metadata": {},
   "source": [
    "# Calc EKE from regridded u & v"
   ]
  },
  {
   "cell_type": "code",
   "execution_count": 25,
   "id": "d3ac331a-355c-465b-b70b-e0705acf88b1",
   "metadata": {},
   "outputs": [],
   "source": [
    "[EKE,MKE] = helper.calc_EKE(ds_u.u,ds_v.v)"
   ]
  },
  {
   "cell_type": "code",
   "execution_count": 26,
   "id": "e83c3511-a67f-4668-b0f6-8509ad8be68f",
   "metadata": {},
   "outputs": [],
   "source": [
    "ds_KE_masked = xr.merge([EKE,MKE])"
   ]
  },
  {
   "cell_type": "code",
   "execution_count": 27,
   "id": "a885ce21-5f58-41b4-b640-67a1c4f839a5",
   "metadata": {},
   "outputs": [],
   "source": [
    "ds_KE_masked.attrs['post_processing']='generated by Thomas Moore from raw S2 u & v data on native grid'\n",
    "ds_KE_masked.EKE.attrs['standard_name']='EKE'\n",
    "ds_KE_masked.MKE.attrs['standard_name']='MKE'"
   ]
  },
  {
   "cell_type": "code",
   "execution_count": 28,
   "id": "534d7db7-43b3-4617-9aee-31155490612f",
   "metadata": {},
   "outputs": [
    {
     "data": {
      "text/html": [
       "<div><svg style=\"position: absolute; width: 0; height: 0; overflow: hidden\">\n",
       "<defs>\n",
       "<symbol id=\"icon-database\" viewBox=\"0 0 32 32\">\n",
       "<path d=\"M16 0c-8.837 0-16 2.239-16 5v4c0 2.761 7.163 5 16 5s16-2.239 16-5v-4c0-2.761-7.163-5-16-5z\"></path>\n",
       "<path d=\"M16 17c-8.837 0-16-2.239-16-5v6c0 2.761 7.163 5 16 5s16-2.239 16-5v-6c0 2.761-7.163 5-16 5z\"></path>\n",
       "<path d=\"M16 26c-8.837 0-16-2.239-16-5v6c0 2.761 7.163 5 16 5s16-2.239 16-5v-6c0 2.761-7.163 5-16 5z\"></path>\n",
       "</symbol>\n",
       "<symbol id=\"icon-file-text2\" viewBox=\"0 0 32 32\">\n",
       "<path d=\"M28.681 7.159c-0.694-0.947-1.662-2.053-2.724-3.116s-2.169-2.030-3.116-2.724c-1.612-1.182-2.393-1.319-2.841-1.319h-15.5c-1.378 0-2.5 1.121-2.5 2.5v27c0 1.378 1.122 2.5 2.5 2.5h23c1.378 0 2.5-1.122 2.5-2.5v-19.5c0-0.448-0.137-1.23-1.319-2.841zM24.543 5.457c0.959 0.959 1.712 1.825 2.268 2.543h-4.811v-4.811c0.718 0.556 1.584 1.309 2.543 2.268zM28 29.5c0 0.271-0.229 0.5-0.5 0.5h-23c-0.271 0-0.5-0.229-0.5-0.5v-27c0-0.271 0.229-0.5 0.5-0.5 0 0 15.499-0 15.5 0v7c0 0.552 0.448 1 1 1h7v19.5z\"></path>\n",
       "<path d=\"M23 26h-14c-0.552 0-1-0.448-1-1s0.448-1 1-1h14c0.552 0 1 0.448 1 1s-0.448 1-1 1z\"></path>\n",
       "<path d=\"M23 22h-14c-0.552 0-1-0.448-1-1s0.448-1 1-1h14c0.552 0 1 0.448 1 1s-0.448 1-1 1z\"></path>\n",
       "<path d=\"M23 18h-14c-0.552 0-1-0.448-1-1s0.448-1 1-1h14c0.552 0 1 0.448 1 1s-0.448 1-1 1z\"></path>\n",
       "</symbol>\n",
       "</defs>\n",
       "</svg>\n",
       "<style>/* CSS stylesheet for displaying xarray objects in jupyterlab.\n",
       " *\n",
       " */\n",
       "\n",
       ":root {\n",
       "  --xr-font-color0: var(--jp-content-font-color0, rgba(0, 0, 0, 1));\n",
       "  --xr-font-color2: var(--jp-content-font-color2, rgba(0, 0, 0, 0.54));\n",
       "  --xr-font-color3: var(--jp-content-font-color3, rgba(0, 0, 0, 0.38));\n",
       "  --xr-border-color: var(--jp-border-color2, #e0e0e0);\n",
       "  --xr-disabled-color: var(--jp-layout-color3, #bdbdbd);\n",
       "  --xr-background-color: var(--jp-layout-color0, white);\n",
       "  --xr-background-color-row-even: var(--jp-layout-color1, white);\n",
       "  --xr-background-color-row-odd: var(--jp-layout-color2, #eeeeee);\n",
       "}\n",
       "\n",
       "html[theme=dark],\n",
       "body.vscode-dark {\n",
       "  --xr-font-color0: rgba(255, 255, 255, 1);\n",
       "  --xr-font-color2: rgba(255, 255, 255, 0.54);\n",
       "  --xr-font-color3: rgba(255, 255, 255, 0.38);\n",
       "  --xr-border-color: #1F1F1F;\n",
       "  --xr-disabled-color: #515151;\n",
       "  --xr-background-color: #111111;\n",
       "  --xr-background-color-row-even: #111111;\n",
       "  --xr-background-color-row-odd: #313131;\n",
       "}\n",
       "\n",
       ".xr-wrap {\n",
       "  display: block;\n",
       "  min-width: 300px;\n",
       "  max-width: 700px;\n",
       "}\n",
       "\n",
       ".xr-text-repr-fallback {\n",
       "  /* fallback to plain text repr when CSS is not injected (untrusted notebook) */\n",
       "  display: none;\n",
       "}\n",
       "\n",
       ".xr-header {\n",
       "  padding-top: 6px;\n",
       "  padding-bottom: 6px;\n",
       "  margin-bottom: 4px;\n",
       "  border-bottom: solid 1px var(--xr-border-color);\n",
       "}\n",
       "\n",
       ".xr-header > div,\n",
       ".xr-header > ul {\n",
       "  display: inline;\n",
       "  margin-top: 0;\n",
       "  margin-bottom: 0;\n",
       "}\n",
       "\n",
       ".xr-obj-type,\n",
       ".xr-array-name {\n",
       "  margin-left: 2px;\n",
       "  margin-right: 10px;\n",
       "}\n",
       "\n",
       ".xr-obj-type {\n",
       "  color: var(--xr-font-color2);\n",
       "}\n",
       "\n",
       ".xr-sections {\n",
       "  padding-left: 0 !important;\n",
       "  display: grid;\n",
       "  grid-template-columns: 150px auto auto 1fr 20px 20px;\n",
       "}\n",
       "\n",
       ".xr-section-item {\n",
       "  display: contents;\n",
       "}\n",
       "\n",
       ".xr-section-item input {\n",
       "  display: none;\n",
       "}\n",
       "\n",
       ".xr-section-item input + label {\n",
       "  color: var(--xr-disabled-color);\n",
       "}\n",
       "\n",
       ".xr-section-item input:enabled + label {\n",
       "  cursor: pointer;\n",
       "  color: var(--xr-font-color2);\n",
       "}\n",
       "\n",
       ".xr-section-item input:enabled + label:hover {\n",
       "  color: var(--xr-font-color0);\n",
       "}\n",
       "\n",
       ".xr-section-summary {\n",
       "  grid-column: 1;\n",
       "  color: var(--xr-font-color2);\n",
       "  font-weight: 500;\n",
       "}\n",
       "\n",
       ".xr-section-summary > span {\n",
       "  display: inline-block;\n",
       "  padding-left: 0.5em;\n",
       "}\n",
       "\n",
       ".xr-section-summary-in:disabled + label {\n",
       "  color: var(--xr-font-color2);\n",
       "}\n",
       "\n",
       ".xr-section-summary-in + label:before {\n",
       "  display: inline-block;\n",
       "  content: '►';\n",
       "  font-size: 11px;\n",
       "  width: 15px;\n",
       "  text-align: center;\n",
       "}\n",
       "\n",
       ".xr-section-summary-in:disabled + label:before {\n",
       "  color: var(--xr-disabled-color);\n",
       "}\n",
       "\n",
       ".xr-section-summary-in:checked + label:before {\n",
       "  content: '▼';\n",
       "}\n",
       "\n",
       ".xr-section-summary-in:checked + label > span {\n",
       "  display: none;\n",
       "}\n",
       "\n",
       ".xr-section-summary,\n",
       ".xr-section-inline-details {\n",
       "  padding-top: 4px;\n",
       "  padding-bottom: 4px;\n",
       "}\n",
       "\n",
       ".xr-section-inline-details {\n",
       "  grid-column: 2 / -1;\n",
       "}\n",
       "\n",
       ".xr-section-details {\n",
       "  display: none;\n",
       "  grid-column: 1 / -1;\n",
       "  margin-bottom: 5px;\n",
       "}\n",
       "\n",
       ".xr-section-summary-in:checked ~ .xr-section-details {\n",
       "  display: contents;\n",
       "}\n",
       "\n",
       ".xr-array-wrap {\n",
       "  grid-column: 1 / -1;\n",
       "  display: grid;\n",
       "  grid-template-columns: 20px auto;\n",
       "}\n",
       "\n",
       ".xr-array-wrap > label {\n",
       "  grid-column: 1;\n",
       "  vertical-align: top;\n",
       "}\n",
       "\n",
       ".xr-preview {\n",
       "  color: var(--xr-font-color3);\n",
       "}\n",
       "\n",
       ".xr-array-preview,\n",
       ".xr-array-data {\n",
       "  padding: 0 5px !important;\n",
       "  grid-column: 2;\n",
       "}\n",
       "\n",
       ".xr-array-data,\n",
       ".xr-array-in:checked ~ .xr-array-preview {\n",
       "  display: none;\n",
       "}\n",
       "\n",
       ".xr-array-in:checked ~ .xr-array-data,\n",
       ".xr-array-preview {\n",
       "  display: inline-block;\n",
       "}\n",
       "\n",
       ".xr-dim-list {\n",
       "  display: inline-block !important;\n",
       "  list-style: none;\n",
       "  padding: 0 !important;\n",
       "  margin: 0;\n",
       "}\n",
       "\n",
       ".xr-dim-list li {\n",
       "  display: inline-block;\n",
       "  padding: 0;\n",
       "  margin: 0;\n",
       "}\n",
       "\n",
       ".xr-dim-list:before {\n",
       "  content: '(';\n",
       "}\n",
       "\n",
       ".xr-dim-list:after {\n",
       "  content: ')';\n",
       "}\n",
       "\n",
       ".xr-dim-list li:not(:last-child):after {\n",
       "  content: ',';\n",
       "  padding-right: 5px;\n",
       "}\n",
       "\n",
       ".xr-has-index {\n",
       "  font-weight: bold;\n",
       "}\n",
       "\n",
       ".xr-var-list,\n",
       ".xr-var-item {\n",
       "  display: contents;\n",
       "}\n",
       "\n",
       ".xr-var-item > div,\n",
       ".xr-var-item label,\n",
       ".xr-var-item > .xr-var-name span {\n",
       "  background-color: var(--xr-background-color-row-even);\n",
       "  margin-bottom: 0;\n",
       "}\n",
       "\n",
       ".xr-var-item > .xr-var-name:hover span {\n",
       "  padding-right: 5px;\n",
       "}\n",
       "\n",
       ".xr-var-list > li:nth-child(odd) > div,\n",
       ".xr-var-list > li:nth-child(odd) > label,\n",
       ".xr-var-list > li:nth-child(odd) > .xr-var-name span {\n",
       "  background-color: var(--xr-background-color-row-odd);\n",
       "}\n",
       "\n",
       ".xr-var-name {\n",
       "  grid-column: 1;\n",
       "}\n",
       "\n",
       ".xr-var-dims {\n",
       "  grid-column: 2;\n",
       "}\n",
       "\n",
       ".xr-var-dtype {\n",
       "  grid-column: 3;\n",
       "  text-align: right;\n",
       "  color: var(--xr-font-color2);\n",
       "}\n",
       "\n",
       ".xr-var-preview {\n",
       "  grid-column: 4;\n",
       "}\n",
       "\n",
       ".xr-var-name,\n",
       ".xr-var-dims,\n",
       ".xr-var-dtype,\n",
       ".xr-preview,\n",
       ".xr-attrs dt {\n",
       "  white-space: nowrap;\n",
       "  overflow: hidden;\n",
       "  text-overflow: ellipsis;\n",
       "  padding-right: 10px;\n",
       "}\n",
       "\n",
       ".xr-var-name:hover,\n",
       ".xr-var-dims:hover,\n",
       ".xr-var-dtype:hover,\n",
       ".xr-attrs dt:hover {\n",
       "  overflow: visible;\n",
       "  width: auto;\n",
       "  z-index: 1;\n",
       "}\n",
       "\n",
       ".xr-var-attrs,\n",
       ".xr-var-data {\n",
       "  display: none;\n",
       "  background-color: var(--xr-background-color) !important;\n",
       "  padding-bottom: 5px !important;\n",
       "}\n",
       "\n",
       ".xr-var-attrs-in:checked ~ .xr-var-attrs,\n",
       ".xr-var-data-in:checked ~ .xr-var-data {\n",
       "  display: block;\n",
       "}\n",
       "\n",
       ".xr-var-data > table {\n",
       "  float: right;\n",
       "}\n",
       "\n",
       ".xr-var-name span,\n",
       ".xr-var-data,\n",
       ".xr-attrs {\n",
       "  padding-left: 25px !important;\n",
       "}\n",
       "\n",
       ".xr-attrs,\n",
       ".xr-var-attrs,\n",
       ".xr-var-data {\n",
       "  grid-column: 1 / -1;\n",
       "}\n",
       "\n",
       "dl.xr-attrs {\n",
       "  padding: 0;\n",
       "  margin: 0;\n",
       "  display: grid;\n",
       "  grid-template-columns: 125px auto;\n",
       "}\n",
       "\n",
       ".xr-attrs dt,\n",
       ".xr-attrs dd {\n",
       "  padding: 0;\n",
       "  margin: 0;\n",
       "  float: left;\n",
       "  padding-right: 10px;\n",
       "  width: auto;\n",
       "}\n",
       "\n",
       ".xr-attrs dt {\n",
       "  font-weight: normal;\n",
       "  grid-column: 1;\n",
       "}\n",
       "\n",
       ".xr-attrs dt:hover span {\n",
       "  display: inline-block;\n",
       "  background: var(--xr-background-color);\n",
       "  padding-right: 10px;\n",
       "}\n",
       "\n",
       ".xr-attrs dd {\n",
       "  grid-column: 2;\n",
       "  white-space: pre-wrap;\n",
       "  word-break: break-all;\n",
       "}\n",
       "\n",
       ".xr-icon-database,\n",
       ".xr-icon-file-text2 {\n",
       "  display: inline-block;\n",
       "  vertical-align: middle;\n",
       "  width: 1em;\n",
       "  height: 1.5em !important;\n",
       "  stroke-width: 0;\n",
       "  stroke: currentColor;\n",
       "  fill: currentColor;\n",
       "}\n",
       "</style><pre class='xr-text-repr-fallback'>&lt;xarray.Dataset&gt;\n",
       "Dimensions:  (depth: 75, lat: 180, lon: 360, time: 480)\n",
       "Coordinates:\n",
       "  * depth    (depth) float32 0.5058 1.556 2.668 ... 5.698e+03 5.902e+03\n",
       "  * lat      (lat) float64 -89.5 -88.5 -87.5 -86.5 -85.5 ... 86.5 87.5 88.5 89.5\n",
       "  * lon      (lon) float64 -179.5 -178.5 -177.5 -176.5 ... 177.5 178.5 179.5\n",
       "  * time     (time) datetime64[ns] 1981-01-16 1981-02-15 ... 2020-12-01\n",
       "Data variables:\n",
       "    EKE      (time, depth, lat, lon) float32 dask.array&lt;chunksize=(480, 1, 180, 360), meta=np.ndarray&gt;\n",
       "    MKE      (depth, lat, lon) float32 dask.array&lt;chunksize=(1, 180, 360), meta=np.ndarray&gt;\n",
       "Attributes:\n",
       "    post_processing:  generated by Thomas Moore from raw S2 u &amp; v data on nat...</pre><div class='xr-wrap' hidden><div class='xr-header'><div class='xr-obj-type'>xarray.Dataset</div></div><ul class='xr-sections'><li class='xr-section-item'><input id='section-ebd1967b-1369-4f1a-881c-25993f7f586e' class='xr-section-summary-in' type='checkbox' disabled ><label for='section-ebd1967b-1369-4f1a-881c-25993f7f586e' class='xr-section-summary'  title='Expand/collapse section'>Dimensions:</label><div class='xr-section-inline-details'><ul class='xr-dim-list'><li><span class='xr-has-index'>depth</span>: 75</li><li><span class='xr-has-index'>lat</span>: 180</li><li><span class='xr-has-index'>lon</span>: 360</li><li><span class='xr-has-index'>time</span>: 480</li></ul></div><div class='xr-section-details'></div></li><li class='xr-section-item'><input id='section-203b9ff7-be42-4098-8e3e-0747553296a9' class='xr-section-summary-in' type='checkbox'  checked><label for='section-203b9ff7-be42-4098-8e3e-0747553296a9' class='xr-section-summary' >Coordinates: <span>(4)</span></label><div class='xr-section-inline-details'></div><div class='xr-section-details'><ul class='xr-var-list'><li class='xr-var-item'><div class='xr-var-name'><span class='xr-has-index'>depth</span></div><div class='xr-var-dims'>(depth)</div><div class='xr-var-dtype'>float32</div><div class='xr-var-preview xr-preview'>0.5058 1.556 ... 5.902e+03</div><input id='attrs-dae0ad29-7832-4492-914a-e2b100105e41' class='xr-var-attrs-in' type='checkbox' disabled><label for='attrs-dae0ad29-7832-4492-914a-e2b100105e41' title='Show/Hide attributes'><svg class='icon xr-icon-file-text2'><use xlink:href='#icon-file-text2'></use></svg></label><input id='data-3518d2f4-b6f6-4d77-b322-629591d7fff3' class='xr-var-data-in' type='checkbox'><label for='data-3518d2f4-b6f6-4d77-b322-629591d7fff3' title='Show/Hide data repr'><svg class='icon xr-icon-database'><use xlink:href='#icon-database'></use></svg></label><div class='xr-var-attrs'><dl class='xr-attrs'></dl></div><div class='xr-var-data'><pre>array([5.057600e-01, 1.555855e+00, 2.667682e+00, 3.856280e+00, 5.140361e+00,\n",
       "       6.543034e+00, 8.092519e+00, 9.822750e+00, 1.177368e+01, 1.399104e+01,\n",
       "       1.652532e+01, 1.942980e+01, 2.275762e+01, 2.655830e+01, 3.087456e+01,\n",
       "       3.574020e+01, 4.118002e+01, 4.721189e+01, 5.385064e+01, 6.111284e+01,\n",
       "       6.902168e+01, 7.761116e+01, 8.692943e+01, 9.704131e+01, 1.080303e+02,\n",
       "       1.200000e+02, 1.330758e+02, 1.474062e+02, 1.631645e+02, 1.805499e+02,\n",
       "       1.997900e+02, 2.211412e+02, 2.448906e+02, 2.713564e+02, 3.008875e+02,\n",
       "       3.338628e+02, 3.706885e+02, 4.117939e+02, 4.576256e+02, 5.086399e+02,\n",
       "       5.652923e+02, 6.280260e+02, 6.972587e+02, 7.733683e+02, 8.566790e+02,\n",
       "       9.474479e+02, 1.045854e+03, 1.151991e+03, 1.265861e+03, 1.387377e+03,\n",
       "       1.516364e+03, 1.652568e+03, 1.795671e+03, 1.945296e+03, 2.101027e+03,\n",
       "       2.262422e+03, 2.429025e+03, 2.600380e+03, 2.776039e+03, 2.955570e+03,\n",
       "       3.138565e+03, 3.324641e+03, 3.513446e+03, 3.704657e+03, 3.897982e+03,\n",
       "       4.093159e+03, 4.289953e+03, 4.488155e+03, 4.687581e+03, 4.888070e+03,\n",
       "       5.089479e+03, 5.291683e+03, 5.494575e+03, 5.698061e+03, 5.902058e+03],\n",
       "      dtype=float32)</pre></div></li><li class='xr-var-item'><div class='xr-var-name'><span class='xr-has-index'>lat</span></div><div class='xr-var-dims'>(lat)</div><div class='xr-var-dtype'>float64</div><div class='xr-var-preview xr-preview'>-89.5 -88.5 -87.5 ... 88.5 89.5</div><input id='attrs-4349a31d-c958-42c0-ba4a-80e9756cc6e2' class='xr-var-attrs-in' type='checkbox' ><label for='attrs-4349a31d-c958-42c0-ba4a-80e9756cc6e2' title='Show/Hide attributes'><svg class='icon xr-icon-file-text2'><use xlink:href='#icon-file-text2'></use></svg></label><input id='data-6e8479b7-048e-4cba-a16c-512ef51ddbb1' class='xr-var-data-in' type='checkbox'><label for='data-6e8479b7-048e-4cba-a16c-512ef51ddbb1' title='Show/Hide data repr'><svg class='icon xr-icon-database'><use xlink:href='#icon-database'></use></svg></label><div class='xr-var-attrs'><dl class='xr-attrs'><dt><span>standard_name :</span></dt><dd>latitude</dd></dl></div><div class='xr-var-data'><pre>array([-89.5, -88.5, -87.5, -86.5, -85.5, -84.5, -83.5, -82.5, -81.5, -80.5,\n",
       "       -79.5, -78.5, -77.5, -76.5, -75.5, -74.5, -73.5, -72.5, -71.5, -70.5,\n",
       "       -69.5, -68.5, -67.5, -66.5, -65.5, -64.5, -63.5, -62.5, -61.5, -60.5,\n",
       "       -59.5, -58.5, -57.5, -56.5, -55.5, -54.5, -53.5, -52.5, -51.5, -50.5,\n",
       "       -49.5, -48.5, -47.5, -46.5, -45.5, -44.5, -43.5, -42.5, -41.5, -40.5,\n",
       "       -39.5, -38.5, -37.5, -36.5, -35.5, -34.5, -33.5, -32.5, -31.5, -30.5,\n",
       "       -29.5, -28.5, -27.5, -26.5, -25.5, -24.5, -23.5, -22.5, -21.5, -20.5,\n",
       "       -19.5, -18.5, -17.5, -16.5, -15.5, -14.5, -13.5, -12.5, -11.5, -10.5,\n",
       "        -9.5,  -8.5,  -7.5,  -6.5,  -5.5,  -4.5,  -3.5,  -2.5,  -1.5,  -0.5,\n",
       "         0.5,   1.5,   2.5,   3.5,   4.5,   5.5,   6.5,   7.5,   8.5,   9.5,\n",
       "        10.5,  11.5,  12.5,  13.5,  14.5,  15.5,  16.5,  17.5,  18.5,  19.5,\n",
       "        20.5,  21.5,  22.5,  23.5,  24.5,  25.5,  26.5,  27.5,  28.5,  29.5,\n",
       "        30.5,  31.5,  32.5,  33.5,  34.5,  35.5,  36.5,  37.5,  38.5,  39.5,\n",
       "        40.5,  41.5,  42.5,  43.5,  44.5,  45.5,  46.5,  47.5,  48.5,  49.5,\n",
       "        50.5,  51.5,  52.5,  53.5,  54.5,  55.5,  56.5,  57.5,  58.5,  59.5,\n",
       "        60.5,  61.5,  62.5,  63.5,  64.5,  65.5,  66.5,  67.5,  68.5,  69.5,\n",
       "        70.5,  71.5,  72.5,  73.5,  74.5,  75.5,  76.5,  77.5,  78.5,  79.5,\n",
       "        80.5,  81.5,  82.5,  83.5,  84.5,  85.5,  86.5,  87.5,  88.5,  89.5])</pre></div></li><li class='xr-var-item'><div class='xr-var-name'><span class='xr-has-index'>lon</span></div><div class='xr-var-dims'>(lon)</div><div class='xr-var-dtype'>float64</div><div class='xr-var-preview xr-preview'>-179.5 -178.5 ... 178.5 179.5</div><input id='attrs-a7f2f6f5-53f4-4a89-be96-08d62990e9d0' class='xr-var-attrs-in' type='checkbox' ><label for='attrs-a7f2f6f5-53f4-4a89-be96-08d62990e9d0' title='Show/Hide attributes'><svg class='icon xr-icon-file-text2'><use xlink:href='#icon-file-text2'></use></svg></label><input id='data-05b9559c-2a70-486a-b0a8-64f9f4b5d20b' class='xr-var-data-in' type='checkbox'><label for='data-05b9559c-2a70-486a-b0a8-64f9f4b5d20b' title='Show/Hide data repr'><svg class='icon xr-icon-database'><use xlink:href='#icon-database'></use></svg></label><div class='xr-var-attrs'><dl class='xr-attrs'><dt><span>standard_name :</span></dt><dd>longitude</dd></dl></div><div class='xr-var-data'><pre>array([-179.5, -178.5, -177.5, ...,  177.5,  178.5,  179.5])</pre></div></li><li class='xr-var-item'><div class='xr-var-name'><span class='xr-has-index'>time</span></div><div class='xr-var-dims'>(time)</div><div class='xr-var-dtype'>datetime64[ns]</div><div class='xr-var-preview xr-preview'>1981-01-16 ... 2020-12-01</div><input id='attrs-8c1782a6-b8b5-4f29-a687-9254e85bd7ab' class='xr-var-attrs-in' type='checkbox' ><label for='attrs-8c1782a6-b8b5-4f29-a687-9254e85bd7ab' title='Show/Hide attributes'><svg class='icon xr-icon-file-text2'><use xlink:href='#icon-file-text2'></use></svg></label><input id='data-f5b55b9b-06a0-457f-9bac-e7dcc4d38026' class='xr-var-data-in' type='checkbox'><label for='data-f5b55b9b-06a0-457f-9bac-e7dcc4d38026' title='Show/Hide data repr'><svg class='icon xr-icon-database'><use xlink:href='#icon-database'></use></svg></label><div class='xr-var-attrs'><dl class='xr-attrs'><dt><span>axis :</span></dt><dd>time</dd><dt><span>standard_name :</span></dt><dd>datetime64</dd></dl></div><div class='xr-var-data'><pre>array([&#x27;1981-01-16T00:00:00.000000000&#x27;, &#x27;1981-02-15T00:00:00.000000000&#x27;,\n",
       "       &#x27;1981-03-16T00:00:00.000000000&#x27;, ..., &#x27;2020-10-01T00:00:00.000000000&#x27;,\n",
       "       &#x27;2020-11-01T00:00:00.000000000&#x27;, &#x27;2020-12-01T00:00:00.000000000&#x27;],\n",
       "      dtype=&#x27;datetime64[ns]&#x27;)</pre></div></li></ul></div></li><li class='xr-section-item'><input id='section-2baf0fa4-b9cd-466c-8442-8f4bd27d9612' class='xr-section-summary-in' type='checkbox'  checked><label for='section-2baf0fa4-b9cd-466c-8442-8f4bd27d9612' class='xr-section-summary' >Data variables: <span>(2)</span></label><div class='xr-section-inline-details'></div><div class='xr-section-details'><ul class='xr-var-list'><li class='xr-var-item'><div class='xr-var-name'><span>EKE</span></div><div class='xr-var-dims'>(time, depth, lat, lon)</div><div class='xr-var-dtype'>float32</div><div class='xr-var-preview xr-preview'>dask.array&lt;chunksize=(480, 1, 180, 360), meta=np.ndarray&gt;</div><input id='attrs-967aaaaf-96e2-4383-959c-7ae8b11ccc7e' class='xr-var-attrs-in' type='checkbox' ><label for='attrs-967aaaaf-96e2-4383-959c-7ae8b11ccc7e' title='Show/Hide attributes'><svg class='icon xr-icon-file-text2'><use xlink:href='#icon-file-text2'></use></svg></label><input id='data-530e7093-1e76-4619-835f-dc23734a9f9a' class='xr-var-data-in' type='checkbox'><label for='data-530e7093-1e76-4619-835f-dc23734a9f9a' title='Show/Hide data repr'><svg class='icon xr-icon-database'><use xlink:href='#icon-database'></use></svg></label><div class='xr-var-attrs'><dl class='xr-attrs'><dt><span>standard_name :</span></dt><dd>EKE</dd></dl></div><div class='xr-var-data'><table>\n",
       "    <tr>\n",
       "        <td>\n",
       "            <table>\n",
       "                <thead>\n",
       "                    <tr>\n",
       "                        <td> </td>\n",
       "                        <th> Array </th>\n",
       "                        <th> Chunk </th>\n",
       "                    </tr>\n",
       "                </thead>\n",
       "                <tbody>\n",
       "                    \n",
       "                    <tr>\n",
       "                        <th> Bytes </th>\n",
       "                        <td> 8.69 GiB </td>\n",
       "                        <td> 118.65 MiB </td>\n",
       "                    </tr>\n",
       "                    \n",
       "                    <tr>\n",
       "                        <th> Shape </th>\n",
       "                        <td> (480, 75, 180, 360) </td>\n",
       "                        <td> (480, 1, 180, 360) </td>\n",
       "                    </tr>\n",
       "                    <tr>\n",
       "                        <th> Count </th>\n",
       "                        <td> 1052 Tasks </td>\n",
       "                        <td> 75 Chunks </td>\n",
       "                    </tr>\n",
       "                    <tr>\n",
       "                    <th> Type </th>\n",
       "                    <td> float32 </td>\n",
       "                    <td> numpy.ndarray </td>\n",
       "                    </tr>\n",
       "                </tbody>\n",
       "            </table>\n",
       "        </td>\n",
       "        <td>\n",
       "        <svg width=\"544\" height=\"119\" style=\"stroke:rgb(0,0,0);stroke-width:1\" >\n",
       "\n",
       "  <!-- Horizontal lines -->\n",
       "  <line x1=\"0\" y1=\"0\" x2=\"120\" y2=\"0\" style=\"stroke-width:2\" />\n",
       "  <line x1=\"0\" y1=\"25\" x2=\"120\" y2=\"25\" style=\"stroke-width:2\" />\n",
       "\n",
       "  <!-- Vertical lines -->\n",
       "  <line x1=\"0\" y1=\"0\" x2=\"0\" y2=\"25\" style=\"stroke-width:2\" />\n",
       "  <line x1=\"120\" y1=\"0\" x2=\"120\" y2=\"25\" style=\"stroke-width:2\" />\n",
       "\n",
       "  <!-- Colored Rectangle -->\n",
       "  <polygon points=\"0.0,0.0 120.0,0.0 120.0,25.412616514582485 0.0,25.412616514582485\" style=\"fill:#ECB172A0;stroke-width:0\"/>\n",
       "\n",
       "  <!-- Text -->\n",
       "  <text x=\"60.000000\" y=\"45.412617\" font-size=\"1.0rem\" font-weight=\"100\" text-anchor=\"middle\" >480</text>\n",
       "  <text x=\"140.000000\" y=\"12.706308\" font-size=\"1.0rem\" font-weight=\"100\" text-anchor=\"middle\" transform=\"rotate(0,140.000000,12.706308)\">1</text>\n",
       "\n",
       "\n",
       "  <!-- Horizontal lines -->\n",
       "  <line x1=\"190\" y1=\"0\" x2=\"214\" y2=\"24\" style=\"stroke-width:2\" />\n",
       "  <line x1=\"190\" y1=\"45\" x2=\"214\" y2=\"69\" style=\"stroke-width:2\" />\n",
       "\n",
       "  <!-- Vertical lines -->\n",
       "  <line x1=\"190\" y1=\"0\" x2=\"190\" y2=\"45\" style=\"stroke-width:2\" />\n",
       "  <line x1=\"190\" y1=\"0\" x2=\"190\" y2=\"45\" />\n",
       "  <line x1=\"191\" y1=\"1\" x2=\"191\" y2=\"46\" />\n",
       "  <line x1=\"192\" y1=\"2\" x2=\"192\" y2=\"47\" />\n",
       "  <line x1=\"192\" y1=\"2\" x2=\"192\" y2=\"47\" />\n",
       "  <line x1=\"193\" y1=\"3\" x2=\"193\" y2=\"48\" />\n",
       "  <line x1=\"194\" y1=\"4\" x2=\"194\" y2=\"49\" />\n",
       "  <line x1=\"195\" y1=\"5\" x2=\"195\" y2=\"50\" />\n",
       "  <line x1=\"195\" y1=\"5\" x2=\"195\" y2=\"50\" />\n",
       "  <line x1=\"196\" y1=\"6\" x2=\"196\" y2=\"51\" />\n",
       "  <line x1=\"197\" y1=\"7\" x2=\"197\" y2=\"52\" />\n",
       "  <line x1=\"198\" y1=\"8\" x2=\"198\" y2=\"53\" />\n",
       "  <line x1=\"198\" y1=\"8\" x2=\"198\" y2=\"53\" />\n",
       "  <line x1=\"199\" y1=\"9\" x2=\"199\" y2=\"54\" />\n",
       "  <line x1=\"200\" y1=\"10\" x2=\"200\" y2=\"55\" />\n",
       "  <line x1=\"201\" y1=\"11\" x2=\"201\" y2=\"56\" />\n",
       "  <line x1=\"201\" y1=\"11\" x2=\"201\" y2=\"56\" />\n",
       "  <line x1=\"202\" y1=\"12\" x2=\"202\" y2=\"57\" />\n",
       "  <line x1=\"203\" y1=\"13\" x2=\"203\" y2=\"58\" />\n",
       "  <line x1=\"204\" y1=\"14\" x2=\"204\" y2=\"59\" />\n",
       "  <line x1=\"204\" y1=\"14\" x2=\"204\" y2=\"59\" />\n",
       "  <line x1=\"205\" y1=\"15\" x2=\"205\" y2=\"60\" />\n",
       "  <line x1=\"206\" y1=\"16\" x2=\"206\" y2=\"61\" />\n",
       "  <line x1=\"207\" y1=\"17\" x2=\"207\" y2=\"62\" />\n",
       "  <line x1=\"207\" y1=\"17\" x2=\"207\" y2=\"62\" />\n",
       "  <line x1=\"208\" y1=\"18\" x2=\"208\" y2=\"63\" />\n",
       "  <line x1=\"209\" y1=\"19\" x2=\"209\" y2=\"64\" />\n",
       "  <line x1=\"210\" y1=\"20\" x2=\"210\" y2=\"65\" />\n",
       "  <line x1=\"210\" y1=\"20\" x2=\"210\" y2=\"65\" />\n",
       "  <line x1=\"211\" y1=\"21\" x2=\"211\" y2=\"66\" />\n",
       "  <line x1=\"212\" y1=\"22\" x2=\"212\" y2=\"67\" />\n",
       "  <line x1=\"213\" y1=\"23\" x2=\"213\" y2=\"68\" />\n",
       "  <line x1=\"214\" y1=\"24\" x2=\"214\" y2=\"69\" style=\"stroke-width:2\" />\n",
       "\n",
       "  <!-- Colored Rectangle -->\n",
       "  <polygon points=\"190.0,0.0 214.0598769557786,24.059876955778616 214.0598769557786,69.05987695577862 190.0,45.0\" style=\"fill:#8B4903A0;stroke-width:0\"/>\n",
       "\n",
       "  <!-- Horizontal lines -->\n",
       "  <line x1=\"190\" y1=\"0\" x2=\"280\" y2=\"0\" style=\"stroke-width:2\" />\n",
       "  <line x1=\"190\" y1=\"0\" x2=\"280\" y2=\"0\" />\n",
       "  <line x1=\"191\" y1=\"1\" x2=\"281\" y2=\"1\" />\n",
       "  <line x1=\"192\" y1=\"2\" x2=\"282\" y2=\"2\" />\n",
       "  <line x1=\"192\" y1=\"2\" x2=\"282\" y2=\"2\" />\n",
       "  <line x1=\"193\" y1=\"3\" x2=\"283\" y2=\"3\" />\n",
       "  <line x1=\"194\" y1=\"4\" x2=\"284\" y2=\"4\" />\n",
       "  <line x1=\"195\" y1=\"5\" x2=\"285\" y2=\"5\" />\n",
       "  <line x1=\"195\" y1=\"5\" x2=\"285\" y2=\"5\" />\n",
       "  <line x1=\"196\" y1=\"6\" x2=\"286\" y2=\"6\" />\n",
       "  <line x1=\"197\" y1=\"7\" x2=\"287\" y2=\"7\" />\n",
       "  <line x1=\"198\" y1=\"8\" x2=\"288\" y2=\"8\" />\n",
       "  <line x1=\"198\" y1=\"8\" x2=\"288\" y2=\"8\" />\n",
       "  <line x1=\"199\" y1=\"9\" x2=\"289\" y2=\"9\" />\n",
       "  <line x1=\"200\" y1=\"10\" x2=\"290\" y2=\"10\" />\n",
       "  <line x1=\"201\" y1=\"11\" x2=\"291\" y2=\"11\" />\n",
       "  <line x1=\"201\" y1=\"11\" x2=\"291\" y2=\"11\" />\n",
       "  <line x1=\"202\" y1=\"12\" x2=\"292\" y2=\"12\" />\n",
       "  <line x1=\"203\" y1=\"13\" x2=\"293\" y2=\"13\" />\n",
       "  <line x1=\"204\" y1=\"14\" x2=\"294\" y2=\"14\" />\n",
       "  <line x1=\"204\" y1=\"14\" x2=\"294\" y2=\"14\" />\n",
       "  <line x1=\"205\" y1=\"15\" x2=\"295\" y2=\"15\" />\n",
       "  <line x1=\"206\" y1=\"16\" x2=\"296\" y2=\"16\" />\n",
       "  <line x1=\"207\" y1=\"17\" x2=\"297\" y2=\"17\" />\n",
       "  <line x1=\"207\" y1=\"17\" x2=\"297\" y2=\"17\" />\n",
       "  <line x1=\"208\" y1=\"18\" x2=\"298\" y2=\"18\" />\n",
       "  <line x1=\"209\" y1=\"19\" x2=\"299\" y2=\"19\" />\n",
       "  <line x1=\"210\" y1=\"20\" x2=\"300\" y2=\"20\" />\n",
       "  <line x1=\"210\" y1=\"20\" x2=\"300\" y2=\"20\" />\n",
       "  <line x1=\"211\" y1=\"21\" x2=\"301\" y2=\"21\" />\n",
       "  <line x1=\"212\" y1=\"22\" x2=\"302\" y2=\"22\" />\n",
       "  <line x1=\"213\" y1=\"23\" x2=\"303\" y2=\"23\" />\n",
       "  <line x1=\"214\" y1=\"24\" x2=\"304\" y2=\"24\" style=\"stroke-width:2\" />\n",
       "\n",
       "  <!-- Vertical lines -->\n",
       "  <line x1=\"190\" y1=\"0\" x2=\"214\" y2=\"24\" style=\"stroke-width:2\" />\n",
       "  <line x1=\"280\" y1=\"0\" x2=\"304\" y2=\"24\" style=\"stroke-width:2\" />\n",
       "\n",
       "  <!-- Colored Rectangle -->\n",
       "  <polygon points=\"190.0,0.0 280.0,0.0 304.05987695577863,24.059876955778616 214.0598769557786,24.059876955778616\" style=\"fill:#8B4903A0;stroke-width:0\"/>\n",
       "\n",
       "  <!-- Horizontal lines -->\n",
       "  <line x1=\"214\" y1=\"24\" x2=\"304\" y2=\"24\" style=\"stroke-width:2\" />\n",
       "  <line x1=\"214\" y1=\"69\" x2=\"304\" y2=\"69\" style=\"stroke-width:2\" />\n",
       "\n",
       "  <!-- Vertical lines -->\n",
       "  <line x1=\"214\" y1=\"24\" x2=\"214\" y2=\"69\" style=\"stroke-width:2\" />\n",
       "  <line x1=\"304\" y1=\"24\" x2=\"304\" y2=\"69\" style=\"stroke-width:2\" />\n",
       "\n",
       "  <!-- Colored Rectangle -->\n",
       "  <polygon points=\"214.0598769557786,24.059876955778616 304.0598769557786,24.059876955778616 304.0598769557786,69.05987695577862 214.0598769557786,69.05987695577862\" style=\"fill:#ECB172A0;stroke-width:0\"/>\n",
       "\n",
       "  <!-- Text -->\n",
       "  <text x=\"259.059877\" y=\"89.059877\" font-size=\"1.0rem\" font-weight=\"100\" text-anchor=\"middle\" >360</text>\n",
       "  <text x=\"324.059877\" y=\"46.559877\" font-size=\"1.0rem\" font-weight=\"100\" text-anchor=\"middle\" transform=\"rotate(-90,324.059877,46.559877)\">180</text>\n",
       "  <text x=\"192.029938\" y=\"77.029938\" font-size=\"1.0rem\" font-weight=\"100\" text-anchor=\"middle\" transform=\"rotate(45,192.029938,77.029938)\">75</text>\n",
       "</svg>\n",
       "        </td>\n",
       "    </tr>\n",
       "</table></div></li><li class='xr-var-item'><div class='xr-var-name'><span>MKE</span></div><div class='xr-var-dims'>(depth, lat, lon)</div><div class='xr-var-dtype'>float32</div><div class='xr-var-preview xr-preview'>dask.array&lt;chunksize=(1, 180, 360), meta=np.ndarray&gt;</div><input id='attrs-db5a0dfb-707b-4e26-9b48-f61498d1e2c9' class='xr-var-attrs-in' type='checkbox' ><label for='attrs-db5a0dfb-707b-4e26-9b48-f61498d1e2c9' title='Show/Hide attributes'><svg class='icon xr-icon-file-text2'><use xlink:href='#icon-file-text2'></use></svg></label><input id='data-53f99041-042c-4f1b-9d1c-5720ea02b8a8' class='xr-var-data-in' type='checkbox'><label for='data-53f99041-042c-4f1b-9d1c-5720ea02b8a8' title='Show/Hide data repr'><svg class='icon xr-icon-database'><use xlink:href='#icon-database'></use></svg></label><div class='xr-var-attrs'><dl class='xr-attrs'><dt><span>standard_name :</span></dt><dd>MKE</dd></dl></div><div class='xr-var-data'><table>\n",
       "    <tr>\n",
       "        <td>\n",
       "            <table>\n",
       "                <thead>\n",
       "                    <tr>\n",
       "                        <td> </td>\n",
       "                        <th> Array </th>\n",
       "                        <th> Chunk </th>\n",
       "                    </tr>\n",
       "                </thead>\n",
       "                <tbody>\n",
       "                    \n",
       "                    <tr>\n",
       "                        <th> Bytes </th>\n",
       "                        <td> 18.54 MiB </td>\n",
       "                        <td> 253.12 kiB </td>\n",
       "                    </tr>\n",
       "                    \n",
       "                    <tr>\n",
       "                        <th> Shape </th>\n",
       "                        <td> (75, 180, 360) </td>\n",
       "                        <td> (1, 180, 360) </td>\n",
       "                    </tr>\n",
       "                    <tr>\n",
       "                        <th> Count </th>\n",
       "                        <td> 752 Tasks </td>\n",
       "                        <td> 75 Chunks </td>\n",
       "                    </tr>\n",
       "                    <tr>\n",
       "                    <th> Type </th>\n",
       "                    <td> float32 </td>\n",
       "                    <td> numpy.ndarray </td>\n",
       "                    </tr>\n",
       "                </tbody>\n",
       "            </table>\n",
       "        </td>\n",
       "        <td>\n",
       "        <svg width=\"204\" height=\"134\" style=\"stroke:rgb(0,0,0);stroke-width:1\" >\n",
       "\n",
       "  <!-- Horizontal lines -->\n",
       "  <line x1=\"10\" y1=\"0\" x2=\"34\" y2=\"24\" style=\"stroke-width:2\" />\n",
       "  <line x1=\"10\" y1=\"60\" x2=\"34\" y2=\"84\" style=\"stroke-width:2\" />\n",
       "\n",
       "  <!-- Vertical lines -->\n",
       "  <line x1=\"10\" y1=\"0\" x2=\"10\" y2=\"60\" style=\"stroke-width:2\" />\n",
       "  <line x1=\"10\" y1=\"0\" x2=\"10\" y2=\"60\" />\n",
       "  <line x1=\"12\" y1=\"2\" x2=\"12\" y2=\"62\" />\n",
       "  <line x1=\"13\" y1=\"3\" x2=\"13\" y2=\"63\" />\n",
       "  <line x1=\"14\" y1=\"4\" x2=\"14\" y2=\"64\" />\n",
       "  <line x1=\"16\" y1=\"6\" x2=\"16\" y2=\"66\" />\n",
       "  <line x1=\"17\" y1=\"7\" x2=\"17\" y2=\"67\" />\n",
       "  <line x1=\"18\" y1=\"8\" x2=\"18\" y2=\"68\" />\n",
       "  <line x1=\"20\" y1=\"10\" x2=\"20\" y2=\"70\" />\n",
       "  <line x1=\"21\" y1=\"11\" x2=\"21\" y2=\"71\" />\n",
       "  <line x1=\"22\" y1=\"12\" x2=\"22\" y2=\"72\" />\n",
       "  <line x1=\"24\" y1=\"14\" x2=\"24\" y2=\"74\" />\n",
       "  <line x1=\"25\" y1=\"15\" x2=\"25\" y2=\"75\" />\n",
       "  <line x1=\"26\" y1=\"16\" x2=\"26\" y2=\"76\" />\n",
       "  <line x1=\"28\" y1=\"18\" x2=\"28\" y2=\"78\" />\n",
       "  <line x1=\"29\" y1=\"19\" x2=\"29\" y2=\"79\" />\n",
       "  <line x1=\"30\" y1=\"20\" x2=\"30\" y2=\"80\" />\n",
       "  <line x1=\"32\" y1=\"22\" x2=\"32\" y2=\"82\" />\n",
       "  <line x1=\"33\" y1=\"23\" x2=\"33\" y2=\"83\" />\n",
       "  <line x1=\"34\" y1=\"24\" x2=\"34\" y2=\"84\" style=\"stroke-width:2\" />\n",
       "\n",
       "  <!-- Colored Rectangle -->\n",
       "  <polygon points=\"10.0,0.0 34.81212079920453,24.81212079920453 34.81212079920453,84.81212079920454 10.0,60.0\" style=\"fill:#8B4903A0;stroke-width:0\"/>\n",
       "\n",
       "  <!-- Horizontal lines -->\n",
       "  <line x1=\"10\" y1=\"0\" x2=\"130\" y2=\"0\" style=\"stroke-width:2\" />\n",
       "  <line x1=\"10\" y1=\"0\" x2=\"130\" y2=\"0\" />\n",
       "  <line x1=\"12\" y1=\"2\" x2=\"132\" y2=\"2\" />\n",
       "  <line x1=\"13\" y1=\"3\" x2=\"133\" y2=\"3\" />\n",
       "  <line x1=\"14\" y1=\"4\" x2=\"134\" y2=\"4\" />\n",
       "  <line x1=\"16\" y1=\"6\" x2=\"136\" y2=\"6\" />\n",
       "  <line x1=\"17\" y1=\"7\" x2=\"137\" y2=\"7\" />\n",
       "  <line x1=\"18\" y1=\"8\" x2=\"138\" y2=\"8\" />\n",
       "  <line x1=\"20\" y1=\"10\" x2=\"140\" y2=\"10\" />\n",
       "  <line x1=\"21\" y1=\"11\" x2=\"141\" y2=\"11\" />\n",
       "  <line x1=\"22\" y1=\"12\" x2=\"142\" y2=\"12\" />\n",
       "  <line x1=\"24\" y1=\"14\" x2=\"144\" y2=\"14\" />\n",
       "  <line x1=\"25\" y1=\"15\" x2=\"145\" y2=\"15\" />\n",
       "  <line x1=\"26\" y1=\"16\" x2=\"146\" y2=\"16\" />\n",
       "  <line x1=\"28\" y1=\"18\" x2=\"148\" y2=\"18\" />\n",
       "  <line x1=\"29\" y1=\"19\" x2=\"149\" y2=\"19\" />\n",
       "  <line x1=\"30\" y1=\"20\" x2=\"150\" y2=\"20\" />\n",
       "  <line x1=\"32\" y1=\"22\" x2=\"152\" y2=\"22\" />\n",
       "  <line x1=\"33\" y1=\"23\" x2=\"153\" y2=\"23\" />\n",
       "  <line x1=\"34\" y1=\"24\" x2=\"154\" y2=\"24\" style=\"stroke-width:2\" />\n",
       "\n",
       "  <!-- Vertical lines -->\n",
       "  <line x1=\"10\" y1=\"0\" x2=\"34\" y2=\"24\" style=\"stroke-width:2\" />\n",
       "  <line x1=\"130\" y1=\"0\" x2=\"154\" y2=\"24\" style=\"stroke-width:2\" />\n",
       "\n",
       "  <!-- Colored Rectangle -->\n",
       "  <polygon points=\"10.0,0.0 130.0,0.0 154.81212079920454,24.81212079920453 34.81212079920453,24.81212079920453\" style=\"fill:#8B4903A0;stroke-width:0\"/>\n",
       "\n",
       "  <!-- Horizontal lines -->\n",
       "  <line x1=\"34\" y1=\"24\" x2=\"154\" y2=\"24\" style=\"stroke-width:2\" />\n",
       "  <line x1=\"34\" y1=\"84\" x2=\"154\" y2=\"84\" style=\"stroke-width:2\" />\n",
       "\n",
       "  <!-- Vertical lines -->\n",
       "  <line x1=\"34\" y1=\"24\" x2=\"34\" y2=\"84\" style=\"stroke-width:2\" />\n",
       "  <line x1=\"154\" y1=\"24\" x2=\"154\" y2=\"84\" style=\"stroke-width:2\" />\n",
       "\n",
       "  <!-- Colored Rectangle -->\n",
       "  <polygon points=\"34.81212079920453,24.81212079920453 154.81212079920454,24.81212079920453 154.81212079920454,84.81212079920454 34.81212079920453,84.81212079920454\" style=\"fill:#ECB172A0;stroke-width:0\"/>\n",
       "\n",
       "  <!-- Text -->\n",
       "  <text x=\"94.812121\" y=\"104.812121\" font-size=\"1.0rem\" font-weight=\"100\" text-anchor=\"middle\" >360</text>\n",
       "  <text x=\"174.812121\" y=\"54.812121\" font-size=\"1.0rem\" font-weight=\"100\" text-anchor=\"middle\" transform=\"rotate(-90,174.812121,54.812121)\">180</text>\n",
       "  <text x=\"12.406060\" y=\"92.406060\" font-size=\"1.0rem\" font-weight=\"100\" text-anchor=\"middle\" transform=\"rotate(45,12.406060,92.406060)\">75</text>\n",
       "</svg>\n",
       "        </td>\n",
       "    </tr>\n",
       "</table></div></li></ul></div></li><li class='xr-section-item'><input id='section-5b99654d-2402-4aed-a59b-53bad5fd12fc' class='xr-section-summary-in' type='checkbox'  checked><label for='section-5b99654d-2402-4aed-a59b-53bad5fd12fc' class='xr-section-summary' >Attributes: <span>(1)</span></label><div class='xr-section-inline-details'></div><div class='xr-section-details'><dl class='xr-attrs'><dt><span>post_processing :</span></dt><dd>generated by Thomas Moore from raw S2 u &amp; v data on native grid</dd></dl></div></li></ul></div></div>"
      ],
      "text/plain": [
       "<xarray.Dataset>\n",
       "Dimensions:  (depth: 75, lat: 180, lon: 360, time: 480)\n",
       "Coordinates:\n",
       "  * depth    (depth) float32 0.5058 1.556 2.668 ... 5.698e+03 5.902e+03\n",
       "  * lat      (lat) float64 -89.5 -88.5 -87.5 -86.5 -85.5 ... 86.5 87.5 88.5 89.5\n",
       "  * lon      (lon) float64 -179.5 -178.5 -177.5 -176.5 ... 177.5 178.5 179.5\n",
       "  * time     (time) datetime64[ns] 1981-01-16 1981-02-15 ... 2020-12-01\n",
       "Data variables:\n",
       "    EKE      (time, depth, lat, lon) float32 dask.array<chunksize=(480, 1, 180, 360), meta=np.ndarray>\n",
       "    MKE      (depth, lat, lon) float32 dask.array<chunksize=(1, 180, 360), meta=np.ndarray>\n",
       "Attributes:\n",
       "    post_processing:  generated by Thomas Moore from raw S2 u & v data on nat..."
      ]
     },
     "execution_count": 28,
     "metadata": {},
     "output_type": "execute_result"
    }
   ],
   "source": [
    "ds_KE_masked"
   ]
  },
  {
   "cell_type": "markdown",
   "id": "d9b756e3-8d4b-4897-8451-1b0a17bfafc9",
   "metadata": {},
   "source": [
    "# sanity check"
   ]
  },
  {
   "cell_type": "code",
   "execution_count": 29,
   "id": "7a877d92-59bc-4865-8eef-1a128fc73db2",
   "metadata": {},
   "outputs": [
    {
     "data": {
      "text/plain": [
       "<matplotlib.collections.QuadMesh at 0x7f552fa53df0>"
      ]
     },
     "execution_count": 29,
     "metadata": {},
     "output_type": "execute_result"
    },
    {
     "data": {
      "image/png": "[encoded data removed]",
      "text/plain": [
       "<Figure size 1000x1000 with 2 Axes>"
      ]
     },
     "metadata": {
      "image/png": {
       "height": 1000,
       "width": 1000
      }
     },
     "output_type": "display_data"
    }
   ],
   "source": [
    "ds_KE_masked.EKE.isel({'depth':0,'time':10}).plot(robust=True,size=10)"
   ]
  },
  {
   "cell_type": "markdown",
   "id": "f2515506-d6c0-47b6-a068-e7bda8385d84",
   "metadata": {
    "tags": []
   },
   "source": [
    "# EKE_300"
   ]
  },
  {
   "cell_type": "markdown",
   "id": "d2cc0cfc-5c97-42ec-a413-80d3efd503ce",
   "metadata": {},
   "source": [
    "## need to account for variable cell thickness without formal integration"
   ]
  },
  {
   "cell_type": "code",
   "execution_count": 30,
   "id": "139df002-5a17-4791-b66f-996cdc2d37ec",
   "metadata": {},
   "outputs": [],
   "source": [
    "eke = ds_KE_masked.EKE"
   ]
  },
  {
   "cell_type": "code",
   "execution_count": 31,
   "id": "5739e46f-0cb0-4f6f-9526-5e9b7cfef035",
   "metadata": {},
   "outputs": [],
   "source": [
    "eke300 = (eke * depth_weights).sel(depth=slice(0,300)).sum('depth',skipna=False)\n",
    "eke300 = eke300.to_dataset(name='eke300')\n",
    "eke300.attrs['post_processing']='generated by Thomas Moore from S2 u & v data after masking zeros and regridding'\n",
    "eke300.eke300.attrs['standard_name']='eke300'\n",
    "eke300.eke300.attrs['long_name']='eke depth weighted sum 0-300m'"
   ]
  },
  {
   "cell_type": "code",
   "execution_count": null,
   "id": "9d211757-6c30-494c-8315-090277210fee",
   "metadata": {},
   "outputs": [],
   "source": [
    "eke300"
   ]
  },
  {
   "cell_type": "code",
   "execution_count": 32,
   "id": "f071041d-67eb-4508-9e09-73a53f5a753d",
   "metadata": {},
   "outputs": [
    {
     "name": "stdout",
     "output_type": "stream",
     "text": [
      "CPU times: user 3.33 s, sys: 400 ms, total: 3.73 s\n",
      "Wall time: 15.5 s\n"
     ]
    }
   ],
   "source": [
    "%%time\n",
    "eke300.to_netcdf('/g/data/v14/tm4888/data/ACCESS-S2/ETBF_export/accessS2.RA.eke300.masked.grid1deg.nc')"
   ]
  },
  {
   "cell_type": "markdown",
   "id": "1ba559f8-7800-4889-a21c-fc9fb633bb9b",
   "metadata": {},
   "source": [
    "# EKE_2000"
   ]
  },
  {
   "cell_type": "markdown",
   "id": "43d15a44-b5e8-4975-8a9a-e755c4d71248",
   "metadata": {
    "tags": []
   },
   "source": [
    "## need to account for variable cell thickness without formal integration"
   ]
  },
  {
   "cell_type": "code",
   "execution_count": 33,
   "id": "8c4052af-d5ae-4f38-a14b-01edbf4d279f",
   "metadata": {},
   "outputs": [],
   "source": [
    "eke2000 = (eke * depth_weights).sel(depth=slice(0,2000)).sum('depth',skipna=False)\n",
    "eke2000 = eke2000.to_dataset(name='eke2000')\n",
    "eke2000.attrs['post_processing']='generated by Thomas Moore from S2 u & v data after masking zeros and regridding'\n",
    "eke2000.eke2000.attrs['standard_name']='eke2000'\n",
    "eke2000.eke2000.attrs['long_name']='eke depth weighted sum 0-2000m'"
   ]
  },
  {
   "cell_type": "code",
   "execution_count": 34,
   "id": "8a30fe68-0a2c-4395-90d1-ff665ed792ab",
   "metadata": {},
   "outputs": [
    {
     "name": "stdout",
     "output_type": "stream",
     "text": [
      "CPU times: user 3.21 s, sys: 337 ms, total: 3.55 s\n",
      "Wall time: 10.5 s\n"
     ]
    }
   ],
   "source": [
    "%%time\n",
    "eke2000.to_netcdf('/g/data/v14/tm4888/data/ACCESS-S2/ETBF_export/accessS2.RA.eke2000.masked.grid1deg.nc')"
   ]
  },
  {
   "cell_type": "code",
   "execution_count": null,
   "id": "d3482293-c7eb-4880-8f33-324b8ce1ba81",
   "metadata": {},
   "outputs": [],
   "source": [
    "eke2000"
   ]
  },
  {
   "cell_type": "markdown",
   "id": "0dc2de61-7633-499b-94f3-4df80f4e0fec",
   "metadata": {
    "tags": []
   },
   "source": [
    "# $\\big\\Uparrow$ This has been run on 15 December 2021"
   ]
  },
  {
   "cell_type": "markdown",
   "id": "c4067bce-baee-4f5e-ba0e-835221b4cd48",
   "metadata": {},
   "source": [
    "# $ The\\ End$"
   ]
  },
  {
   "cell_type": "markdown",
   "id": "b09b8aab-8bc3-407c-ad57-6252ea42293b",
   "metadata": {},
   "source": [
    "# Break glass in case of emergency\n",
    "# $\\Downarrow$"
   ]
  },
  {
   "cell_type": "code",
   "execution_count": null,
   "id": "1a65ef49-d1f3-49ae-bb47-21465b35901c",
   "metadata": {
    "tags": []
   },
   "outputs": [],
   "source": [
    "client.restart()"
   ]
  },
  {
   "cell_type": "code",
   "execution_count": 35,
   "id": "76991ca7-13c0-49cc-8b86-b6474f083f8d",
   "metadata": {
    "tags": []
   },
   "outputs": [
    {
     "name": "stderr",
     "output_type": "stream",
     "text": [
      "distributed.client - ERROR - Failed to reconnect to scheduler after 30.00 seconds, closing client\n",
      "_GatheringFuture exception was never retrieved\n",
      "future: <_GatheringFuture finished exception=CancelledError()>\n",
      "asyncio.exceptions.CancelledError\n"
     ]
    }
   ],
   "source": [
    "client.shutdown()"
   ]
  },
  {
   "cell_type": "code",
   "execution_count": null,
   "id": "417ef20d-c44c-4b7f-a979-b925369702cb",
   "metadata": {},
   "outputs": [],
   "source": [
    "client.restart()"
   ]
  },
  {
   "cell_type": "code",
   "execution_count": null,
   "id": "321a2262-89da-4b80-b05b-994199427ec7",
   "metadata": {},
   "outputs": [],
   "source": []
  },
  {
   "cell_type": "code",
   "execution_count": null,
   "id": "f961e184-a346-4952-a757-66ed566e61f4",
   "metadata": {},
   "outputs": [],
   "source": []
  },
  {
   "cell_type": "code",
   "execution_count": null,
   "id": "033739ed-e732-4df2-b54c-6d01fc8c7e05",
   "metadata": {},
   "outputs": [],
   "source": []
  },
  {
   "cell_type": "code",
   "execution_count": null,
   "id": "e8fc696d-9bbf-4893-86e3-4a58a69b2c68",
   "metadata": {},
   "outputs": [],
   "source": []
  },
  {
   "cell_type": "code",
   "execution_count": null,
   "id": "c1c514d2-d940-4cae-bf0f-ef1a2966de49",
   "metadata": {},
   "outputs": [],
   "source": []
  },
  {
   "cell_type": "code",
   "execution_count": null,
   "id": "0895bace-1d87-49c8-913a-ae5b6bfe7b21",
   "metadata": {},
   "outputs": [],
   "source": []
  },
  {
   "cell_type": "code",
   "execution_count": null,
   "id": "4e550003-b120-4695-a372-1f3b70318ec5",
   "metadata": {},
   "outputs": [],
   "source": []
  },
  {
   "cell_type": "code",
   "execution_count": null,
   "id": "fa84b0b2-ee3c-42ec-b0e9-d6da3dd34339",
   "metadata": {},
   "outputs": [],
   "source": []
  },
  {
   "cell_type": "code",
   "execution_count": null,
   "id": "7e7d8b91-f131-411f-b94a-3dda9d419ba4",
   "metadata": {},
   "outputs": [],
   "source": []
  },
  {
   "cell_type": "code",
   "execution_count": null,
   "id": "5cdab7fa-228d-463a-a899-24cf232224e7",
   "metadata": {},
   "outputs": [],
   "source": []
  },
  {
   "cell_type": "code",
   "execution_count": null,
   "id": "01886a35-c890-4206-a937-6651c480c96d",
   "metadata": {},
   "outputs": [],
   "source": []
  },
  {
   "cell_type": "code",
   "execution_count": null,
   "id": "88da6c5a-1a51-4b1d-998b-732d7a5e7fb2",
   "metadata": {},
   "outputs": [],
   "source": []
  },
  {
   "cell_type": "code",
   "execution_count": null,
   "id": "48aa34da-f1c0-4e0c-8d21-d37af1f1328b",
   "metadata": {},
   "outputs": [],
   "source": []
  },
  {
   "cell_type": "code",
   "execution_count": null,
   "id": "201cd020-714c-4227-b461-03d1054d267d",
   "metadata": {},
   "outputs": [],
   "source": []
  }
 ],
 "metadata": {
  "kernelspec": {
   "display_name": "Python 3",
   "language": "python",
   "name": "python3"
  },
  "language_info": {
   "codemirror_mode": {
    "name": "ipython",
    "version": 3
   },
   "file_extension": ".py",
   "mimetype": "text/x-python",
   "name": "python",
   "nbconvert_exporter": "python",
   "pygments_lexer": "ipython3",
   "version": "3.9.4"
  }
 },
 "nbformat": 4,
 "nbformat_minor": 5
}
