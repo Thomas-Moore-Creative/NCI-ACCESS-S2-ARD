{
 "cells": [
  {
   "cell_type": "markdown",
   "id": "31bbe048",
   "metadata": {},
   "source": [
    "# S2 RA ETBF region crop"
   ]
  },
  {
   "cell_type": "markdown",
   "id": "fde8a751",
   "metadata": {},
   "source": [
    "**Date:** <br>\n",
    "18 December 2021 <br>\n",
    "**Background:** <br>\n",
    "Issue -  <br>\n",
    "**Author(s):**<br>\n",
    "Thomas Moore<br>"
   ]
  },
  {
   "cell_type": "markdown",
   "id": "f18a60fe",
   "metadata": {},
   "source": [
    "### OOD documentation\n",
    "https://opus.nci.org.au/display/DAE/Setting+up+a+Dask+Cluster+on+OOD"
   ]
  },
  {
   "cell_type": "code",
   "execution_count": 1,
   "id": "26f0f507",
   "metadata": {},
   "outputs": [],
   "source": [
    "Author1 = {\"name\": \"Thomas Moore\", \"affiliation\": \"CSIRO\", \"email\": \"thomas.moore@csiro.au\", \"orcid\": \"0000-0003-3930-1946\"}"
   ]
  },
  {
   "cell_type": "code",
   "execution_count": 2,
   "id": "7586239d",
   "metadata": {
    "tags": []
   },
   "outputs": [],
   "source": [
    "import xarray as xr\n",
    "import numpy as np\n",
    "import xrft\n",
    "import xesmf as xe\n",
    "import scipy\n",
    "import matplotlib.pyplot as plt\n",
    "import datetime\n",
    "import pandas as pd\n",
    "import matplotlib.dates as mdates\n",
    "from matplotlib.dates import DateFormatter\n",
    "import os\n",
    "import re\n",
    "import cartopy.crs as ccrs\n",
    "import proplot as pplt\n",
    "from rechunker import rechunk\n",
    "%config Completer.use_jedi = False"
   ]
  },
  {
   "cell_type": "raw",
   "id": "d91dc2bf-6009-41ff-b338-d16f79a585da",
   "metadata": {},
   "source": [
    "# supress warnings\n",
    "import warnings\n",
    "warnings.filterwarnings('ignore')"
   ]
  },
  {
   "cell_type": "markdown",
   "id": "66d1ff16-8c67-4360-8920-de24a4df4b12",
   "metadata": {},
   "source": [
    "## import helper"
   ]
  },
  {
   "cell_type": "code",
   "execution_count": 3,
   "id": "4957c4b9-5159-484b-86a1-a8489aa4f19e",
   "metadata": {},
   "outputs": [],
   "source": [
    "import importlib.util\n",
    "spec = importlib.util.spec_from_file_location(\"helper\", \"/g/data/v14/tm4888/code/helper-py/helper_tools.py\")\n",
    "helper = importlib.util.module_from_spec(spec)\n",
    "spec.loader.exec_module(helper)"
   ]
  },
  {
   "cell_type": "markdown",
   "id": "6b3f8b43",
   "metadata": {},
   "source": [
    "## OOD cluster"
   ]
  },
  {
   "cell_type": "code",
   "execution_count": 4,
   "id": "f9d7a09b",
   "metadata": {},
   "outputs": [
    {
     "name": "stderr",
     "output_type": "stream",
     "text": [
      "/g/data/v14/tm4888/miniconda3/envs/pangeo_hpc/lib/python3.9/site-packages/dask_jobqueue/core.py:20: FutureWarning: tmpfile is deprecated and will be removed in a future release. Please use dask.utils.tmpfile instead.\n",
      "  from distributed.utils import tmpfile\n"
     ]
    }
   ],
   "source": [
    "from dask.distributed import Client,Scheduler\n",
    "from dask_jobqueue import SLURMCluster\n",
    "cluster = SLURMCluster(cores=2,processes=1,memory=\"47GB\",walltime='01:00:00')\n",
    "client = Client(cluster)\n",
    "cluster.scale(cores=24)"
   ]
  },
  {
   "cell_type": "code",
   "execution_count": 5,
   "id": "b3de759e",
   "metadata": {},
   "outputs": [
    {
     "data": {
      "text/html": [
       "<div>\n",
       "    <div style=\"width: 24px; height: 24px; background-color: #e1e1e1; border: 3px solid #9D9D9D; border-radius: 5px; position: absolute;\"> </div>\n",
       "    <div style=\"margin-left: 48px;\">\n",
       "        <h3 style=\"margin-bottom: 0px;\">Client</h3>\n",
       "        <p style=\"color: #9D9D9D; margin-bottom: 0px;\">Client-e5b7f39f-5f72-11ec-95fe-fa163efdce2f</p>\n",
       "        <table style=\"width: 100%; text-align: left;\">\n",
       "\n",
       "        <tr>\n",
       "        \n",
       "            <td style=\"text-align: left;\"><strong>Connection method:</strong> Cluster object</td>\n",
       "            <td style=\"text-align: left;\"><strong>Cluster type:</strong> dask_jobqueue.SLURMCluster</td>\n",
       "        \n",
       "        </tr>\n",
       "\n",
       "        \n",
       "            <tr>\n",
       "                <td style=\"text-align: left;\">\n",
       "                    <strong>Dashboard: </strong> <a href=\"/proxy/8787/status\" target=\"_blank\">/proxy/8787/status</a>\n",
       "                </td>\n",
       "                <td style=\"text-align: left;\"></td>\n",
       "            </tr>\n",
       "        \n",
       "\n",
       "        </table>\n",
       "\n",
       "        \n",
       "            <details>\n",
       "            <summary style=\"margin-bottom: 20px;\"><h3 style=\"display: inline;\">Cluster Info</h3></summary>\n",
       "            <div class=\"jp-RenderedHTMLCommon jp-RenderedHTML jp-mod-trusted jp-OutputArea-output\">\n",
       "    <div style=\"width: 24px; height: 24px; background-color: #e1e1e1; border: 3px solid #9D9D9D; border-radius: 5px; position: absolute;\">\n",
       "    </div>\n",
       "    <div style=\"margin-left: 48px;\">\n",
       "        <h3 style=\"margin-bottom: 0px; margin-top: 0px;\">SLURMCluster</h3>\n",
       "        <p style=\"color: #9D9D9D; margin-bottom: 0px;\">a9c75c8b</p>\n",
       "        <table style=\"width: 100%; text-align: left;\">\n",
       "            <tr>\n",
       "                <td style=\"text-align: left;\">\n",
       "                    <strong>Dashboard:</strong> <a href=\"/proxy/8787/status\" target=\"_blank\">/proxy/8787/status</a>\n",
       "                </td>\n",
       "                <td style=\"text-align: left;\">\n",
       "                    <strong>Workers:</strong> 0\n",
       "                </td>\n",
       "            </tr>\n",
       "            <tr>\n",
       "                <td style=\"text-align: left;\">\n",
       "                    <strong>Total threads:</strong> 0\n",
       "                </td>\n",
       "                <td style=\"text-align: left;\">\n",
       "                    <strong>Total memory:</strong> 0 B\n",
       "                </td>\n",
       "            </tr>\n",
       "            \n",
       "        </table>\n",
       "\n",
       "        <details>\n",
       "            <summary style=\"margin-bottom: 20px;\">\n",
       "                <h3 style=\"display: inline;\">Scheduler Info</h3>\n",
       "            </summary>\n",
       "\n",
       "            <div style=\"\">\n",
       "    <div>\n",
       "        <div style=\"width: 24px; height: 24px; background-color: #FFF7E5; border: 3px solid #FF6132; border-radius: 5px; position: absolute;\"> </div>\n",
       "        <div style=\"margin-left: 48px;\">\n",
       "            <h3 style=\"margin-bottom: 0px;\">Scheduler</h3>\n",
       "            <p style=\"color: #9D9D9D; margin-bottom: 0px;\">Scheduler-d6481125-b86c-4ea0-ab24-fe76d069b176</p>\n",
       "            <table style=\"width: 100%; text-align: left;\">\n",
       "                <tr>\n",
       "                    <td style=\"text-align: left;\">\n",
       "                        <strong>Comm:</strong> tcp://10.0.128.130:41803\n",
       "                    </td>\n",
       "                    <td style=\"text-align: left;\">\n",
       "                        <strong>Workers:</strong> 0\n",
       "                    </td>\n",
       "                </tr>\n",
       "                <tr>\n",
       "                    <td style=\"text-align: left;\">\n",
       "                        <strong>Dashboard:</strong> <a href=\"/proxy/8787/status\" target=\"_blank\">/proxy/8787/status</a>\n",
       "                    </td>\n",
       "                    <td style=\"text-align: left;\">\n",
       "                        <strong>Total threads:</strong> 0\n",
       "                    </td>\n",
       "                </tr>\n",
       "                <tr>\n",
       "                    <td style=\"text-align: left;\">\n",
       "                        <strong>Started:</strong> Just now\n",
       "                    </td>\n",
       "                    <td style=\"text-align: left;\">\n",
       "                        <strong>Total memory:</strong> 0 B\n",
       "                    </td>\n",
       "                </tr>\n",
       "            </table>\n",
       "        </div>\n",
       "    </div>\n",
       "\n",
       "    <details style=\"margin-left: 48px;\">\n",
       "        <summary style=\"margin-bottom: 20px;\">\n",
       "            <h3 style=\"display: inline;\">Workers</h3>\n",
       "        </summary>\n",
       "\n",
       "        \n",
       "\n",
       "    </details>\n",
       "</div>\n",
       "\n",
       "        </details>\n",
       "    </div>\n",
       "</div>\n",
       "            </details>\n",
       "        \n",
       "\n",
       "    </div>\n",
       "</div>"
      ],
      "text/plain": [
       "<Client: 'tcp://10.0.128.130:41803' processes=0 threads=0, memory=0 B>"
      ]
     },
     "execution_count": 5,
     "metadata": {},
     "output_type": "execute_result"
    }
   ],
   "source": [
    "client"
   ]
  },
  {
   "cell_type": "markdown",
   "id": "bf60607c-ce80-42bd-a552-be65bf24d706",
   "metadata": {},
   "source": [
    "***"
   ]
  },
  {
   "cell_type": "markdown",
   "id": "89c67e7f-1cc2-41e1-9b60-e0182bf523af",
   "metadata": {},
   "source": [
    "# load ETBF export NC files for S2"
   ]
  },
  {
   "cell_type": "code",
   "execution_count": 6,
   "id": "f8741fbb-73f2-4fef-841e-a11008214fed",
   "metadata": {},
   "outputs": [],
   "source": [
    "import glob\n",
    "ETBF_NC_data = xr.merge([xr.open_dataset(f) for f in glob.glob('/g/data/v14/tm4888/data/ACCESS-S2/ETBF_export/*.nc')]).drop({'depth'})"
   ]
  },
  {
   "cell_type": "code",
   "execution_count": 7,
   "id": "84625709-a62d-4f8d-8a50-4f6417586b79",
   "metadata": {},
   "outputs": [
    {
     "data": {
      "text/html": [
       "<div><svg style=\"position: absolute; width: 0; height: 0; overflow: hidden\">\n",
       "<defs>\n",
       "<symbol id=\"icon-database\" viewBox=\"0 0 32 32\">\n",
       "<path d=\"M16 0c-8.837 0-16 2.239-16 5v4c0 2.761 7.163 5 16 5s16-2.239 16-5v-4c0-2.761-7.163-5-16-5z\"></path>\n",
       "<path d=\"M16 17c-8.837 0-16-2.239-16-5v6c0 2.761 7.163 5 16 5s16-2.239 16-5v-6c0 2.761-7.163 5-16 5z\"></path>\n",
       "<path d=\"M16 26c-8.837 0-16-2.239-16-5v6c0 2.761 7.163 5 16 5s16-2.239 16-5v-6c0 2.761-7.163 5-16 5z\"></path>\n",
       "</symbol>\n",
       "<symbol id=\"icon-file-text2\" viewBox=\"0 0 32 32\">\n",
       "<path d=\"M28.681 7.159c-0.694-0.947-1.662-2.053-2.724-3.116s-2.169-2.030-3.116-2.724c-1.612-1.182-2.393-1.319-2.841-1.319h-15.5c-1.378 0-2.5 1.121-2.5 2.5v27c0 1.378 1.122 2.5 2.5 2.5h23c1.378 0 2.5-1.122 2.5-2.5v-19.5c0-0.448-0.137-1.23-1.319-2.841zM24.543 5.457c0.959 0.959 1.712 1.825 2.268 2.543h-4.811v-4.811c0.718 0.556 1.584 1.309 2.543 2.268zM28 29.5c0 0.271-0.229 0.5-0.5 0.5h-23c-0.271 0-0.5-0.229-0.5-0.5v-27c0-0.271 0.229-0.5 0.5-0.5 0 0 15.499-0 15.5 0v7c0 0.552 0.448 1 1 1h7v19.5z\"></path>\n",
       "<path d=\"M23 26h-14c-0.552 0-1-0.448-1-1s0.448-1 1-1h14c0.552 0 1 0.448 1 1s-0.448 1-1 1z\"></path>\n",
       "<path d=\"M23 22h-14c-0.552 0-1-0.448-1-1s0.448-1 1-1h14c0.552 0 1 0.448 1 1s-0.448 1-1 1z\"></path>\n",
       "<path d=\"M23 18h-14c-0.552 0-1-0.448-1-1s0.448-1 1-1h14c0.552 0 1 0.448 1 1s-0.448 1-1 1z\"></path>\n",
       "</symbol>\n",
       "</defs>\n",
       "</svg>\n",
       "<style>/* CSS stylesheet for displaying xarray objects in jupyterlab.\n",
       " *\n",
       " */\n",
       "\n",
       ":root {\n",
       "  --xr-font-color0: var(--jp-content-font-color0, rgba(0, 0, 0, 1));\n",
       "  --xr-font-color2: var(--jp-content-font-color2, rgba(0, 0, 0, 0.54));\n",
       "  --xr-font-color3: var(--jp-content-font-color3, rgba(0, 0, 0, 0.38));\n",
       "  --xr-border-color: var(--jp-border-color2, #e0e0e0);\n",
       "  --xr-disabled-color: var(--jp-layout-color3, #bdbdbd);\n",
       "  --xr-background-color: var(--jp-layout-color0, white);\n",
       "  --xr-background-color-row-even: var(--jp-layout-color1, white);\n",
       "  --xr-background-color-row-odd: var(--jp-layout-color2, #eeeeee);\n",
       "}\n",
       "\n",
       "html[theme=dark],\n",
       "body.vscode-dark {\n",
       "  --xr-font-color0: rgba(255, 255, 255, 1);\n",
       "  --xr-font-color2: rgba(255, 255, 255, 0.54);\n",
       "  --xr-font-color3: rgba(255, 255, 255, 0.38);\n",
       "  --xr-border-color: #1F1F1F;\n",
       "  --xr-disabled-color: #515151;\n",
       "  --xr-background-color: #111111;\n",
       "  --xr-background-color-row-even: #111111;\n",
       "  --xr-background-color-row-odd: #313131;\n",
       "}\n",
       "\n",
       ".xr-wrap {\n",
       "  display: block;\n",
       "  min-width: 300px;\n",
       "  max-width: 700px;\n",
       "}\n",
       "\n",
       ".xr-text-repr-fallback {\n",
       "  /* fallback to plain text repr when CSS is not injected (untrusted notebook) */\n",
       "  display: none;\n",
       "}\n",
       "\n",
       ".xr-header {\n",
       "  padding-top: 6px;\n",
       "  padding-bottom: 6px;\n",
       "  margin-bottom: 4px;\n",
       "  border-bottom: solid 1px var(--xr-border-color);\n",
       "}\n",
       "\n",
       ".xr-header > div,\n",
       ".xr-header > ul {\n",
       "  display: inline;\n",
       "  margin-top: 0;\n",
       "  margin-bottom: 0;\n",
       "}\n",
       "\n",
       ".xr-obj-type,\n",
       ".xr-array-name {\n",
       "  margin-left: 2px;\n",
       "  margin-right: 10px;\n",
       "}\n",
       "\n",
       ".xr-obj-type {\n",
       "  color: var(--xr-font-color2);\n",
       "}\n",
       "\n",
       ".xr-sections {\n",
       "  padding-left: 0 !important;\n",
       "  display: grid;\n",
       "  grid-template-columns: 150px auto auto 1fr 20px 20px;\n",
       "}\n",
       "\n",
       ".xr-section-item {\n",
       "  display: contents;\n",
       "}\n",
       "\n",
       ".xr-section-item input {\n",
       "  display: none;\n",
       "}\n",
       "\n",
       ".xr-section-item input + label {\n",
       "  color: var(--xr-disabled-color);\n",
       "}\n",
       "\n",
       ".xr-section-item input:enabled + label {\n",
       "  cursor: pointer;\n",
       "  color: var(--xr-font-color2);\n",
       "}\n",
       "\n",
       ".xr-section-item input:enabled + label:hover {\n",
       "  color: var(--xr-font-color0);\n",
       "}\n",
       "\n",
       ".xr-section-summary {\n",
       "  grid-column: 1;\n",
       "  color: var(--xr-font-color2);\n",
       "  font-weight: 500;\n",
       "}\n",
       "\n",
       ".xr-section-summary > span {\n",
       "  display: inline-block;\n",
       "  padding-left: 0.5em;\n",
       "}\n",
       "\n",
       ".xr-section-summary-in:disabled + label {\n",
       "  color: var(--xr-font-color2);\n",
       "}\n",
       "\n",
       ".xr-section-summary-in + label:before {\n",
       "  display: inline-block;\n",
       "  content: '►';\n",
       "  font-size: 11px;\n",
       "  width: 15px;\n",
       "  text-align: center;\n",
       "}\n",
       "\n",
       ".xr-section-summary-in:disabled + label:before {\n",
       "  color: var(--xr-disabled-color);\n",
       "}\n",
       "\n",
       ".xr-section-summary-in:checked + label:before {\n",
       "  content: '▼';\n",
       "}\n",
       "\n",
       ".xr-section-summary-in:checked + label > span {\n",
       "  display: none;\n",
       "}\n",
       "\n",
       ".xr-section-summary,\n",
       ".xr-section-inline-details {\n",
       "  padding-top: 4px;\n",
       "  padding-bottom: 4px;\n",
       "}\n",
       "\n",
       ".xr-section-inline-details {\n",
       "  grid-column: 2 / -1;\n",
       "}\n",
       "\n",
       ".xr-section-details {\n",
       "  display: none;\n",
       "  grid-column: 1 / -1;\n",
       "  margin-bottom: 5px;\n",
       "}\n",
       "\n",
       ".xr-section-summary-in:checked ~ .xr-section-details {\n",
       "  display: contents;\n",
       "}\n",
       "\n",
       ".xr-array-wrap {\n",
       "  grid-column: 1 / -1;\n",
       "  display: grid;\n",
       "  grid-template-columns: 20px auto;\n",
       "}\n",
       "\n",
       ".xr-array-wrap > label {\n",
       "  grid-column: 1;\n",
       "  vertical-align: top;\n",
       "}\n",
       "\n",
       ".xr-preview {\n",
       "  color: var(--xr-font-color3);\n",
       "}\n",
       "\n",
       ".xr-array-preview,\n",
       ".xr-array-data {\n",
       "  padding: 0 5px !important;\n",
       "  grid-column: 2;\n",
       "}\n",
       "\n",
       ".xr-array-data,\n",
       ".xr-array-in:checked ~ .xr-array-preview {\n",
       "  display: none;\n",
       "}\n",
       "\n",
       ".xr-array-in:checked ~ .xr-array-data,\n",
       ".xr-array-preview {\n",
       "  display: inline-block;\n",
       "}\n",
       "\n",
       ".xr-dim-list {\n",
       "  display: inline-block !important;\n",
       "  list-style: none;\n",
       "  padding: 0 !important;\n",
       "  margin: 0;\n",
       "}\n",
       "\n",
       ".xr-dim-list li {\n",
       "  display: inline-block;\n",
       "  padding: 0;\n",
       "  margin: 0;\n",
       "}\n",
       "\n",
       ".xr-dim-list:before {\n",
       "  content: '(';\n",
       "}\n",
       "\n",
       ".xr-dim-list:after {\n",
       "  content: ')';\n",
       "}\n",
       "\n",
       ".xr-dim-list li:not(:last-child):after {\n",
       "  content: ',';\n",
       "  padding-right: 5px;\n",
       "}\n",
       "\n",
       ".xr-has-index {\n",
       "  font-weight: bold;\n",
       "}\n",
       "\n",
       ".xr-var-list,\n",
       ".xr-var-item {\n",
       "  display: contents;\n",
       "}\n",
       "\n",
       ".xr-var-item > div,\n",
       ".xr-var-item label,\n",
       ".xr-var-item > .xr-var-name span {\n",
       "  background-color: var(--xr-background-color-row-even);\n",
       "  margin-bottom: 0;\n",
       "}\n",
       "\n",
       ".xr-var-item > .xr-var-name:hover span {\n",
       "  padding-right: 5px;\n",
       "}\n",
       "\n",
       ".xr-var-list > li:nth-child(odd) > div,\n",
       ".xr-var-list > li:nth-child(odd) > label,\n",
       ".xr-var-list > li:nth-child(odd) > .xr-var-name span {\n",
       "  background-color: var(--xr-background-color-row-odd);\n",
       "}\n",
       "\n",
       ".xr-var-name {\n",
       "  grid-column: 1;\n",
       "}\n",
       "\n",
       ".xr-var-dims {\n",
       "  grid-column: 2;\n",
       "}\n",
       "\n",
       ".xr-var-dtype {\n",
       "  grid-column: 3;\n",
       "  text-align: right;\n",
       "  color: var(--xr-font-color2);\n",
       "}\n",
       "\n",
       ".xr-var-preview {\n",
       "  grid-column: 4;\n",
       "}\n",
       "\n",
       ".xr-var-name,\n",
       ".xr-var-dims,\n",
       ".xr-var-dtype,\n",
       ".xr-preview,\n",
       ".xr-attrs dt {\n",
       "  white-space: nowrap;\n",
       "  overflow: hidden;\n",
       "  text-overflow: ellipsis;\n",
       "  padding-right: 10px;\n",
       "}\n",
       "\n",
       ".xr-var-name:hover,\n",
       ".xr-var-dims:hover,\n",
       ".xr-var-dtype:hover,\n",
       ".xr-attrs dt:hover {\n",
       "  overflow: visible;\n",
       "  width: auto;\n",
       "  z-index: 1;\n",
       "}\n",
       "\n",
       ".xr-var-attrs,\n",
       ".xr-var-data {\n",
       "  display: none;\n",
       "  background-color: var(--xr-background-color) !important;\n",
       "  padding-bottom: 5px !important;\n",
       "}\n",
       "\n",
       ".xr-var-attrs-in:checked ~ .xr-var-attrs,\n",
       ".xr-var-data-in:checked ~ .xr-var-data {\n",
       "  display: block;\n",
       "}\n",
       "\n",
       ".xr-var-data > table {\n",
       "  float: right;\n",
       "}\n",
       "\n",
       ".xr-var-name span,\n",
       ".xr-var-data,\n",
       ".xr-attrs {\n",
       "  padding-left: 25px !important;\n",
       "}\n",
       "\n",
       ".xr-attrs,\n",
       ".xr-var-attrs,\n",
       ".xr-var-data {\n",
       "  grid-column: 1 / -1;\n",
       "}\n",
       "\n",
       "dl.xr-attrs {\n",
       "  padding: 0;\n",
       "  margin: 0;\n",
       "  display: grid;\n",
       "  grid-template-columns: 125px auto;\n",
       "}\n",
       "\n",
       ".xr-attrs dt,\n",
       ".xr-attrs dd {\n",
       "  padding: 0;\n",
       "  margin: 0;\n",
       "  float: left;\n",
       "  padding-right: 10px;\n",
       "  width: auto;\n",
       "}\n",
       "\n",
       ".xr-attrs dt {\n",
       "  font-weight: normal;\n",
       "  grid-column: 1;\n",
       "}\n",
       "\n",
       ".xr-attrs dt:hover span {\n",
       "  display: inline-block;\n",
       "  background: var(--xr-background-color);\n",
       "  padding-right: 10px;\n",
       "}\n",
       "\n",
       ".xr-attrs dd {\n",
       "  grid-column: 2;\n",
       "  white-space: pre-wrap;\n",
       "  word-break: break-all;\n",
       "}\n",
       "\n",
       ".xr-icon-database,\n",
       ".xr-icon-file-text2 {\n",
       "  display: inline-block;\n",
       "  vertical-align: middle;\n",
       "  width: 1em;\n",
       "  height: 1.5em !important;\n",
       "  stroke-width: 0;\n",
       "  stroke: currentColor;\n",
       "  fill: currentColor;\n",
       "}\n",
       "</style><pre class='xr-text-repr-fallback'>&lt;xarray.Dataset&gt;\n",
       "Dimensions:   (time: 480, lon: 360, lat: 180)\n",
       "Coordinates:\n",
       "  * time      (time) datetime64[ns] 1981-01-16 1981-02-15 ... 2020-12-01\n",
       "  * lon       (lon) float64 -179.5 -178.5 -177.5 -176.5 ... 177.5 178.5 179.5\n",
       "  * lat       (lat) float64 -89.5 -88.5 -87.5 -86.5 ... 86.5 87.5 88.5 89.5\n",
       "Data variables: (12/17)\n",
       "    d20       (time, lat, lon) float32 ...\n",
       "    sst       (time, lat, lon) float32 ...\n",
       "    eke300    (time, lat, lon) float32 ...\n",
       "    hc300     (time, lat, lon) float32 ...\n",
       "    sss       (time, lat, lon) float32 ...\n",
       "    temp50    (time, lat, lon) float32 ...\n",
       "    ...        ...\n",
       "    mld2      (time, lat, lon) float32 ...\n",
       "    td        (time, lat, lon) float32 ...\n",
       "    v100      (time, lat, lon) float32 ...\n",
       "    u100      (time, lat, lon) float32 ...\n",
       "    mld1      (time, lat, lon) float32 ...\n",
       "    temp100   (time, lat, lon) float32 ...</pre><div class='xr-wrap' hidden><div class='xr-header'><div class='xr-obj-type'>xarray.Dataset</div></div><ul class='xr-sections'><li class='xr-section-item'><input id='section-db92f25b-01d4-489a-9633-86974c940fe5' class='xr-section-summary-in' type='checkbox' disabled ><label for='section-db92f25b-01d4-489a-9633-86974c940fe5' class='xr-section-summary'  title='Expand/collapse section'>Dimensions:</label><div class='xr-section-inline-details'><ul class='xr-dim-list'><li><span class='xr-has-index'>time</span>: 480</li><li><span class='xr-has-index'>lon</span>: 360</li><li><span class='xr-has-index'>lat</span>: 180</li></ul></div><div class='xr-section-details'></div></li><li class='xr-section-item'><input id='section-250e7ff1-3cf8-4ecc-9a45-3d23c0f877a7' class='xr-section-summary-in' type='checkbox'  checked><label for='section-250e7ff1-3cf8-4ecc-9a45-3d23c0f877a7' class='xr-section-summary' >Coordinates: <span>(3)</span></label><div class='xr-section-inline-details'></div><div class='xr-section-details'><ul class='xr-var-list'><li class='xr-var-item'><div class='xr-var-name'><span class='xr-has-index'>time</span></div><div class='xr-var-dims'>(time)</div><div class='xr-var-dtype'>datetime64[ns]</div><div class='xr-var-preview xr-preview'>1981-01-16 ... 2020-12-01</div><input id='attrs-ab0bc116-b982-45ab-b107-83d4791fc77a' class='xr-var-attrs-in' type='checkbox' ><label for='attrs-ab0bc116-b982-45ab-b107-83d4791fc77a' title='Show/Hide attributes'><svg class='icon xr-icon-file-text2'><use xlink:href='#icon-file-text2'></use></svg></label><input id='data-5bc6e4ce-da84-4c1f-b1a7-1021c3786de4' class='xr-var-data-in' type='checkbox'><label for='data-5bc6e4ce-da84-4c1f-b1a7-1021c3786de4' title='Show/Hide data repr'><svg class='icon xr-icon-database'><use xlink:href='#icon-database'></use></svg></label><div class='xr-var-attrs'><dl class='xr-attrs'><dt><span>axis :</span></dt><dd>time</dd><dt><span>standard_name :</span></dt><dd>datetime64</dd></dl></div><div class='xr-var-data'><pre>array([&#x27;1981-01-16T00:00:00.000000000&#x27;, &#x27;1981-02-15T00:00:00.000000000&#x27;,\n",
       "       &#x27;1981-03-16T00:00:00.000000000&#x27;, ..., &#x27;2020-10-01T00:00:00.000000000&#x27;,\n",
       "       &#x27;2020-11-01T00:00:00.000000000&#x27;, &#x27;2020-12-01T00:00:00.000000000&#x27;],\n",
       "      dtype=&#x27;datetime64[ns]&#x27;)</pre></div></li><li class='xr-var-item'><div class='xr-var-name'><span class='xr-has-index'>lon</span></div><div class='xr-var-dims'>(lon)</div><div class='xr-var-dtype'>float64</div><div class='xr-var-preview xr-preview'>-179.5 -178.5 ... 178.5 179.5</div><input id='attrs-54c71967-0237-40ab-93bf-715fbdf05c8d' class='xr-var-attrs-in' type='checkbox' ><label for='attrs-54c71967-0237-40ab-93bf-715fbdf05c8d' title='Show/Hide attributes'><svg class='icon xr-icon-file-text2'><use xlink:href='#icon-file-text2'></use></svg></label><input id='data-706a135e-61f3-478d-bd73-a05f6ea7e8f3' class='xr-var-data-in' type='checkbox'><label for='data-706a135e-61f3-478d-bd73-a05f6ea7e8f3' title='Show/Hide data repr'><svg class='icon xr-icon-database'><use xlink:href='#icon-database'></use></svg></label><div class='xr-var-attrs'><dl class='xr-attrs'><dt><span>standard_name :</span></dt><dd>longitude</dd></dl></div><div class='xr-var-data'><pre>array([-179.5, -178.5, -177.5, ...,  177.5,  178.5,  179.5])</pre></div></li><li class='xr-var-item'><div class='xr-var-name'><span class='xr-has-index'>lat</span></div><div class='xr-var-dims'>(lat)</div><div class='xr-var-dtype'>float64</div><div class='xr-var-preview xr-preview'>-89.5 -88.5 -87.5 ... 88.5 89.5</div><input id='attrs-9291af7a-5046-46e2-914e-f87ea53b6986' class='xr-var-attrs-in' type='checkbox' ><label for='attrs-9291af7a-5046-46e2-914e-f87ea53b6986' title='Show/Hide attributes'><svg class='icon xr-icon-file-text2'><use xlink:href='#icon-file-text2'></use></svg></label><input id='data-818391a2-f501-4d90-b8ef-141b04929880' class='xr-var-data-in' type='checkbox'><label for='data-818391a2-f501-4d90-b8ef-141b04929880' title='Show/Hide data repr'><svg class='icon xr-icon-database'><use xlink:href='#icon-database'></use></svg></label><div class='xr-var-attrs'><dl class='xr-attrs'><dt><span>standard_name :</span></dt><dd>latitude</dd></dl></div><div class='xr-var-data'><pre>array([-89.5, -88.5, -87.5, -86.5, -85.5, -84.5, -83.5, -82.5, -81.5, -80.5,\n",
       "       -79.5, -78.5, -77.5, -76.5, -75.5, -74.5, -73.5, -72.5, -71.5, -70.5,\n",
       "       -69.5, -68.5, -67.5, -66.5, -65.5, -64.5, -63.5, -62.5, -61.5, -60.5,\n",
       "       -59.5, -58.5, -57.5, -56.5, -55.5, -54.5, -53.5, -52.5, -51.5, -50.5,\n",
       "       -49.5, -48.5, -47.5, -46.5, -45.5, -44.5, -43.5, -42.5, -41.5, -40.5,\n",
       "       -39.5, -38.5, -37.5, -36.5, -35.5, -34.5, -33.5, -32.5, -31.5, -30.5,\n",
       "       -29.5, -28.5, -27.5, -26.5, -25.5, -24.5, -23.5, -22.5, -21.5, -20.5,\n",
       "       -19.5, -18.5, -17.5, -16.5, -15.5, -14.5, -13.5, -12.5, -11.5, -10.5,\n",
       "        -9.5,  -8.5,  -7.5,  -6.5,  -5.5,  -4.5,  -3.5,  -2.5,  -1.5,  -0.5,\n",
       "         0.5,   1.5,   2.5,   3.5,   4.5,   5.5,   6.5,   7.5,   8.5,   9.5,\n",
       "        10.5,  11.5,  12.5,  13.5,  14.5,  15.5,  16.5,  17.5,  18.5,  19.5,\n",
       "        20.5,  21.5,  22.5,  23.5,  24.5,  25.5,  26.5,  27.5,  28.5,  29.5,\n",
       "        30.5,  31.5,  32.5,  33.5,  34.5,  35.5,  36.5,  37.5,  38.5,  39.5,\n",
       "        40.5,  41.5,  42.5,  43.5,  44.5,  45.5,  46.5,  47.5,  48.5,  49.5,\n",
       "        50.5,  51.5,  52.5,  53.5,  54.5,  55.5,  56.5,  57.5,  58.5,  59.5,\n",
       "        60.5,  61.5,  62.5,  63.5,  64.5,  65.5,  66.5,  67.5,  68.5,  69.5,\n",
       "        70.5,  71.5,  72.5,  73.5,  74.5,  75.5,  76.5,  77.5,  78.5,  79.5,\n",
       "        80.5,  81.5,  82.5,  83.5,  84.5,  85.5,  86.5,  87.5,  88.5,  89.5])</pre></div></li></ul></div></li><li class='xr-section-item'><input id='section-763d497f-3cab-43e1-ba3a-dad9216f4bf6' class='xr-section-summary-in' type='checkbox'  ><label for='section-763d497f-3cab-43e1-ba3a-dad9216f4bf6' class='xr-section-summary' >Data variables: <span>(17)</span></label><div class='xr-section-inline-details'></div><div class='xr-section-details'><ul class='xr-var-list'><li class='xr-var-item'><div class='xr-var-name'><span>d20</span></div><div class='xr-var-dims'>(time, lat, lon)</div><div class='xr-var-dtype'>float32</div><div class='xr-var-preview xr-preview'>...</div><input id='attrs-0a807ff6-080e-48e4-8f2d-67ab7b2c683a' class='xr-var-attrs-in' type='checkbox' ><label for='attrs-0a807ff6-080e-48e4-8f2d-67ab7b2c683a' title='Show/Hide attributes'><svg class='icon xr-icon-file-text2'><use xlink:href='#icon-file-text2'></use></svg></label><input id='data-1b04c95f-7c8a-42d9-836c-ca14e5217e6b' class='xr-var-data-in' type='checkbox'><label for='data-1b04c95f-7c8a-42d9-836c-ca14e5217e6b' title='Show/Hide data repr'><svg class='icon xr-icon-database'><use xlink:href='#icon-database'></use></svg></label><div class='xr-var-attrs'><dl class='xr-attrs'><dt><span>long_name :</span></dt><dd>Depth of 20C isotherm</dd><dt><span>standard_name :</span></dt><dd>depth_of_isosurface_of_sea_water_potential_temperature</dd><dt><span>units :</span></dt><dd>m</dd></dl></div><div class='xr-var-data'><pre>[31104000 values with dtype=float32]</pre></div></li><li class='xr-var-item'><div class='xr-var-name'><span>sst</span></div><div class='xr-var-dims'>(time, lat, lon)</div><div class='xr-var-dtype'>float32</div><div class='xr-var-preview xr-preview'>...</div><input id='attrs-f5f33b73-f2e3-407b-9e99-66d3bf740b8e' class='xr-var-attrs-in' type='checkbox' ><label for='attrs-f5f33b73-f2e3-407b-9e99-66d3bf740b8e' title='Show/Hide attributes'><svg class='icon xr-icon-file-text2'><use xlink:href='#icon-file-text2'></use></svg></label><input id='data-a769e750-563e-46d6-9c94-802ea10d72be' class='xr-var-data-in' type='checkbox'><label for='data-a769e750-563e-46d6-9c94-802ea10d72be' title='Show/Hide data repr'><svg class='icon xr-icon-database'><use xlink:href='#icon-database'></use></svg></label><div class='xr-var-attrs'><dl class='xr-attrs'><dt><span>long_name :</span></dt><dd>Temperature</dd><dt><span>standard_name :</span></dt><dd>sea_water_potential_temperature</dd><dt><span>units :</span></dt><dd>degC</dd></dl></div><div class='xr-var-data'><pre>[31104000 values with dtype=float32]</pre></div></li><li class='xr-var-item'><div class='xr-var-name'><span>eke300</span></div><div class='xr-var-dims'>(time, lat, lon)</div><div class='xr-var-dtype'>float32</div><div class='xr-var-preview xr-preview'>...</div><input id='attrs-78652b22-e1ee-4fc0-a370-92494aa0c143' class='xr-var-attrs-in' type='checkbox' ><label for='attrs-78652b22-e1ee-4fc0-a370-92494aa0c143' title='Show/Hide attributes'><svg class='icon xr-icon-file-text2'><use xlink:href='#icon-file-text2'></use></svg></label><input id='data-42e7a24b-d245-4f46-b105-936ff0dd06dc' class='xr-var-data-in' type='checkbox'><label for='data-42e7a24b-d245-4f46-b105-936ff0dd06dc' title='Show/Hide data repr'><svg class='icon xr-icon-database'><use xlink:href='#icon-database'></use></svg></label><div class='xr-var-attrs'><dl class='xr-attrs'><dt><span>standard_name :</span></dt><dd>eke300</dd><dt><span>long_name :</span></dt><dd>eke depth weighted sum 0-300m</dd></dl></div><div class='xr-var-data'><pre>[31104000 values with dtype=float32]</pre></div></li><li class='xr-var-item'><div class='xr-var-name'><span>hc300</span></div><div class='xr-var-dims'>(time, lat, lon)</div><div class='xr-var-dtype'>float32</div><div class='xr-var-preview xr-preview'>...</div><input id='attrs-8e90138f-96d3-4056-87a1-c5a3e438e327' class='xr-var-attrs-in' type='checkbox' ><label for='attrs-8e90138f-96d3-4056-87a1-c5a3e438e327' title='Show/Hide attributes'><svg class='icon xr-icon-file-text2'><use xlink:href='#icon-file-text2'></use></svg></label><input id='data-75e3c35a-97c3-492f-b4dc-a9c5f3e4aad3' class='xr-var-data-in' type='checkbox'><label for='data-75e3c35a-97c3-492f-b4dc-a9c5f3e4aad3' title='Show/Hide data repr'><svg class='icon xr-icon-database'><use xlink:href='#icon-database'></use></svg></label><div class='xr-var-attrs'><dl class='xr-attrs'><dt><span>long_name :</span></dt><dd>Heat content 300 m</dd><dt><span>standard_name :</span></dt><dd>integral_of_sea_water_potential_temperature_wrt_depth_expressed_as_heat_content</dd><dt><span>units :</span></dt><dd>J/m2</dd></dl></div><div class='xr-var-data'><pre>[31104000 values with dtype=float32]</pre></div></li><li class='xr-var-item'><div class='xr-var-name'><span>sss</span></div><div class='xr-var-dims'>(time, lat, lon)</div><div class='xr-var-dtype'>float32</div><div class='xr-var-preview xr-preview'>...</div><input id='attrs-9bb16cce-5e69-4067-9d59-5ba2b6476d56' class='xr-var-attrs-in' type='checkbox' ><label for='attrs-9bb16cce-5e69-4067-9d59-5ba2b6476d56' title='Show/Hide attributes'><svg class='icon xr-icon-file-text2'><use xlink:href='#icon-file-text2'></use></svg></label><input id='data-ba1514ae-4fa8-449d-aa17-ebf1e0e6627d' class='xr-var-data-in' type='checkbox'><label for='data-ba1514ae-4fa8-449d-aa17-ebf1e0e6627d' title='Show/Hide data repr'><svg class='icon xr-icon-database'><use xlink:href='#icon-database'></use></svg></label><div class='xr-var-attrs'><dl class='xr-attrs'><dt><span>long_name :</span></dt><dd>Salinity</dd><dt><span>standard_name :</span></dt><dd>sea_water_salinity</dd><dt><span>units :</span></dt><dd>PSU</dd></dl></div><div class='xr-var-data'><pre>[31104000 values with dtype=float32]</pre></div></li><li class='xr-var-item'><div class='xr-var-name'><span>temp50</span></div><div class='xr-var-dims'>(time, lat, lon)</div><div class='xr-var-dtype'>float32</div><div class='xr-var-preview xr-preview'>...</div><input id='attrs-6c276bf6-944d-4133-9c17-a83a15225a66' class='xr-var-attrs-in' type='checkbox' ><label for='attrs-6c276bf6-944d-4133-9c17-a83a15225a66' title='Show/Hide attributes'><svg class='icon xr-icon-file-text2'><use xlink:href='#icon-file-text2'></use></svg></label><input id='data-5155d288-57fb-4203-9313-58fe2635f0c0' class='xr-var-data-in' type='checkbox'><label for='data-5155d288-57fb-4203-9313-58fe2635f0c0' title='Show/Hide data repr'><svg class='icon xr-icon-database'><use xlink:href='#icon-database'></use></svg></label><div class='xr-var-attrs'><dl class='xr-attrs'><dt><span>long_name :</span></dt><dd>Temperature</dd><dt><span>standard_name :</span></dt><dd>sea_water_potential_temperature</dd><dt><span>units :</span></dt><dd>degC</dd></dl></div><div class='xr-var-data'><pre>[31104000 values with dtype=float32]</pre></div></li><li class='xr-var-item'><div class='xr-var-name'><span>eke2000</span></div><div class='xr-var-dims'>(time, lat, lon)</div><div class='xr-var-dtype'>float32</div><div class='xr-var-preview xr-preview'>...</div><input id='attrs-6ba0cd58-6cfd-4d62-a19f-9bf7856343b9' class='xr-var-attrs-in' type='checkbox' ><label for='attrs-6ba0cd58-6cfd-4d62-a19f-9bf7856343b9' title='Show/Hide attributes'><svg class='icon xr-icon-file-text2'><use xlink:href='#icon-file-text2'></use></svg></label><input id='data-acafafa1-54fc-494e-9e31-ece68037e9df' class='xr-var-data-in' type='checkbox'><label for='data-acafafa1-54fc-494e-9e31-ece68037e9df' title='Show/Hide data repr'><svg class='icon xr-icon-database'><use xlink:href='#icon-database'></use></svg></label><div class='xr-var-attrs'><dl class='xr-attrs'><dt><span>standard_name :</span></dt><dd>eke2000</dd><dt><span>long_name :</span></dt><dd>eke depth weighted sum 0-2000m</dd></dl></div><div class='xr-var-data'><pre>[31104000 values with dtype=float32]</pre></div></li><li class='xr-var-item'><div class='xr-var-name'><span>u100_300</span></div><div class='xr-var-dims'>(time, lat, lon)</div><div class='xr-var-dtype'>float32</div><div class='xr-var-preview xr-preview'>...</div><input id='attrs-8d5b686a-ff97-4761-a55f-9305b2e39ce0' class='xr-var-attrs-in' type='checkbox' ><label for='attrs-8d5b686a-ff97-4761-a55f-9305b2e39ce0' title='Show/Hide attributes'><svg class='icon xr-icon-file-text2'><use xlink:href='#icon-file-text2'></use></svg></label><input id='data-4772c0b5-4d1a-44b3-8a4c-ca2e9846d4d4' class='xr-var-data-in' type='checkbox'><label for='data-4772c0b5-4d1a-44b3-8a4c-ca2e9846d4d4' title='Show/Hide data repr'><svg class='icon xr-icon-database'><use xlink:href='#icon-database'></use></svg></label><div class='xr-var-attrs'><dl class='xr-attrs'><dt><span>standard_name :</span></dt><dd>u100_300</dd><dt><span>long_name :</span></dt><dd>x velocity depth weighted mean between 100-300m</dd><dt><span>units :</span></dt><dd>m/s</dd></dl></div><div class='xr-var-data'><pre>[31104000 values with dtype=float32]</pre></div></li><li class='xr-var-item'><div class='xr-var-name'><span>temp500</span></div><div class='xr-var-dims'>(time, lat, lon)</div><div class='xr-var-dtype'>float32</div><div class='xr-var-preview xr-preview'>...</div><input id='attrs-486a2861-01ea-4972-8df6-8a4b40f2d522' class='xr-var-attrs-in' type='checkbox' ><label for='attrs-486a2861-01ea-4972-8df6-8a4b40f2d522' title='Show/Hide attributes'><svg class='icon xr-icon-file-text2'><use xlink:href='#icon-file-text2'></use></svg></label><input id='data-956da025-eec4-44a0-ac4a-17faa5031804' class='xr-var-data-in' type='checkbox'><label for='data-956da025-eec4-44a0-ac4a-17faa5031804' title='Show/Hide data repr'><svg class='icon xr-icon-database'><use xlink:href='#icon-database'></use></svg></label><div class='xr-var-attrs'><dl class='xr-attrs'><dt><span>long_name :</span></dt><dd>Temperature</dd><dt><span>standard_name :</span></dt><dd>sea_water_potential_temperature</dd><dt><span>units :</span></dt><dd>degC</dd></dl></div><div class='xr-var-data'><pre>[31104000 values with dtype=float32]</pre></div></li><li class='xr-var-item'><div class='xr-var-name'><span>v100_300</span></div><div class='xr-var-dims'>(time, lat, lon)</div><div class='xr-var-dtype'>float32</div><div class='xr-var-preview xr-preview'>...</div><input id='attrs-4b0cd7f4-daa7-4f29-8209-570f5cc754cd' class='xr-var-attrs-in' type='checkbox' ><label for='attrs-4b0cd7f4-daa7-4f29-8209-570f5cc754cd' title='Show/Hide attributes'><svg class='icon xr-icon-file-text2'><use xlink:href='#icon-file-text2'></use></svg></label><input id='data-1c5076f0-6f0a-46ce-9d9c-d1d2c5ff3506' class='xr-var-data-in' type='checkbox'><label for='data-1c5076f0-6f0a-46ce-9d9c-d1d2c5ff3506' title='Show/Hide data repr'><svg class='icon xr-icon-database'><use xlink:href='#icon-database'></use></svg></label><div class='xr-var-attrs'><dl class='xr-attrs'><dt><span>standard_name :</span></dt><dd>v100_300</dd><dt><span>long_name :</span></dt><dd>y velocity depth weighted mean between 100-300m</dd><dt><span>units :</span></dt><dd>m/s</dd></dl></div><div class='xr-var-data'><pre>[31104000 values with dtype=float32]</pre></div></li><li class='xr-var-item'><div class='xr-var-name'><span>temp200</span></div><div class='xr-var-dims'>(time, lat, lon)</div><div class='xr-var-dtype'>float32</div><div class='xr-var-preview xr-preview'>...</div><input id='attrs-88c212be-42c3-466f-a79d-b82efafe0dee' class='xr-var-attrs-in' type='checkbox' ><label for='attrs-88c212be-42c3-466f-a79d-b82efafe0dee' title='Show/Hide attributes'><svg class='icon xr-icon-file-text2'><use xlink:href='#icon-file-text2'></use></svg></label><input id='data-89fef9cb-ffda-4587-9078-214849723c9b' class='xr-var-data-in' type='checkbox'><label for='data-89fef9cb-ffda-4587-9078-214849723c9b' title='Show/Hide data repr'><svg class='icon xr-icon-database'><use xlink:href='#icon-database'></use></svg></label><div class='xr-var-attrs'><dl class='xr-attrs'><dt><span>long_name :</span></dt><dd>Temperature</dd><dt><span>standard_name :</span></dt><dd>sea_water_potential_temperature</dd><dt><span>units :</span></dt><dd>degC</dd></dl></div><div class='xr-var-data'><pre>[31104000 values with dtype=float32]</pre></div></li><li class='xr-var-item'><div class='xr-var-name'><span>mld2</span></div><div class='xr-var-dims'>(time, lat, lon)</div><div class='xr-var-dtype'>float32</div><div class='xr-var-preview xr-preview'>...</div><input id='attrs-a6b3abf4-e5da-4a13-ba17-a02dd4c75000' class='xr-var-attrs-in' type='checkbox' ><label for='attrs-a6b3abf4-e5da-4a13-ba17-a02dd4c75000' title='Show/Hide attributes'><svg class='icon xr-icon-file-text2'><use xlink:href='#icon-file-text2'></use></svg></label><input id='data-0870daa1-9c25-4e5b-9a00-4fb5ea5199ae' class='xr-var-data-in' type='checkbox'><label for='data-0870daa1-9c25-4e5b-9a00-4fb5ea5199ae' title='Show/Hide data repr'><svg class='icon xr-icon-database'><use xlink:href='#icon-database'></use></svg></label><div class='xr-var-attrs'><dl class='xr-attrs'><dt><span>long_name :</span></dt><dd>Mixed Layer Depth 0.01</dd><dt><span>standard_name :</span></dt><dd>ocean_mixed_layer_thickness_defined_by_sigma_theta</dd><dt><span>units :</span></dt><dd>m</dd></dl></div><div class='xr-var-data'><pre>[31104000 values with dtype=float32]</pre></div></li><li class='xr-var-item'><div class='xr-var-name'><span>td</span></div><div class='xr-var-dims'>(time, lat, lon)</div><div class='xr-var-dtype'>float32</div><div class='xr-var-preview xr-preview'>...</div><input id='attrs-2798aa2c-9881-4d51-830e-2dfee19ebf24' class='xr-var-attrs-in' type='checkbox' ><label for='attrs-2798aa2c-9881-4d51-830e-2dfee19ebf24' title='Show/Hide attributes'><svg class='icon xr-icon-file-text2'><use xlink:href='#icon-file-text2'></use></svg></label><input id='data-f143b100-46ec-46a1-8425-8ef92348e328' class='xr-var-data-in' type='checkbox'><label for='data-f143b100-46ec-46a1-8425-8ef92348e328' title='Show/Hide data repr'><svg class='icon xr-icon-database'><use xlink:href='#icon-database'></use></svg></label><div class='xr-var-attrs'><dl class='xr-attrs'><dt><span>long_name :</span></dt><dd>Thermocline Depth</dd><dt><span>standard_name :</span></dt><dd>depth_at_maximum_upward_derivative_of_sea_water_potential_temperature</dd><dt><span>units :</span></dt><dd>m</dd></dl></div><div class='xr-var-data'><pre>[31104000 values with dtype=float32]</pre></div></li><li class='xr-var-item'><div class='xr-var-name'><span>v100</span></div><div class='xr-var-dims'>(time, lat, lon)</div><div class='xr-var-dtype'>float32</div><div class='xr-var-preview xr-preview'>...</div><input id='attrs-2b5852fc-8599-49c5-a91a-614a197cafac' class='xr-var-attrs-in' type='checkbox' ><label for='attrs-2b5852fc-8599-49c5-a91a-614a197cafac' title='Show/Hide attributes'><svg class='icon xr-icon-file-text2'><use xlink:href='#icon-file-text2'></use></svg></label><input id='data-6e01ce27-687b-45a5-943f-9e1f0ac94ef7' class='xr-var-data-in' type='checkbox'><label for='data-6e01ce27-687b-45a5-943f-9e1f0ac94ef7' title='Show/Hide data repr'><svg class='icon xr-icon-database'><use xlink:href='#icon-database'></use></svg></label><div class='xr-var-attrs'><dl class='xr-attrs'><dt><span>long_name :</span></dt><dd>y velocity at 100m</dd><dt><span>standard_name :</span></dt><dd>v100</dd><dt><span>units :</span></dt><dd>m/s</dd></dl></div><div class='xr-var-data'><pre>[31104000 values with dtype=float32]</pre></div></li><li class='xr-var-item'><div class='xr-var-name'><span>u100</span></div><div class='xr-var-dims'>(time, lat, lon)</div><div class='xr-var-dtype'>float32</div><div class='xr-var-preview xr-preview'>...</div><input id='attrs-d94902dd-97b9-40e8-bfb9-5b91a9efad30' class='xr-var-attrs-in' type='checkbox' ><label for='attrs-d94902dd-97b9-40e8-bfb9-5b91a9efad30' title='Show/Hide attributes'><svg class='icon xr-icon-file-text2'><use xlink:href='#icon-file-text2'></use></svg></label><input id='data-6f7f6048-f25d-4dd7-a7f0-08c1f952b41b' class='xr-var-data-in' type='checkbox'><label for='data-6f7f6048-f25d-4dd7-a7f0-08c1f952b41b' title='Show/Hide data repr'><svg class='icon xr-icon-database'><use xlink:href='#icon-database'></use></svg></label><div class='xr-var-attrs'><dl class='xr-attrs'><dt><span>long_name :</span></dt><dd>x velocity at 100m</dd><dt><span>standard_name :</span></dt><dd>u100</dd><dt><span>units :</span></dt><dd>m/s</dd></dl></div><div class='xr-var-data'><pre>[31104000 values with dtype=float32]</pre></div></li><li class='xr-var-item'><div class='xr-var-name'><span>mld1</span></div><div class='xr-var-dims'>(time, lat, lon)</div><div class='xr-var-dtype'>float32</div><div class='xr-var-preview xr-preview'>...</div><input id='attrs-5e205bac-4269-48d4-8453-3f04da64a8f3' class='xr-var-attrs-in' type='checkbox' ><label for='attrs-5e205bac-4269-48d4-8453-3f04da64a8f3' title='Show/Hide attributes'><svg class='icon xr-icon-file-text2'><use xlink:href='#icon-file-text2'></use></svg></label><input id='data-608d3d1c-0126-4a54-82fa-cf325ebc9dd8' class='xr-var-data-in' type='checkbox'><label for='data-608d3d1c-0126-4a54-82fa-cf325ebc9dd8' title='Show/Hide data repr'><svg class='icon xr-icon-database'><use xlink:href='#icon-database'></use></svg></label><div class='xr-var-attrs'><dl class='xr-attrs'><dt><span>long_name :</span></dt><dd>Kara Mixed Layer Depth</dd><dt><span>standard_name :</span></dt><dd>ocean_mixed_layer_thickness_defined_by_sigma_theta</dd><dt><span>units :</span></dt><dd>m</dd></dl></div><div class='xr-var-data'><pre>[31104000 values with dtype=float32]</pre></div></li><li class='xr-var-item'><div class='xr-var-name'><span>temp100</span></div><div class='xr-var-dims'>(time, lat, lon)</div><div class='xr-var-dtype'>float32</div><div class='xr-var-preview xr-preview'>...</div><input id='attrs-03bcdf11-dcca-44e5-a3bb-e61d0c59b45a' class='xr-var-attrs-in' type='checkbox' ><label for='attrs-03bcdf11-dcca-44e5-a3bb-e61d0c59b45a' title='Show/Hide attributes'><svg class='icon xr-icon-file-text2'><use xlink:href='#icon-file-text2'></use></svg></label><input id='data-40c16757-8ad5-40b8-8434-204cc1f79eb7' class='xr-var-data-in' type='checkbox'><label for='data-40c16757-8ad5-40b8-8434-204cc1f79eb7' title='Show/Hide data repr'><svg class='icon xr-icon-database'><use xlink:href='#icon-database'></use></svg></label><div class='xr-var-attrs'><dl class='xr-attrs'><dt><span>long_name :</span></dt><dd>Temperature</dd><dt><span>standard_name :</span></dt><dd>sea_water_potential_temperature</dd><dt><span>units :</span></dt><dd>degC</dd></dl></div><div class='xr-var-data'><pre>[31104000 values with dtype=float32]</pre></div></li></ul></div></li><li class='xr-section-item'><input id='section-f7046935-ec65-498d-a52c-5efb6919e50d' class='xr-section-summary-in' type='checkbox' disabled ><label for='section-f7046935-ec65-498d-a52c-5efb6919e50d' class='xr-section-summary'  title='Expand/collapse section'>Attributes: <span>(0)</span></label><div class='xr-section-inline-details'></div><div class='xr-section-details'><dl class='xr-attrs'></dl></div></li></ul></div></div>"
      ],
      "text/plain": [
       "<xarray.Dataset>\n",
       "Dimensions:   (time: 480, lon: 360, lat: 180)\n",
       "Coordinates:\n",
       "  * time      (time) datetime64[ns] 1981-01-16 1981-02-15 ... 2020-12-01\n",
       "  * lon       (lon) float64 -179.5 -178.5 -177.5 -176.5 ... 177.5 178.5 179.5\n",
       "  * lat       (lat) float64 -89.5 -88.5 -87.5 -86.5 ... 86.5 87.5 88.5 89.5\n",
       "Data variables: (12/17)\n",
       "    d20       (time, lat, lon) float32 ...\n",
       "    sst       (time, lat, lon) float32 ...\n",
       "    eke300    (time, lat, lon) float32 ...\n",
       "    hc300     (time, lat, lon) float32 ...\n",
       "    sss       (time, lat, lon) float32 ...\n",
       "    temp50    (time, lat, lon) float32 ...\n",
       "    ...        ...\n",
       "    mld2      (time, lat, lon) float32 ...\n",
       "    td        (time, lat, lon) float32 ...\n",
       "    v100      (time, lat, lon) float32 ...\n",
       "    u100      (time, lat, lon) float32 ...\n",
       "    mld1      (time, lat, lon) float32 ...\n",
       "    temp100   (time, lat, lon) float32 ..."
      ]
     },
     "execution_count": 7,
     "metadata": {},
     "output_type": "execute_result"
    }
   ],
   "source": [
    "ETBF_NC_data"
   ]
  },
  {
   "cell_type": "markdown",
   "id": "28930125-7faf-4575-820b-a712c24705b5",
   "metadata": {},
   "source": [
    "# crop region"
   ]
  },
  {
   "cell_type": "code",
   "execution_count": 8,
   "id": "6975b239-d13a-463d-8a20-c24a9f7d5378",
   "metadata": {},
   "outputs": [],
   "source": [
    "ETBF_NC_data_AUSregion = ETBF_NC_data.sel({'lon':slice(100,240),'lat':slice(-60,5)})"
   ]
  },
  {
   "cell_type": "code",
   "execution_count": 9,
   "id": "b3a53c55-3851-420a-b1fe-76651eb1143f",
   "metadata": {},
   "outputs": [
    {
     "data": {
      "text/html": [
       "<div><svg style=\"position: absolute; width: 0; height: 0; overflow: hidden\">\n",
       "<defs>\n",
       "<symbol id=\"icon-database\" viewBox=\"0 0 32 32\">\n",
       "<path d=\"M16 0c-8.837 0-16 2.239-16 5v4c0 2.761 7.163 5 16 5s16-2.239 16-5v-4c0-2.761-7.163-5-16-5z\"></path>\n",
       "<path d=\"M16 17c-8.837 0-16-2.239-16-5v6c0 2.761 7.163 5 16 5s16-2.239 16-5v-6c0 2.761-7.163 5-16 5z\"></path>\n",
       "<path d=\"M16 26c-8.837 0-16-2.239-16-5v6c0 2.761 7.163 5 16 5s16-2.239 16-5v-6c0 2.761-7.163 5-16 5z\"></path>\n",
       "</symbol>\n",
       "<symbol id=\"icon-file-text2\" viewBox=\"0 0 32 32\">\n",
       "<path d=\"M28.681 7.159c-0.694-0.947-1.662-2.053-2.724-3.116s-2.169-2.030-3.116-2.724c-1.612-1.182-2.393-1.319-2.841-1.319h-15.5c-1.378 0-2.5 1.121-2.5 2.5v27c0 1.378 1.122 2.5 2.5 2.5h23c1.378 0 2.5-1.122 2.5-2.5v-19.5c0-0.448-0.137-1.23-1.319-2.841zM24.543 5.457c0.959 0.959 1.712 1.825 2.268 2.543h-4.811v-4.811c0.718 0.556 1.584 1.309 2.543 2.268zM28 29.5c0 0.271-0.229 0.5-0.5 0.5h-23c-0.271 0-0.5-0.229-0.5-0.5v-27c0-0.271 0.229-0.5 0.5-0.5 0 0 15.499-0 15.5 0v7c0 0.552 0.448 1 1 1h7v19.5z\"></path>\n",
       "<path d=\"M23 26h-14c-0.552 0-1-0.448-1-1s0.448-1 1-1h14c0.552 0 1 0.448 1 1s-0.448 1-1 1z\"></path>\n",
       "<path d=\"M23 22h-14c-0.552 0-1-0.448-1-1s0.448-1 1-1h14c0.552 0 1 0.448 1 1s-0.448 1-1 1z\"></path>\n",
       "<path d=\"M23 18h-14c-0.552 0-1-0.448-1-1s0.448-1 1-1h14c0.552 0 1 0.448 1 1s-0.448 1-1 1z\"></path>\n",
       "</symbol>\n",
       "</defs>\n",
       "</svg>\n",
       "<style>/* CSS stylesheet for displaying xarray objects in jupyterlab.\n",
       " *\n",
       " */\n",
       "\n",
       ":root {\n",
       "  --xr-font-color0: var(--jp-content-font-color0, rgba(0, 0, 0, 1));\n",
       "  --xr-font-color2: var(--jp-content-font-color2, rgba(0, 0, 0, 0.54));\n",
       "  --xr-font-color3: var(--jp-content-font-color3, rgba(0, 0, 0, 0.38));\n",
       "  --xr-border-color: var(--jp-border-color2, #e0e0e0);\n",
       "  --xr-disabled-color: var(--jp-layout-color3, #bdbdbd);\n",
       "  --xr-background-color: var(--jp-layout-color0, white);\n",
       "  --xr-background-color-row-even: var(--jp-layout-color1, white);\n",
       "  --xr-background-color-row-odd: var(--jp-layout-color2, #eeeeee);\n",
       "}\n",
       "\n",
       "html[theme=dark],\n",
       "body.vscode-dark {\n",
       "  --xr-font-color0: rgba(255, 255, 255, 1);\n",
       "  --xr-font-color2: rgba(255, 255, 255, 0.54);\n",
       "  --xr-font-color3: rgba(255, 255, 255, 0.38);\n",
       "  --xr-border-color: #1F1F1F;\n",
       "  --xr-disabled-color: #515151;\n",
       "  --xr-background-color: #111111;\n",
       "  --xr-background-color-row-even: #111111;\n",
       "  --xr-background-color-row-odd: #313131;\n",
       "}\n",
       "\n",
       ".xr-wrap {\n",
       "  display: block;\n",
       "  min-width: 300px;\n",
       "  max-width: 700px;\n",
       "}\n",
       "\n",
       ".xr-text-repr-fallback {\n",
       "  /* fallback to plain text repr when CSS is not injected (untrusted notebook) */\n",
       "  display: none;\n",
       "}\n",
       "\n",
       ".xr-header {\n",
       "  padding-top: 6px;\n",
       "  padding-bottom: 6px;\n",
       "  margin-bottom: 4px;\n",
       "  border-bottom: solid 1px var(--xr-border-color);\n",
       "}\n",
       "\n",
       ".xr-header > div,\n",
       ".xr-header > ul {\n",
       "  display: inline;\n",
       "  margin-top: 0;\n",
       "  margin-bottom: 0;\n",
       "}\n",
       "\n",
       ".xr-obj-type,\n",
       ".xr-array-name {\n",
       "  margin-left: 2px;\n",
       "  margin-right: 10px;\n",
       "}\n",
       "\n",
       ".xr-obj-type {\n",
       "  color: var(--xr-font-color2);\n",
       "}\n",
       "\n",
       ".xr-sections {\n",
       "  padding-left: 0 !important;\n",
       "  display: grid;\n",
       "  grid-template-columns: 150px auto auto 1fr 20px 20px;\n",
       "}\n",
       "\n",
       ".xr-section-item {\n",
       "  display: contents;\n",
       "}\n",
       "\n",
       ".xr-section-item input {\n",
       "  display: none;\n",
       "}\n",
       "\n",
       ".xr-section-item input + label {\n",
       "  color: var(--xr-disabled-color);\n",
       "}\n",
       "\n",
       ".xr-section-item input:enabled + label {\n",
       "  cursor: pointer;\n",
       "  color: var(--xr-font-color2);\n",
       "}\n",
       "\n",
       ".xr-section-item input:enabled + label:hover {\n",
       "  color: var(--xr-font-color0);\n",
       "}\n",
       "\n",
       ".xr-section-summary {\n",
       "  grid-column: 1;\n",
       "  color: var(--xr-font-color2);\n",
       "  font-weight: 500;\n",
       "}\n",
       "\n",
       ".xr-section-summary > span {\n",
       "  display: inline-block;\n",
       "  padding-left: 0.5em;\n",
       "}\n",
       "\n",
       ".xr-section-summary-in:disabled + label {\n",
       "  color: var(--xr-font-color2);\n",
       "}\n",
       "\n",
       ".xr-section-summary-in + label:before {\n",
       "  display: inline-block;\n",
       "  content: '►';\n",
       "  font-size: 11px;\n",
       "  width: 15px;\n",
       "  text-align: center;\n",
       "}\n",
       "\n",
       ".xr-section-summary-in:disabled + label:before {\n",
       "  color: var(--xr-disabled-color);\n",
       "}\n",
       "\n",
       ".xr-section-summary-in:checked + label:before {\n",
       "  content: '▼';\n",
       "}\n",
       "\n",
       ".xr-section-summary-in:checked + label > span {\n",
       "  display: none;\n",
       "}\n",
       "\n",
       ".xr-section-summary,\n",
       ".xr-section-inline-details {\n",
       "  padding-top: 4px;\n",
       "  padding-bottom: 4px;\n",
       "}\n",
       "\n",
       ".xr-section-inline-details {\n",
       "  grid-column: 2 / -1;\n",
       "}\n",
       "\n",
       ".xr-section-details {\n",
       "  display: none;\n",
       "  grid-column: 1 / -1;\n",
       "  margin-bottom: 5px;\n",
       "}\n",
       "\n",
       ".xr-section-summary-in:checked ~ .xr-section-details {\n",
       "  display: contents;\n",
       "}\n",
       "\n",
       ".xr-array-wrap {\n",
       "  grid-column: 1 / -1;\n",
       "  display: grid;\n",
       "  grid-template-columns: 20px auto;\n",
       "}\n",
       "\n",
       ".xr-array-wrap > label {\n",
       "  grid-column: 1;\n",
       "  vertical-align: top;\n",
       "}\n",
       "\n",
       ".xr-preview {\n",
       "  color: var(--xr-font-color3);\n",
       "}\n",
       "\n",
       ".xr-array-preview,\n",
       ".xr-array-data {\n",
       "  padding: 0 5px !important;\n",
       "  grid-column: 2;\n",
       "}\n",
       "\n",
       ".xr-array-data,\n",
       ".xr-array-in:checked ~ .xr-array-preview {\n",
       "  display: none;\n",
       "}\n",
       "\n",
       ".xr-array-in:checked ~ .xr-array-data,\n",
       ".xr-array-preview {\n",
       "  display: inline-block;\n",
       "}\n",
       "\n",
       ".xr-dim-list {\n",
       "  display: inline-block !important;\n",
       "  list-style: none;\n",
       "  padding: 0 !important;\n",
       "  margin: 0;\n",
       "}\n",
       "\n",
       ".xr-dim-list li {\n",
       "  display: inline-block;\n",
       "  padding: 0;\n",
       "  margin: 0;\n",
       "}\n",
       "\n",
       ".xr-dim-list:before {\n",
       "  content: '(';\n",
       "}\n",
       "\n",
       ".xr-dim-list:after {\n",
       "  content: ')';\n",
       "}\n",
       "\n",
       ".xr-dim-list li:not(:last-child):after {\n",
       "  content: ',';\n",
       "  padding-right: 5px;\n",
       "}\n",
       "\n",
       ".xr-has-index {\n",
       "  font-weight: bold;\n",
       "}\n",
       "\n",
       ".xr-var-list,\n",
       ".xr-var-item {\n",
       "  display: contents;\n",
       "}\n",
       "\n",
       ".xr-var-item > div,\n",
       ".xr-var-item label,\n",
       ".xr-var-item > .xr-var-name span {\n",
       "  background-color: var(--xr-background-color-row-even);\n",
       "  margin-bottom: 0;\n",
       "}\n",
       "\n",
       ".xr-var-item > .xr-var-name:hover span {\n",
       "  padding-right: 5px;\n",
       "}\n",
       "\n",
       ".xr-var-list > li:nth-child(odd) > div,\n",
       ".xr-var-list > li:nth-child(odd) > label,\n",
       ".xr-var-list > li:nth-child(odd) > .xr-var-name span {\n",
       "  background-color: var(--xr-background-color-row-odd);\n",
       "}\n",
       "\n",
       ".xr-var-name {\n",
       "  grid-column: 1;\n",
       "}\n",
       "\n",
       ".xr-var-dims {\n",
       "  grid-column: 2;\n",
       "}\n",
       "\n",
       ".xr-var-dtype {\n",
       "  grid-column: 3;\n",
       "  text-align: right;\n",
       "  color: var(--xr-font-color2);\n",
       "}\n",
       "\n",
       ".xr-var-preview {\n",
       "  grid-column: 4;\n",
       "}\n",
       "\n",
       ".xr-var-name,\n",
       ".xr-var-dims,\n",
       ".xr-var-dtype,\n",
       ".xr-preview,\n",
       ".xr-attrs dt {\n",
       "  white-space: nowrap;\n",
       "  overflow: hidden;\n",
       "  text-overflow: ellipsis;\n",
       "  padding-right: 10px;\n",
       "}\n",
       "\n",
       ".xr-var-name:hover,\n",
       ".xr-var-dims:hover,\n",
       ".xr-var-dtype:hover,\n",
       ".xr-attrs dt:hover {\n",
       "  overflow: visible;\n",
       "  width: auto;\n",
       "  z-index: 1;\n",
       "}\n",
       "\n",
       ".xr-var-attrs,\n",
       ".xr-var-data {\n",
       "  display: none;\n",
       "  background-color: var(--xr-background-color) !important;\n",
       "  padding-bottom: 5px !important;\n",
       "}\n",
       "\n",
       ".xr-var-attrs-in:checked ~ .xr-var-attrs,\n",
       ".xr-var-data-in:checked ~ .xr-var-data {\n",
       "  display: block;\n",
       "}\n",
       "\n",
       ".xr-var-data > table {\n",
       "  float: right;\n",
       "}\n",
       "\n",
       ".xr-var-name span,\n",
       ".xr-var-data,\n",
       ".xr-attrs {\n",
       "  padding-left: 25px !important;\n",
       "}\n",
       "\n",
       ".xr-attrs,\n",
       ".xr-var-attrs,\n",
       ".xr-var-data {\n",
       "  grid-column: 1 / -1;\n",
       "}\n",
       "\n",
       "dl.xr-attrs {\n",
       "  padding: 0;\n",
       "  margin: 0;\n",
       "  display: grid;\n",
       "  grid-template-columns: 125px auto;\n",
       "}\n",
       "\n",
       ".xr-attrs dt,\n",
       ".xr-attrs dd {\n",
       "  padding: 0;\n",
       "  margin: 0;\n",
       "  float: left;\n",
       "  padding-right: 10px;\n",
       "  width: auto;\n",
       "}\n",
       "\n",
       ".xr-attrs dt {\n",
       "  font-weight: normal;\n",
       "  grid-column: 1;\n",
       "}\n",
       "\n",
       ".xr-attrs dt:hover span {\n",
       "  display: inline-block;\n",
       "  background: var(--xr-background-color);\n",
       "  padding-right: 10px;\n",
       "}\n",
       "\n",
       ".xr-attrs dd {\n",
       "  grid-column: 2;\n",
       "  white-space: pre-wrap;\n",
       "  word-break: break-all;\n",
       "}\n",
       "\n",
       ".xr-icon-database,\n",
       ".xr-icon-file-text2 {\n",
       "  display: inline-block;\n",
       "  vertical-align: middle;\n",
       "  width: 1em;\n",
       "  height: 1.5em !important;\n",
       "  stroke-width: 0;\n",
       "  stroke: currentColor;\n",
       "  fill: currentColor;\n",
       "}\n",
       "</style><pre class='xr-text-repr-fallback'>&lt;xarray.Dataset&gt;\n",
       "Dimensions:   (time: 480, lon: 80, lat: 65)\n",
       "Coordinates:\n",
       "  * time      (time) datetime64[ns] 1981-01-16 1981-02-15 ... 2020-12-01\n",
       "  * lon       (lon) float64 100.5 101.5 102.5 103.5 ... 176.5 177.5 178.5 179.5\n",
       "  * lat       (lat) float64 -59.5 -58.5 -57.5 -56.5 -55.5 ... 1.5 2.5 3.5 4.5\n",
       "Data variables: (12/17)\n",
       "    d20       (time, lat, lon) float32 ...\n",
       "    sst       (time, lat, lon) float32 ...\n",
       "    eke300    (time, lat, lon) float32 ...\n",
       "    hc300     (time, lat, lon) float32 ...\n",
       "    sss       (time, lat, lon) float32 ...\n",
       "    temp50    (time, lat, lon) float32 ...\n",
       "    ...        ...\n",
       "    mld2      (time, lat, lon) float32 ...\n",
       "    td        (time, lat, lon) float32 ...\n",
       "    v100      (time, lat, lon) float32 ...\n",
       "    u100      (time, lat, lon) float32 ...\n",
       "    mld1      (time, lat, lon) float32 ...\n",
       "    temp100   (time, lat, lon) float32 ...</pre><div class='xr-wrap' hidden><div class='xr-header'><div class='xr-obj-type'>xarray.Dataset</div></div><ul class='xr-sections'><li class='xr-section-item'><input id='section-03f25359-78ba-4f4b-bba7-23351cd659ae' class='xr-section-summary-in' type='checkbox' disabled ><label for='section-03f25359-78ba-4f4b-bba7-23351cd659ae' class='xr-section-summary'  title='Expand/collapse section'>Dimensions:</label><div class='xr-section-inline-details'><ul class='xr-dim-list'><li><span class='xr-has-index'>time</span>: 480</li><li><span class='xr-has-index'>lon</span>: 80</li><li><span class='xr-has-index'>lat</span>: 65</li></ul></div><div class='xr-section-details'></div></li><li class='xr-section-item'><input id='section-abc66e81-3b1e-4fc0-82c4-104abfdcb97c' class='xr-section-summary-in' type='checkbox'  checked><label for='section-abc66e81-3b1e-4fc0-82c4-104abfdcb97c' class='xr-section-summary' >Coordinates: <span>(3)</span></label><div class='xr-section-inline-details'></div><div class='xr-section-details'><ul class='xr-var-list'><li class='xr-var-item'><div class='xr-var-name'><span class='xr-has-index'>time</span></div><div class='xr-var-dims'>(time)</div><div class='xr-var-dtype'>datetime64[ns]</div><div class='xr-var-preview xr-preview'>1981-01-16 ... 2020-12-01</div><input id='attrs-eac03a81-a93c-4c9b-a3a3-7c07b7c9c878' class='xr-var-attrs-in' type='checkbox' ><label for='attrs-eac03a81-a93c-4c9b-a3a3-7c07b7c9c878' title='Show/Hide attributes'><svg class='icon xr-icon-file-text2'><use xlink:href='#icon-file-text2'></use></svg></label><input id='data-56c12fff-6e5d-45db-b47e-ffb856cabc22' class='xr-var-data-in' type='checkbox'><label for='data-56c12fff-6e5d-45db-b47e-ffb856cabc22' title='Show/Hide data repr'><svg class='icon xr-icon-database'><use xlink:href='#icon-database'></use></svg></label><div class='xr-var-attrs'><dl class='xr-attrs'><dt><span>axis :</span></dt><dd>time</dd><dt><span>standard_name :</span></dt><dd>datetime64</dd></dl></div><div class='xr-var-data'><pre>array([&#x27;1981-01-16T00:00:00.000000000&#x27;, &#x27;1981-02-15T00:00:00.000000000&#x27;,\n",
       "       &#x27;1981-03-16T00:00:00.000000000&#x27;, ..., &#x27;2020-10-01T00:00:00.000000000&#x27;,\n",
       "       &#x27;2020-11-01T00:00:00.000000000&#x27;, &#x27;2020-12-01T00:00:00.000000000&#x27;],\n",
       "      dtype=&#x27;datetime64[ns]&#x27;)</pre></div></li><li class='xr-var-item'><div class='xr-var-name'><span class='xr-has-index'>lon</span></div><div class='xr-var-dims'>(lon)</div><div class='xr-var-dtype'>float64</div><div class='xr-var-preview xr-preview'>100.5 101.5 102.5 ... 178.5 179.5</div><input id='attrs-1671fa3d-a4e1-448b-9be5-2aa592303583' class='xr-var-attrs-in' type='checkbox' ><label for='attrs-1671fa3d-a4e1-448b-9be5-2aa592303583' title='Show/Hide attributes'><svg class='icon xr-icon-file-text2'><use xlink:href='#icon-file-text2'></use></svg></label><input id='data-3e95d3ad-55af-4351-8226-6c576460bd57' class='xr-var-data-in' type='checkbox'><label for='data-3e95d3ad-55af-4351-8226-6c576460bd57' title='Show/Hide data repr'><svg class='icon xr-icon-database'><use xlink:href='#icon-database'></use></svg></label><div class='xr-var-attrs'><dl class='xr-attrs'><dt><span>standard_name :</span></dt><dd>longitude</dd></dl></div><div class='xr-var-data'><pre>array([100.5, 101.5, 102.5, 103.5, 104.5, 105.5, 106.5, 107.5, 108.5, 109.5,\n",
       "       110.5, 111.5, 112.5, 113.5, 114.5, 115.5, 116.5, 117.5, 118.5, 119.5,\n",
       "       120.5, 121.5, 122.5, 123.5, 124.5, 125.5, 126.5, 127.5, 128.5, 129.5,\n",
       "       130.5, 131.5, 132.5, 133.5, 134.5, 135.5, 136.5, 137.5, 138.5, 139.5,\n",
       "       140.5, 141.5, 142.5, 143.5, 144.5, 145.5, 146.5, 147.5, 148.5, 149.5,\n",
       "       150.5, 151.5, 152.5, 153.5, 154.5, 155.5, 156.5, 157.5, 158.5, 159.5,\n",
       "       160.5, 161.5, 162.5, 163.5, 164.5, 165.5, 166.5, 167.5, 168.5, 169.5,\n",
       "       170.5, 171.5, 172.5, 173.5, 174.5, 175.5, 176.5, 177.5, 178.5, 179.5])</pre></div></li><li class='xr-var-item'><div class='xr-var-name'><span class='xr-has-index'>lat</span></div><div class='xr-var-dims'>(lat)</div><div class='xr-var-dtype'>float64</div><div class='xr-var-preview xr-preview'>-59.5 -58.5 -57.5 ... 2.5 3.5 4.5</div><input id='attrs-17eaf8bc-654e-4c85-8580-8d3f6bd5035f' class='xr-var-attrs-in' type='checkbox' ><label for='attrs-17eaf8bc-654e-4c85-8580-8d3f6bd5035f' title='Show/Hide attributes'><svg class='icon xr-icon-file-text2'><use xlink:href='#icon-file-text2'></use></svg></label><input id='data-36971816-5ff3-4569-8ed9-3b37e860fe9d' class='xr-var-data-in' type='checkbox'><label for='data-36971816-5ff3-4569-8ed9-3b37e860fe9d' title='Show/Hide data repr'><svg class='icon xr-icon-database'><use xlink:href='#icon-database'></use></svg></label><div class='xr-var-attrs'><dl class='xr-attrs'><dt><span>standard_name :</span></dt><dd>latitude</dd></dl></div><div class='xr-var-data'><pre>array([-59.5, -58.5, -57.5, -56.5, -55.5, -54.5, -53.5, -52.5, -51.5, -50.5,\n",
       "       -49.5, -48.5, -47.5, -46.5, -45.5, -44.5, -43.5, -42.5, -41.5, -40.5,\n",
       "       -39.5, -38.5, -37.5, -36.5, -35.5, -34.5, -33.5, -32.5, -31.5, -30.5,\n",
       "       -29.5, -28.5, -27.5, -26.5, -25.5, -24.5, -23.5, -22.5, -21.5, -20.5,\n",
       "       -19.5, -18.5, -17.5, -16.5, -15.5, -14.5, -13.5, -12.5, -11.5, -10.5,\n",
       "        -9.5,  -8.5,  -7.5,  -6.5,  -5.5,  -4.5,  -3.5,  -2.5,  -1.5,  -0.5,\n",
       "         0.5,   1.5,   2.5,   3.5,   4.5])</pre></div></li></ul></div></li><li class='xr-section-item'><input id='section-0072400a-50cc-4445-bec4-9e233b726037' class='xr-section-summary-in' type='checkbox'  ><label for='section-0072400a-50cc-4445-bec4-9e233b726037' class='xr-section-summary' >Data variables: <span>(17)</span></label><div class='xr-section-inline-details'></div><div class='xr-section-details'><ul class='xr-var-list'><li class='xr-var-item'><div class='xr-var-name'><span>d20</span></div><div class='xr-var-dims'>(time, lat, lon)</div><div class='xr-var-dtype'>float32</div><div class='xr-var-preview xr-preview'>...</div><input id='attrs-0a34faa5-c978-4917-b63f-009342370112' class='xr-var-attrs-in' type='checkbox' ><label for='attrs-0a34faa5-c978-4917-b63f-009342370112' title='Show/Hide attributes'><svg class='icon xr-icon-file-text2'><use xlink:href='#icon-file-text2'></use></svg></label><input id='data-31fcdb58-edaf-401e-b736-dc6be69b29e8' class='xr-var-data-in' type='checkbox'><label for='data-31fcdb58-edaf-401e-b736-dc6be69b29e8' title='Show/Hide data repr'><svg class='icon xr-icon-database'><use xlink:href='#icon-database'></use></svg></label><div class='xr-var-attrs'><dl class='xr-attrs'><dt><span>long_name :</span></dt><dd>Depth of 20C isotherm</dd><dt><span>standard_name :</span></dt><dd>depth_of_isosurface_of_sea_water_potential_temperature</dd><dt><span>units :</span></dt><dd>m</dd></dl></div><div class='xr-var-data'><pre>[2496000 values with dtype=float32]</pre></div></li><li class='xr-var-item'><div class='xr-var-name'><span>sst</span></div><div class='xr-var-dims'>(time, lat, lon)</div><div class='xr-var-dtype'>float32</div><div class='xr-var-preview xr-preview'>...</div><input id='attrs-2435aa6e-8d16-4957-90a4-73451ac55921' class='xr-var-attrs-in' type='checkbox' ><label for='attrs-2435aa6e-8d16-4957-90a4-73451ac55921' title='Show/Hide attributes'><svg class='icon xr-icon-file-text2'><use xlink:href='#icon-file-text2'></use></svg></label><input id='data-542c82b9-6dcc-4284-a04f-ddcffbf60565' class='xr-var-data-in' type='checkbox'><label for='data-542c82b9-6dcc-4284-a04f-ddcffbf60565' title='Show/Hide data repr'><svg class='icon xr-icon-database'><use xlink:href='#icon-database'></use></svg></label><div class='xr-var-attrs'><dl class='xr-attrs'><dt><span>long_name :</span></dt><dd>Temperature</dd><dt><span>standard_name :</span></dt><dd>sea_water_potential_temperature</dd><dt><span>units :</span></dt><dd>degC</dd></dl></div><div class='xr-var-data'><pre>[2496000 values with dtype=float32]</pre></div></li><li class='xr-var-item'><div class='xr-var-name'><span>eke300</span></div><div class='xr-var-dims'>(time, lat, lon)</div><div class='xr-var-dtype'>float32</div><div class='xr-var-preview xr-preview'>...</div><input id='attrs-9bf18025-fc7d-48b6-9624-9d102937ecef' class='xr-var-attrs-in' type='checkbox' ><label for='attrs-9bf18025-fc7d-48b6-9624-9d102937ecef' title='Show/Hide attributes'><svg class='icon xr-icon-file-text2'><use xlink:href='#icon-file-text2'></use></svg></label><input id='data-944215fe-7586-43d7-9f80-f4ba5ea2e47a' class='xr-var-data-in' type='checkbox'><label for='data-944215fe-7586-43d7-9f80-f4ba5ea2e47a' title='Show/Hide data repr'><svg class='icon xr-icon-database'><use xlink:href='#icon-database'></use></svg></label><div class='xr-var-attrs'><dl class='xr-attrs'><dt><span>standard_name :</span></dt><dd>eke300</dd><dt><span>long_name :</span></dt><dd>eke depth weighted sum 0-300m</dd></dl></div><div class='xr-var-data'><pre>[2496000 values with dtype=float32]</pre></div></li><li class='xr-var-item'><div class='xr-var-name'><span>hc300</span></div><div class='xr-var-dims'>(time, lat, lon)</div><div class='xr-var-dtype'>float32</div><div class='xr-var-preview xr-preview'>...</div><input id='attrs-78c152bc-01d7-478e-893c-a5779e623e69' class='xr-var-attrs-in' type='checkbox' ><label for='attrs-78c152bc-01d7-478e-893c-a5779e623e69' title='Show/Hide attributes'><svg class='icon xr-icon-file-text2'><use xlink:href='#icon-file-text2'></use></svg></label><input id='data-9e02077f-bd52-44f4-921c-4685a838d2c5' class='xr-var-data-in' type='checkbox'><label for='data-9e02077f-bd52-44f4-921c-4685a838d2c5' title='Show/Hide data repr'><svg class='icon xr-icon-database'><use xlink:href='#icon-database'></use></svg></label><div class='xr-var-attrs'><dl class='xr-attrs'><dt><span>long_name :</span></dt><dd>Heat content 300 m</dd><dt><span>standard_name :</span></dt><dd>integral_of_sea_water_potential_temperature_wrt_depth_expressed_as_heat_content</dd><dt><span>units :</span></dt><dd>J/m2</dd></dl></div><div class='xr-var-data'><pre>[2496000 values with dtype=float32]</pre></div></li><li class='xr-var-item'><div class='xr-var-name'><span>sss</span></div><div class='xr-var-dims'>(time, lat, lon)</div><div class='xr-var-dtype'>float32</div><div class='xr-var-preview xr-preview'>...</div><input id='attrs-19905077-afbb-424c-905c-8331743ba8f2' class='xr-var-attrs-in' type='checkbox' ><label for='attrs-19905077-afbb-424c-905c-8331743ba8f2' title='Show/Hide attributes'><svg class='icon xr-icon-file-text2'><use xlink:href='#icon-file-text2'></use></svg></label><input id='data-013a9072-2114-4c64-8d1c-f7578c14c3d9' class='xr-var-data-in' type='checkbox'><label for='data-013a9072-2114-4c64-8d1c-f7578c14c3d9' title='Show/Hide data repr'><svg class='icon xr-icon-database'><use xlink:href='#icon-database'></use></svg></label><div class='xr-var-attrs'><dl class='xr-attrs'><dt><span>long_name :</span></dt><dd>Salinity</dd><dt><span>standard_name :</span></dt><dd>sea_water_salinity</dd><dt><span>units :</span></dt><dd>PSU</dd></dl></div><div class='xr-var-data'><pre>[2496000 values with dtype=float32]</pre></div></li><li class='xr-var-item'><div class='xr-var-name'><span>temp50</span></div><div class='xr-var-dims'>(time, lat, lon)</div><div class='xr-var-dtype'>float32</div><div class='xr-var-preview xr-preview'>...</div><input id='attrs-279cc408-df8e-4a51-acea-8bdd52dcb32f' class='xr-var-attrs-in' type='checkbox' ><label for='attrs-279cc408-df8e-4a51-acea-8bdd52dcb32f' title='Show/Hide attributes'><svg class='icon xr-icon-file-text2'><use xlink:href='#icon-file-text2'></use></svg></label><input id='data-db112e75-cab3-4dfa-a904-42c4d016aa44' class='xr-var-data-in' type='checkbox'><label for='data-db112e75-cab3-4dfa-a904-42c4d016aa44' title='Show/Hide data repr'><svg class='icon xr-icon-database'><use xlink:href='#icon-database'></use></svg></label><div class='xr-var-attrs'><dl class='xr-attrs'><dt><span>long_name :</span></dt><dd>Temperature</dd><dt><span>standard_name :</span></dt><dd>sea_water_potential_temperature</dd><dt><span>units :</span></dt><dd>degC</dd></dl></div><div class='xr-var-data'><pre>[2496000 values with dtype=float32]</pre></div></li><li class='xr-var-item'><div class='xr-var-name'><span>eke2000</span></div><div class='xr-var-dims'>(time, lat, lon)</div><div class='xr-var-dtype'>float32</div><div class='xr-var-preview xr-preview'>...</div><input id='attrs-19ccb3a9-9e03-4e71-9a15-bcd9188d9da5' class='xr-var-attrs-in' type='checkbox' ><label for='attrs-19ccb3a9-9e03-4e71-9a15-bcd9188d9da5' title='Show/Hide attributes'><svg class='icon xr-icon-file-text2'><use xlink:href='#icon-file-text2'></use></svg></label><input id='data-5a6c09f5-28f0-4db5-ab97-c414875094a4' class='xr-var-data-in' type='checkbox'><label for='data-5a6c09f5-28f0-4db5-ab97-c414875094a4' title='Show/Hide data repr'><svg class='icon xr-icon-database'><use xlink:href='#icon-database'></use></svg></label><div class='xr-var-attrs'><dl class='xr-attrs'><dt><span>standard_name :</span></dt><dd>eke2000</dd><dt><span>long_name :</span></dt><dd>eke depth weighted sum 0-2000m</dd></dl></div><div class='xr-var-data'><pre>[2496000 values with dtype=float32]</pre></div></li><li class='xr-var-item'><div class='xr-var-name'><span>u100_300</span></div><div class='xr-var-dims'>(time, lat, lon)</div><div class='xr-var-dtype'>float32</div><div class='xr-var-preview xr-preview'>...</div><input id='attrs-ae0139b8-863b-499a-a6cf-1f77fcc06abd' class='xr-var-attrs-in' type='checkbox' ><label for='attrs-ae0139b8-863b-499a-a6cf-1f77fcc06abd' title='Show/Hide attributes'><svg class='icon xr-icon-file-text2'><use xlink:href='#icon-file-text2'></use></svg></label><input id='data-0f947c53-dbf2-417c-9997-a285af56b811' class='xr-var-data-in' type='checkbox'><label for='data-0f947c53-dbf2-417c-9997-a285af56b811' title='Show/Hide data repr'><svg class='icon xr-icon-database'><use xlink:href='#icon-database'></use></svg></label><div class='xr-var-attrs'><dl class='xr-attrs'><dt><span>standard_name :</span></dt><dd>u100_300</dd><dt><span>long_name :</span></dt><dd>x velocity depth weighted mean between 100-300m</dd><dt><span>units :</span></dt><dd>m/s</dd></dl></div><div class='xr-var-data'><pre>[2496000 values with dtype=float32]</pre></div></li><li class='xr-var-item'><div class='xr-var-name'><span>temp500</span></div><div class='xr-var-dims'>(time, lat, lon)</div><div class='xr-var-dtype'>float32</div><div class='xr-var-preview xr-preview'>...</div><input id='attrs-06f8794a-2bbe-4d52-9956-980fb7301830' class='xr-var-attrs-in' type='checkbox' ><label for='attrs-06f8794a-2bbe-4d52-9956-980fb7301830' title='Show/Hide attributes'><svg class='icon xr-icon-file-text2'><use xlink:href='#icon-file-text2'></use></svg></label><input id='data-967d60ae-1ed7-4d7d-bec0-75810add448f' class='xr-var-data-in' type='checkbox'><label for='data-967d60ae-1ed7-4d7d-bec0-75810add448f' title='Show/Hide data repr'><svg class='icon xr-icon-database'><use xlink:href='#icon-database'></use></svg></label><div class='xr-var-attrs'><dl class='xr-attrs'><dt><span>long_name :</span></dt><dd>Temperature</dd><dt><span>standard_name :</span></dt><dd>sea_water_potential_temperature</dd><dt><span>units :</span></dt><dd>degC</dd></dl></div><div class='xr-var-data'><pre>[2496000 values with dtype=float32]</pre></div></li><li class='xr-var-item'><div class='xr-var-name'><span>v100_300</span></div><div class='xr-var-dims'>(time, lat, lon)</div><div class='xr-var-dtype'>float32</div><div class='xr-var-preview xr-preview'>...</div><input id='attrs-8d06e237-ff12-4cea-a908-08a264e2fefb' class='xr-var-attrs-in' type='checkbox' ><label for='attrs-8d06e237-ff12-4cea-a908-08a264e2fefb' title='Show/Hide attributes'><svg class='icon xr-icon-file-text2'><use xlink:href='#icon-file-text2'></use></svg></label><input id='data-4864b97d-560b-47a0-b6ea-bcb63873f5cb' class='xr-var-data-in' type='checkbox'><label for='data-4864b97d-560b-47a0-b6ea-bcb63873f5cb' title='Show/Hide data repr'><svg class='icon xr-icon-database'><use xlink:href='#icon-database'></use></svg></label><div class='xr-var-attrs'><dl class='xr-attrs'><dt><span>standard_name :</span></dt><dd>v100_300</dd><dt><span>long_name :</span></dt><dd>y velocity depth weighted mean between 100-300m</dd><dt><span>units :</span></dt><dd>m/s</dd></dl></div><div class='xr-var-data'><pre>[2496000 values with dtype=float32]</pre></div></li><li class='xr-var-item'><div class='xr-var-name'><span>temp200</span></div><div class='xr-var-dims'>(time, lat, lon)</div><div class='xr-var-dtype'>float32</div><div class='xr-var-preview xr-preview'>...</div><input id='attrs-43d52d45-de28-4d53-b741-ef5f6ecf85b3' class='xr-var-attrs-in' type='checkbox' ><label for='attrs-43d52d45-de28-4d53-b741-ef5f6ecf85b3' title='Show/Hide attributes'><svg class='icon xr-icon-file-text2'><use xlink:href='#icon-file-text2'></use></svg></label><input id='data-8171f5c3-21fd-432d-a9f6-78fd5808fc12' class='xr-var-data-in' type='checkbox'><label for='data-8171f5c3-21fd-432d-a9f6-78fd5808fc12' title='Show/Hide data repr'><svg class='icon xr-icon-database'><use xlink:href='#icon-database'></use></svg></label><div class='xr-var-attrs'><dl class='xr-attrs'><dt><span>long_name :</span></dt><dd>Temperature</dd><dt><span>standard_name :</span></dt><dd>sea_water_potential_temperature</dd><dt><span>units :</span></dt><dd>degC</dd></dl></div><div class='xr-var-data'><pre>[2496000 values with dtype=float32]</pre></div></li><li class='xr-var-item'><div class='xr-var-name'><span>mld2</span></div><div class='xr-var-dims'>(time, lat, lon)</div><div class='xr-var-dtype'>float32</div><div class='xr-var-preview xr-preview'>...</div><input id='attrs-4378723a-2a36-4155-9521-d9c530f66114' class='xr-var-attrs-in' type='checkbox' ><label for='attrs-4378723a-2a36-4155-9521-d9c530f66114' title='Show/Hide attributes'><svg class='icon xr-icon-file-text2'><use xlink:href='#icon-file-text2'></use></svg></label><input id='data-159c5419-28bb-4adc-a94f-18592bd079b2' class='xr-var-data-in' type='checkbox'><label for='data-159c5419-28bb-4adc-a94f-18592bd079b2' title='Show/Hide data repr'><svg class='icon xr-icon-database'><use xlink:href='#icon-database'></use></svg></label><div class='xr-var-attrs'><dl class='xr-attrs'><dt><span>long_name :</span></dt><dd>Mixed Layer Depth 0.01</dd><dt><span>standard_name :</span></dt><dd>ocean_mixed_layer_thickness_defined_by_sigma_theta</dd><dt><span>units :</span></dt><dd>m</dd></dl></div><div class='xr-var-data'><pre>[2496000 values with dtype=float32]</pre></div></li><li class='xr-var-item'><div class='xr-var-name'><span>td</span></div><div class='xr-var-dims'>(time, lat, lon)</div><div class='xr-var-dtype'>float32</div><div class='xr-var-preview xr-preview'>...</div><input id='attrs-90419eac-e02b-4cc8-84e3-4da94a3682ee' class='xr-var-attrs-in' type='checkbox' ><label for='attrs-90419eac-e02b-4cc8-84e3-4da94a3682ee' title='Show/Hide attributes'><svg class='icon xr-icon-file-text2'><use xlink:href='#icon-file-text2'></use></svg></label><input id='data-58b0732b-b178-46d2-9ecc-39afdc45ce93' class='xr-var-data-in' type='checkbox'><label for='data-58b0732b-b178-46d2-9ecc-39afdc45ce93' title='Show/Hide data repr'><svg class='icon xr-icon-database'><use xlink:href='#icon-database'></use></svg></label><div class='xr-var-attrs'><dl class='xr-attrs'><dt><span>long_name :</span></dt><dd>Thermocline Depth</dd><dt><span>standard_name :</span></dt><dd>depth_at_maximum_upward_derivative_of_sea_water_potential_temperature</dd><dt><span>units :</span></dt><dd>m</dd></dl></div><div class='xr-var-data'><pre>[2496000 values with dtype=float32]</pre></div></li><li class='xr-var-item'><div class='xr-var-name'><span>v100</span></div><div class='xr-var-dims'>(time, lat, lon)</div><div class='xr-var-dtype'>float32</div><div class='xr-var-preview xr-preview'>...</div><input id='attrs-f8c249d8-6842-426b-8059-188b33b97c61' class='xr-var-attrs-in' type='checkbox' ><label for='attrs-f8c249d8-6842-426b-8059-188b33b97c61' title='Show/Hide attributes'><svg class='icon xr-icon-file-text2'><use xlink:href='#icon-file-text2'></use></svg></label><input id='data-f08bad14-2db8-4c57-8943-af085145b6cc' class='xr-var-data-in' type='checkbox'><label for='data-f08bad14-2db8-4c57-8943-af085145b6cc' title='Show/Hide data repr'><svg class='icon xr-icon-database'><use xlink:href='#icon-database'></use></svg></label><div class='xr-var-attrs'><dl class='xr-attrs'><dt><span>long_name :</span></dt><dd>y velocity at 100m</dd><dt><span>standard_name :</span></dt><dd>v100</dd><dt><span>units :</span></dt><dd>m/s</dd></dl></div><div class='xr-var-data'><pre>[2496000 values with dtype=float32]</pre></div></li><li class='xr-var-item'><div class='xr-var-name'><span>u100</span></div><div class='xr-var-dims'>(time, lat, lon)</div><div class='xr-var-dtype'>float32</div><div class='xr-var-preview xr-preview'>...</div><input id='attrs-2d3f4673-5230-4884-8ae1-013e54f7cf8b' class='xr-var-attrs-in' type='checkbox' ><label for='attrs-2d3f4673-5230-4884-8ae1-013e54f7cf8b' title='Show/Hide attributes'><svg class='icon xr-icon-file-text2'><use xlink:href='#icon-file-text2'></use></svg></label><input id='data-950af270-97a8-4ef3-8f66-7903842c92ad' class='xr-var-data-in' type='checkbox'><label for='data-950af270-97a8-4ef3-8f66-7903842c92ad' title='Show/Hide data repr'><svg class='icon xr-icon-database'><use xlink:href='#icon-database'></use></svg></label><div class='xr-var-attrs'><dl class='xr-attrs'><dt><span>long_name :</span></dt><dd>x velocity at 100m</dd><dt><span>standard_name :</span></dt><dd>u100</dd><dt><span>units :</span></dt><dd>m/s</dd></dl></div><div class='xr-var-data'><pre>[2496000 values with dtype=float32]</pre></div></li><li class='xr-var-item'><div class='xr-var-name'><span>mld1</span></div><div class='xr-var-dims'>(time, lat, lon)</div><div class='xr-var-dtype'>float32</div><div class='xr-var-preview xr-preview'>...</div><input id='attrs-401c31fe-1d59-4e5b-bf27-597c00fd8700' class='xr-var-attrs-in' type='checkbox' ><label for='attrs-401c31fe-1d59-4e5b-bf27-597c00fd8700' title='Show/Hide attributes'><svg class='icon xr-icon-file-text2'><use xlink:href='#icon-file-text2'></use></svg></label><input id='data-7b89416f-525a-4526-a957-36ad570646ec' class='xr-var-data-in' type='checkbox'><label for='data-7b89416f-525a-4526-a957-36ad570646ec' title='Show/Hide data repr'><svg class='icon xr-icon-database'><use xlink:href='#icon-database'></use></svg></label><div class='xr-var-attrs'><dl class='xr-attrs'><dt><span>long_name :</span></dt><dd>Kara Mixed Layer Depth</dd><dt><span>standard_name :</span></dt><dd>ocean_mixed_layer_thickness_defined_by_sigma_theta</dd><dt><span>units :</span></dt><dd>m</dd></dl></div><div class='xr-var-data'><pre>[2496000 values with dtype=float32]</pre></div></li><li class='xr-var-item'><div class='xr-var-name'><span>temp100</span></div><div class='xr-var-dims'>(time, lat, lon)</div><div class='xr-var-dtype'>float32</div><div class='xr-var-preview xr-preview'>...</div><input id='attrs-48739f57-9135-478a-bdd7-b06509280fa4' class='xr-var-attrs-in' type='checkbox' ><label for='attrs-48739f57-9135-478a-bdd7-b06509280fa4' title='Show/Hide attributes'><svg class='icon xr-icon-file-text2'><use xlink:href='#icon-file-text2'></use></svg></label><input id='data-19b4b4fb-9cae-4a58-845b-c6407409c77d' class='xr-var-data-in' type='checkbox'><label for='data-19b4b4fb-9cae-4a58-845b-c6407409c77d' title='Show/Hide data repr'><svg class='icon xr-icon-database'><use xlink:href='#icon-database'></use></svg></label><div class='xr-var-attrs'><dl class='xr-attrs'><dt><span>long_name :</span></dt><dd>Temperature</dd><dt><span>standard_name :</span></dt><dd>sea_water_potential_temperature</dd><dt><span>units :</span></dt><dd>degC</dd></dl></div><div class='xr-var-data'><pre>[2496000 values with dtype=float32]</pre></div></li></ul></div></li><li class='xr-section-item'><input id='section-e93f4a3c-b77d-4362-8ed4-b2dfcb22c6d5' class='xr-section-summary-in' type='checkbox' disabled ><label for='section-e93f4a3c-b77d-4362-8ed4-b2dfcb22c6d5' class='xr-section-summary'  title='Expand/collapse section'>Attributes: <span>(0)</span></label><div class='xr-section-inline-details'></div><div class='xr-section-details'><dl class='xr-attrs'></dl></div></li></ul></div></div>"
      ],
      "text/plain": [
       "<xarray.Dataset>\n",
       "Dimensions:   (time: 480, lon: 80, lat: 65)\n",
       "Coordinates:\n",
       "  * time      (time) datetime64[ns] 1981-01-16 1981-02-15 ... 2020-12-01\n",
       "  * lon       (lon) float64 100.5 101.5 102.5 103.5 ... 176.5 177.5 178.5 179.5\n",
       "  * lat       (lat) float64 -59.5 -58.5 -57.5 -56.5 -55.5 ... 1.5 2.5 3.5 4.5\n",
       "Data variables: (12/17)\n",
       "    d20       (time, lat, lon) float32 ...\n",
       "    sst       (time, lat, lon) float32 ...\n",
       "    eke300    (time, lat, lon) float32 ...\n",
       "    hc300     (time, lat, lon) float32 ...\n",
       "    sss       (time, lat, lon) float32 ...\n",
       "    temp50    (time, lat, lon) float32 ...\n",
       "    ...        ...\n",
       "    mld2      (time, lat, lon) float32 ...\n",
       "    td        (time, lat, lon) float32 ...\n",
       "    v100      (time, lat, lon) float32 ...\n",
       "    u100      (time, lat, lon) float32 ...\n",
       "    mld1      (time, lat, lon) float32 ...\n",
       "    temp100   (time, lat, lon) float32 ..."
      ]
     },
     "execution_count": 9,
     "metadata": {},
     "output_type": "execute_result"
    }
   ],
   "source": [
    "ETBF_NC_data_AUSregion"
   ]
  },
  {
   "cell_type": "code",
   "execution_count": 10,
   "id": "ed5fa7c8-7fa7-4896-975b-6dd9d692a00c",
   "metadata": {},
   "outputs": [
    {
     "data": {
      "text/plain": [
       "<matplotlib.collections.QuadMesh at 0x7ff0a86d7be0>"
      ]
     },
     "execution_count": 10,
     "metadata": {},
     "output_type": "execute_result"
    },
    {
     "data": {
      "image/png": "[encoded data removed]",
      "text/plain": [
       "<Figure size 400x400 with 2 Axes>"
      ]
     },
     "metadata": {
      "image/png": {
       "height": 400,
       "width": 400
      }
     },
     "output_type": "display_data"
    }
   ],
   "source": [
    "ETBF_NC_data_AUSregion.sst.mean('time').plot()"
   ]
  },
  {
   "cell_type": "code",
   "execution_count": 11,
   "id": "6e884dff-23be-4928-a599-a7a7b0b896c7",
   "metadata": {},
   "outputs": [
    {
     "data": {
      "text/plain": [
       "0.169733"
      ]
     },
     "execution_count": 11,
     "metadata": {},
     "output_type": "execute_result"
    }
   ],
   "source": [
    "ETBF_NC_data_AUSregion.nbytes/1e9"
   ]
  },
  {
   "cell_type": "code",
   "execution_count": 12,
   "id": "e3475e5c-b1ba-4ab2-8901-fa9f9464f7fa",
   "metadata": {},
   "outputs": [
    {
     "name": "stdout",
     "output_type": "stream",
     "text": [
      "CPU times: user 3.37 s, sys: 3.27 s, total: 6.64 s\n",
      "Wall time: 28.1 s\n"
     ]
    }
   ],
   "source": [
    "%%time\n",
    "ETBF_NC_data_AUSregion.to_netcdf('/g/data/v14/tm4888/data/ACCESS-S2/ETBF_export/AUS_region/accessS2.RA.ETBFvars.masked.grid1deg.nc')"
   ]
  },
  {
   "cell_type": "code",
   "execution_count": null,
   "id": "750421e7-4fff-4813-b13b-6e3d0f7b9ffc",
   "metadata": {},
   "outputs": [],
   "source": []
  },
  {
   "cell_type": "code",
   "execution_count": null,
   "id": "56315ef2-0ec5-4e92-b636-151372c28d47",
   "metadata": {},
   "outputs": [],
   "source": []
  },
  {
   "cell_type": "markdown",
   "id": "654be183-464e-4c89-ac86-64f78ff8bda0",
   "metadata": {
    "tags": []
   },
   "source": [
    "***"
   ]
  },
  {
   "cell_type": "markdown",
   "id": "53383cfa-f3bb-4964-a938-3f17200661f0",
   "metadata": {},
   "source": [
    "# load BRAN2020"
   ]
  },
  {
   "cell_type": "markdown",
   "id": "c8ca3936-9fa2-4994-b91e-aade76626a2b",
   "metadata": {},
   "source": [
    "## get gridspec"
   ]
  },
  {
   "cell_type": "code",
   "execution_count": 9,
   "id": "751bc856-32ef-4ae3-a759-648735f5c5a2",
   "metadata": {},
   "outputs": [],
   "source": [
    "BRAN_grid_spec = xr.open_dataset('/g/data/gb6/BRAN/BRAN2020/static/grid_spec.nc')"
   ]
  },
  {
   "cell_type": "markdown",
   "id": "7c470837-1a3a-4220-afbf-0006d1edc858",
   "metadata": {},
   "source": [
    "## load temperature, mld, u etc"
   ]
  },
  {
   "cell_type": "code",
   "execution_count": 10,
   "id": "2a00601b-cc7a-429c-a8e9-67a0c95fe9e8",
   "metadata": {},
   "outputs": [],
   "source": [
    "ds_BRAN_temp = xr.open_mfdataset('/g/data/gb6/BRAN/BRAN2020/month/ocean_temp_mth*.nc',parallel=True)"
   ]
  },
  {
   "cell_type": "code",
   "execution_count": 11,
   "id": "3f40f328-7105-4ecf-91a9-569ff20db80b",
   "metadata": {},
   "outputs": [],
   "source": [
    "ds_BRAN_mld = xr.open_mfdataset('/g/data/gb6/BRAN/BRAN2020/month/ocean_mld_mth*.nc',parallel=True)"
   ]
  },
  {
   "cell_type": "code",
   "execution_count": 12,
   "id": "b16bd7df-67c6-4f4d-bb6a-a93f3b827d2a",
   "metadata": {},
   "outputs": [],
   "source": [
    "ds_BRAN_u = xr.open_mfdataset('/g/data/gb6/BRAN/BRAN2020/month/ocean_u_mth*.nc',parallel=True)"
   ]
  },
  {
   "cell_type": "code",
   "execution_count": 13,
   "id": "b1c271bc-1735-48ea-a667-9e4eeff2cd63",
   "metadata": {},
   "outputs": [],
   "source": [
    "ds_BRAN_v = xr.open_mfdataset('/g/data/gb6/BRAN/BRAN2020/month/ocean_v_mth*.nc',parallel=True)"
   ]
  },
  {
   "cell_type": "markdown",
   "id": "6b4021a7-1751-4ca2-ac33-9aedaeb80c92",
   "metadata": {},
   "source": [
    "***"
   ]
  },
  {
   "cell_type": "markdown",
   "id": "147712a8-d116-4862-b75d-56bf88a3c7cd",
   "metadata": {},
   "source": [
    "# load CAFE60"
   ]
  },
  {
   "cell_type": "code",
   "execution_count": 14,
   "id": "efd5ea3c-d8a3-4d64-bc9f-489eb5a7bdb5",
   "metadata": {},
   "outputs": [],
   "source": [
    "ds_CAFE60 = xr.open_zarr('/g/data/xv83/dcfp/CAFE60v1/ocean_month.zarr.zip')"
   ]
  },
  {
   "cell_type": "markdown",
   "id": "65740348-1ff7-4143-ae49-5191a1820823",
   "metadata": {},
   "source": [
    "***"
   ]
  },
  {
   "cell_type": "markdown",
   "id": "968803c3-f8c2-41ba-af0d-74466cb9be7d",
   "metadata": {},
   "source": [
    "# load obs - RG2019"
   ]
  },
  {
   "cell_type": "code",
   "execution_count": 15,
   "id": "b6d20107-0931-46ff-a829-3fbfd26c9b2e",
   "metadata": {},
   "outputs": [],
   "source": [
    "ds_RG2019_temp = xr.open_dataset('/g/data/v14/tm4888/data/observations/RG2019/RG_ArgoClim_Temperature_2019.nc', decode_times=False)\n",
    "ds_RG2019_salt = xr.open_dataset('/g/data/v14/tm4888/data/observations/RG2019/RG_ArgoClim_Salinity_2019.nc', decode_times=False)"
   ]
  },
  {
   "cell_type": "code",
   "execution_count": 16,
   "id": "5d5e3e5b-0f18-41e7-83a9-7c1326e4561b",
   "metadata": {},
   "outputs": [],
   "source": [
    "ds_RG2019 = xr.merge([ds_RG2019_temp,ds_RG2019_salt])"
   ]
  },
  {
   "cell_type": "code",
   "execution_count": 17,
   "id": "8157f3fa-5ba1-4987-a9c1-f05526e4e674",
   "metadata": {},
   "outputs": [],
   "source": [
    "ds_RG2019.TIME.attrs['calendar']='360_day'\n",
    "ds_RG2019 = xr.decode_cf(ds_RG2019,use_cftime=True)"
   ]
  },
  {
   "cell_type": "code",
   "execution_count": 18,
   "id": "5445a12f-bd82-49cc-8116-a9366899e9f4",
   "metadata": {},
   "outputs": [],
   "source": [
    "RG2019_temp_test = (ds_RG2019.ARGO_TEMPERATURE_ANOMALY.isel({'PRESSURE':0,'TIME':90}) + ds_RG2019.ARGO_TEMPERATURE_MEAN.isel({'PRESSURE':0}))"
   ]
  },
  {
   "cell_type": "code",
   "execution_count": 19,
   "id": "39f3a000-1015-4cf7-81ac-ee8c9656144f",
   "metadata": {},
   "outputs": [],
   "source": [
    "RG2019_temp = (ds_RG2019.ARGO_TEMPERATURE_ANOMALY + ds_RG2019.ARGO_TEMPERATURE_MEAN)"
   ]
  },
  {
   "cell_type": "markdown",
   "id": "a34ac9f4-c36c-4c52-aa87-9163c7f785e2",
   "metadata": {},
   "source": [
    "***"
   ]
  },
  {
   "cell_type": "code",
   "execution_count": 20,
   "id": "6c0dd0df-931f-4ea8-8e51-e0e84de15141",
   "metadata": {},
   "outputs": [
    {
     "data": {
      "text/html": [
       "<div><svg style=\"position: absolute; width: 0; height: 0; overflow: hidden\">\n",
       "<defs>\n",
       "<symbol id=\"icon-database\" viewBox=\"0 0 32 32\">\n",
       "<path d=\"M16 0c-8.837 0-16 2.239-16 5v4c0 2.761 7.163 5 16 5s16-2.239 16-5v-4c0-2.761-7.163-5-16-5z\"></path>\n",
       "<path d=\"M16 17c-8.837 0-16-2.239-16-5v6c0 2.761 7.163 5 16 5s16-2.239 16-5v-6c0 2.761-7.163 5-16 5z\"></path>\n",
       "<path d=\"M16 26c-8.837 0-16-2.239-16-5v6c0 2.761 7.163 5 16 5s16-2.239 16-5v-6c0 2.761-7.163 5-16 5z\"></path>\n",
       "</symbol>\n",
       "<symbol id=\"icon-file-text2\" viewBox=\"0 0 32 32\">\n",
       "<path d=\"M28.681 7.159c-0.694-0.947-1.662-2.053-2.724-3.116s-2.169-2.030-3.116-2.724c-1.612-1.182-2.393-1.319-2.841-1.319h-15.5c-1.378 0-2.5 1.121-2.5 2.5v27c0 1.378 1.122 2.5 2.5 2.5h23c1.378 0 2.5-1.122 2.5-2.5v-19.5c0-0.448-0.137-1.23-1.319-2.841zM24.543 5.457c0.959 0.959 1.712 1.825 2.268 2.543h-4.811v-4.811c0.718 0.556 1.584 1.309 2.543 2.268zM28 29.5c0 0.271-0.229 0.5-0.5 0.5h-23c-0.271 0-0.5-0.229-0.5-0.5v-27c0-0.271 0.229-0.5 0.5-0.5 0 0 15.499-0 15.5 0v7c0 0.552 0.448 1 1 1h7v19.5z\"></path>\n",
       "<path d=\"M23 26h-14c-0.552 0-1-0.448-1-1s0.448-1 1-1h14c0.552 0 1 0.448 1 1s-0.448 1-1 1z\"></path>\n",
       "<path d=\"M23 22h-14c-0.552 0-1-0.448-1-1s0.448-1 1-1h14c0.552 0 1 0.448 1 1s-0.448 1-1 1z\"></path>\n",
       "<path d=\"M23 18h-14c-0.552 0-1-0.448-1-1s0.448-1 1-1h14c0.552 0 1 0.448 1 1s-0.448 1-1 1z\"></path>\n",
       "</symbol>\n",
       "</defs>\n",
       "</svg>\n",
       "<style>/* CSS stylesheet for displaying xarray objects in jupyterlab.\n",
       " *\n",
       " */\n",
       "\n",
       ":root {\n",
       "  --xr-font-color0: var(--jp-content-font-color0, rgba(0, 0, 0, 1));\n",
       "  --xr-font-color2: var(--jp-content-font-color2, rgba(0, 0, 0, 0.54));\n",
       "  --xr-font-color3: var(--jp-content-font-color3, rgba(0, 0, 0, 0.38));\n",
       "  --xr-border-color: var(--jp-border-color2, #e0e0e0);\n",
       "  --xr-disabled-color: var(--jp-layout-color3, #bdbdbd);\n",
       "  --xr-background-color: var(--jp-layout-color0, white);\n",
       "  --xr-background-color-row-even: var(--jp-layout-color1, white);\n",
       "  --xr-background-color-row-odd: var(--jp-layout-color2, #eeeeee);\n",
       "}\n",
       "\n",
       "html[theme=dark],\n",
       "body.vscode-dark {\n",
       "  --xr-font-color0: rgba(255, 255, 255, 1);\n",
       "  --xr-font-color2: rgba(255, 255, 255, 0.54);\n",
       "  --xr-font-color3: rgba(255, 255, 255, 0.38);\n",
       "  --xr-border-color: #1F1F1F;\n",
       "  --xr-disabled-color: #515151;\n",
       "  --xr-background-color: #111111;\n",
       "  --xr-background-color-row-even: #111111;\n",
       "  --xr-background-color-row-odd: #313131;\n",
       "}\n",
       "\n",
       ".xr-wrap {\n",
       "  display: block;\n",
       "  min-width: 300px;\n",
       "  max-width: 700px;\n",
       "}\n",
       "\n",
       ".xr-text-repr-fallback {\n",
       "  /* fallback to plain text repr when CSS is not injected (untrusted notebook) */\n",
       "  display: none;\n",
       "}\n",
       "\n",
       ".xr-header {\n",
       "  padding-top: 6px;\n",
       "  padding-bottom: 6px;\n",
       "  margin-bottom: 4px;\n",
       "  border-bottom: solid 1px var(--xr-border-color);\n",
       "}\n",
       "\n",
       ".xr-header > div,\n",
       ".xr-header > ul {\n",
       "  display: inline;\n",
       "  margin-top: 0;\n",
       "  margin-bottom: 0;\n",
       "}\n",
       "\n",
       ".xr-obj-type,\n",
       ".xr-array-name {\n",
       "  margin-left: 2px;\n",
       "  margin-right: 10px;\n",
       "}\n",
       "\n",
       ".xr-obj-type {\n",
       "  color: var(--xr-font-color2);\n",
       "}\n",
       "\n",
       ".xr-sections {\n",
       "  padding-left: 0 !important;\n",
       "  display: grid;\n",
       "  grid-template-columns: 150px auto auto 1fr 20px 20px;\n",
       "}\n",
       "\n",
       ".xr-section-item {\n",
       "  display: contents;\n",
       "}\n",
       "\n",
       ".xr-section-item input {\n",
       "  display: none;\n",
       "}\n",
       "\n",
       ".xr-section-item input + label {\n",
       "  color: var(--xr-disabled-color);\n",
       "}\n",
       "\n",
       ".xr-section-item input:enabled + label {\n",
       "  cursor: pointer;\n",
       "  color: var(--xr-font-color2);\n",
       "}\n",
       "\n",
       ".xr-section-item input:enabled + label:hover {\n",
       "  color: var(--xr-font-color0);\n",
       "}\n",
       "\n",
       ".xr-section-summary {\n",
       "  grid-column: 1;\n",
       "  color: var(--xr-font-color2);\n",
       "  font-weight: 500;\n",
       "}\n",
       "\n",
       ".xr-section-summary > span {\n",
       "  display: inline-block;\n",
       "  padding-left: 0.5em;\n",
       "}\n",
       "\n",
       ".xr-section-summary-in:disabled + label {\n",
       "  color: var(--xr-font-color2);\n",
       "}\n",
       "\n",
       ".xr-section-summary-in + label:before {\n",
       "  display: inline-block;\n",
       "  content: '►';\n",
       "  font-size: 11px;\n",
       "  width: 15px;\n",
       "  text-align: center;\n",
       "}\n",
       "\n",
       ".xr-section-summary-in:disabled + label:before {\n",
       "  color: var(--xr-disabled-color);\n",
       "}\n",
       "\n",
       ".xr-section-summary-in:checked + label:before {\n",
       "  content: '▼';\n",
       "}\n",
       "\n",
       ".xr-section-summary-in:checked + label > span {\n",
       "  display: none;\n",
       "}\n",
       "\n",
       ".xr-section-summary,\n",
       ".xr-section-inline-details {\n",
       "  padding-top: 4px;\n",
       "  padding-bottom: 4px;\n",
       "}\n",
       "\n",
       ".xr-section-inline-details {\n",
       "  grid-column: 2 / -1;\n",
       "}\n",
       "\n",
       ".xr-section-details {\n",
       "  display: none;\n",
       "  grid-column: 1 / -1;\n",
       "  margin-bottom: 5px;\n",
       "}\n",
       "\n",
       ".xr-section-summary-in:checked ~ .xr-section-details {\n",
       "  display: contents;\n",
       "}\n",
       "\n",
       ".xr-array-wrap {\n",
       "  grid-column: 1 / -1;\n",
       "  display: grid;\n",
       "  grid-template-columns: 20px auto;\n",
       "}\n",
       "\n",
       ".xr-array-wrap > label {\n",
       "  grid-column: 1;\n",
       "  vertical-align: top;\n",
       "}\n",
       "\n",
       ".xr-preview {\n",
       "  color: var(--xr-font-color3);\n",
       "}\n",
       "\n",
       ".xr-array-preview,\n",
       ".xr-array-data {\n",
       "  padding: 0 5px !important;\n",
       "  grid-column: 2;\n",
       "}\n",
       "\n",
       ".xr-array-data,\n",
       ".xr-array-in:checked ~ .xr-array-preview {\n",
       "  display: none;\n",
       "}\n",
       "\n",
       ".xr-array-in:checked ~ .xr-array-data,\n",
       ".xr-array-preview {\n",
       "  display: inline-block;\n",
       "}\n",
       "\n",
       ".xr-dim-list {\n",
       "  display: inline-block !important;\n",
       "  list-style: none;\n",
       "  padding: 0 !important;\n",
       "  margin: 0;\n",
       "}\n",
       "\n",
       ".xr-dim-list li {\n",
       "  display: inline-block;\n",
       "  padding: 0;\n",
       "  margin: 0;\n",
       "}\n",
       "\n",
       ".xr-dim-list:before {\n",
       "  content: '(';\n",
       "}\n",
       "\n",
       ".xr-dim-list:after {\n",
       "  content: ')';\n",
       "}\n",
       "\n",
       ".xr-dim-list li:not(:last-child):after {\n",
       "  content: ',';\n",
       "  padding-right: 5px;\n",
       "}\n",
       "\n",
       ".xr-has-index {\n",
       "  font-weight: bold;\n",
       "}\n",
       "\n",
       ".xr-var-list,\n",
       ".xr-var-item {\n",
       "  display: contents;\n",
       "}\n",
       "\n",
       ".xr-var-item > div,\n",
       ".xr-var-item label,\n",
       ".xr-var-item > .xr-var-name span {\n",
       "  background-color: var(--xr-background-color-row-even);\n",
       "  margin-bottom: 0;\n",
       "}\n",
       "\n",
       ".xr-var-item > .xr-var-name:hover span {\n",
       "  padding-right: 5px;\n",
       "}\n",
       "\n",
       ".xr-var-list > li:nth-child(odd) > div,\n",
       ".xr-var-list > li:nth-child(odd) > label,\n",
       ".xr-var-list > li:nth-child(odd) > .xr-var-name span {\n",
       "  background-color: var(--xr-background-color-row-odd);\n",
       "}\n",
       "\n",
       ".xr-var-name {\n",
       "  grid-column: 1;\n",
       "}\n",
       "\n",
       ".xr-var-dims {\n",
       "  grid-column: 2;\n",
       "}\n",
       "\n",
       ".xr-var-dtype {\n",
       "  grid-column: 3;\n",
       "  text-align: right;\n",
       "  color: var(--xr-font-color2);\n",
       "}\n",
       "\n",
       ".xr-var-preview {\n",
       "  grid-column: 4;\n",
       "}\n",
       "\n",
       ".xr-var-name,\n",
       ".xr-var-dims,\n",
       ".xr-var-dtype,\n",
       ".xr-preview,\n",
       ".xr-attrs dt {\n",
       "  white-space: nowrap;\n",
       "  overflow: hidden;\n",
       "  text-overflow: ellipsis;\n",
       "  padding-right: 10px;\n",
       "}\n",
       "\n",
       ".xr-var-name:hover,\n",
       ".xr-var-dims:hover,\n",
       ".xr-var-dtype:hover,\n",
       ".xr-attrs dt:hover {\n",
       "  overflow: visible;\n",
       "  width: auto;\n",
       "  z-index: 1;\n",
       "}\n",
       "\n",
       ".xr-var-attrs,\n",
       ".xr-var-data {\n",
       "  display: none;\n",
       "  background-color: var(--xr-background-color) !important;\n",
       "  padding-bottom: 5px !important;\n",
       "}\n",
       "\n",
       ".xr-var-attrs-in:checked ~ .xr-var-attrs,\n",
       ".xr-var-data-in:checked ~ .xr-var-data {\n",
       "  display: block;\n",
       "}\n",
       "\n",
       ".xr-var-data > table {\n",
       "  float: right;\n",
       "}\n",
       "\n",
       ".xr-var-name span,\n",
       ".xr-var-data,\n",
       ".xr-attrs {\n",
       "  padding-left: 25px !important;\n",
       "}\n",
       "\n",
       ".xr-attrs,\n",
       ".xr-var-attrs,\n",
       ".xr-var-data {\n",
       "  grid-column: 1 / -1;\n",
       "}\n",
       "\n",
       "dl.xr-attrs {\n",
       "  padding: 0;\n",
       "  margin: 0;\n",
       "  display: grid;\n",
       "  grid-template-columns: 125px auto;\n",
       "}\n",
       "\n",
       ".xr-attrs dt,\n",
       ".xr-attrs dd {\n",
       "  padding: 0;\n",
       "  margin: 0;\n",
       "  float: left;\n",
       "  padding-right: 10px;\n",
       "  width: auto;\n",
       "}\n",
       "\n",
       ".xr-attrs dt {\n",
       "  font-weight: normal;\n",
       "  grid-column: 1;\n",
       "}\n",
       "\n",
       ".xr-attrs dt:hover span {\n",
       "  display: inline-block;\n",
       "  background: var(--xr-background-color);\n",
       "  padding-right: 10px;\n",
       "}\n",
       "\n",
       ".xr-attrs dd {\n",
       "  grid-column: 2;\n",
       "  white-space: pre-wrap;\n",
       "  word-break: break-all;\n",
       "}\n",
       "\n",
       ".xr-icon-database,\n",
       ".xr-icon-file-text2 {\n",
       "  display: inline-block;\n",
       "  vertical-align: middle;\n",
       "  width: 1em;\n",
       "  height: 1.5em !important;\n",
       "  stroke-width: 0;\n",
       "  stroke: currentColor;\n",
       "  fill: currentColor;\n",
       "}\n",
       "</style><pre class='xr-text-repr-fallback'>&lt;xarray.DataArray (TIME: 180, PRESSURE: 58)&gt;\n",
       "array([[23.485056 , 23.400187 , 23.181103 , ...,  2.601728 ,  2.4672794,\n",
       "         2.3866677],\n",
       "       [24.202677 , 24.139824 , 23.945688 , ...,  2.5920565,  2.4641771,\n",
       "         2.3825421],\n",
       "       [23.845299 , 23.831371 , 23.789097 , ...,  2.590883 ,  2.4606094,\n",
       "         2.3788157],\n",
       "       ...,\n",
       "       [19.969881 , 19.896149 , 19.76833  , ...,  2.6017992,  2.4684746,\n",
       "         2.383095 ],\n",
       "       [21.036392 , 20.972857 , 20.813213 , ...,  2.602894 ,  2.470664 ,\n",
       "         2.385792 ],\n",
       "       [22.422619 , 22.329908 , 22.15755  , ...,  2.602155 ,  2.4668667,\n",
       "         2.380363 ]], dtype=float32)\n",
       "Coordinates:\n",
       "  * PRESSURE  (PRESSURE) float32 2.5 10.0 20.0 ... 1.8e+03 1.9e+03 1.975e+03\n",
       "  * TIME      (TIME) object 2004-01-16 00:00:00 ... 2018-12-16 00:00:00</pre><div class='xr-wrap' hidden><div class='xr-header'><div class='xr-obj-type'>xarray.DataArray</div><div class='xr-array-name'></div><ul class='xr-dim-list'><li><span class='xr-has-index'>TIME</span>: 180</li><li><span class='xr-has-index'>PRESSURE</span>: 58</li></ul></div><ul class='xr-sections'><li class='xr-section-item'><div class='xr-array-wrap'><input id='section-ac23ac3e-f060-45e0-8571-48911cb997e0' class='xr-array-in' type='checkbox' checked><label for='section-ac23ac3e-f060-45e0-8571-48911cb997e0' title='Show/hide data repr'><svg class='icon xr-icon-database'><use xlink:href='#icon-database'></use></svg></label><div class='xr-array-preview xr-preview'><span>23.49 23.4 23.18 22.83 22.23 21.59 ... 2.963 2.768 2.602 2.467 2.38</span></div><div class='xr-array-data'><pre>array([[23.485056 , 23.400187 , 23.181103 , ...,  2.601728 ,  2.4672794,\n",
       "         2.3866677],\n",
       "       [24.202677 , 24.139824 , 23.945688 , ...,  2.5920565,  2.4641771,\n",
       "         2.3825421],\n",
       "       [23.845299 , 23.831371 , 23.789097 , ...,  2.590883 ,  2.4606094,\n",
       "         2.3788157],\n",
       "       ...,\n",
       "       [19.969881 , 19.896149 , 19.76833  , ...,  2.6017992,  2.4684746,\n",
       "         2.383095 ],\n",
       "       [21.036392 , 20.972857 , 20.813213 , ...,  2.602894 ,  2.470664 ,\n",
       "         2.385792 ],\n",
       "       [22.422619 , 22.329908 , 22.15755  , ...,  2.602155 ,  2.4668667,\n",
       "         2.380363 ]], dtype=float32)</pre></div></div></li><li class='xr-section-item'><input id='section-661733b0-31c3-40bf-b90f-c36ebb00af13' class='xr-section-summary-in' type='checkbox'  checked><label for='section-661733b0-31c3-40bf-b90f-c36ebb00af13' class='xr-section-summary' >Coordinates: <span>(2)</span></label><div class='xr-section-inline-details'></div><div class='xr-section-details'><ul class='xr-var-list'><li class='xr-var-item'><div class='xr-var-name'><span class='xr-has-index'>PRESSURE</span></div><div class='xr-var-dims'>(PRESSURE)</div><div class='xr-var-dtype'>float32</div><div class='xr-var-preview xr-preview'>2.5 10.0 20.0 ... 1.9e+03 1.975e+03</div><input id='attrs-a3720cd9-c85e-436a-93d6-5f7eadc71fa6' class='xr-var-attrs-in' type='checkbox' ><label for='attrs-a3720cd9-c85e-436a-93d6-5f7eadc71fa6' title='Show/Hide attributes'><svg class='icon xr-icon-file-text2'><use xlink:href='#icon-file-text2'></use></svg></label><input id='data-30f76551-73ea-4402-a98c-6f31227920fe' class='xr-var-data-in' type='checkbox'><label for='data-30f76551-73ea-4402-a98c-6f31227920fe' title='Show/Hide data repr'><svg class='icon xr-icon-database'><use xlink:href='#icon-database'></use></svg></label><div class='xr-var-attrs'><dl class='xr-attrs'><dt><span>units :</span></dt><dd>dbar</dd><dt><span>positive :</span></dt><dd>down</dd><dt><span>point_spacing :</span></dt><dd>uneven</dd><dt><span>axis :</span></dt><dd>Z</dd></dl></div><div class='xr-var-data'><pre>array([   2.5,   10. ,   20. ,   30. ,   40. ,   50. ,   60. ,   70. ,   80. ,\n",
       "         90. ,  100. ,  110. ,  120. ,  130. ,  140. ,  150. ,  160. ,  170. ,\n",
       "        182.5,  200. ,  220. ,  240. ,  260. ,  280. ,  300. ,  320. ,  340. ,\n",
       "        360. ,  380. ,  400. ,  420. ,  440. ,  462.5,  500. ,  550. ,  600. ,\n",
       "        650. ,  700. ,  750. ,  800. ,  850. ,  900. ,  950. , 1000. , 1050. ,\n",
       "       1100. , 1150. , 1200. , 1250. , 1300. , 1350. , 1412.5, 1500. , 1600. ,\n",
       "       1700. , 1800. , 1900. , 1975. ], dtype=float32)</pre></div></li><li class='xr-var-item'><div class='xr-var-name'><span class='xr-has-index'>TIME</span></div><div class='xr-var-dims'>(TIME)</div><div class='xr-var-dtype'>object</div><div class='xr-var-preview xr-preview'>2004-01-16 00:00:00 ... 2018-12-...</div><input id='attrs-eb4a4638-556c-4cf8-a641-57adc977836a' class='xr-var-attrs-in' type='checkbox' ><label for='attrs-eb4a4638-556c-4cf8-a641-57adc977836a' title='Show/Hide attributes'><svg class='icon xr-icon-file-text2'><use xlink:href='#icon-file-text2'></use></svg></label><input id='data-717aa887-e331-4996-b6b8-7fcfc8d4ba3d' class='xr-var-data-in' type='checkbox'><label for='data-717aa887-e331-4996-b6b8-7fcfc8d4ba3d' title='Show/Hide data repr'><svg class='icon xr-icon-database'><use xlink:href='#icon-database'></use></svg></label><div class='xr-var-attrs'><dl class='xr-attrs'><dt><span>time_origin :</span></dt><dd>01-JAN-2004 00:00:00</dd><dt><span>axis :</span></dt><dd>T</dd></dl></div><div class='xr-var-data'><pre>array([cftime.Datetime360Day(2004, 1, 16, 0, 0, 0, 0, has_year_zero=False),\n",
       "       cftime.Datetime360Day(2004, 2, 16, 0, 0, 0, 0, has_year_zero=False),\n",
       "       cftime.Datetime360Day(2004, 3, 16, 0, 0, 0, 0, has_year_zero=False),\n",
       "       cftime.Datetime360Day(2004, 4, 16, 0, 0, 0, 0, has_year_zero=False),\n",
       "       cftime.Datetime360Day(2004, 5, 16, 0, 0, 0, 0, has_year_zero=False),\n",
       "       cftime.Datetime360Day(2004, 6, 16, 0, 0, 0, 0, has_year_zero=False),\n",
       "       cftime.Datetime360Day(2004, 7, 16, 0, 0, 0, 0, has_year_zero=False),\n",
       "       cftime.Datetime360Day(2004, 8, 16, 0, 0, 0, 0, has_year_zero=False),\n",
       "       cftime.Datetime360Day(2004, 9, 16, 0, 0, 0, 0, has_year_zero=False),\n",
       "       cftime.Datetime360Day(2004, 10, 16, 0, 0, 0, 0, has_year_zero=False),\n",
       "       cftime.Datetime360Day(2004, 11, 16, 0, 0, 0, 0, has_year_zero=False),\n",
       "       cftime.Datetime360Day(2004, 12, 16, 0, 0, 0, 0, has_year_zero=False),\n",
       "       cftime.Datetime360Day(2005, 1, 16, 0, 0, 0, 0, has_year_zero=False),\n",
       "       cftime.Datetime360Day(2005, 2, 16, 0, 0, 0, 0, has_year_zero=False),\n",
       "       cftime.Datetime360Day(2005, 3, 16, 0, 0, 0, 0, has_year_zero=False),\n",
       "       cftime.Datetime360Day(2005, 4, 16, 0, 0, 0, 0, has_year_zero=False),\n",
       "       cftime.Datetime360Day(2005, 5, 16, 0, 0, 0, 0, has_year_zero=False),\n",
       "       cftime.Datetime360Day(2005, 6, 16, 0, 0, 0, 0, has_year_zero=False),\n",
       "       cftime.Datetime360Day(2005, 7, 16, 0, 0, 0, 0, has_year_zero=False),\n",
       "       cftime.Datetime360Day(2005, 8, 16, 0, 0, 0, 0, has_year_zero=False),\n",
       "       cftime.Datetime360Day(2005, 9, 16, 0, 0, 0, 0, has_year_zero=False),\n",
       "       cftime.Datetime360Day(2005, 10, 16, 0, 0, 0, 0, has_year_zero=False),\n",
       "       cftime.Datetime360Day(2005, 11, 16, 0, 0, 0, 0, has_year_zero=False),\n",
       "       cftime.Datetime360Day(2005, 12, 16, 0, 0, 0, 0, has_year_zero=False),\n",
       "       cftime.Datetime360Day(2006, 1, 16, 0, 0, 0, 0, has_year_zero=False),\n",
       "       cftime.Datetime360Day(2006, 2, 16, 0, 0, 0, 0, has_year_zero=False),\n",
       "       cftime.Datetime360Day(2006, 3, 16, 0, 0, 0, 0, has_year_zero=False),\n",
       "       cftime.Datetime360Day(2006, 4, 16, 0, 0, 0, 0, has_year_zero=False),\n",
       "       cftime.Datetime360Day(2006, 5, 16, 0, 0, 0, 0, has_year_zero=False),\n",
       "       cftime.Datetime360Day(2006, 6, 16, 0, 0, 0, 0, has_year_zero=False),\n",
       "       cftime.Datetime360Day(2006, 7, 16, 0, 0, 0, 0, has_year_zero=False),\n",
       "       cftime.Datetime360Day(2006, 8, 16, 0, 0, 0, 0, has_year_zero=False),\n",
       "       cftime.Datetime360Day(2006, 9, 16, 0, 0, 0, 0, has_year_zero=False),\n",
       "       cftime.Datetime360Day(2006, 10, 16, 0, 0, 0, 0, has_year_zero=False),\n",
       "       cftime.Datetime360Day(2006, 11, 16, 0, 0, 0, 0, has_year_zero=False),\n",
       "       cftime.Datetime360Day(2006, 12, 16, 0, 0, 0, 0, has_year_zero=False),\n",
       "       cftime.Datetime360Day(2007, 1, 16, 0, 0, 0, 0, has_year_zero=False),\n",
       "       cftime.Datetime360Day(2007, 2, 16, 0, 0, 0, 0, has_year_zero=False),\n",
       "       cftime.Datetime360Day(2007, 3, 16, 0, 0, 0, 0, has_year_zero=False),\n",
       "       cftime.Datetime360Day(2007, 4, 16, 0, 0, 0, 0, has_year_zero=False),\n",
       "       cftime.Datetime360Day(2007, 5, 16, 0, 0, 0, 0, has_year_zero=False),\n",
       "       cftime.Datetime360Day(2007, 6, 16, 0, 0, 0, 0, has_year_zero=False),\n",
       "       cftime.Datetime360Day(2007, 7, 16, 0, 0, 0, 0, has_year_zero=False),\n",
       "       cftime.Datetime360Day(2007, 8, 16, 0, 0, 0, 0, has_year_zero=False),\n",
       "       cftime.Datetime360Day(2007, 9, 16, 0, 0, 0, 0, has_year_zero=False),\n",
       "       cftime.Datetime360Day(2007, 10, 16, 0, 0, 0, 0, has_year_zero=False),\n",
       "       cftime.Datetime360Day(2007, 11, 16, 0, 0, 0, 0, has_year_zero=False),\n",
       "       cftime.Datetime360Day(2007, 12, 16, 0, 0, 0, 0, has_year_zero=False),\n",
       "       cftime.Datetime360Day(2008, 1, 16, 0, 0, 0, 0, has_year_zero=False),\n",
       "       cftime.Datetime360Day(2008, 2, 16, 0, 0, 0, 0, has_year_zero=False),\n",
       "       cftime.Datetime360Day(2008, 3, 16, 0, 0, 0, 0, has_year_zero=False),\n",
       "       cftime.Datetime360Day(2008, 4, 16, 0, 0, 0, 0, has_year_zero=False),\n",
       "       cftime.Datetime360Day(2008, 5, 16, 0, 0, 0, 0, has_year_zero=False),\n",
       "       cftime.Datetime360Day(2008, 6, 16, 0, 0, 0, 0, has_year_zero=False),\n",
       "       cftime.Datetime360Day(2008, 7, 16, 0, 0, 0, 0, has_year_zero=False),\n",
       "       cftime.Datetime360Day(2008, 8, 16, 0, 0, 0, 0, has_year_zero=False),\n",
       "       cftime.Datetime360Day(2008, 9, 16, 0, 0, 0, 0, has_year_zero=False),\n",
       "       cftime.Datetime360Day(2008, 10, 16, 0, 0, 0, 0, has_year_zero=False),\n",
       "       cftime.Datetime360Day(2008, 11, 16, 0, 0, 0, 0, has_year_zero=False),\n",
       "       cftime.Datetime360Day(2008, 12, 16, 0, 0, 0, 0, has_year_zero=False),\n",
       "       cftime.Datetime360Day(2009, 1, 16, 0, 0, 0, 0, has_year_zero=False),\n",
       "       cftime.Datetime360Day(2009, 2, 16, 0, 0, 0, 0, has_year_zero=False),\n",
       "       cftime.Datetime360Day(2009, 3, 16, 0, 0, 0, 0, has_year_zero=False),\n",
       "       cftime.Datetime360Day(2009, 4, 16, 0, 0, 0, 0, has_year_zero=False),\n",
       "       cftime.Datetime360Day(2009, 5, 16, 0, 0, 0, 0, has_year_zero=False),\n",
       "       cftime.Datetime360Day(2009, 6, 16, 0, 0, 0, 0, has_year_zero=False),\n",
       "       cftime.Datetime360Day(2009, 7, 16, 0, 0, 0, 0, has_year_zero=False),\n",
       "       cftime.Datetime360Day(2009, 8, 16, 0, 0, 0, 0, has_year_zero=False),\n",
       "       cftime.Datetime360Day(2009, 9, 16, 0, 0, 0, 0, has_year_zero=False),\n",
       "       cftime.Datetime360Day(2009, 10, 16, 0, 0, 0, 0, has_year_zero=False),\n",
       "       cftime.Datetime360Day(2009, 11, 16, 0, 0, 0, 0, has_year_zero=False),\n",
       "       cftime.Datetime360Day(2009, 12, 16, 0, 0, 0, 0, has_year_zero=False),\n",
       "       cftime.Datetime360Day(2010, 1, 16, 0, 0, 0, 0, has_year_zero=False),\n",
       "       cftime.Datetime360Day(2010, 2, 16, 0, 0, 0, 0, has_year_zero=False),\n",
       "       cftime.Datetime360Day(2010, 3, 16, 0, 0, 0, 0, has_year_zero=False),\n",
       "       cftime.Datetime360Day(2010, 4, 16, 0, 0, 0, 0, has_year_zero=False),\n",
       "       cftime.Datetime360Day(2010, 5, 16, 0, 0, 0, 0, has_year_zero=False),\n",
       "       cftime.Datetime360Day(2010, 6, 16, 0, 0, 0, 0, has_year_zero=False),\n",
       "       cftime.Datetime360Day(2010, 7, 16, 0, 0, 0, 0, has_year_zero=False),\n",
       "       cftime.Datetime360Day(2010, 8, 16, 0, 0, 0, 0, has_year_zero=False),\n",
       "       cftime.Datetime360Day(2010, 9, 16, 0, 0, 0, 0, has_year_zero=False),\n",
       "       cftime.Datetime360Day(2010, 10, 16, 0, 0, 0, 0, has_year_zero=False),\n",
       "       cftime.Datetime360Day(2010, 11, 16, 0, 0, 0, 0, has_year_zero=False),\n",
       "       cftime.Datetime360Day(2010, 12, 16, 0, 0, 0, 0, has_year_zero=False),\n",
       "       cftime.Datetime360Day(2011, 1, 16, 0, 0, 0, 0, has_year_zero=False),\n",
       "       cftime.Datetime360Day(2011, 2, 16, 0, 0, 0, 0, has_year_zero=False),\n",
       "       cftime.Datetime360Day(2011, 3, 16, 0, 0, 0, 0, has_year_zero=False),\n",
       "       cftime.Datetime360Day(2011, 4, 16, 0, 0, 0, 0, has_year_zero=False),\n",
       "       cftime.Datetime360Day(2011, 5, 16, 0, 0, 0, 0, has_year_zero=False),\n",
       "       cftime.Datetime360Day(2011, 6, 16, 0, 0, 0, 0, has_year_zero=False),\n",
       "       cftime.Datetime360Day(2011, 7, 16, 0, 0, 0, 0, has_year_zero=False),\n",
       "       cftime.Datetime360Day(2011, 8, 16, 0, 0, 0, 0, has_year_zero=False),\n",
       "       cftime.Datetime360Day(2011, 9, 16, 0, 0, 0, 0, has_year_zero=False),\n",
       "       cftime.Datetime360Day(2011, 10, 16, 0, 0, 0, 0, has_year_zero=False),\n",
       "       cftime.Datetime360Day(2011, 11, 16, 0, 0, 0, 0, has_year_zero=False),\n",
       "       cftime.Datetime360Day(2011, 12, 16, 0, 0, 0, 0, has_year_zero=False),\n",
       "       cftime.Datetime360Day(2012, 1, 16, 0, 0, 0, 0, has_year_zero=False),\n",
       "       cftime.Datetime360Day(2012, 2, 16, 0, 0, 0, 0, has_year_zero=False),\n",
       "       cftime.Datetime360Day(2012, 3, 16, 0, 0, 0, 0, has_year_zero=False),\n",
       "       cftime.Datetime360Day(2012, 4, 16, 0, 0, 0, 0, has_year_zero=False),\n",
       "       cftime.Datetime360Day(2012, 5, 16, 0, 0, 0, 0, has_year_zero=False),\n",
       "       cftime.Datetime360Day(2012, 6, 16, 0, 0, 0, 0, has_year_zero=False),\n",
       "       cftime.Datetime360Day(2012, 7, 16, 0, 0, 0, 0, has_year_zero=False),\n",
       "       cftime.Datetime360Day(2012, 8, 16, 0, 0, 0, 0, has_year_zero=False),\n",
       "       cftime.Datetime360Day(2012, 9, 16, 0, 0, 0, 0, has_year_zero=False),\n",
       "       cftime.Datetime360Day(2012, 10, 16, 0, 0, 0, 0, has_year_zero=False),\n",
       "       cftime.Datetime360Day(2012, 11, 16, 0, 0, 0, 0, has_year_zero=False),\n",
       "       cftime.Datetime360Day(2012, 12, 16, 0, 0, 0, 0, has_year_zero=False),\n",
       "       cftime.Datetime360Day(2013, 1, 16, 0, 0, 0, 0, has_year_zero=False),\n",
       "       cftime.Datetime360Day(2013, 2, 16, 0, 0, 0, 0, has_year_zero=False),\n",
       "       cftime.Datetime360Day(2013, 3, 16, 0, 0, 0, 0, has_year_zero=False),\n",
       "       cftime.Datetime360Day(2013, 4, 16, 0, 0, 0, 0, has_year_zero=False),\n",
       "       cftime.Datetime360Day(2013, 5, 16, 0, 0, 0, 0, has_year_zero=False),\n",
       "       cftime.Datetime360Day(2013, 6, 16, 0, 0, 0, 0, has_year_zero=False),\n",
       "       cftime.Datetime360Day(2013, 7, 16, 0, 0, 0, 0, has_year_zero=False),\n",
       "       cftime.Datetime360Day(2013, 8, 16, 0, 0, 0, 0, has_year_zero=False),\n",
       "       cftime.Datetime360Day(2013, 9, 16, 0, 0, 0, 0, has_year_zero=False),\n",
       "       cftime.Datetime360Day(2013, 10, 16, 0, 0, 0, 0, has_year_zero=False),\n",
       "       cftime.Datetime360Day(2013, 11, 16, 0, 0, 0, 0, has_year_zero=False),\n",
       "       cftime.Datetime360Day(2013, 12, 16, 0, 0, 0, 0, has_year_zero=False),\n",
       "       cftime.Datetime360Day(2014, 1, 16, 0, 0, 0, 0, has_year_zero=False),\n",
       "       cftime.Datetime360Day(2014, 2, 16, 0, 0, 0, 0, has_year_zero=False),\n",
       "       cftime.Datetime360Day(2014, 3, 16, 0, 0, 0, 0, has_year_zero=False),\n",
       "       cftime.Datetime360Day(2014, 4, 16, 0, 0, 0, 0, has_year_zero=False),\n",
       "       cftime.Datetime360Day(2014, 5, 16, 0, 0, 0, 0, has_year_zero=False),\n",
       "       cftime.Datetime360Day(2014, 6, 16, 0, 0, 0, 0, has_year_zero=False),\n",
       "       cftime.Datetime360Day(2014, 7, 16, 0, 0, 0, 0, has_year_zero=False),\n",
       "       cftime.Datetime360Day(2014, 8, 16, 0, 0, 0, 0, has_year_zero=False),\n",
       "       cftime.Datetime360Day(2014, 9, 16, 0, 0, 0, 0, has_year_zero=False),\n",
       "       cftime.Datetime360Day(2014, 10, 16, 0, 0, 0, 0, has_year_zero=False),\n",
       "       cftime.Datetime360Day(2014, 11, 16, 0, 0, 0, 0, has_year_zero=False),\n",
       "       cftime.Datetime360Day(2014, 12, 16, 0, 0, 0, 0, has_year_zero=False),\n",
       "       cftime.Datetime360Day(2015, 1, 16, 0, 0, 0, 0, has_year_zero=False),\n",
       "       cftime.Datetime360Day(2015, 2, 16, 0, 0, 0, 0, has_year_zero=False),\n",
       "       cftime.Datetime360Day(2015, 3, 16, 0, 0, 0, 0, has_year_zero=False),\n",
       "       cftime.Datetime360Day(2015, 4, 16, 0, 0, 0, 0, has_year_zero=False),\n",
       "       cftime.Datetime360Day(2015, 5, 16, 0, 0, 0, 0, has_year_zero=False),\n",
       "       cftime.Datetime360Day(2015, 6, 16, 0, 0, 0, 0, has_year_zero=False),\n",
       "       cftime.Datetime360Day(2015, 7, 16, 0, 0, 0, 0, has_year_zero=False),\n",
       "       cftime.Datetime360Day(2015, 8, 16, 0, 0, 0, 0, has_year_zero=False),\n",
       "       cftime.Datetime360Day(2015, 9, 16, 0, 0, 0, 0, has_year_zero=False),\n",
       "       cftime.Datetime360Day(2015, 10, 16, 0, 0, 0, 0, has_year_zero=False),\n",
       "       cftime.Datetime360Day(2015, 11, 16, 0, 0, 0, 0, has_year_zero=False),\n",
       "       cftime.Datetime360Day(2015, 12, 16, 0, 0, 0, 0, has_year_zero=False),\n",
       "       cftime.Datetime360Day(2016, 1, 16, 0, 0, 0, 0, has_year_zero=False),\n",
       "       cftime.Datetime360Day(2016, 2, 16, 0, 0, 0, 0, has_year_zero=False),\n",
       "       cftime.Datetime360Day(2016, 3, 16, 0, 0, 0, 0, has_year_zero=False),\n",
       "       cftime.Datetime360Day(2016, 4, 16, 0, 0, 0, 0, has_year_zero=False),\n",
       "       cftime.Datetime360Day(2016, 5, 16, 0, 0, 0, 0, has_year_zero=False),\n",
       "       cftime.Datetime360Day(2016, 6, 16, 0, 0, 0, 0, has_year_zero=False),\n",
       "       cftime.Datetime360Day(2016, 7, 16, 0, 0, 0, 0, has_year_zero=False),\n",
       "       cftime.Datetime360Day(2016, 8, 16, 0, 0, 0, 0, has_year_zero=False),\n",
       "       cftime.Datetime360Day(2016, 9, 16, 0, 0, 0, 0, has_year_zero=False),\n",
       "       cftime.Datetime360Day(2016, 10, 16, 0, 0, 0, 0, has_year_zero=False),\n",
       "       cftime.Datetime360Day(2016, 11, 16, 0, 0, 0, 0, has_year_zero=False),\n",
       "       cftime.Datetime360Day(2016, 12, 16, 0, 0, 0, 0, has_year_zero=False),\n",
       "       cftime.Datetime360Day(2017, 1, 16, 0, 0, 0, 0, has_year_zero=False),\n",
       "       cftime.Datetime360Day(2017, 2, 16, 0, 0, 0, 0, has_year_zero=False),\n",
       "       cftime.Datetime360Day(2017, 3, 16, 0, 0, 0, 0, has_year_zero=False),\n",
       "       cftime.Datetime360Day(2017, 4, 16, 0, 0, 0, 0, has_year_zero=False),\n",
       "       cftime.Datetime360Day(2017, 5, 16, 0, 0, 0, 0, has_year_zero=False),\n",
       "       cftime.Datetime360Day(2017, 6, 16, 0, 0, 0, 0, has_year_zero=False),\n",
       "       cftime.Datetime360Day(2017, 7, 16, 0, 0, 0, 0, has_year_zero=False),\n",
       "       cftime.Datetime360Day(2017, 8, 16, 0, 0, 0, 0, has_year_zero=False),\n",
       "       cftime.Datetime360Day(2017, 9, 16, 0, 0, 0, 0, has_year_zero=False),\n",
       "       cftime.Datetime360Day(2017, 10, 16, 0, 0, 0, 0, has_year_zero=False),\n",
       "       cftime.Datetime360Day(2017, 11, 16, 0, 0, 0, 0, has_year_zero=False),\n",
       "       cftime.Datetime360Day(2017, 12, 16, 0, 0, 0, 0, has_year_zero=False),\n",
       "       cftime.Datetime360Day(2018, 1, 16, 0, 0, 0, 0, has_year_zero=False),\n",
       "       cftime.Datetime360Day(2018, 2, 16, 0, 0, 0, 0, has_year_zero=False),\n",
       "       cftime.Datetime360Day(2018, 3, 16, 0, 0, 0, 0, has_year_zero=False),\n",
       "       cftime.Datetime360Day(2018, 4, 16, 0, 0, 0, 0, has_year_zero=False),\n",
       "       cftime.Datetime360Day(2018, 5, 16, 0, 0, 0, 0, has_year_zero=False),\n",
       "       cftime.Datetime360Day(2018, 6, 16, 0, 0, 0, 0, has_year_zero=False),\n",
       "       cftime.Datetime360Day(2018, 7, 16, 0, 0, 0, 0, has_year_zero=False),\n",
       "       cftime.Datetime360Day(2018, 8, 16, 0, 0, 0, 0, has_year_zero=False),\n",
       "       cftime.Datetime360Day(2018, 9, 16, 0, 0, 0, 0, has_year_zero=False),\n",
       "       cftime.Datetime360Day(2018, 10, 16, 0, 0, 0, 0, has_year_zero=False),\n",
       "       cftime.Datetime360Day(2018, 11, 16, 0, 0, 0, 0, has_year_zero=False),\n",
       "       cftime.Datetime360Day(2018, 12, 16, 0, 0, 0, 0, has_year_zero=False)],\n",
       "      dtype=object)</pre></div></li></ul></div></li><li class='xr-section-item'><input id='section-23a93a0d-aa68-42ee-8ab4-975dc301266c' class='xr-section-summary-in' type='checkbox' disabled ><label for='section-23a93a0d-aa68-42ee-8ab4-975dc301266c' class='xr-section-summary'  title='Expand/collapse section'>Attributes: <span>(0)</span></label><div class='xr-section-inline-details'></div><div class='xr-section-details'><dl class='xr-attrs'></dl></div></li></ul></div></div>"
      ],
      "text/plain": [
       "<xarray.DataArray (TIME: 180, PRESSURE: 58)>\n",
       "array([[23.485056 , 23.400187 , 23.181103 , ...,  2.601728 ,  2.4672794,\n",
       "         2.3866677],\n",
       "       [24.202677 , 24.139824 , 23.945688 , ...,  2.5920565,  2.4641771,\n",
       "         2.3825421],\n",
       "       [23.845299 , 23.831371 , 23.789097 , ...,  2.590883 ,  2.4606094,\n",
       "         2.3788157],\n",
       "       ...,\n",
       "       [19.969881 , 19.896149 , 19.76833  , ...,  2.6017992,  2.4684746,\n",
       "         2.383095 ],\n",
       "       [21.036392 , 20.972857 , 20.813213 , ...,  2.602894 ,  2.470664 ,\n",
       "         2.385792 ],\n",
       "       [22.422619 , 22.329908 , 22.15755  , ...,  2.602155 ,  2.4668667,\n",
       "         2.380363 ]], dtype=float32)\n",
       "Coordinates:\n",
       "  * PRESSURE  (PRESSURE) float32 2.5 10.0 20.0 ... 1.8e+03 1.9e+03 1.975e+03\n",
       "  * TIME      (TIME) object 2004-01-16 00:00:00 ... 2018-12-16 00:00:00"
      ]
     },
     "execution_count": 20,
     "metadata": {},
     "output_type": "execute_result"
    }
   ],
   "source": [
    "RG2019_EAC = RG2019_temp.sel({'LONGITUDE':slice(140,180),'LATITUDE':slice(-40,-20)}).mean(['LONGITUDE','LATITUDE'])\n",
    "RG2019_EAC.compute()"
   ]
  },
  {
   "cell_type": "code",
   "execution_count": null,
   "id": "c64ca7af-1406-4fef-9866-12f4a3a469d5",
   "metadata": {},
   "outputs": [],
   "source": [
    "CAFE60_EAC = ds_CAFE60.temp.sel({'xt_ocean':slice(-220,-180),'yt_ocean':slice(-40,-20)}).mean(['xt_ocean','yt_ocean','ensemble']).compute()"
   ]
  },
  {
   "cell_type": "code",
   "execution_count": null,
   "id": "237fde54-3282-49f2-8247-cee71ecbd75b",
   "metadata": {},
   "outputs": [],
   "source": [
    "BRAN_EAC = ds_BRAN_temp.temp.sel({'xt_ocean':slice(140,180),'yt_ocean':slice(-40,-20)}).mean(['xt_ocean','yt_ocean']).compute()"
   ]
  },
  {
   "cell_type": "code",
   "execution_count": null,
   "id": "31735968-ed52-4b54-9aca-d4173ff436ac",
   "metadata": {},
   "outputs": [],
   "source": [
    "S2_EAC = ETBF_NC_data.temp500.sel({'lon':slice(140,180),'lat':slice(-40,-20)}).mean(['lon','lat']).compute()"
   ]
  },
  {
   "cell_type": "code",
   "execution_count": null,
   "id": "6d58a471-0cd8-438a-a02e-b886e736b131",
   "metadata": {},
   "outputs": [],
   "source": [
    "S2_EAC.rename({'datetime64','time'})"
   ]
  },
  {
   "cell_type": "code",
   "execution_count": 56,
   "id": "672a8497-a743-4eea-8a48-fcc100a27fa4",
   "metadata": {},
   "outputs": [
    {
     "data": {
      "text/plain": [
       "[<matplotlib.lines.Line2D at 0x7efc85f76580>]"
      ]
     },
     "execution_count": 56,
     "metadata": {},
     "output_type": "execute_result"
    },
    {
     "data": {
      "image/png": "[encoded data removed]",
      "text/plain": [
       "<Figure size 400x400 with 1 Axes>"
      ]
     },
     "metadata": {
      "image/png": {
       "height": 400,
       "width": 400
      }
     },
     "output_type": "display_data"
    }
   ],
   "source": [
    "S2_EAC.plot()"
   ]
  },
  {
   "cell_type": "code",
   "execution_count": 50,
   "id": "b3505cde-f413-4f46-bc8e-1b908c3f0e81",
   "metadata": {},
   "outputs": [
    {
     "data": {
      "text/plain": [
       "[<matplotlib.lines.Line2D at 0x7efd0c37c850>]"
      ]
     },
     "execution_count": 50,
     "metadata": {},
     "output_type": "execute_result"
    },
    {
     "data": {
      "image/png": "[encoded data removed]",
      "text/plain": [
       "<Figure size 400x400 with 1 Axes>"
      ]
     },
     "metadata": {
      "image/png": {
       "height": 400,
       "width": 400
      }
     },
     "output_type": "display_data"
    }
   ],
   "source": [
    "BRAN_EAC.sel(st_ocean=500,method='nearest').plot()"
   ]
  },
  {
   "cell_type": "code",
   "execution_count": 51,
   "id": "0ed4d9e5-a26d-4786-a821-4e361053a6b2",
   "metadata": {},
   "outputs": [
    {
     "data": {
      "text/plain": [
       "[<matplotlib.lines.Line2D at 0x7efc85df2eb0>]"
      ]
     },
     "execution_count": 51,
     "metadata": {},
     "output_type": "execute_result"
    },
    {
     "data": {
      "image/png": "[encoded data removed]",
      "text/plain": [
       "<Figure size 400x400 with 1 Axes>"
      ]
     },
     "metadata": {
      "image/png": {
       "height": 400,
       "width": 400
      }
     },
     "output_type": "display_data"
    }
   ],
   "source": [
    "CAFE60_EAC.sel(st_ocean=500,method='nearest').plot()"
   ]
  },
  {
   "cell_type": "code",
   "execution_count": 52,
   "id": "11a6b8c4-7c14-479e-a538-d985293b1c9e",
   "metadata": {},
   "outputs": [
    {
     "data": {
      "text/plain": [
       "[<matplotlib.lines.Line2D at 0x7efd0c5d2280>]"
      ]
     },
     "execution_count": 52,
     "metadata": {},
     "output_type": "execute_result"
    },
    {
     "data": {
      "image/png": "[encoded data removed]",
      "text/plain": [
       "<Figure size 400x400 with 1 Axes>"
      ]
     },
     "metadata": {
      "image/png": {
       "height": 400,
       "width": 400
      }
     },
     "output_type": "display_data"
    }
   ],
   "source": [
    "RG2019_EAC.sel(PRESSURE=500,method='nearest').plot()"
   ]
  },
  {
   "cell_type": "code",
   "execution_count": 58,
   "id": "8f464ff0-aee6-4213-9bb3-40810b9ba573",
   "metadata": {},
   "outputs": [
    {
     "ename": "TypeError",
     "evalue": "tzinfo argument must be None or of a tzinfo subclass, not type 'numpy.str_'",
     "output_type": "error",
     "traceback": [
      "\u001b[0;31m---------------------------------------------------------------------------\u001b[0m",
      "\u001b[0;31mTypeError\u001b[0m                                 Traceback (most recent call last)",
      "\u001b[0;32m<ipython-input-58-b587388a4395>\u001b[0m in \u001b[0;36m<module>\u001b[0;34m\u001b[0m\n\u001b[1;32m      1\u001b[0m \u001b[0mCAFE60_EAC\u001b[0m\u001b[0;34m.\u001b[0m\u001b[0msel\u001b[0m\u001b[0;34m(\u001b[0m\u001b[0mst_ocean\u001b[0m\u001b[0;34m=\u001b[0m\u001b[0;36m500\u001b[0m\u001b[0;34m,\u001b[0m\u001b[0mmethod\u001b[0m\u001b[0;34m=\u001b[0m\u001b[0;34m'nearest'\u001b[0m\u001b[0;34m)\u001b[0m\u001b[0;34m.\u001b[0m\u001b[0mplot\u001b[0m\u001b[0;34m(\u001b[0m\u001b[0mcolor\u001b[0m\u001b[0;34m=\u001b[0m\u001b[0;34m'k'\u001b[0m\u001b[0;34m)\u001b[0m\u001b[0;34m\u001b[0m\u001b[0;34m\u001b[0m\u001b[0m\n\u001b[1;32m      2\u001b[0m \u001b[0mRG2019_EAC\u001b[0m\u001b[0;34m.\u001b[0m\u001b[0msel\u001b[0m\u001b[0;34m(\u001b[0m\u001b[0mPRESSURE\u001b[0m\u001b[0;34m=\u001b[0m\u001b[0;36m500\u001b[0m\u001b[0;34m,\u001b[0m\u001b[0mmethod\u001b[0m\u001b[0;34m=\u001b[0m\u001b[0;34m'nearest'\u001b[0m\u001b[0;34m)\u001b[0m\u001b[0;34m.\u001b[0m\u001b[0mplot\u001b[0m\u001b[0;34m(\u001b[0m\u001b[0mcolor\u001b[0m\u001b[0;34m=\u001b[0m\u001b[0;34m'g'\u001b[0m\u001b[0;34m)\u001b[0m\u001b[0;34m\u001b[0m\u001b[0;34m\u001b[0m\u001b[0m\n\u001b[0;32m----> 3\u001b[0;31m \u001b[0mBRAN_EAC\u001b[0m\u001b[0;34m.\u001b[0m\u001b[0msel\u001b[0m\u001b[0;34m(\u001b[0m\u001b[0mst_ocean\u001b[0m\u001b[0;34m=\u001b[0m\u001b[0;36m500\u001b[0m\u001b[0;34m,\u001b[0m\u001b[0mmethod\u001b[0m\u001b[0;34m=\u001b[0m\u001b[0;34m'nearest'\u001b[0m\u001b[0;34m)\u001b[0m\u001b[0;34m.\u001b[0m\u001b[0mplot\u001b[0m\u001b[0;34m(\u001b[0m\u001b[0mcolor\u001b[0m\u001b[0;34m=\u001b[0m\u001b[0;34m'b'\u001b[0m\u001b[0;34m)\u001b[0m\u001b[0;34m\u001b[0m\u001b[0;34m\u001b[0m\u001b[0m\n\u001b[0m\u001b[1;32m      4\u001b[0m \u001b[0mS2_EAC\u001b[0m\u001b[0;34m.\u001b[0m\u001b[0mplot\u001b[0m\u001b[0;34m(\u001b[0m\u001b[0mcolor\u001b[0m\u001b[0;34m=\u001b[0m\u001b[0;34m'r'\u001b[0m\u001b[0;34m)\u001b[0m\u001b[0;34m\u001b[0m\u001b[0;34m\u001b[0m\u001b[0m\n",
      "\u001b[0;32m/g/data/v14/tm4888/miniconda3/envs/pangeo_hpc/lib/python3.9/site-packages/xarray/plot/plot.py\u001b[0m in \u001b[0;36m__call__\u001b[0;34m(self, **kwargs)\u001b[0m\n\u001b[1;32m    860\u001b[0m \u001b[0;34m\u001b[0m\u001b[0m\n\u001b[1;32m    861\u001b[0m     \u001b[0;32mdef\u001b[0m \u001b[0m__call__\u001b[0m\u001b[0;34m(\u001b[0m\u001b[0mself\u001b[0m\u001b[0;34m,\u001b[0m \u001b[0;34m**\u001b[0m\u001b[0mkwargs\u001b[0m\u001b[0;34m)\u001b[0m\u001b[0;34m:\u001b[0m\u001b[0;34m\u001b[0m\u001b[0;34m\u001b[0m\u001b[0m\n\u001b[0;32m--> 862\u001b[0;31m         \u001b[0;32mreturn\u001b[0m \u001b[0mplot\u001b[0m\u001b[0;34m(\u001b[0m\u001b[0mself\u001b[0m\u001b[0;34m.\u001b[0m\u001b[0m_da\u001b[0m\u001b[0;34m,\u001b[0m \u001b[0;34m**\u001b[0m\u001b[0mkwargs\u001b[0m\u001b[0;34m)\u001b[0m\u001b[0;34m\u001b[0m\u001b[0;34m\u001b[0m\u001b[0m\n\u001b[0m\u001b[1;32m    863\u001b[0m \u001b[0;34m\u001b[0m\u001b[0m\n\u001b[1;32m    864\u001b[0m     \u001b[0;31m# we can't use functools.wraps here since that also modifies the name / qualname\u001b[0m\u001b[0;34m\u001b[0m\u001b[0;34m\u001b[0m\u001b[0;34m\u001b[0m\u001b[0m\n",
      "\u001b[0;32m/g/data/v14/tm4888/miniconda3/envs/pangeo_hpc/lib/python3.9/site-packages/xarray/plot/plot.py\u001b[0m in \u001b[0;36mplot\u001b[0;34m(darray, row, col, col_wrap, ax, hue, rtol, subplot_kws, **kwargs)\u001b[0m\n\u001b[1;32m    328\u001b[0m     \u001b[0mkwargs\u001b[0m\u001b[0;34m[\u001b[0m\u001b[0;34m\"ax\"\u001b[0m\u001b[0;34m]\u001b[0m \u001b[0;34m=\u001b[0m \u001b[0max\u001b[0m\u001b[0;34m\u001b[0m\u001b[0;34m\u001b[0m\u001b[0m\n\u001b[1;32m    329\u001b[0m \u001b[0;34m\u001b[0m\u001b[0m\n\u001b[0;32m--> 330\u001b[0;31m     \u001b[0;32mreturn\u001b[0m \u001b[0mplotfunc\u001b[0m\u001b[0;34m(\u001b[0m\u001b[0mdarray\u001b[0m\u001b[0;34m,\u001b[0m \u001b[0;34m**\u001b[0m\u001b[0mkwargs\u001b[0m\u001b[0;34m)\u001b[0m\u001b[0;34m\u001b[0m\u001b[0;34m\u001b[0m\u001b[0m\n\u001b[0m\u001b[1;32m    331\u001b[0m \u001b[0;34m\u001b[0m\u001b[0m\n\u001b[1;32m    332\u001b[0m \u001b[0;34m\u001b[0m\u001b[0m\n",
      "\u001b[0;32m/g/data/v14/tm4888/miniconda3/envs/pangeo_hpc/lib/python3.9/site-packages/xarray/plot/plot.py\u001b[0m in \u001b[0;36mline\u001b[0;34m(darray, row, col, figsize, aspect, size, ax, hue, x, y, xincrease, yincrease, xscale, yscale, xticks, yticks, xlim, ylim, add_legend, _labels, *args, **kwargs)\u001b[0m\n\u001b[1;32m    455\u001b[0m     \u001b[0;31m# https://stackoverflow.com/questions/17430105/autofmt-xdate-deletes-x-axis-labels-of-all-subplots\u001b[0m\u001b[0;34m\u001b[0m\u001b[0;34m\u001b[0m\u001b[0;34m\u001b[0m\u001b[0m\n\u001b[1;32m    456\u001b[0m     \u001b[0;32mif\u001b[0m \u001b[0mnp\u001b[0m\u001b[0;34m.\u001b[0m\u001b[0missubdtype\u001b[0m\u001b[0;34m(\u001b[0m\u001b[0mxplt\u001b[0m\u001b[0;34m.\u001b[0m\u001b[0mdtype\u001b[0m\u001b[0;34m,\u001b[0m \u001b[0mnp\u001b[0m\u001b[0;34m.\u001b[0m\u001b[0mdatetime64\u001b[0m\u001b[0;34m)\u001b[0m\u001b[0;34m:\u001b[0m\u001b[0;34m\u001b[0m\u001b[0;34m\u001b[0m\u001b[0m\n\u001b[0;32m--> 457\u001b[0;31m         \u001b[0;32mfor\u001b[0m \u001b[0mxlabels\u001b[0m \u001b[0;32min\u001b[0m \u001b[0max\u001b[0m\u001b[0;34m.\u001b[0m\u001b[0mget_xticklabels\u001b[0m\u001b[0;34m(\u001b[0m\u001b[0;34m)\u001b[0m\u001b[0;34m:\u001b[0m\u001b[0;34m\u001b[0m\u001b[0;34m\u001b[0m\u001b[0m\n\u001b[0m\u001b[1;32m    458\u001b[0m             \u001b[0mxlabels\u001b[0m\u001b[0;34m.\u001b[0m\u001b[0mset_rotation\u001b[0m\u001b[0;34m(\u001b[0m\u001b[0;36m30\u001b[0m\u001b[0;34m)\u001b[0m\u001b[0;34m\u001b[0m\u001b[0;34m\u001b[0m\u001b[0m\n\u001b[1;32m    459\u001b[0m             \u001b[0mxlabels\u001b[0m\u001b[0;34m.\u001b[0m\u001b[0mset_ha\u001b[0m\u001b[0;34m(\u001b[0m\u001b[0;34m\"right\"\u001b[0m\u001b[0;34m)\u001b[0m\u001b[0;34m\u001b[0m\u001b[0;34m\u001b[0m\u001b[0m\n",
      "\u001b[0;32m/g/data/v14/tm4888/miniconda3/envs/pangeo_hpc/lib/python3.9/site-packages/matplotlib/axes/_base.py\u001b[0m in \u001b[0;36mwrapper\u001b[0;34m(self, *args, **kwargs)\u001b[0m\n\u001b[1;32m     71\u001b[0m \u001b[0;34m\u001b[0m\u001b[0m\n\u001b[1;32m     72\u001b[0m         \u001b[0;32mdef\u001b[0m \u001b[0mwrapper\u001b[0m\u001b[0;34m(\u001b[0m\u001b[0mself\u001b[0m\u001b[0;34m,\u001b[0m \u001b[0;34m*\u001b[0m\u001b[0margs\u001b[0m\u001b[0;34m,\u001b[0m \u001b[0;34m**\u001b[0m\u001b[0mkwargs\u001b[0m\u001b[0;34m)\u001b[0m\u001b[0;34m:\u001b[0m\u001b[0;34m\u001b[0m\u001b[0;34m\u001b[0m\u001b[0m\n\u001b[0;32m---> 73\u001b[0;31m             \u001b[0;32mreturn\u001b[0m \u001b[0mget_method\u001b[0m\u001b[0;34m(\u001b[0m\u001b[0mself\u001b[0m\u001b[0;34m)\u001b[0m\u001b[0;34m(\u001b[0m\u001b[0;34m*\u001b[0m\u001b[0margs\u001b[0m\u001b[0;34m,\u001b[0m \u001b[0;34m**\u001b[0m\u001b[0mkwargs\u001b[0m\u001b[0;34m)\u001b[0m\u001b[0;34m\u001b[0m\u001b[0;34m\u001b[0m\u001b[0m\n\u001b[0m\u001b[1;32m     74\u001b[0m \u001b[0;34m\u001b[0m\u001b[0m\n\u001b[1;32m     75\u001b[0m         \u001b[0mwrapper\u001b[0m\u001b[0;34m.\u001b[0m\u001b[0m__module__\u001b[0m \u001b[0;34m=\u001b[0m \u001b[0mowner\u001b[0m\u001b[0;34m.\u001b[0m\u001b[0m__module__\u001b[0m\u001b[0;34m\u001b[0m\u001b[0;34m\u001b[0m\u001b[0m\n",
      "\u001b[0;32m/g/data/v14/tm4888/miniconda3/envs/pangeo_hpc/lib/python3.9/site-packages/matplotlib/axis.py\u001b[0m in \u001b[0;36mget_ticklabels\u001b[0;34m(self, minor, which)\u001b[0m\n\u001b[1;32m   1225\u001b[0m         \u001b[0;32mif\u001b[0m \u001b[0mminor\u001b[0m\u001b[0;34m:\u001b[0m\u001b[0;34m\u001b[0m\u001b[0;34m\u001b[0m\u001b[0m\n\u001b[1;32m   1226\u001b[0m             \u001b[0;32mreturn\u001b[0m \u001b[0mself\u001b[0m\u001b[0;34m.\u001b[0m\u001b[0mget_minorticklabels\u001b[0m\u001b[0;34m(\u001b[0m\u001b[0;34m)\u001b[0m\u001b[0;34m\u001b[0m\u001b[0;34m\u001b[0m\u001b[0m\n\u001b[0;32m-> 1227\u001b[0;31m         \u001b[0;32mreturn\u001b[0m \u001b[0mself\u001b[0m\u001b[0;34m.\u001b[0m\u001b[0mget_majorticklabels\u001b[0m\u001b[0;34m(\u001b[0m\u001b[0;34m)\u001b[0m\u001b[0;34m\u001b[0m\u001b[0;34m\u001b[0m\u001b[0m\n\u001b[0m\u001b[1;32m   1228\u001b[0m \u001b[0;34m\u001b[0m\u001b[0m\n\u001b[1;32m   1229\u001b[0m     \u001b[0;32mdef\u001b[0m \u001b[0mget_majorticklines\u001b[0m\u001b[0;34m(\u001b[0m\u001b[0mself\u001b[0m\u001b[0;34m)\u001b[0m\u001b[0;34m:\u001b[0m\u001b[0;34m\u001b[0m\u001b[0;34m\u001b[0m\u001b[0m\n",
      "\u001b[0;32m/g/data/v14/tm4888/miniconda3/envs/pangeo_hpc/lib/python3.9/site-packages/matplotlib/axis.py\u001b[0m in \u001b[0;36mget_majorticklabels\u001b[0;34m(self)\u001b[0m\n\u001b[1;32m   1177\u001b[0m     \u001b[0;32mdef\u001b[0m \u001b[0mget_majorticklabels\u001b[0m\u001b[0;34m(\u001b[0m\u001b[0mself\u001b[0m\u001b[0;34m)\u001b[0m\u001b[0;34m:\u001b[0m\u001b[0;34m\u001b[0m\u001b[0;34m\u001b[0m\u001b[0m\n\u001b[1;32m   1178\u001b[0m         \u001b[0;34m\"\"\"Return this Axis' major tick labels, as a list of `~.text.Text`.\"\"\"\u001b[0m\u001b[0;34m\u001b[0m\u001b[0;34m\u001b[0m\u001b[0m\n\u001b[0;32m-> 1179\u001b[0;31m         \u001b[0mticks\u001b[0m \u001b[0;34m=\u001b[0m \u001b[0mself\u001b[0m\u001b[0;34m.\u001b[0m\u001b[0mget_major_ticks\u001b[0m\u001b[0;34m(\u001b[0m\u001b[0;34m)\u001b[0m\u001b[0;34m\u001b[0m\u001b[0;34m\u001b[0m\u001b[0m\n\u001b[0m\u001b[1;32m   1180\u001b[0m         \u001b[0mlabels1\u001b[0m \u001b[0;34m=\u001b[0m \u001b[0;34m[\u001b[0m\u001b[0mtick\u001b[0m\u001b[0;34m.\u001b[0m\u001b[0mlabel1\u001b[0m \u001b[0;32mfor\u001b[0m \u001b[0mtick\u001b[0m \u001b[0;32min\u001b[0m \u001b[0mticks\u001b[0m \u001b[0;32mif\u001b[0m \u001b[0mtick\u001b[0m\u001b[0;34m.\u001b[0m\u001b[0mlabel1\u001b[0m\u001b[0;34m.\u001b[0m\u001b[0mget_visible\u001b[0m\u001b[0;34m(\u001b[0m\u001b[0;34m)\u001b[0m\u001b[0;34m]\u001b[0m\u001b[0;34m\u001b[0m\u001b[0;34m\u001b[0m\u001b[0m\n\u001b[1;32m   1181\u001b[0m         \u001b[0mlabels2\u001b[0m \u001b[0;34m=\u001b[0m \u001b[0;34m[\u001b[0m\u001b[0mtick\u001b[0m\u001b[0;34m.\u001b[0m\u001b[0mlabel2\u001b[0m \u001b[0;32mfor\u001b[0m \u001b[0mtick\u001b[0m \u001b[0;32min\u001b[0m \u001b[0mticks\u001b[0m \u001b[0;32mif\u001b[0m \u001b[0mtick\u001b[0m\u001b[0;34m.\u001b[0m\u001b[0mlabel2\u001b[0m\u001b[0;34m.\u001b[0m\u001b[0mget_visible\u001b[0m\u001b[0;34m(\u001b[0m\u001b[0;34m)\u001b[0m\u001b[0;34m]\u001b[0m\u001b[0;34m\u001b[0m\u001b[0;34m\u001b[0m\u001b[0m\n",
      "\u001b[0;32m/g/data/v14/tm4888/miniconda3/envs/pangeo_hpc/lib/python3.9/site-packages/matplotlib/axis.py\u001b[0m in \u001b[0;36mget_major_ticks\u001b[0;34m(self, numticks)\u001b[0m\n\u001b[1;32m   1348\u001b[0m         \u001b[0;34mr\"\"\"Return the list of major `.Tick`\\s.\"\"\"\u001b[0m\u001b[0;34m\u001b[0m\u001b[0;34m\u001b[0m\u001b[0m\n\u001b[1;32m   1349\u001b[0m         \u001b[0;32mif\u001b[0m \u001b[0mnumticks\u001b[0m \u001b[0;32mis\u001b[0m \u001b[0;32mNone\u001b[0m\u001b[0;34m:\u001b[0m\u001b[0;34m\u001b[0m\u001b[0;34m\u001b[0m\u001b[0m\n\u001b[0;32m-> 1350\u001b[0;31m             \u001b[0mnumticks\u001b[0m \u001b[0;34m=\u001b[0m \u001b[0mlen\u001b[0m\u001b[0;34m(\u001b[0m\u001b[0mself\u001b[0m\u001b[0;34m.\u001b[0m\u001b[0mget_majorticklocs\u001b[0m\u001b[0;34m(\u001b[0m\u001b[0;34m)\u001b[0m\u001b[0;34m)\u001b[0m\u001b[0;34m\u001b[0m\u001b[0;34m\u001b[0m\u001b[0m\n\u001b[0m\u001b[1;32m   1351\u001b[0m \u001b[0;34m\u001b[0m\u001b[0m\n\u001b[1;32m   1352\u001b[0m         \u001b[0;32mwhile\u001b[0m \u001b[0mlen\u001b[0m\u001b[0;34m(\u001b[0m\u001b[0mself\u001b[0m\u001b[0;34m.\u001b[0m\u001b[0mmajorTicks\u001b[0m\u001b[0;34m)\u001b[0m \u001b[0;34m<\u001b[0m \u001b[0mnumticks\u001b[0m\u001b[0;34m:\u001b[0m\u001b[0;34m\u001b[0m\u001b[0;34m\u001b[0m\u001b[0m\n",
      "\u001b[0;32m/g/data/v14/tm4888/miniconda3/envs/pangeo_hpc/lib/python3.9/site-packages/matplotlib/axis.py\u001b[0m in \u001b[0;36mget_majorticklocs\u001b[0;34m(self)\u001b[0m\n\u001b[1;32m   1253\u001b[0m     \u001b[0;32mdef\u001b[0m \u001b[0mget_majorticklocs\u001b[0m\u001b[0;34m(\u001b[0m\u001b[0mself\u001b[0m\u001b[0;34m)\u001b[0m\u001b[0;34m:\u001b[0m\u001b[0;34m\u001b[0m\u001b[0;34m\u001b[0m\u001b[0m\n\u001b[1;32m   1254\u001b[0m         \u001b[0;34m\"\"\"Return this Axis' major tick locations in data coordinates.\"\"\"\u001b[0m\u001b[0;34m\u001b[0m\u001b[0;34m\u001b[0m\u001b[0m\n\u001b[0;32m-> 1255\u001b[0;31m         \u001b[0;32mreturn\u001b[0m \u001b[0mself\u001b[0m\u001b[0;34m.\u001b[0m\u001b[0mmajor\u001b[0m\u001b[0;34m.\u001b[0m\u001b[0mlocator\u001b[0m\u001b[0;34m(\u001b[0m\u001b[0;34m)\u001b[0m\u001b[0;34m\u001b[0m\u001b[0;34m\u001b[0m\u001b[0m\n\u001b[0m\u001b[1;32m   1256\u001b[0m \u001b[0;34m\u001b[0m\u001b[0m\n\u001b[1;32m   1257\u001b[0m     \u001b[0;32mdef\u001b[0m \u001b[0mget_minorticklocs\u001b[0m\u001b[0;34m(\u001b[0m\u001b[0mself\u001b[0m\u001b[0;34m)\u001b[0m\u001b[0;34m:\u001b[0m\u001b[0;34m\u001b[0m\u001b[0;34m\u001b[0m\u001b[0m\n",
      "\u001b[0;32m/g/data/v14/tm4888/miniconda3/envs/pangeo_hpc/lib/python3.9/site-packages/matplotlib/dates.py\u001b[0m in \u001b[0;36m__call__\u001b[0;34m(self)\u001b[0m\n\u001b[1;32m   1334\u001b[0m     \u001b[0;32mdef\u001b[0m \u001b[0m__call__\u001b[0m\u001b[0;34m(\u001b[0m\u001b[0mself\u001b[0m\u001b[0;34m)\u001b[0m\u001b[0;34m:\u001b[0m\u001b[0;34m\u001b[0m\u001b[0;34m\u001b[0m\u001b[0m\n\u001b[1;32m   1335\u001b[0m         \u001b[0;31m# docstring inherited\u001b[0m\u001b[0;34m\u001b[0m\u001b[0;34m\u001b[0m\u001b[0;34m\u001b[0m\u001b[0m\n\u001b[0;32m-> 1336\u001b[0;31m         \u001b[0mdmin\u001b[0m\u001b[0;34m,\u001b[0m \u001b[0mdmax\u001b[0m \u001b[0;34m=\u001b[0m \u001b[0mself\u001b[0m\u001b[0;34m.\u001b[0m\u001b[0mviewlim_to_dt\u001b[0m\u001b[0;34m(\u001b[0m\u001b[0;34m)\u001b[0m\u001b[0;34m\u001b[0m\u001b[0;34m\u001b[0m\u001b[0m\n\u001b[0m\u001b[1;32m   1337\u001b[0m         \u001b[0mlocator\u001b[0m \u001b[0;34m=\u001b[0m \u001b[0mself\u001b[0m\u001b[0;34m.\u001b[0m\u001b[0mget_locator\u001b[0m\u001b[0;34m(\u001b[0m\u001b[0mdmin\u001b[0m\u001b[0;34m,\u001b[0m \u001b[0mdmax\u001b[0m\u001b[0;34m)\u001b[0m\u001b[0;34m\u001b[0m\u001b[0;34m\u001b[0m\u001b[0m\n\u001b[1;32m   1338\u001b[0m         \u001b[0;32mreturn\u001b[0m \u001b[0mlocator\u001b[0m\u001b[0;34m(\u001b[0m\u001b[0;34m)\u001b[0m\u001b[0;34m\u001b[0m\u001b[0;34m\u001b[0m\u001b[0m\n",
      "\u001b[0;32m/g/data/v14/tm4888/miniconda3/envs/pangeo_hpc/lib/python3.9/site-packages/matplotlib/dates.py\u001b[0m in \u001b[0;36mviewlim_to_dt\u001b[0;34m(self)\u001b[0m\n\u001b[1;32m   1125\u001b[0m         \u001b[0;32mif\u001b[0m \u001b[0mvmin\u001b[0m \u001b[0;34m>\u001b[0m \u001b[0mvmax\u001b[0m\u001b[0;34m:\u001b[0m\u001b[0;34m\u001b[0m\u001b[0;34m\u001b[0m\u001b[0m\n\u001b[1;32m   1126\u001b[0m             \u001b[0mvmin\u001b[0m\u001b[0;34m,\u001b[0m \u001b[0mvmax\u001b[0m \u001b[0;34m=\u001b[0m \u001b[0mvmax\u001b[0m\u001b[0;34m,\u001b[0m \u001b[0mvmin\u001b[0m\u001b[0;34m\u001b[0m\u001b[0;34m\u001b[0m\u001b[0m\n\u001b[0;32m-> 1127\u001b[0;31m         \u001b[0;32mreturn\u001b[0m \u001b[0mnum2date\u001b[0m\u001b[0;34m(\u001b[0m\u001b[0mvmin\u001b[0m\u001b[0;34m,\u001b[0m \u001b[0mself\u001b[0m\u001b[0;34m.\u001b[0m\u001b[0mtz\u001b[0m\u001b[0;34m)\u001b[0m\u001b[0;34m,\u001b[0m \u001b[0mnum2date\u001b[0m\u001b[0;34m(\u001b[0m\u001b[0mvmax\u001b[0m\u001b[0;34m,\u001b[0m \u001b[0mself\u001b[0m\u001b[0;34m.\u001b[0m\u001b[0mtz\u001b[0m\u001b[0;34m)\u001b[0m\u001b[0;34m\u001b[0m\u001b[0;34m\u001b[0m\u001b[0m\n\u001b[0m\u001b[1;32m   1128\u001b[0m \u001b[0;34m\u001b[0m\u001b[0m\n\u001b[1;32m   1129\u001b[0m     \u001b[0;32mdef\u001b[0m \u001b[0m_get_unit\u001b[0m\u001b[0;34m(\u001b[0m\u001b[0mself\u001b[0m\u001b[0;34m)\u001b[0m\u001b[0;34m:\u001b[0m\u001b[0;34m\u001b[0m\u001b[0;34m\u001b[0m\u001b[0m\n",
      "\u001b[0;32m/g/data/v14/tm4888/miniconda3/envs/pangeo_hpc/lib/python3.9/site-packages/matplotlib/dates.py\u001b[0m in \u001b[0;36mnum2date\u001b[0;34m(x, tz)\u001b[0m\n\u001b[1;32m    506\u001b[0m     \u001b[0;32mif\u001b[0m \u001b[0mtz\u001b[0m \u001b[0;32mis\u001b[0m \u001b[0;32mNone\u001b[0m\u001b[0;34m:\u001b[0m\u001b[0;34m\u001b[0m\u001b[0;34m\u001b[0m\u001b[0m\n\u001b[1;32m    507\u001b[0m         \u001b[0mtz\u001b[0m \u001b[0;34m=\u001b[0m \u001b[0m_get_rc_timezone\u001b[0m\u001b[0;34m(\u001b[0m\u001b[0;34m)\u001b[0m\u001b[0;34m\u001b[0m\u001b[0;34m\u001b[0m\u001b[0m\n\u001b[0;32m--> 508\u001b[0;31m     \u001b[0;32mreturn\u001b[0m \u001b[0m_from_ordinalf_np_vectorized\u001b[0m\u001b[0;34m(\u001b[0m\u001b[0mx\u001b[0m\u001b[0;34m,\u001b[0m \u001b[0mtz\u001b[0m\u001b[0;34m)\u001b[0m\u001b[0;34m.\u001b[0m\u001b[0mtolist\u001b[0m\u001b[0;34m(\u001b[0m\u001b[0;34m)\u001b[0m\u001b[0;34m\u001b[0m\u001b[0;34m\u001b[0m\u001b[0m\n\u001b[0m\u001b[1;32m    509\u001b[0m \u001b[0;34m\u001b[0m\u001b[0m\n\u001b[1;32m    510\u001b[0m \u001b[0;34m\u001b[0m\u001b[0m\n",
      "\u001b[0;32m/g/data/v14/tm4888/miniconda3/envs/pangeo_hpc/lib/python3.9/site-packages/numpy/lib/function_base.py\u001b[0m in \u001b[0;36m__call__\u001b[0;34m(self, *args, **kwargs)\u001b[0m\n\u001b[1;32m   2161\u001b[0m             \u001b[0mvargs\u001b[0m\u001b[0;34m.\u001b[0m\u001b[0mextend\u001b[0m\u001b[0;34m(\u001b[0m\u001b[0;34m[\u001b[0m\u001b[0mkwargs\u001b[0m\u001b[0;34m[\u001b[0m\u001b[0m_n\u001b[0m\u001b[0;34m]\u001b[0m \u001b[0;32mfor\u001b[0m \u001b[0m_n\u001b[0m \u001b[0;32min\u001b[0m \u001b[0mnames\u001b[0m\u001b[0;34m]\u001b[0m\u001b[0;34m)\u001b[0m\u001b[0;34m\u001b[0m\u001b[0;34m\u001b[0m\u001b[0m\n\u001b[1;32m   2162\u001b[0m \u001b[0;34m\u001b[0m\u001b[0m\n\u001b[0;32m-> 2163\u001b[0;31m         \u001b[0;32mreturn\u001b[0m \u001b[0mself\u001b[0m\u001b[0;34m.\u001b[0m\u001b[0m_vectorize_call\u001b[0m\u001b[0;34m(\u001b[0m\u001b[0mfunc\u001b[0m\u001b[0;34m=\u001b[0m\u001b[0mfunc\u001b[0m\u001b[0;34m,\u001b[0m \u001b[0margs\u001b[0m\u001b[0;34m=\u001b[0m\u001b[0mvargs\u001b[0m\u001b[0;34m)\u001b[0m\u001b[0;34m\u001b[0m\u001b[0;34m\u001b[0m\u001b[0m\n\u001b[0m\u001b[1;32m   2164\u001b[0m \u001b[0;34m\u001b[0m\u001b[0m\n\u001b[1;32m   2165\u001b[0m     \u001b[0;32mdef\u001b[0m \u001b[0m_get_ufunc_and_otypes\u001b[0m\u001b[0;34m(\u001b[0m\u001b[0mself\u001b[0m\u001b[0;34m,\u001b[0m \u001b[0mfunc\u001b[0m\u001b[0;34m,\u001b[0m \u001b[0margs\u001b[0m\u001b[0;34m)\u001b[0m\u001b[0;34m:\u001b[0m\u001b[0;34m\u001b[0m\u001b[0;34m\u001b[0m\u001b[0m\n",
      "\u001b[0;32m/g/data/v14/tm4888/miniconda3/envs/pangeo_hpc/lib/python3.9/site-packages/numpy/lib/function_base.py\u001b[0m in \u001b[0;36m_vectorize_call\u001b[0;34m(self, func, args)\u001b[0m\n\u001b[1;32m   2244\u001b[0m             \u001b[0minputs\u001b[0m \u001b[0;34m=\u001b[0m \u001b[0;34m[\u001b[0m\u001b[0masanyarray\u001b[0m\u001b[0;34m(\u001b[0m\u001b[0ma\u001b[0m\u001b[0;34m,\u001b[0m \u001b[0mdtype\u001b[0m\u001b[0;34m=\u001b[0m\u001b[0mobject\u001b[0m\u001b[0;34m)\u001b[0m \u001b[0;32mfor\u001b[0m \u001b[0ma\u001b[0m \u001b[0;32min\u001b[0m \u001b[0margs\u001b[0m\u001b[0;34m]\u001b[0m\u001b[0;34m\u001b[0m\u001b[0;34m\u001b[0m\u001b[0m\n\u001b[1;32m   2245\u001b[0m \u001b[0;34m\u001b[0m\u001b[0m\n\u001b[0;32m-> 2246\u001b[0;31m             \u001b[0moutputs\u001b[0m \u001b[0;34m=\u001b[0m \u001b[0mufunc\u001b[0m\u001b[0;34m(\u001b[0m\u001b[0;34m*\u001b[0m\u001b[0minputs\u001b[0m\u001b[0;34m)\u001b[0m\u001b[0;34m\u001b[0m\u001b[0;34m\u001b[0m\u001b[0m\n\u001b[0m\u001b[1;32m   2247\u001b[0m \u001b[0;34m\u001b[0m\u001b[0m\n\u001b[1;32m   2248\u001b[0m             \u001b[0;32mif\u001b[0m \u001b[0mufunc\u001b[0m\u001b[0;34m.\u001b[0m\u001b[0mnout\u001b[0m \u001b[0;34m==\u001b[0m \u001b[0;36m1\u001b[0m\u001b[0;34m:\u001b[0m\u001b[0;34m\u001b[0m\u001b[0;34m\u001b[0m\u001b[0m\n",
      "\u001b[0;32m/g/data/v14/tm4888/miniconda3/envs/pangeo_hpc/lib/python3.9/site-packages/matplotlib/dates.py\u001b[0m in \u001b[0;36m_from_ordinalf\u001b[0;34m(x, tz)\u001b[0m\n\u001b[1;32m    337\u001b[0m     \u001b[0mdt\u001b[0m \u001b[0;34m=\u001b[0m \u001b[0mdt\u001b[0m\u001b[0;34m.\u001b[0m\u001b[0mreplace\u001b[0m\u001b[0;34m(\u001b[0m\u001b[0mtzinfo\u001b[0m\u001b[0;34m=\u001b[0m\u001b[0mdateutil\u001b[0m\u001b[0;34m.\u001b[0m\u001b[0mtz\u001b[0m\u001b[0;34m.\u001b[0m\u001b[0mgettz\u001b[0m\u001b[0;34m(\u001b[0m\u001b[0;34m'UTC'\u001b[0m\u001b[0;34m)\u001b[0m\u001b[0;34m)\u001b[0m\u001b[0;34m\u001b[0m\u001b[0;34m\u001b[0m\u001b[0m\n\u001b[1;32m    338\u001b[0m     \u001b[0;31m# but maybe we are working in a different timezone so move.\u001b[0m\u001b[0;34m\u001b[0m\u001b[0;34m\u001b[0m\u001b[0;34m\u001b[0m\u001b[0m\n\u001b[0;32m--> 339\u001b[0;31m     \u001b[0mdt\u001b[0m \u001b[0;34m=\u001b[0m \u001b[0mdt\u001b[0m\u001b[0;34m.\u001b[0m\u001b[0mastimezone\u001b[0m\u001b[0;34m(\u001b[0m\u001b[0mtz\u001b[0m\u001b[0;34m)\u001b[0m\u001b[0;34m\u001b[0m\u001b[0;34m\u001b[0m\u001b[0m\n\u001b[0m\u001b[1;32m    340\u001b[0m     \u001b[0;31m# fix round off errors\u001b[0m\u001b[0;34m\u001b[0m\u001b[0;34m\u001b[0m\u001b[0;34m\u001b[0m\u001b[0m\n\u001b[1;32m    341\u001b[0m     \u001b[0;32mif\u001b[0m \u001b[0mnp\u001b[0m\u001b[0;34m.\u001b[0m\u001b[0mabs\u001b[0m\u001b[0;34m(\u001b[0m\u001b[0mx\u001b[0m\u001b[0;34m)\u001b[0m \u001b[0;34m>\u001b[0m \u001b[0;36m70\u001b[0m \u001b[0;34m*\u001b[0m \u001b[0;36m365\u001b[0m\u001b[0;34m:\u001b[0m\u001b[0;34m\u001b[0m\u001b[0;34m\u001b[0m\u001b[0m\n",
      "\u001b[0;31mTypeError\u001b[0m: tzinfo argument must be None or of a tzinfo subclass, not type 'numpy.str_'"
     ]
    },
    {
     "ename": "TypeError",
     "evalue": "tzinfo argument must be None or of a tzinfo subclass, not type 'numpy.str_'",
     "output_type": "error",
     "traceback": [
      "\u001b[0;31m---------------------------------------------------------------------------\u001b[0m",
      "\u001b[0;31mTypeError\u001b[0m                                 Traceback (most recent call last)",
      "\u001b[0;32m/g/data/v14/tm4888/miniconda3/envs/pangeo_hpc/lib/python3.9/site-packages/IPython/core/formatters.py\u001b[0m in \u001b[0;36m__call__\u001b[0;34m(self, obj)\u001b[0m\n\u001b[1;32m    339\u001b[0m                 \u001b[0;32mpass\u001b[0m\u001b[0;34m\u001b[0m\u001b[0;34m\u001b[0m\u001b[0m\n\u001b[1;32m    340\u001b[0m             \u001b[0;32melse\u001b[0m\u001b[0;34m:\u001b[0m\u001b[0;34m\u001b[0m\u001b[0;34m\u001b[0m\u001b[0m\n\u001b[0;32m--> 341\u001b[0;31m                 \u001b[0;32mreturn\u001b[0m \u001b[0mprinter\u001b[0m\u001b[0;34m(\u001b[0m\u001b[0mobj\u001b[0m\u001b[0;34m)\u001b[0m\u001b[0;34m\u001b[0m\u001b[0;34m\u001b[0m\u001b[0m\n\u001b[0m\u001b[1;32m    342\u001b[0m             \u001b[0;31m# Finally look for special method names\u001b[0m\u001b[0;34m\u001b[0m\u001b[0;34m\u001b[0m\u001b[0;34m\u001b[0m\u001b[0m\n\u001b[1;32m    343\u001b[0m             \u001b[0mmethod\u001b[0m \u001b[0;34m=\u001b[0m \u001b[0mget_real_method\u001b[0m\u001b[0;34m(\u001b[0m\u001b[0mobj\u001b[0m\u001b[0;34m,\u001b[0m \u001b[0mself\u001b[0m\u001b[0;34m.\u001b[0m\u001b[0mprint_method\u001b[0m\u001b[0;34m)\u001b[0m\u001b[0;34m\u001b[0m\u001b[0;34m\u001b[0m\u001b[0m\n",
      "\u001b[0;32m/g/data/v14/tm4888/miniconda3/envs/pangeo_hpc/lib/python3.9/site-packages/IPython/core/pylabtools.py\u001b[0m in \u001b[0;36m<lambda>\u001b[0;34m(fig)\u001b[0m\n\u001b[1;32m    250\u001b[0m         \u001b[0mpng_formatter\u001b[0m\u001b[0;34m.\u001b[0m\u001b[0mfor_type\u001b[0m\u001b[0;34m(\u001b[0m\u001b[0mFigure\u001b[0m\u001b[0;34m,\u001b[0m \u001b[0;32mlambda\u001b[0m \u001b[0mfig\u001b[0m\u001b[0;34m:\u001b[0m \u001b[0mprint_figure\u001b[0m\u001b[0;34m(\u001b[0m\u001b[0mfig\u001b[0m\u001b[0;34m,\u001b[0m \u001b[0;34m'png'\u001b[0m\u001b[0;34m,\u001b[0m \u001b[0;34m**\u001b[0m\u001b[0mkwargs\u001b[0m\u001b[0;34m)\u001b[0m\u001b[0;34m)\u001b[0m\u001b[0;34m\u001b[0m\u001b[0;34m\u001b[0m\u001b[0m\n\u001b[1;32m    251\u001b[0m     \u001b[0;32mif\u001b[0m \u001b[0;34m'retina'\u001b[0m \u001b[0;32min\u001b[0m \u001b[0mformats\u001b[0m \u001b[0;32mor\u001b[0m \u001b[0;34m'png2x'\u001b[0m \u001b[0;32min\u001b[0m \u001b[0mformats\u001b[0m\u001b[0;34m:\u001b[0m\u001b[0;34m\u001b[0m\u001b[0;34m\u001b[0m\u001b[0m\n\u001b[0;32m--> 252\u001b[0;31m         \u001b[0mpng_formatter\u001b[0m\u001b[0;34m.\u001b[0m\u001b[0mfor_type\u001b[0m\u001b[0;34m(\u001b[0m\u001b[0mFigure\u001b[0m\u001b[0;34m,\u001b[0m \u001b[0;32mlambda\u001b[0m \u001b[0mfig\u001b[0m\u001b[0;34m:\u001b[0m \u001b[0mretina_figure\u001b[0m\u001b[0;34m(\u001b[0m\u001b[0mfig\u001b[0m\u001b[0;34m,\u001b[0m \u001b[0;34m**\u001b[0m\u001b[0mkwargs\u001b[0m\u001b[0;34m)\u001b[0m\u001b[0;34m)\u001b[0m\u001b[0;34m\u001b[0m\u001b[0;34m\u001b[0m\u001b[0m\n\u001b[0m\u001b[1;32m    253\u001b[0m     \u001b[0;32mif\u001b[0m \u001b[0;34m'jpg'\u001b[0m \u001b[0;32min\u001b[0m \u001b[0mformats\u001b[0m \u001b[0;32mor\u001b[0m \u001b[0;34m'jpeg'\u001b[0m \u001b[0;32min\u001b[0m \u001b[0mformats\u001b[0m\u001b[0;34m:\u001b[0m\u001b[0;34m\u001b[0m\u001b[0;34m\u001b[0m\u001b[0m\n\u001b[1;32m    254\u001b[0m         \u001b[0mjpg_formatter\u001b[0m\u001b[0;34m.\u001b[0m\u001b[0mfor_type\u001b[0m\u001b[0;34m(\u001b[0m\u001b[0mFigure\u001b[0m\u001b[0;34m,\u001b[0m \u001b[0;32mlambda\u001b[0m \u001b[0mfig\u001b[0m\u001b[0;34m:\u001b[0m \u001b[0mprint_figure\u001b[0m\u001b[0;34m(\u001b[0m\u001b[0mfig\u001b[0m\u001b[0;34m,\u001b[0m \u001b[0;34m'jpg'\u001b[0m\u001b[0;34m,\u001b[0m \u001b[0;34m**\u001b[0m\u001b[0mkwargs\u001b[0m\u001b[0;34m)\u001b[0m\u001b[0;34m)\u001b[0m\u001b[0;34m\u001b[0m\u001b[0;34m\u001b[0m\u001b[0m\n",
      "\u001b[0;32m/g/data/v14/tm4888/miniconda3/envs/pangeo_hpc/lib/python3.9/site-packages/IPython/core/pylabtools.py\u001b[0m in \u001b[0;36mretina_figure\u001b[0;34m(fig, **kwargs)\u001b[0m\n\u001b[1;32m    140\u001b[0m \u001b[0;32mdef\u001b[0m \u001b[0mretina_figure\u001b[0m\u001b[0;34m(\u001b[0m\u001b[0mfig\u001b[0m\u001b[0;34m,\u001b[0m \u001b[0;34m**\u001b[0m\u001b[0mkwargs\u001b[0m\u001b[0;34m)\u001b[0m\u001b[0;34m:\u001b[0m\u001b[0;34m\u001b[0m\u001b[0;34m\u001b[0m\u001b[0m\n\u001b[1;32m    141\u001b[0m     \u001b[0;34m\"\"\"format a figure as a pixel-doubled (retina) PNG\"\"\"\u001b[0m\u001b[0;34m\u001b[0m\u001b[0;34m\u001b[0m\u001b[0m\n\u001b[0;32m--> 142\u001b[0;31m     \u001b[0mpngdata\u001b[0m \u001b[0;34m=\u001b[0m \u001b[0mprint_figure\u001b[0m\u001b[0;34m(\u001b[0m\u001b[0mfig\u001b[0m\u001b[0;34m,\u001b[0m \u001b[0mfmt\u001b[0m\u001b[0;34m=\u001b[0m\u001b[0;34m'retina'\u001b[0m\u001b[0;34m,\u001b[0m \u001b[0;34m**\u001b[0m\u001b[0mkwargs\u001b[0m\u001b[0;34m)\u001b[0m\u001b[0;34m\u001b[0m\u001b[0;34m\u001b[0m\u001b[0m\n\u001b[0m\u001b[1;32m    143\u001b[0m     \u001b[0;31m# Make sure that retina_figure acts just like print_figure and returns\u001b[0m\u001b[0;34m\u001b[0m\u001b[0;34m\u001b[0m\u001b[0;34m\u001b[0m\u001b[0m\n\u001b[1;32m    144\u001b[0m     \u001b[0;31m# None when the figure is empty.\u001b[0m\u001b[0;34m\u001b[0m\u001b[0;34m\u001b[0m\u001b[0;34m\u001b[0m\u001b[0m\n",
      "\u001b[0;32m/g/data/v14/tm4888/miniconda3/envs/pangeo_hpc/lib/python3.9/site-packages/IPython/core/pylabtools.py\u001b[0m in \u001b[0;36mprint_figure\u001b[0;34m(fig, fmt, bbox_inches, **kwargs)\u001b[0m\n\u001b[1;32m    132\u001b[0m         \u001b[0mFigureCanvasBase\u001b[0m\u001b[0;34m(\u001b[0m\u001b[0mfig\u001b[0m\u001b[0;34m)\u001b[0m\u001b[0;34m\u001b[0m\u001b[0;34m\u001b[0m\u001b[0m\n\u001b[1;32m    133\u001b[0m \u001b[0;34m\u001b[0m\u001b[0m\n\u001b[0;32m--> 134\u001b[0;31m     \u001b[0mfig\u001b[0m\u001b[0;34m.\u001b[0m\u001b[0mcanvas\u001b[0m\u001b[0;34m.\u001b[0m\u001b[0mprint_figure\u001b[0m\u001b[0;34m(\u001b[0m\u001b[0mbytes_io\u001b[0m\u001b[0;34m,\u001b[0m \u001b[0;34m**\u001b[0m\u001b[0mkw\u001b[0m\u001b[0;34m)\u001b[0m\u001b[0;34m\u001b[0m\u001b[0;34m\u001b[0m\u001b[0m\n\u001b[0m\u001b[1;32m    135\u001b[0m     \u001b[0mdata\u001b[0m \u001b[0;34m=\u001b[0m \u001b[0mbytes_io\u001b[0m\u001b[0;34m.\u001b[0m\u001b[0mgetvalue\u001b[0m\u001b[0;34m(\u001b[0m\u001b[0;34m)\u001b[0m\u001b[0;34m\u001b[0m\u001b[0;34m\u001b[0m\u001b[0m\n\u001b[1;32m    136\u001b[0m     \u001b[0;32mif\u001b[0m \u001b[0mfmt\u001b[0m \u001b[0;34m==\u001b[0m \u001b[0;34m'svg'\u001b[0m\u001b[0;34m:\u001b[0m\u001b[0;34m\u001b[0m\u001b[0;34m\u001b[0m\u001b[0m\n",
      "\u001b[0;32m/g/data/v14/tm4888/miniconda3/envs/pangeo_hpc/lib/python3.9/site-packages/matplotlib/backend_bases.py\u001b[0m in \u001b[0;36mprint_figure\u001b[0;34m(self, filename, dpi, facecolor, edgecolor, orientation, format, bbox_inches, pad_inches, bbox_extra_artists, backend, **kwargs)\u001b[0m\n\u001b[1;32m   2253\u001b[0m                 \u001b[0;31m# force the figure dpi to 72), so we need to set it again here.\u001b[0m\u001b[0;34m\u001b[0m\u001b[0;34m\u001b[0m\u001b[0;34m\u001b[0m\u001b[0m\n\u001b[1;32m   2254\u001b[0m                 \u001b[0;32mwith\u001b[0m \u001b[0mcbook\u001b[0m\u001b[0;34m.\u001b[0m\u001b[0m_setattr_cm\u001b[0m\u001b[0;34m(\u001b[0m\u001b[0mself\u001b[0m\u001b[0;34m.\u001b[0m\u001b[0mfigure\u001b[0m\u001b[0;34m,\u001b[0m \u001b[0mdpi\u001b[0m\u001b[0;34m=\u001b[0m\u001b[0mdpi\u001b[0m\u001b[0;34m)\u001b[0m\u001b[0;34m:\u001b[0m\u001b[0;34m\u001b[0m\u001b[0;34m\u001b[0m\u001b[0m\n\u001b[0;32m-> 2255\u001b[0;31m                     result = print_method(\n\u001b[0m\u001b[1;32m   2256\u001b[0m                         \u001b[0mfilename\u001b[0m\u001b[0;34m,\u001b[0m\u001b[0;34m\u001b[0m\u001b[0;34m\u001b[0m\u001b[0m\n\u001b[1;32m   2257\u001b[0m                         \u001b[0mfacecolor\u001b[0m\u001b[0;34m=\u001b[0m\u001b[0mfacecolor\u001b[0m\u001b[0;34m,\u001b[0m\u001b[0;34m\u001b[0m\u001b[0;34m\u001b[0m\u001b[0m\n",
      "\u001b[0;32m/g/data/v14/tm4888/miniconda3/envs/pangeo_hpc/lib/python3.9/site-packages/matplotlib/backend_bases.py\u001b[0m in \u001b[0;36mwrapper\u001b[0;34m(*args, **kwargs)\u001b[0m\n\u001b[1;32m   1667\u001b[0m             \u001b[0mkwargs\u001b[0m\u001b[0;34m.\u001b[0m\u001b[0mpop\u001b[0m\u001b[0;34m(\u001b[0m\u001b[0marg\u001b[0m\u001b[0;34m)\u001b[0m\u001b[0;34m\u001b[0m\u001b[0;34m\u001b[0m\u001b[0m\n\u001b[1;32m   1668\u001b[0m \u001b[0;34m\u001b[0m\u001b[0m\n\u001b[0;32m-> 1669\u001b[0;31m         \u001b[0;32mreturn\u001b[0m \u001b[0mfunc\u001b[0m\u001b[0;34m(\u001b[0m\u001b[0;34m*\u001b[0m\u001b[0margs\u001b[0m\u001b[0;34m,\u001b[0m \u001b[0;34m**\u001b[0m\u001b[0mkwargs\u001b[0m\u001b[0;34m)\u001b[0m\u001b[0;34m\u001b[0m\u001b[0;34m\u001b[0m\u001b[0m\n\u001b[0m\u001b[1;32m   1670\u001b[0m \u001b[0;34m\u001b[0m\u001b[0m\n\u001b[1;32m   1671\u001b[0m     \u001b[0;32mreturn\u001b[0m \u001b[0mwrapper\u001b[0m\u001b[0;34m\u001b[0m\u001b[0;34m\u001b[0m\u001b[0m\n",
      "\u001b[0;32m/g/data/v14/tm4888/miniconda3/envs/pangeo_hpc/lib/python3.9/site-packages/matplotlib/backends/backend_agg.py\u001b[0m in \u001b[0;36mprint_png\u001b[0;34m(self, filename_or_obj, metadata, pil_kwargs, *args)\u001b[0m\n\u001b[1;32m    506\u001b[0m             \u001b[0;34m*\u001b[0m\u001b[0mmetadata\u001b[0m\u001b[0;34m*\u001b[0m\u001b[0;34m,\u001b[0m \u001b[0mincluding\u001b[0m \u001b[0mthe\u001b[0m \u001b[0mdefault\u001b[0m \u001b[0;34m'Software'\u001b[0m \u001b[0mkey\u001b[0m\u001b[0;34m.\u001b[0m\u001b[0;34m\u001b[0m\u001b[0;34m\u001b[0m\u001b[0m\n\u001b[1;32m    507\u001b[0m         \"\"\"\n\u001b[0;32m--> 508\u001b[0;31m         \u001b[0mFigureCanvasAgg\u001b[0m\u001b[0;34m.\u001b[0m\u001b[0mdraw\u001b[0m\u001b[0;34m(\u001b[0m\u001b[0mself\u001b[0m\u001b[0;34m)\u001b[0m\u001b[0;34m\u001b[0m\u001b[0;34m\u001b[0m\u001b[0m\n\u001b[0m\u001b[1;32m    509\u001b[0m         mpl.image.imsave(\n\u001b[1;32m    510\u001b[0m             \u001b[0mfilename_or_obj\u001b[0m\u001b[0;34m,\u001b[0m \u001b[0mself\u001b[0m\u001b[0;34m.\u001b[0m\u001b[0mbuffer_rgba\u001b[0m\u001b[0;34m(\u001b[0m\u001b[0;34m)\u001b[0m\u001b[0;34m,\u001b[0m \u001b[0mformat\u001b[0m\u001b[0;34m=\u001b[0m\u001b[0;34m\"png\"\u001b[0m\u001b[0;34m,\u001b[0m \u001b[0morigin\u001b[0m\u001b[0;34m=\u001b[0m\u001b[0;34m\"upper\"\u001b[0m\u001b[0;34m,\u001b[0m\u001b[0;34m\u001b[0m\u001b[0;34m\u001b[0m\u001b[0m\n",
      "\u001b[0;32m/g/data/v14/tm4888/miniconda3/envs/pangeo_hpc/lib/python3.9/site-packages/matplotlib/backends/backend_agg.py\u001b[0m in \u001b[0;36mdraw\u001b[0;34m(self)\u001b[0m\n\u001b[1;32m    404\u001b[0m              (self.toolbar._wait_cursor_for_draw_cm() if self.toolbar\n\u001b[1;32m    405\u001b[0m               else nullcontext()):\n\u001b[0;32m--> 406\u001b[0;31m             \u001b[0mself\u001b[0m\u001b[0;34m.\u001b[0m\u001b[0mfigure\u001b[0m\u001b[0;34m.\u001b[0m\u001b[0mdraw\u001b[0m\u001b[0;34m(\u001b[0m\u001b[0mself\u001b[0m\u001b[0;34m.\u001b[0m\u001b[0mrenderer\u001b[0m\u001b[0;34m)\u001b[0m\u001b[0;34m\u001b[0m\u001b[0;34m\u001b[0m\u001b[0m\n\u001b[0m\u001b[1;32m    407\u001b[0m             \u001b[0;31m# A GUI class may be need to update a window using this draw, so\u001b[0m\u001b[0;34m\u001b[0m\u001b[0;34m\u001b[0m\u001b[0;34m\u001b[0m\u001b[0m\n\u001b[1;32m    408\u001b[0m             \u001b[0;31m# don't forget to call the superclass.\u001b[0m\u001b[0;34m\u001b[0m\u001b[0;34m\u001b[0m\u001b[0;34m\u001b[0m\u001b[0m\n",
      "\u001b[0;32m/g/data/v14/tm4888/miniconda3/envs/pangeo_hpc/lib/python3.9/site-packages/matplotlib/artist.py\u001b[0m in \u001b[0;36mdraw_wrapper\u001b[0;34m(artist, renderer, *args, **kwargs)\u001b[0m\n\u001b[1;32m     72\u001b[0m     \u001b[0;34m@\u001b[0m\u001b[0mwraps\u001b[0m\u001b[0;34m(\u001b[0m\u001b[0mdraw\u001b[0m\u001b[0;34m)\u001b[0m\u001b[0;34m\u001b[0m\u001b[0;34m\u001b[0m\u001b[0m\n\u001b[1;32m     73\u001b[0m     \u001b[0;32mdef\u001b[0m \u001b[0mdraw_wrapper\u001b[0m\u001b[0;34m(\u001b[0m\u001b[0martist\u001b[0m\u001b[0;34m,\u001b[0m \u001b[0mrenderer\u001b[0m\u001b[0;34m,\u001b[0m \u001b[0;34m*\u001b[0m\u001b[0margs\u001b[0m\u001b[0;34m,\u001b[0m \u001b[0;34m**\u001b[0m\u001b[0mkwargs\u001b[0m\u001b[0;34m)\u001b[0m\u001b[0;34m:\u001b[0m\u001b[0;34m\u001b[0m\u001b[0;34m\u001b[0m\u001b[0m\n\u001b[0;32m---> 74\u001b[0;31m         \u001b[0mresult\u001b[0m \u001b[0;34m=\u001b[0m \u001b[0mdraw\u001b[0m\u001b[0;34m(\u001b[0m\u001b[0martist\u001b[0m\u001b[0;34m,\u001b[0m \u001b[0mrenderer\u001b[0m\u001b[0;34m,\u001b[0m \u001b[0;34m*\u001b[0m\u001b[0margs\u001b[0m\u001b[0;34m,\u001b[0m \u001b[0;34m**\u001b[0m\u001b[0mkwargs\u001b[0m\u001b[0;34m)\u001b[0m\u001b[0;34m\u001b[0m\u001b[0;34m\u001b[0m\u001b[0m\n\u001b[0m\u001b[1;32m     75\u001b[0m         \u001b[0;32mif\u001b[0m \u001b[0mrenderer\u001b[0m\u001b[0;34m.\u001b[0m\u001b[0m_rasterizing\u001b[0m\u001b[0;34m:\u001b[0m\u001b[0;34m\u001b[0m\u001b[0;34m\u001b[0m\u001b[0m\n\u001b[1;32m     76\u001b[0m             \u001b[0mrenderer\u001b[0m\u001b[0;34m.\u001b[0m\u001b[0mstop_rasterizing\u001b[0m\u001b[0;34m(\u001b[0m\u001b[0;34m)\u001b[0m\u001b[0;34m\u001b[0m\u001b[0;34m\u001b[0m\u001b[0m\n",
      "\u001b[0;32m/g/data/v14/tm4888/miniconda3/envs/pangeo_hpc/lib/python3.9/site-packages/matplotlib/artist.py\u001b[0m in \u001b[0;36mdraw_wrapper\u001b[0;34m(artist, renderer, *args, **kwargs)\u001b[0m\n\u001b[1;32m     49\u001b[0m                 \u001b[0mrenderer\u001b[0m\u001b[0;34m.\u001b[0m\u001b[0mstart_filter\u001b[0m\u001b[0;34m(\u001b[0m\u001b[0;34m)\u001b[0m\u001b[0;34m\u001b[0m\u001b[0;34m\u001b[0m\u001b[0m\n\u001b[1;32m     50\u001b[0m \u001b[0;34m\u001b[0m\u001b[0m\n\u001b[0;32m---> 51\u001b[0;31m             \u001b[0;32mreturn\u001b[0m \u001b[0mdraw\u001b[0m\u001b[0;34m(\u001b[0m\u001b[0martist\u001b[0m\u001b[0;34m,\u001b[0m \u001b[0mrenderer\u001b[0m\u001b[0;34m,\u001b[0m \u001b[0;34m*\u001b[0m\u001b[0margs\u001b[0m\u001b[0;34m,\u001b[0m \u001b[0;34m**\u001b[0m\u001b[0mkwargs\u001b[0m\u001b[0;34m)\u001b[0m\u001b[0;34m\u001b[0m\u001b[0;34m\u001b[0m\u001b[0m\n\u001b[0m\u001b[1;32m     52\u001b[0m         \u001b[0;32mfinally\u001b[0m\u001b[0;34m:\u001b[0m\u001b[0;34m\u001b[0m\u001b[0;34m\u001b[0m\u001b[0m\n\u001b[1;32m     53\u001b[0m             \u001b[0;32mif\u001b[0m \u001b[0martist\u001b[0m\u001b[0;34m.\u001b[0m\u001b[0mget_agg_filter\u001b[0m\u001b[0;34m(\u001b[0m\u001b[0;34m)\u001b[0m \u001b[0;32mis\u001b[0m \u001b[0;32mnot\u001b[0m \u001b[0;32mNone\u001b[0m\u001b[0;34m:\u001b[0m\u001b[0;34m\u001b[0m\u001b[0;34m\u001b[0m\u001b[0m\n",
      "\u001b[0;32m/g/data/v14/tm4888/miniconda3/envs/pangeo_hpc/lib/python3.9/site-packages/matplotlib/figure.py\u001b[0m in \u001b[0;36mdraw\u001b[0;34m(self, renderer)\u001b[0m\n\u001b[1;32m   2778\u001b[0m \u001b[0;34m\u001b[0m\u001b[0m\n\u001b[1;32m   2779\u001b[0m             \u001b[0mself\u001b[0m\u001b[0;34m.\u001b[0m\u001b[0mpatch\u001b[0m\u001b[0;34m.\u001b[0m\u001b[0mdraw\u001b[0m\u001b[0;34m(\u001b[0m\u001b[0mrenderer\u001b[0m\u001b[0;34m)\u001b[0m\u001b[0;34m\u001b[0m\u001b[0;34m\u001b[0m\u001b[0m\n\u001b[0;32m-> 2780\u001b[0;31m             mimage._draw_list_compositing_images(\n\u001b[0m\u001b[1;32m   2781\u001b[0m                 renderer, self, artists, self.suppressComposite)\n\u001b[1;32m   2782\u001b[0m \u001b[0;34m\u001b[0m\u001b[0m\n",
      "\u001b[0;32m/g/data/v14/tm4888/miniconda3/envs/pangeo_hpc/lib/python3.9/site-packages/matplotlib/image.py\u001b[0m in \u001b[0;36m_draw_list_compositing_images\u001b[0;34m(renderer, parent, artists, suppress_composite)\u001b[0m\n\u001b[1;32m    130\u001b[0m     \u001b[0;32mif\u001b[0m \u001b[0mnot_composite\u001b[0m \u001b[0;32mor\u001b[0m \u001b[0;32mnot\u001b[0m \u001b[0mhas_images\u001b[0m\u001b[0;34m:\u001b[0m\u001b[0;34m\u001b[0m\u001b[0;34m\u001b[0m\u001b[0m\n\u001b[1;32m    131\u001b[0m         \u001b[0;32mfor\u001b[0m \u001b[0ma\u001b[0m \u001b[0;32min\u001b[0m \u001b[0martists\u001b[0m\u001b[0;34m:\u001b[0m\u001b[0;34m\u001b[0m\u001b[0;34m\u001b[0m\u001b[0m\n\u001b[0;32m--> 132\u001b[0;31m             \u001b[0ma\u001b[0m\u001b[0;34m.\u001b[0m\u001b[0mdraw\u001b[0m\u001b[0;34m(\u001b[0m\u001b[0mrenderer\u001b[0m\u001b[0;34m)\u001b[0m\u001b[0;34m\u001b[0m\u001b[0;34m\u001b[0m\u001b[0m\n\u001b[0m\u001b[1;32m    133\u001b[0m     \u001b[0;32melse\u001b[0m\u001b[0;34m:\u001b[0m\u001b[0;34m\u001b[0m\u001b[0;34m\u001b[0m\u001b[0m\n\u001b[1;32m    134\u001b[0m         \u001b[0;31m# Composite any adjacent images together\u001b[0m\u001b[0;34m\u001b[0m\u001b[0;34m\u001b[0m\u001b[0;34m\u001b[0m\u001b[0m\n",
      "\u001b[0;32m/g/data/v14/tm4888/miniconda3/envs/pangeo_hpc/lib/python3.9/site-packages/matplotlib/artist.py\u001b[0m in \u001b[0;36mdraw_wrapper\u001b[0;34m(artist, renderer, *args, **kwargs)\u001b[0m\n\u001b[1;32m     49\u001b[0m                 \u001b[0mrenderer\u001b[0m\u001b[0;34m.\u001b[0m\u001b[0mstart_filter\u001b[0m\u001b[0;34m(\u001b[0m\u001b[0;34m)\u001b[0m\u001b[0;34m\u001b[0m\u001b[0;34m\u001b[0m\u001b[0m\n\u001b[1;32m     50\u001b[0m \u001b[0;34m\u001b[0m\u001b[0m\n\u001b[0;32m---> 51\u001b[0;31m             \u001b[0;32mreturn\u001b[0m \u001b[0mdraw\u001b[0m\u001b[0;34m(\u001b[0m\u001b[0martist\u001b[0m\u001b[0;34m,\u001b[0m \u001b[0mrenderer\u001b[0m\u001b[0;34m,\u001b[0m \u001b[0;34m*\u001b[0m\u001b[0margs\u001b[0m\u001b[0;34m,\u001b[0m \u001b[0;34m**\u001b[0m\u001b[0mkwargs\u001b[0m\u001b[0;34m)\u001b[0m\u001b[0;34m\u001b[0m\u001b[0;34m\u001b[0m\u001b[0m\n\u001b[0m\u001b[1;32m     52\u001b[0m         \u001b[0;32mfinally\u001b[0m\u001b[0;34m:\u001b[0m\u001b[0;34m\u001b[0m\u001b[0;34m\u001b[0m\u001b[0m\n\u001b[1;32m     53\u001b[0m             \u001b[0;32mif\u001b[0m \u001b[0martist\u001b[0m\u001b[0;34m.\u001b[0m\u001b[0mget_agg_filter\u001b[0m\u001b[0;34m(\u001b[0m\u001b[0;34m)\u001b[0m \u001b[0;32mis\u001b[0m \u001b[0;32mnot\u001b[0m \u001b[0;32mNone\u001b[0m\u001b[0;34m:\u001b[0m\u001b[0;34m\u001b[0m\u001b[0;34m\u001b[0m\u001b[0m\n",
      "\u001b[0;32m/g/data/v14/tm4888/miniconda3/envs/pangeo_hpc/lib/python3.9/site-packages/matplotlib/_api/deprecation.py\u001b[0m in \u001b[0;36mwrapper\u001b[0;34m(*inner_args, **inner_kwargs)\u001b[0m\n\u001b[1;32m    429\u001b[0m                          \u001b[0;32melse\u001b[0m \u001b[0mdeprecation_addendum\u001b[0m\u001b[0;34m,\u001b[0m\u001b[0;34m\u001b[0m\u001b[0;34m\u001b[0m\u001b[0m\n\u001b[1;32m    430\u001b[0m                 **kwargs)\n\u001b[0;32m--> 431\u001b[0;31m         \u001b[0;32mreturn\u001b[0m \u001b[0mfunc\u001b[0m\u001b[0;34m(\u001b[0m\u001b[0;34m*\u001b[0m\u001b[0minner_args\u001b[0m\u001b[0;34m,\u001b[0m \u001b[0;34m**\u001b[0m\u001b[0minner_kwargs\u001b[0m\u001b[0;34m)\u001b[0m\u001b[0;34m\u001b[0m\u001b[0;34m\u001b[0m\u001b[0m\n\u001b[0m\u001b[1;32m    432\u001b[0m \u001b[0;34m\u001b[0m\u001b[0m\n\u001b[1;32m    433\u001b[0m     \u001b[0;32mreturn\u001b[0m \u001b[0mwrapper\u001b[0m\u001b[0;34m\u001b[0m\u001b[0;34m\u001b[0m\u001b[0m\n",
      "\u001b[0;32m/g/data/v14/tm4888/miniconda3/envs/pangeo_hpc/lib/python3.9/site-packages/matplotlib/axes/_base.py\u001b[0m in \u001b[0;36mdraw\u001b[0;34m(self, renderer, inframe)\u001b[0m\n\u001b[1;32m   2919\u001b[0m             \u001b[0mrenderer\u001b[0m\u001b[0;34m.\u001b[0m\u001b[0mstop_rasterizing\u001b[0m\u001b[0;34m(\u001b[0m\u001b[0;34m)\u001b[0m\u001b[0;34m\u001b[0m\u001b[0;34m\u001b[0m\u001b[0m\n\u001b[1;32m   2920\u001b[0m \u001b[0;34m\u001b[0m\u001b[0m\n\u001b[0;32m-> 2921\u001b[0;31m         \u001b[0mmimage\u001b[0m\u001b[0;34m.\u001b[0m\u001b[0m_draw_list_compositing_images\u001b[0m\u001b[0;34m(\u001b[0m\u001b[0mrenderer\u001b[0m\u001b[0;34m,\u001b[0m \u001b[0mself\u001b[0m\u001b[0;34m,\u001b[0m \u001b[0martists\u001b[0m\u001b[0;34m)\u001b[0m\u001b[0;34m\u001b[0m\u001b[0;34m\u001b[0m\u001b[0m\n\u001b[0m\u001b[1;32m   2922\u001b[0m \u001b[0;34m\u001b[0m\u001b[0m\n\u001b[1;32m   2923\u001b[0m         \u001b[0mrenderer\u001b[0m\u001b[0;34m.\u001b[0m\u001b[0mclose_group\u001b[0m\u001b[0;34m(\u001b[0m\u001b[0;34m'axes'\u001b[0m\u001b[0;34m)\u001b[0m\u001b[0;34m\u001b[0m\u001b[0;34m\u001b[0m\u001b[0m\n",
      "\u001b[0;32m/g/data/v14/tm4888/miniconda3/envs/pangeo_hpc/lib/python3.9/site-packages/matplotlib/image.py\u001b[0m in \u001b[0;36m_draw_list_compositing_images\u001b[0;34m(renderer, parent, artists, suppress_composite)\u001b[0m\n\u001b[1;32m    130\u001b[0m     \u001b[0;32mif\u001b[0m \u001b[0mnot_composite\u001b[0m \u001b[0;32mor\u001b[0m \u001b[0;32mnot\u001b[0m \u001b[0mhas_images\u001b[0m\u001b[0;34m:\u001b[0m\u001b[0;34m\u001b[0m\u001b[0;34m\u001b[0m\u001b[0m\n\u001b[1;32m    131\u001b[0m         \u001b[0;32mfor\u001b[0m \u001b[0ma\u001b[0m \u001b[0;32min\u001b[0m \u001b[0martists\u001b[0m\u001b[0;34m:\u001b[0m\u001b[0;34m\u001b[0m\u001b[0;34m\u001b[0m\u001b[0m\n\u001b[0;32m--> 132\u001b[0;31m             \u001b[0ma\u001b[0m\u001b[0;34m.\u001b[0m\u001b[0mdraw\u001b[0m\u001b[0;34m(\u001b[0m\u001b[0mrenderer\u001b[0m\u001b[0;34m)\u001b[0m\u001b[0;34m\u001b[0m\u001b[0;34m\u001b[0m\u001b[0m\n\u001b[0m\u001b[1;32m    133\u001b[0m     \u001b[0;32melse\u001b[0m\u001b[0;34m:\u001b[0m\u001b[0;34m\u001b[0m\u001b[0;34m\u001b[0m\u001b[0m\n\u001b[1;32m    134\u001b[0m         \u001b[0;31m# Composite any adjacent images together\u001b[0m\u001b[0;34m\u001b[0m\u001b[0;34m\u001b[0m\u001b[0;34m\u001b[0m\u001b[0m\n",
      "\u001b[0;32m/g/data/v14/tm4888/miniconda3/envs/pangeo_hpc/lib/python3.9/site-packages/matplotlib/artist.py\u001b[0m in \u001b[0;36mdraw_wrapper\u001b[0;34m(artist, renderer, *args, **kwargs)\u001b[0m\n\u001b[1;32m     49\u001b[0m                 \u001b[0mrenderer\u001b[0m\u001b[0;34m.\u001b[0m\u001b[0mstart_filter\u001b[0m\u001b[0;34m(\u001b[0m\u001b[0;34m)\u001b[0m\u001b[0;34m\u001b[0m\u001b[0;34m\u001b[0m\u001b[0m\n\u001b[1;32m     50\u001b[0m \u001b[0;34m\u001b[0m\u001b[0m\n\u001b[0;32m---> 51\u001b[0;31m             \u001b[0;32mreturn\u001b[0m \u001b[0mdraw\u001b[0m\u001b[0;34m(\u001b[0m\u001b[0martist\u001b[0m\u001b[0;34m,\u001b[0m \u001b[0mrenderer\u001b[0m\u001b[0;34m,\u001b[0m \u001b[0;34m*\u001b[0m\u001b[0margs\u001b[0m\u001b[0;34m,\u001b[0m \u001b[0;34m**\u001b[0m\u001b[0mkwargs\u001b[0m\u001b[0;34m)\u001b[0m\u001b[0;34m\u001b[0m\u001b[0;34m\u001b[0m\u001b[0m\n\u001b[0m\u001b[1;32m     52\u001b[0m         \u001b[0;32mfinally\u001b[0m\u001b[0;34m:\u001b[0m\u001b[0;34m\u001b[0m\u001b[0;34m\u001b[0m\u001b[0m\n\u001b[1;32m     53\u001b[0m             \u001b[0;32mif\u001b[0m \u001b[0martist\u001b[0m\u001b[0;34m.\u001b[0m\u001b[0mget_agg_filter\u001b[0m\u001b[0;34m(\u001b[0m\u001b[0;34m)\u001b[0m \u001b[0;32mis\u001b[0m \u001b[0;32mnot\u001b[0m \u001b[0;32mNone\u001b[0m\u001b[0;34m:\u001b[0m\u001b[0;34m\u001b[0m\u001b[0;34m\u001b[0m\u001b[0m\n",
      "\u001b[0;32m/g/data/v14/tm4888/miniconda3/envs/pangeo_hpc/lib/python3.9/site-packages/matplotlib/axis.py\u001b[0m in \u001b[0;36mdraw\u001b[0;34m(self, renderer, *args, **kwargs)\u001b[0m\n\u001b[1;32m   1134\u001b[0m         \u001b[0mrenderer\u001b[0m\u001b[0;34m.\u001b[0m\u001b[0mopen_group\u001b[0m\u001b[0;34m(\u001b[0m\u001b[0m__name__\u001b[0m\u001b[0;34m,\u001b[0m \u001b[0mgid\u001b[0m\u001b[0;34m=\u001b[0m\u001b[0mself\u001b[0m\u001b[0;34m.\u001b[0m\u001b[0mget_gid\u001b[0m\u001b[0;34m(\u001b[0m\u001b[0;34m)\u001b[0m\u001b[0;34m)\u001b[0m\u001b[0;34m\u001b[0m\u001b[0;34m\u001b[0m\u001b[0m\n\u001b[1;32m   1135\u001b[0m \u001b[0;34m\u001b[0m\u001b[0m\n\u001b[0;32m-> 1136\u001b[0;31m         \u001b[0mticks_to_draw\u001b[0m \u001b[0;34m=\u001b[0m \u001b[0mself\u001b[0m\u001b[0;34m.\u001b[0m\u001b[0m_update_ticks\u001b[0m\u001b[0;34m(\u001b[0m\u001b[0;34m)\u001b[0m\u001b[0;34m\u001b[0m\u001b[0;34m\u001b[0m\u001b[0m\n\u001b[0m\u001b[1;32m   1137\u001b[0m         ticklabelBoxes, ticklabelBoxes2 = self._get_tick_bboxes(ticks_to_draw,\n\u001b[1;32m   1138\u001b[0m                                                                 renderer)\n",
      "\u001b[0;32m/g/data/v14/tm4888/miniconda3/envs/pangeo_hpc/lib/python3.9/site-packages/matplotlib/axis.py\u001b[0m in \u001b[0;36m_update_ticks\u001b[0;34m(self)\u001b[0m\n\u001b[1;32m   1021\u001b[0m         \u001b[0mthe\u001b[0m \u001b[0maxes\u001b[0m\u001b[0;34m.\u001b[0m  \u001b[0mReturn\u001b[0m \u001b[0mthe\u001b[0m \u001b[0mlist\u001b[0m \u001b[0mof\u001b[0m \u001b[0mticks\u001b[0m \u001b[0mthat\u001b[0m \u001b[0mwill\u001b[0m \u001b[0mbe\u001b[0m \u001b[0mdrawn\u001b[0m\u001b[0;34m.\u001b[0m\u001b[0;34m\u001b[0m\u001b[0;34m\u001b[0m\u001b[0m\n\u001b[1;32m   1022\u001b[0m         \"\"\"\n\u001b[0;32m-> 1023\u001b[0;31m         \u001b[0mmajor_locs\u001b[0m \u001b[0;34m=\u001b[0m \u001b[0mself\u001b[0m\u001b[0;34m.\u001b[0m\u001b[0mget_majorticklocs\u001b[0m\u001b[0;34m(\u001b[0m\u001b[0;34m)\u001b[0m\u001b[0;34m\u001b[0m\u001b[0;34m\u001b[0m\u001b[0m\n\u001b[0m\u001b[1;32m   1024\u001b[0m         \u001b[0mmajor_labels\u001b[0m \u001b[0;34m=\u001b[0m \u001b[0mself\u001b[0m\u001b[0;34m.\u001b[0m\u001b[0mmajor\u001b[0m\u001b[0;34m.\u001b[0m\u001b[0mformatter\u001b[0m\u001b[0;34m.\u001b[0m\u001b[0mformat_ticks\u001b[0m\u001b[0;34m(\u001b[0m\u001b[0mmajor_locs\u001b[0m\u001b[0;34m)\u001b[0m\u001b[0;34m\u001b[0m\u001b[0;34m\u001b[0m\u001b[0m\n\u001b[1;32m   1025\u001b[0m         \u001b[0mmajor_ticks\u001b[0m \u001b[0;34m=\u001b[0m \u001b[0mself\u001b[0m\u001b[0;34m.\u001b[0m\u001b[0mget_major_ticks\u001b[0m\u001b[0;34m(\u001b[0m\u001b[0mlen\u001b[0m\u001b[0;34m(\u001b[0m\u001b[0mmajor_locs\u001b[0m\u001b[0;34m)\u001b[0m\u001b[0;34m)\u001b[0m\u001b[0;34m\u001b[0m\u001b[0;34m\u001b[0m\u001b[0m\n",
      "\u001b[0;32m/g/data/v14/tm4888/miniconda3/envs/pangeo_hpc/lib/python3.9/site-packages/matplotlib/axis.py\u001b[0m in \u001b[0;36mget_majorticklocs\u001b[0;34m(self)\u001b[0m\n\u001b[1;32m   1253\u001b[0m     \u001b[0;32mdef\u001b[0m \u001b[0mget_majorticklocs\u001b[0m\u001b[0;34m(\u001b[0m\u001b[0mself\u001b[0m\u001b[0;34m)\u001b[0m\u001b[0;34m:\u001b[0m\u001b[0;34m\u001b[0m\u001b[0;34m\u001b[0m\u001b[0m\n\u001b[1;32m   1254\u001b[0m         \u001b[0;34m\"\"\"Return this Axis' major tick locations in data coordinates.\"\"\"\u001b[0m\u001b[0;34m\u001b[0m\u001b[0;34m\u001b[0m\u001b[0m\n\u001b[0;32m-> 1255\u001b[0;31m         \u001b[0;32mreturn\u001b[0m \u001b[0mself\u001b[0m\u001b[0;34m.\u001b[0m\u001b[0mmajor\u001b[0m\u001b[0;34m.\u001b[0m\u001b[0mlocator\u001b[0m\u001b[0;34m(\u001b[0m\u001b[0;34m)\u001b[0m\u001b[0;34m\u001b[0m\u001b[0;34m\u001b[0m\u001b[0m\n\u001b[0m\u001b[1;32m   1256\u001b[0m \u001b[0;34m\u001b[0m\u001b[0m\n\u001b[1;32m   1257\u001b[0m     \u001b[0;32mdef\u001b[0m \u001b[0mget_minorticklocs\u001b[0m\u001b[0;34m(\u001b[0m\u001b[0mself\u001b[0m\u001b[0;34m)\u001b[0m\u001b[0;34m:\u001b[0m\u001b[0;34m\u001b[0m\u001b[0;34m\u001b[0m\u001b[0m\n",
      "\u001b[0;32m/g/data/v14/tm4888/miniconda3/envs/pangeo_hpc/lib/python3.9/site-packages/matplotlib/dates.py\u001b[0m in \u001b[0;36m__call__\u001b[0;34m(self)\u001b[0m\n\u001b[1;32m   1334\u001b[0m     \u001b[0;32mdef\u001b[0m \u001b[0m__call__\u001b[0m\u001b[0;34m(\u001b[0m\u001b[0mself\u001b[0m\u001b[0;34m)\u001b[0m\u001b[0;34m:\u001b[0m\u001b[0;34m\u001b[0m\u001b[0;34m\u001b[0m\u001b[0m\n\u001b[1;32m   1335\u001b[0m         \u001b[0;31m# docstring inherited\u001b[0m\u001b[0;34m\u001b[0m\u001b[0;34m\u001b[0m\u001b[0;34m\u001b[0m\u001b[0m\n\u001b[0;32m-> 1336\u001b[0;31m         \u001b[0mdmin\u001b[0m\u001b[0;34m,\u001b[0m \u001b[0mdmax\u001b[0m \u001b[0;34m=\u001b[0m \u001b[0mself\u001b[0m\u001b[0;34m.\u001b[0m\u001b[0mviewlim_to_dt\u001b[0m\u001b[0;34m(\u001b[0m\u001b[0;34m)\u001b[0m\u001b[0;34m\u001b[0m\u001b[0;34m\u001b[0m\u001b[0m\n\u001b[0m\u001b[1;32m   1337\u001b[0m         \u001b[0mlocator\u001b[0m \u001b[0;34m=\u001b[0m \u001b[0mself\u001b[0m\u001b[0;34m.\u001b[0m\u001b[0mget_locator\u001b[0m\u001b[0;34m(\u001b[0m\u001b[0mdmin\u001b[0m\u001b[0;34m,\u001b[0m \u001b[0mdmax\u001b[0m\u001b[0;34m)\u001b[0m\u001b[0;34m\u001b[0m\u001b[0;34m\u001b[0m\u001b[0m\n\u001b[1;32m   1338\u001b[0m         \u001b[0;32mreturn\u001b[0m \u001b[0mlocator\u001b[0m\u001b[0;34m(\u001b[0m\u001b[0;34m)\u001b[0m\u001b[0;34m\u001b[0m\u001b[0;34m\u001b[0m\u001b[0m\n",
      "\u001b[0;32m/g/data/v14/tm4888/miniconda3/envs/pangeo_hpc/lib/python3.9/site-packages/matplotlib/dates.py\u001b[0m in \u001b[0;36mviewlim_to_dt\u001b[0;34m(self)\u001b[0m\n\u001b[1;32m   1125\u001b[0m         \u001b[0;32mif\u001b[0m \u001b[0mvmin\u001b[0m \u001b[0;34m>\u001b[0m \u001b[0mvmax\u001b[0m\u001b[0;34m:\u001b[0m\u001b[0;34m\u001b[0m\u001b[0;34m\u001b[0m\u001b[0m\n\u001b[1;32m   1126\u001b[0m             \u001b[0mvmin\u001b[0m\u001b[0;34m,\u001b[0m \u001b[0mvmax\u001b[0m \u001b[0;34m=\u001b[0m \u001b[0mvmax\u001b[0m\u001b[0;34m,\u001b[0m \u001b[0mvmin\u001b[0m\u001b[0;34m\u001b[0m\u001b[0;34m\u001b[0m\u001b[0m\n\u001b[0;32m-> 1127\u001b[0;31m         \u001b[0;32mreturn\u001b[0m \u001b[0mnum2date\u001b[0m\u001b[0;34m(\u001b[0m\u001b[0mvmin\u001b[0m\u001b[0;34m,\u001b[0m \u001b[0mself\u001b[0m\u001b[0;34m.\u001b[0m\u001b[0mtz\u001b[0m\u001b[0;34m)\u001b[0m\u001b[0;34m,\u001b[0m \u001b[0mnum2date\u001b[0m\u001b[0;34m(\u001b[0m\u001b[0mvmax\u001b[0m\u001b[0;34m,\u001b[0m \u001b[0mself\u001b[0m\u001b[0;34m.\u001b[0m\u001b[0mtz\u001b[0m\u001b[0;34m)\u001b[0m\u001b[0;34m\u001b[0m\u001b[0;34m\u001b[0m\u001b[0m\n\u001b[0m\u001b[1;32m   1128\u001b[0m \u001b[0;34m\u001b[0m\u001b[0m\n\u001b[1;32m   1129\u001b[0m     \u001b[0;32mdef\u001b[0m \u001b[0m_get_unit\u001b[0m\u001b[0;34m(\u001b[0m\u001b[0mself\u001b[0m\u001b[0;34m)\u001b[0m\u001b[0;34m:\u001b[0m\u001b[0;34m\u001b[0m\u001b[0;34m\u001b[0m\u001b[0m\n",
      "\u001b[0;32m/g/data/v14/tm4888/miniconda3/envs/pangeo_hpc/lib/python3.9/site-packages/matplotlib/dates.py\u001b[0m in \u001b[0;36mnum2date\u001b[0;34m(x, tz)\u001b[0m\n\u001b[1;32m    506\u001b[0m     \u001b[0;32mif\u001b[0m \u001b[0mtz\u001b[0m \u001b[0;32mis\u001b[0m \u001b[0;32mNone\u001b[0m\u001b[0;34m:\u001b[0m\u001b[0;34m\u001b[0m\u001b[0;34m\u001b[0m\u001b[0m\n\u001b[1;32m    507\u001b[0m         \u001b[0mtz\u001b[0m \u001b[0;34m=\u001b[0m \u001b[0m_get_rc_timezone\u001b[0m\u001b[0;34m(\u001b[0m\u001b[0;34m)\u001b[0m\u001b[0;34m\u001b[0m\u001b[0;34m\u001b[0m\u001b[0m\n\u001b[0;32m--> 508\u001b[0;31m     \u001b[0;32mreturn\u001b[0m \u001b[0m_from_ordinalf_np_vectorized\u001b[0m\u001b[0;34m(\u001b[0m\u001b[0mx\u001b[0m\u001b[0;34m,\u001b[0m \u001b[0mtz\u001b[0m\u001b[0;34m)\u001b[0m\u001b[0;34m.\u001b[0m\u001b[0mtolist\u001b[0m\u001b[0;34m(\u001b[0m\u001b[0;34m)\u001b[0m\u001b[0;34m\u001b[0m\u001b[0;34m\u001b[0m\u001b[0m\n\u001b[0m\u001b[1;32m    509\u001b[0m \u001b[0;34m\u001b[0m\u001b[0m\n\u001b[1;32m    510\u001b[0m \u001b[0;34m\u001b[0m\u001b[0m\n",
      "\u001b[0;32m/g/data/v14/tm4888/miniconda3/envs/pangeo_hpc/lib/python3.9/site-packages/numpy/lib/function_base.py\u001b[0m in \u001b[0;36m__call__\u001b[0;34m(self, *args, **kwargs)\u001b[0m\n\u001b[1;32m   2161\u001b[0m             \u001b[0mvargs\u001b[0m\u001b[0;34m.\u001b[0m\u001b[0mextend\u001b[0m\u001b[0;34m(\u001b[0m\u001b[0;34m[\u001b[0m\u001b[0mkwargs\u001b[0m\u001b[0;34m[\u001b[0m\u001b[0m_n\u001b[0m\u001b[0;34m]\u001b[0m \u001b[0;32mfor\u001b[0m \u001b[0m_n\u001b[0m \u001b[0;32min\u001b[0m \u001b[0mnames\u001b[0m\u001b[0;34m]\u001b[0m\u001b[0;34m)\u001b[0m\u001b[0;34m\u001b[0m\u001b[0;34m\u001b[0m\u001b[0m\n\u001b[1;32m   2162\u001b[0m \u001b[0;34m\u001b[0m\u001b[0m\n\u001b[0;32m-> 2163\u001b[0;31m         \u001b[0;32mreturn\u001b[0m \u001b[0mself\u001b[0m\u001b[0;34m.\u001b[0m\u001b[0m_vectorize_call\u001b[0m\u001b[0;34m(\u001b[0m\u001b[0mfunc\u001b[0m\u001b[0;34m=\u001b[0m\u001b[0mfunc\u001b[0m\u001b[0;34m,\u001b[0m \u001b[0margs\u001b[0m\u001b[0;34m=\u001b[0m\u001b[0mvargs\u001b[0m\u001b[0;34m)\u001b[0m\u001b[0;34m\u001b[0m\u001b[0;34m\u001b[0m\u001b[0m\n\u001b[0m\u001b[1;32m   2164\u001b[0m \u001b[0;34m\u001b[0m\u001b[0m\n\u001b[1;32m   2165\u001b[0m     \u001b[0;32mdef\u001b[0m \u001b[0m_get_ufunc_and_otypes\u001b[0m\u001b[0;34m(\u001b[0m\u001b[0mself\u001b[0m\u001b[0;34m,\u001b[0m \u001b[0mfunc\u001b[0m\u001b[0;34m,\u001b[0m \u001b[0margs\u001b[0m\u001b[0;34m)\u001b[0m\u001b[0;34m:\u001b[0m\u001b[0;34m\u001b[0m\u001b[0;34m\u001b[0m\u001b[0m\n",
      "\u001b[0;32m/g/data/v14/tm4888/miniconda3/envs/pangeo_hpc/lib/python3.9/site-packages/numpy/lib/function_base.py\u001b[0m in \u001b[0;36m_vectorize_call\u001b[0;34m(self, func, args)\u001b[0m\n\u001b[1;32m   2244\u001b[0m             \u001b[0minputs\u001b[0m \u001b[0;34m=\u001b[0m \u001b[0;34m[\u001b[0m\u001b[0masanyarray\u001b[0m\u001b[0;34m(\u001b[0m\u001b[0ma\u001b[0m\u001b[0;34m,\u001b[0m \u001b[0mdtype\u001b[0m\u001b[0;34m=\u001b[0m\u001b[0mobject\u001b[0m\u001b[0;34m)\u001b[0m \u001b[0;32mfor\u001b[0m \u001b[0ma\u001b[0m \u001b[0;32min\u001b[0m \u001b[0margs\u001b[0m\u001b[0;34m]\u001b[0m\u001b[0;34m\u001b[0m\u001b[0;34m\u001b[0m\u001b[0m\n\u001b[1;32m   2245\u001b[0m \u001b[0;34m\u001b[0m\u001b[0m\n\u001b[0;32m-> 2246\u001b[0;31m             \u001b[0moutputs\u001b[0m \u001b[0;34m=\u001b[0m \u001b[0mufunc\u001b[0m\u001b[0;34m(\u001b[0m\u001b[0;34m*\u001b[0m\u001b[0minputs\u001b[0m\u001b[0;34m)\u001b[0m\u001b[0;34m\u001b[0m\u001b[0;34m\u001b[0m\u001b[0m\n\u001b[0m\u001b[1;32m   2247\u001b[0m \u001b[0;34m\u001b[0m\u001b[0m\n\u001b[1;32m   2248\u001b[0m             \u001b[0;32mif\u001b[0m \u001b[0mufunc\u001b[0m\u001b[0;34m.\u001b[0m\u001b[0mnout\u001b[0m \u001b[0;34m==\u001b[0m \u001b[0;36m1\u001b[0m\u001b[0;34m:\u001b[0m\u001b[0;34m\u001b[0m\u001b[0;34m\u001b[0m\u001b[0m\n",
      "\u001b[0;32m/g/data/v14/tm4888/miniconda3/envs/pangeo_hpc/lib/python3.9/site-packages/matplotlib/dates.py\u001b[0m in \u001b[0;36m_from_ordinalf\u001b[0;34m(x, tz)\u001b[0m\n\u001b[1;32m    337\u001b[0m     \u001b[0mdt\u001b[0m \u001b[0;34m=\u001b[0m \u001b[0mdt\u001b[0m\u001b[0;34m.\u001b[0m\u001b[0mreplace\u001b[0m\u001b[0;34m(\u001b[0m\u001b[0mtzinfo\u001b[0m\u001b[0;34m=\u001b[0m\u001b[0mdateutil\u001b[0m\u001b[0;34m.\u001b[0m\u001b[0mtz\u001b[0m\u001b[0;34m.\u001b[0m\u001b[0mgettz\u001b[0m\u001b[0;34m(\u001b[0m\u001b[0;34m'UTC'\u001b[0m\u001b[0;34m)\u001b[0m\u001b[0;34m)\u001b[0m\u001b[0;34m\u001b[0m\u001b[0;34m\u001b[0m\u001b[0m\n\u001b[1;32m    338\u001b[0m     \u001b[0;31m# but maybe we are working in a different timezone so move.\u001b[0m\u001b[0;34m\u001b[0m\u001b[0;34m\u001b[0m\u001b[0;34m\u001b[0m\u001b[0m\n\u001b[0;32m--> 339\u001b[0;31m     \u001b[0mdt\u001b[0m \u001b[0;34m=\u001b[0m \u001b[0mdt\u001b[0m\u001b[0;34m.\u001b[0m\u001b[0mastimezone\u001b[0m\u001b[0;34m(\u001b[0m\u001b[0mtz\u001b[0m\u001b[0;34m)\u001b[0m\u001b[0;34m\u001b[0m\u001b[0;34m\u001b[0m\u001b[0m\n\u001b[0m\u001b[1;32m    340\u001b[0m     \u001b[0;31m# fix round off errors\u001b[0m\u001b[0;34m\u001b[0m\u001b[0;34m\u001b[0m\u001b[0;34m\u001b[0m\u001b[0m\n\u001b[1;32m    341\u001b[0m     \u001b[0;32mif\u001b[0m \u001b[0mnp\u001b[0m\u001b[0;34m.\u001b[0m\u001b[0mabs\u001b[0m\u001b[0;34m(\u001b[0m\u001b[0mx\u001b[0m\u001b[0;34m)\u001b[0m \u001b[0;34m>\u001b[0m \u001b[0;36m70\u001b[0m \u001b[0;34m*\u001b[0m \u001b[0;36m365\u001b[0m\u001b[0;34m:\u001b[0m\u001b[0;34m\u001b[0m\u001b[0;34m\u001b[0m\u001b[0m\n",
      "\u001b[0;31mTypeError\u001b[0m: tzinfo argument must be None or of a tzinfo subclass, not type 'numpy.str_'"
     ]
    },
    {
     "data": {
      "text/plain": [
       "<Figure size 400x400 with 1 Axes>"
      ]
     },
     "metadata": {},
     "output_type": "display_data"
    }
   ],
   "source": [
    "CAFE60_EAC.sel(st_ocean=500,method='nearest').plot(color='k')\n",
    "RG2019_EAC.sel(PRESSURE=500,method='nearest').plot(color='g')\n",
    "BRAN_EAC.sel(st_ocean=500,method='nearest').plot(color='b')\n",
    "S2_EAC.plot(color='r')"
   ]
  },
  {
   "cell_type": "code",
   "execution_count": null,
   "id": "4abb78e6-2342-49ba-8223-789718a0ed39",
   "metadata": {},
   "outputs": [],
   "source": []
  },
  {
   "cell_type": "code",
   "execution_count": null,
   "id": "cb336170-4cef-4780-ae3f-350173e30599",
   "metadata": {},
   "outputs": [],
   "source": []
  },
  {
   "cell_type": "code",
   "execution_count": null,
   "id": "ff85af91-de2d-44df-85bc-c70798d9ecf2",
   "metadata": {},
   "outputs": [],
   "source": []
  },
  {
   "cell_type": "code",
   "execution_count": null,
   "id": "df338375-e28c-4474-9548-c08848b9c83e",
   "metadata": {},
   "outputs": [],
   "source": []
  },
  {
   "cell_type": "code",
   "execution_count": null,
   "id": "e3b51df0-e048-465a-a103-a33b57679ad0",
   "metadata": {},
   "outputs": [],
   "source": []
  },
  {
   "cell_type": "markdown",
   "id": "cf384bf9-6f81-46c3-98b9-ce18454c804e",
   "metadata": {},
   "source": [
    "# $\\big\\Downarrow$ This has been run on 7 Dec 2021"
   ]
  },
  {
   "cell_type": "markdown",
   "id": "b6c32388-ab7c-4b25-b0b1-b00b63100ac8",
   "metadata": {},
   "source": [
    "# SST"
   ]
  },
  {
   "cell_type": "code",
   "execution_count": null,
   "id": "05949796-b40a-4c63-896e-99866c6f34f5",
   "metadata": {},
   "outputs": [],
   "source": [
    "%%time\n",
    "sst = ds_Tocean.sst\n",
    "sst_025 = ds_025_Tocean.sst\n",
    "sst.to_netcdf('/g/data/v14/tm4888/data/ACCESS-S2/ETBF_export/accessS2.RA.SST.grid1deg.nc')\n",
    "sst_025.to_netcdf('/g/data/v14/tm4888/data/ACCESS-S2/ETBF_export/accessS2.RA.SST.nativegrid.nc')"
   ]
  },
  {
   "cell_type": "markdown",
   "id": "65aec462-200b-4b8a-807c-a66ed62d0f5b",
   "metadata": {},
   "source": [
    "# SSS"
   ]
  },
  {
   "cell_type": "code",
   "execution_count": null,
   "id": "5ef19268-0834-49c9-b1aa-3ccb92403423",
   "metadata": {},
   "outputs": [],
   "source": [
    "%%time\n",
    "sss = ds_Tocean.sss\n",
    "sss_025 = ds_025_Tocean.sss\n",
    "sss.to_netcdf('/g/data/v14/tm4888/data/ACCESS-S2/ETBF_export/accessS2.RA.SSS.grid1deg.nc')\n",
    "sss_025.to_netcdf('/g/data/v14/tm4888/data/ACCESS-S2/ETBF_export/accessS2.RA.SSS.nativegrid.nc')"
   ]
  },
  {
   "cell_type": "markdown",
   "id": "27befe95-6e4c-409f-ba0f-d3e71aab8d18",
   "metadata": {},
   "source": [
    "# mld1"
   ]
  },
  {
   "cell_type": "code",
   "execution_count": null,
   "id": "7582808f-b51f-4074-b49b-ec751a72aeef",
   "metadata": {},
   "outputs": [],
   "source": [
    "%%time\n",
    "mld1 = ds_Tocean.mld1\n",
    "mld1_025 = ds_025_Tocean.mld1\n",
    "mld1.to_netcdf('/g/data/v14/tm4888/data/ACCESS-S2/ETBF_export/accessS2.RA.mld1.grid1deg.nc')\n",
    "mld1_025.to_netcdf('/g/data/v14/tm4888/data/ACCESS-S2/ETBF_export/accessS2.RA.mld1.nativegrid.nc')"
   ]
  },
  {
   "cell_type": "markdown",
   "id": "73a86a37-55bf-4ffd-96a2-b8d8aa8055b8",
   "metadata": {},
   "source": [
    "# mld2"
   ]
  },
  {
   "cell_type": "code",
   "execution_count": null,
   "id": "2cd2536d-3428-4a92-8b4d-4f8eea090020",
   "metadata": {},
   "outputs": [],
   "source": [
    "%%time\n",
    "mld2 = ds_Tocean.mld2\n",
    "mld2_025 = ds_025_Tocean.mld2\n",
    "mld2.to_netcdf('/g/data/v14/tm4888/data/ACCESS-S2/ETBF_export/accessS2.RA.mld2.grid1deg.nc')\n",
    "mld2_025.to_netcdf('/g/data/v14/tm4888/data/ACCESS-S2/ETBF_export/accessS2.RA.mld2.nativegrid.nc')"
   ]
  },
  {
   "cell_type": "markdown",
   "id": "385a44ce-3848-404f-aa67-49595638b8bb",
   "metadata": {},
   "source": [
    "# td"
   ]
  },
  {
   "cell_type": "code",
   "execution_count": null,
   "id": "33f4f1ff-3528-4a22-92cf-5bd05575e6f2",
   "metadata": {},
   "outputs": [],
   "source": [
    "%%time\n",
    "td = ds_Tocean.td\n",
    "td_025 = ds_025_Tocean.td\n",
    "td.to_netcdf('/g/data/v14/tm4888/data/ACCESS-S2/ETBF_export/accessS2.RA.td.grid1deg.nc')\n",
    "td_025.to_netcdf('/g/data/v14/tm4888/data/ACCESS-S2/ETBF_export/accessS2.RA.td.nativegrid.nc')"
   ]
  },
  {
   "cell_type": "markdown",
   "id": "1331eaf7-7421-4f1a-ae3f-5b256c4b5c60",
   "metadata": {},
   "source": [
    "# temp50"
   ]
  },
  {
   "cell_type": "code",
   "execution_count": null,
   "id": "0580d80b-0650-4f53-bc8f-b8c9679acfea",
   "metadata": {},
   "outputs": [],
   "source": [
    "%%time\n",
    "temp50 = ds_Tocean.temp50\n",
    "temp50_025 = ds_025_Tocean.temp50\n",
    "temp50.to_netcdf('/g/data/v14/tm4888/data/ACCESS-S2/ETBF_export/accessS2.RA.temp50.grid1deg.nc')\n",
    "temp50_025.to_netcdf('/g/data/v14/tm4888/data/ACCESS-S2/ETBF_export/accessS2.RA.temp50.nativegrid.nc')"
   ]
  },
  {
   "cell_type": "markdown",
   "id": "9c05ba09-afed-416a-9996-610eb63a6f85",
   "metadata": {},
   "source": [
    "# temp100"
   ]
  },
  {
   "cell_type": "code",
   "execution_count": null,
   "id": "d54e8c0a-67e1-44b7-b686-3038b82b0c3d",
   "metadata": {},
   "outputs": [],
   "source": [
    "%%time\n",
    "temp100 = ds_Tocean.temp100\n",
    "temp100_025 = ds_025_Tocean.temp100\n",
    "temp100.to_netcdf('/g/data/v14/tm4888/data/ACCESS-S2/ETBF_export/accessS2.RA.temp100.grid1deg.nc')\n",
    "temp100_025.to_netcdf('/g/data/v14/tm4888/data/ACCESS-S2/ETBF_export/accessS2.RA.temp100.nativegrid.nc')"
   ]
  },
  {
   "cell_type": "markdown",
   "id": "f938e962-24f4-4ee0-95ec-f145ce7d218e",
   "metadata": {},
   "source": [
    "# temp200"
   ]
  },
  {
   "cell_type": "code",
   "execution_count": null,
   "id": "7f55e0d7-c569-4a62-ac89-2c5cc3770d5f",
   "metadata": {},
   "outputs": [],
   "source": [
    "%%time\n",
    "temp200 = ds_Tocean.temp200\n",
    "temp200_025 = ds_025_Tocean.temp200\n",
    "temp200.to_netcdf('/g/data/v14/tm4888/data/ACCESS-S2/ETBF_export/accessS2.RA.temp200.grid1deg.nc')\n",
    "temp200_025.to_netcdf('/g/data/v14/tm4888/data/ACCESS-S2/ETBF_export/accessS2.RA.temp200.nativegrid.nc')"
   ]
  },
  {
   "cell_type": "markdown",
   "id": "cebbbfdd-0b02-4319-bf0c-2ea3abdd1d5a",
   "metadata": {},
   "source": [
    "# temp500"
   ]
  },
  {
   "cell_type": "code",
   "execution_count": null,
   "id": "ee4631a8-11c4-421d-a106-b72045b998a9",
   "metadata": {},
   "outputs": [],
   "source": [
    "%%time\n",
    "temp500 = ds_Tocean.temp500\n",
    "temp500_025 = ds_025_Tocean.temp500\n",
    "temp500.to_netcdf('/g/data/v14/tm4888/data/ACCESS-S2/ETBF_export/accessS2.RA.temp500.grid1deg.nc')\n",
    "temp500_025.to_netcdf('/g/data/v14/tm4888/data/ACCESS-S2/ETBF_export/accessS2.RA.temp500.nativegrid.nc')"
   ]
  },
  {
   "cell_type": "markdown",
   "id": "e78ad05d-741f-403f-800c-dcf521b27b90",
   "metadata": {},
   "source": [
    "# temp sanity checks"
   ]
  },
  {
   "cell_type": "code",
   "execution_count": null,
   "id": "bb8dab29-592b-4137-85f0-b2aa56b624f7",
   "metadata": {},
   "outputs": [],
   "source": [
    "#build datasets\n",
    "temp_1deg = xr.merge([temp50,temp100,temp200,temp500])\n",
    "temp_025 = xr.merge([temp50_025,temp100_025,temp200_025,temp500_025])"
   ]
  },
  {
   "cell_type": "code",
   "execution_count": null,
   "id": "38c5f186-a605-4d34-950f-fc0071e7af3b",
   "metadata": {},
   "outputs": [],
   "source": [
    "import proplot as pplt\n",
    "import numpy as np\n",
    "pplt.rc.cycle = '538'\n",
    "fig, axs = pplt.subplots(ncols=1, span=False, share='labels', refwidth=5.3)\n",
    "labels = ['50', '100', '200', '500']\n",
    "hs1 = []\n",
    "region = {'lat':slice(-50,-15),'lon':slice(150,180)}\n",
    "for i, label in enumerate(labels):\n",
    "    var_string = 'temp'+label\n",
    "    data = temp_1deg[var_string].sel(region).mean({'lat','lon'})\n",
    "    h1 = axs[0].plot(\n",
    "        data, lw=2, label=label, alpha=0.7\n",
    "    )\n",
    "    hs1.extend(h1)\n",
    "\n",
    "# Outer legends\n",
    "ax = axs[0]\n",
    "ax.legend(hs1, loc='b', ncols=3, title='depth in metres', order='C', facecolor='gray2')\n",
    "axs.format(xlabel='date', ylabel='temp', suptitle='ocean temp sanity check - 1deg grid')"
   ]
  },
  {
   "cell_type": "code",
   "execution_count": null,
   "id": "44dec672-4416-4697-843f-af121e4bc20f",
   "metadata": {
    "tags": []
   },
   "outputs": [],
   "source": [
    "import proplot as pplt\n",
    "import numpy as np\n",
    "pplt.rc.cycle = '538'\n",
    "fig, axs = pplt.subplots(ncols=1, span=False, share='labels', refwidth=5.3)\n",
    "labels = ['50', '100', '200', '500']\n",
    "hs1 = []\n",
    "region = {'lat':slice(-50,-15),'lon':slice(150,180)}\n",
    "for i, label in enumerate(labels):\n",
    "    var_string = 'temp'+label\n",
    "    data = temp_025[var_string].sel(region).mean({'lat','lon'})\n",
    "    h1 = axs[0].plot(\n",
    "        data, lw=2, label=label, alpha=0.7\n",
    "    )\n",
    "    hs1.extend(h1)\n",
    "\n",
    "# Outer legends\n",
    "ax = axs[0]\n",
    "ax.legend(hs1, loc='b', ncols=3, title='depth in metres', order='C', facecolor='gray2')\n",
    "axs.format(xlabel='date', ylabel='temp', suptitle='ocean temp sanity check - 0.25deg grid')"
   ]
  },
  {
   "cell_type": "code",
   "execution_count": null,
   "id": "35ee64ce-4925-45ce-bf27-b3f21dcbb01f",
   "metadata": {},
   "outputs": [],
   "source": [
    "temp500_025"
   ]
  },
  {
   "cell_type": "markdown",
   "id": "f9a2ad3d-ebf4-4c2e-93b1-7c47d3ae3e2e",
   "metadata": {},
   "source": [
    "# U100"
   ]
  },
  {
   "cell_type": "code",
   "execution_count": null,
   "id": "5df1c8ae-75cb-4239-9ab2-ac83011364dc",
   "metadata": {},
   "outputs": [],
   "source": [
    "%%time\n",
    "u100 = ds_u.u.sel(depth=100,method='nearest')\n",
    "u100_025 = ds_025_u.u.sel(depth=100,method='nearest')\n",
    "u100.to_netcdf('/g/data/v14/tm4888/data/ACCESS-S2/ETBF_export/accessS2.RA.u100.grid1deg.nc')\n",
    "u100_025.to_netcdf('/g/data/v14/tm4888/data/ACCESS-S2/ETBF_export/accessS2.RA.u100.nativegrid.nc')"
   ]
  },
  {
   "cell_type": "markdown",
   "id": "8d658bd0-b739-4f13-aa5f-41132dd01e2e",
   "metadata": {},
   "source": [
    "# V100"
   ]
  },
  {
   "cell_type": "code",
   "execution_count": null,
   "id": "20216691-f7be-41d9-8fb4-689674151007",
   "metadata": {},
   "outputs": [],
   "source": [
    "%%time\n",
    "v100 = ds_v.v.sel(depth=100,method='nearest')\n",
    "v100_025 = ds_025_v.v.sel(depth=100,method='nearest')\n",
    "v100.to_netcdf('/g/data/v14/tm4888/data/ACCESS-S2/ETBF_export/accessS2.RA.v100.grid1deg.nc')\n",
    "v100_025.to_netcdf('/g/data/v14/tm4888/data/ACCESS-S2/ETBF_export/accessS2.RA.v100.nativegrid.nc')"
   ]
  },
  {
   "cell_type": "markdown",
   "id": "ca6d8673-9e07-4ec4-a8e9-de21cadb5adc",
   "metadata": {},
   "source": [
    "# D20"
   ]
  },
  {
   "cell_type": "code",
   "execution_count": null,
   "id": "91ae7bce-65e5-416c-9b82-d22d9f31cea7",
   "metadata": {},
   "outputs": [],
   "source": [
    "%%time\n",
    "d20 = ds_Tocean.d20\n",
    "d20_025 = ds_025_Tocean.d20\n",
    "d20.to_netcdf('/g/data/v14/tm4888/data/ACCESS-S2/ETBF_export/accessS2.RA.d20.grid1deg.nc')\n",
    "d20_025.to_netcdf('/g/data/v14/tm4888/data/ACCESS-S2/ETBF_export/accessS2.RA.d20.nativegrid.nc')"
   ]
  },
  {
   "cell_type": "markdown",
   "id": "81c156b3-7628-4355-8f20-e25309b96bb6",
   "metadata": {},
   "source": [
    "# hc300"
   ]
  },
  {
   "cell_type": "code",
   "execution_count": null,
   "id": "76341ec6-6c44-4c45-849d-ee1629332da6",
   "metadata": {},
   "outputs": [],
   "source": [
    "%%time\n",
    "hc300 = ds_Tocean.hc300\n",
    "hc300_025 = ds_025_Tocean.hc300\n",
    "hc300.to_netcdf('/g/data/v14/tm4888/data/ACCESS-S2/ETBF_export/accessS2.RA.hc300.grid1deg.nc')\n",
    "hc300_025.to_netcdf('/g/data/v14/tm4888/data/ACCESS-S2/ETBF_export/accessS2.RA.hc300.nativegrid.nc')"
   ]
  },
  {
   "cell_type": "code",
   "execution_count": null,
   "id": "f58df397-340d-43be-8cd2-2ebe7ccb02ca",
   "metadata": {},
   "outputs": [],
   "source": []
  },
  {
   "cell_type": "markdown",
   "id": "bafa0585-9c2b-482d-8fc3-8e68b12a793e",
   "metadata": {},
   "source": [
    "# u100_300"
   ]
  },
  {
   "cell_type": "markdown",
   "id": "ec8893b2-547d-4924-9750-fda4e606c6b3",
   "metadata": {},
   "source": [
    "## need to use depth weighted mean"
   ]
  },
  {
   "cell_type": "code",
   "execution_count": null,
   "id": "ab7c7ddb-03ef-47f6-9486-7298812d7226",
   "metadata": {},
   "outputs": [],
   "source": [
    "%%time\n",
    "u100_300 = helper.weighted_ocean_mean(ds_u.u,weights=depth_weights,dim='depth',sel_dict={'depth':slice(100,300)})\n",
    "u100_300_025 = helper.weighted_ocean_mean(ds_025_u.u,weights=depth_weights,dim='depth',sel_dict={'depth':slice(100,300)})\n",
    "u100_300.to_netcdf('/g/data/v14/tm4888/data/ACCESS-S2/ETBF_export/accessS2.RA.u100_300.grid1deg.nc')\n",
    "u100_300_025.to_netcdf('/g/data/v14/tm4888/data/ACCESS-S2/ETBF_export/accessS2.RA.u100_300.nativegrid.nc')"
   ]
  },
  {
   "cell_type": "markdown",
   "id": "a3419aea-6613-409b-b357-d05d7cdef4c8",
   "metadata": {},
   "source": [
    "# v100_300"
   ]
  },
  {
   "cell_type": "markdown",
   "id": "713e9fb3-ce3d-441f-a27d-2a5cfe5ca0a1",
   "metadata": {},
   "source": [
    "## need to use depth weighted mean"
   ]
  },
  {
   "cell_type": "code",
   "execution_count": null,
   "id": "2f15edc2-31b3-4278-9ed9-0ea467fc3a0f",
   "metadata": {},
   "outputs": [],
   "source": [
    "%%time\n",
    "v100_300 = helper.weighted_ocean_mean(ds_v.v,weights=depth_weights,dim='depth',sel_dict={'depth':slice(100,300)})\n",
    "v100_300_025 = helper.weighted_ocean_mean(ds_025_v.v,weights=depth_weights,dim='depth',sel_dict={'depth':slice(100,300)})\n",
    "v100_300.to_netcdf('/g/data/v14/tm4888/data/ACCESS-S2/ETBF_export/accessS2.RA.v100_300.grid1deg.nc')\n",
    "v100_300_025.to_netcdf('/g/data/v14/tm4888/data/ACCESS-S2/ETBF_export/accessS2.RA.v100_300.nativegrid.nc')"
   ]
  },
  {
   "cell_type": "markdown",
   "id": "f2515506-d6c0-47b6-a068-e7bda8385d84",
   "metadata": {
    "tags": []
   },
   "source": [
    "# EKE_300"
   ]
  },
  {
   "cell_type": "markdown",
   "id": "d2cc0cfc-5c97-42ec-a413-80d3efd503ce",
   "metadata": {},
   "source": [
    "## need to account for variable cell thickness without formal integration"
   ]
  },
  {
   "cell_type": "code",
   "execution_count": null,
   "id": "139df002-5a17-4791-b66f-996cdc2d37ec",
   "metadata": {},
   "outputs": [],
   "source": [
    "eke = ds_KE.EKE\n",
    "eke_025 = ds_025_KE.EKE"
   ]
  },
  {
   "cell_type": "code",
   "execution_count": null,
   "id": "5739e46f-0cb0-4f6f-9526-5e9b7cfef035",
   "metadata": {},
   "outputs": [],
   "source": [
    "eke300 = (eke * depth_weights).sel(depth=slice(0,300)).sum('depth',skipna=False)\n",
    "eke300_025 = (eke_025 * depth_weights).sel(depth=slice(0,300)).sum('depth',skipna=False)"
   ]
  },
  {
   "cell_type": "code",
   "execution_count": null,
   "id": "f071041d-67eb-4508-9e09-73a53f5a753d",
   "metadata": {},
   "outputs": [],
   "source": [
    "%%time\n",
    "eke300.to_netcdf('/g/data/v14/tm4888/data/ACCESS-S2/ETBF_export/accessS2.RA.eke300.grid1deg.nc')\n",
    "eke300_025.to_netcdf('/g/data/v14/tm4888/data/ACCESS-S2/ETBF_export/accessS2.RA.eke300.nativegrid.nc')"
   ]
  },
  {
   "cell_type": "markdown",
   "id": "1ba559f8-7800-4889-a21c-fc9fb633bb9b",
   "metadata": {},
   "source": [
    "# EKE_2000"
   ]
  },
  {
   "cell_type": "markdown",
   "id": "43d15a44-b5e8-4975-8a9a-e755c4d71248",
   "metadata": {
    "tags": []
   },
   "source": [
    "## need to account for variable cell thickness without formal integration"
   ]
  },
  {
   "cell_type": "code",
   "execution_count": null,
   "id": "8c4052af-d5ae-4f38-a14b-01edbf4d279f",
   "metadata": {},
   "outputs": [],
   "source": [
    "eke2000 = (eke * depth_weights).sel(depth=slice(0,2000)).sum('depth',skipna=False)\n",
    "eke2000_025 = (eke_025 * depth_weights).sel(depth=slice(0,2000)).sum('depth',skipna=False)"
   ]
  },
  {
   "cell_type": "code",
   "execution_count": null,
   "id": "8a30fe68-0a2c-4395-90d1-ff665ed792ab",
   "metadata": {},
   "outputs": [],
   "source": [
    "%%time\n",
    "eke2000.to_netcdf('/g/data/v14/tm4888/data/ACCESS-S2/ETBF_export/accessS2.RA.eke2000.grid1deg.nc')\n",
    "eke2000_025.to_netcdf('/g/data/v14/tm4888/data/ACCESS-S2/ETBF_export/accessS2.RA.eke2000.nativegrid.nc')"
   ]
  },
  {
   "cell_type": "markdown",
   "id": "0dc2de61-7633-499b-94f3-4df80f4e0fec",
   "metadata": {
    "tags": []
   },
   "source": [
    "# $\\big\\Uparrow$ This has been run on 7 December 2021"
   ]
  },
  {
   "cell_type": "code",
   "execution_count": null,
   "id": "c171c3c0-35ce-4727-9309-732f3e9aae2b",
   "metadata": {},
   "outputs": [],
   "source": []
  },
  {
   "cell_type": "code",
   "execution_count": null,
   "id": "be7d9492-9533-4c6b-89b4-c69aa3ce511a",
   "metadata": {},
   "outputs": [],
   "source": []
  },
  {
   "cell_type": "code",
   "execution_count": null,
   "id": "43505ec0-9c12-4d58-a061-9d16c578137c",
   "metadata": {},
   "outputs": [],
   "source": []
  },
  {
   "cell_type": "code",
   "execution_count": null,
   "id": "e4411db3-183a-4157-84ee-44d2814473d7",
   "metadata": {},
   "outputs": [],
   "source": []
  },
  {
   "cell_type": "code",
   "execution_count": null,
   "id": "470bbda6-21b4-4d80-8b65-aa7f241a77fd",
   "metadata": {},
   "outputs": [],
   "source": []
  },
  {
   "cell_type": "code",
   "execution_count": null,
   "id": "c7911af7-52dc-4166-a223-f71c516e0bd0",
   "metadata": {},
   "outputs": [],
   "source": []
  },
  {
   "cell_type": "code",
   "execution_count": null,
   "id": "d38b8f62-ee1c-4aee-9b52-23677df073a6",
   "metadata": {},
   "outputs": [],
   "source": []
  },
  {
   "cell_type": "code",
   "execution_count": null,
   "id": "58a98a9f-cdc5-4495-a0f2-a1daa85c95a8",
   "metadata": {},
   "outputs": [],
   "source": []
  },
  {
   "cell_type": "code",
   "execution_count": null,
   "id": "c4916517-486b-46b6-8aba-c71c564258d8",
   "metadata": {},
   "outputs": [],
   "source": []
  },
  {
   "cell_type": "code",
   "execution_count": null,
   "id": "f1745673-6307-4b10-81e3-77b5cf035248",
   "metadata": {},
   "outputs": [],
   "source": []
  },
  {
   "cell_type": "code",
   "execution_count": null,
   "id": "7b4cf4e4-50be-4364-8a14-62e936ba5114",
   "metadata": {},
   "outputs": [],
   "source": []
  },
  {
   "cell_type": "markdown",
   "id": "a9346d0e-710a-4b9b-a24c-025e2856d2f8",
   "metadata": {},
   "source": [
    "# setup regridder using `xesmf`"
   ]
  },
  {
   "cell_type": "code",
   "execution_count": null,
   "id": "d5e65243-c073-4db8-82f4-941752a4decd",
   "metadata": {},
   "outputs": [],
   "source": [
    "u = u.rename({'nav_lon': 'lon', 'nav_lat': 'lat'})\n",
    "v = v.rename({'nav_lon': 'lon', 'nav_lat': 'lat'})"
   ]
  },
  {
   "cell_type": "markdown",
   "id": "fe0e5baf-8830-40c7-8d68-ea1de1effe03",
   "metadata": {},
   "source": [
    "## curvilinear grid"
   ]
  },
  {
   "cell_type": "code",
   "execution_count": null,
   "id": "cedc53ba-35f5-48a7-9d14-fb607912a8ab",
   "metadata": {},
   "outputs": [],
   "source": [
    "nav_lon = u['lon'].compute()\n",
    "nav_lat = u['lat'].compute()"
   ]
  },
  {
   "cell_type": "markdown",
   "id": "8f8688df-eaee-4a8f-a6b2-48b4f985ecfb",
   "metadata": {},
   "source": [
    "# CHOOSE YOUR NEW GRID // define uniform 1x1 grid"
   ]
  },
  {
   "cell_type": "code",
   "execution_count": null,
   "id": "8e8d8494-3fdf-490e-9bee-229a53f8c1eb",
   "metadata": {},
   "outputs": [],
   "source": [
    "new_1deg_grid = xe.util.grid_global(1, 1)\n",
    "new_1deg_grid"
   ]
  },
  {
   "cell_type": "markdown",
   "id": "3a04722b-b599-4e28-a644-d08ed0a99e78",
   "metadata": {},
   "source": [
    "# U"
   ]
  },
  {
   "cell_type": "code",
   "execution_count": null,
   "id": "f19bbbd4-e8a7-4225-8243-623814e2715b",
   "metadata": {},
   "outputs": [],
   "source": [
    "u = u.chunk({'y':1021, 'x':1442}) #xesmf hates chunks across grid vars?"
   ]
  },
  {
   "cell_type": "code",
   "execution_count": null,
   "id": "291ff2ff-51d6-48f3-9a41-ed8d44b7b637",
   "metadata": {},
   "outputs": [],
   "source": [
    "%%time\n",
    "regridder_S2_1deg_Ugrid = xe.Regridder(u, new_1deg_grid,'bilinear', ignore_degenerate=True, periodic=True,reuse_weights=False)"
   ]
  },
  {
   "cell_type": "markdown",
   "id": "c4f3c42a-ed00-45ef-8188-35ee1e054337",
   "metadata": {},
   "source": [
    "## EARTH SYSTEM MODELLING FRAMEWORK (NCAR / NOAA) - https://en.wikipedia.org/wiki/Earth_System_Modeling_Framework </br></br>  xESMF // https://github.com/JiaweiZhuang/xESMF/blob/master/README.rst"
   ]
  },
  {
   "cell_type": "markdown",
   "id": "b9f09402-fef7-4b39-a5f2-83d29ce36a61",
   "metadata": {},
   "source": [
    "## $\\bigstar$ solution to parallel regridding issue = https://github.com/JiaweiZhuang/xESMF/issues/71"
   ]
  },
  {
   "cell_type": "markdown",
   "id": "cab1b481-7b89-472a-b8d9-acf76ab1ba7c",
   "metadata": {},
   "source": [
    "#### regrid the full dataset object"
   ]
  },
  {
   "cell_type": "code",
   "execution_count": null,
   "id": "ee42b0e6-4112-4ffb-a722-23e8fde0121a",
   "metadata": {},
   "outputs": [],
   "source": [
    "%%time\n",
    "regridder_S2_1deg_Ugrid._grid_in = None\n",
    "regridder_S2_1deg_Ugrid._grid_out = None\n",
    "ds_ACCESS_S2_RA_ocean_u_1degRegrid = regridder_S2_1deg_Ugrid(u)"
   ]
  },
  {
   "cell_type": "code",
   "execution_count": null,
   "id": "606495da-ffa6-4b61-b32f-43a4d25bac3b",
   "metadata": {},
   "outputs": [],
   "source": [
    "ds_ACCESS_S2_RA_ocean_u_1degRegrid"
   ]
  },
  {
   "cell_type": "markdown",
   "id": "81d65c1b-50ca-4e8a-954c-45b21e07e0d4",
   "metadata": {},
   "source": [
    "# V"
   ]
  },
  {
   "cell_type": "code",
   "execution_count": null,
   "id": "83c525ff-80ee-4eb7-80cd-10beec905135",
   "metadata": {},
   "outputs": [],
   "source": [
    "v = v.chunk({'y':1021, 'x':1442}) #xesmf hates chunks across grid vars?"
   ]
  },
  {
   "cell_type": "code",
   "execution_count": null,
   "id": "745b220f-5068-4384-b233-7ee6e7b8f906",
   "metadata": {},
   "outputs": [],
   "source": [
    "%%time\n",
    "regridder_S2_1deg_Vgrid = xe.Regridder(v, new_1deg_grid,'bilinear', ignore_degenerate=True, periodic=True,reuse_weights=False)"
   ]
  },
  {
   "cell_type": "markdown",
   "id": "2db239ff-1222-4b5a-abab-b7af9ac90a2c",
   "metadata": {},
   "source": [
    "## EARTH SYSTEM MODELLING FRAMEWORK (NCAR / NOAA) - https://en.wikipedia.org/wiki/Earth_System_Modeling_Framework </br></br>  xESMF // https://github.com/JiaweiZhuang/xESMF/blob/master/README.rst"
   ]
  },
  {
   "cell_type": "markdown",
   "id": "6bf06ff8-a65f-4cb3-9e40-6e03eb529a30",
   "metadata": {},
   "source": [
    "## $\\bigstar$ solution to parallel regridding issue = https://github.com/JiaweiZhuang/xESMF/issues/71"
   ]
  },
  {
   "cell_type": "markdown",
   "id": "d36c7748-bad6-4e58-9a52-ced9eb687a90",
   "metadata": {},
   "source": [
    "#### regrid the full dataset object"
   ]
  },
  {
   "cell_type": "code",
   "execution_count": null,
   "id": "f26b9e66-54aa-4ff8-a83a-242a1451535e",
   "metadata": {},
   "outputs": [],
   "source": [
    "%%time\n",
    "regridder_S2_1deg_Vgrid._grid_in = None\n",
    "regridder_S2_1deg_Vgrid._grid_out = None\n",
    "ds_ACCESS_S2_RA_ocean_v_1degRegrid = regridder_S2_1deg_Vgrid(v)"
   ]
  },
  {
   "cell_type": "code",
   "execution_count": null,
   "id": "3f4a0e9a-edd4-4e37-b1f4-c806cee9ee1f",
   "metadata": {},
   "outputs": [],
   "source": [
    "ds_ACCESS_S2_RA_ocean_v_1degRegrid"
   ]
  },
  {
   "cell_type": "code",
   "execution_count": null,
   "id": "cc28dcdf-a9d4-459c-9768-8364dc7bbbff",
   "metadata": {},
   "outputs": [],
   "source": [
    "ds_ACCESS_S2_RA_ocean_v_1degRegrid = ds_ACCESS_S2_RA_ocean_v_1degRegrid.assign_coords(\n",
    "    {'x': ds_ACCESS_S2_RA_ocean_v_1degRegrid.lon.isel(y=0),\n",
    "    'y': ds_ACCESS_S2_RA_ocean_v_1degRegrid.lat.isel(x=0)}).drop(\n",
    "    ['lon','lat']).rename({'x':'lon','y':'lat'})"
   ]
  },
  {
   "cell_type": "code",
   "execution_count": null,
   "id": "1fa7d896-7210-42b8-88f3-5ac23ce1ed72",
   "metadata": {},
   "outputs": [],
   "source": [
    "ds_ACCESS_S2_RA_ocean_u_1degRegrid = ds_ACCESS_S2_RA_ocean_u_1degRegrid.assign_coords(\n",
    "    {'x': ds_ACCESS_S2_RA_ocean_u_1degRegrid.lon.isel(y=0),\n",
    "    'y': ds_ACCESS_S2_RA_ocean_u_1degRegrid.lat.isel(x=0)}).drop(\n",
    "    ['lon','lat']).rename({'x':'lon','y':'lat'})"
   ]
  },
  {
   "cell_type": "markdown",
   "id": "367db75b-c4ff-43a6-bf16-eb462105bfba",
   "metadata": {},
   "source": [
    "# write out the 1deg u & v zarr collections"
   ]
  },
  {
   "cell_type": "code",
   "execution_count": null,
   "id": "47ccb26a-b67c-44e3-b857-85f3478842ff",
   "metadata": {},
   "outputs": [],
   "source": [
    "%%time\n",
    "!rm -rf /g/data/v14/tm4888/data/ACCESS-S2/accessS2.RA.ocean.u.regrid_1deg.zarr\n",
    "ds_ACCESS_S2_RA_ocean_u_1degRegrid.to_zarr('/g/data/v14/tm4888/data/ACCESS-S2/accessS2.RA.ocean.u.regrid_1deg.zarr',\n",
    "                                           consolidated=True)"
   ]
  },
  {
   "cell_type": "code",
   "execution_count": null,
   "id": "1edfa46e-9934-4c66-a047-4b0dab10cb64",
   "metadata": {},
   "outputs": [],
   "source": [
    "%%time\n",
    "!rm -rf /g/data/v14/tm4888/data/ACCESS-S2/accessS2.RA.ocean.v.regrid_1deg.zarr\n",
    "ds_ACCESS_S2_RA_ocean_v_1degRegrid.to_zarr('/g/data/v14/tm4888/data/ACCESS-S2/accessS2.RA.ocean.v.regrid_1deg.zarr',\n",
    "                                           consolidated=True)"
   ]
  },
  {
   "cell_type": "markdown",
   "id": "c62e6e96-f60d-473c-9dc3-63982a2b77f2",
   "metadata": {},
   "source": [
    "# Load 1deg U&V"
   ]
  },
  {
   "cell_type": "code",
   "execution_count": null,
   "id": "1afb6074-aee6-416a-81fe-0a8ceaaa89e5",
   "metadata": {},
   "outputs": [],
   "source": [
    "ds_u = xr.open_zarr('/g/data/v14/tm4888/data/ACCESS-S2/accessS2.RA.ocean.u.regrid_1deg.zarr')\n",
    "ds_v = xr.open_zarr('/g/data/v14/tm4888/data/ACCESS-S2/accessS2.RA.ocean.v.regrid_1deg.zarr')"
   ]
  },
  {
   "cell_type": "code",
   "execution_count": null,
   "id": "26364092-2ae3-4f8f-bc3e-051a82b4f9f4",
   "metadata": {},
   "outputs": [],
   "source": [
    "def calc_EKE(u, v, time_name = 'time'):\n",
    "    '''\n",
    "    Author1 = {\"name\": \"Thomas Moore\", \"affiliation\": \"CSIRO\", \"email\": \"thomas.moore@csiro.au\", \"orcid\": \"0000-0003-3930-1946\"}\n",
    "    u,v are x and y currents as an xarray data array\n",
    "    '''\n",
    "    u_mean = u.mean(time_name)\n",
    "    v_mean = v.mean(time_name)\n",
    "    MKE = 0.5*(u_mean**2 + v_mean**2).rename('MKE') # currents\n",
    "    EKE = ( 0.5 * ((u-u_mean)**2 + (v-v_mean)**2) ).rename('EKE') # eddies\n",
    "    return EKE, MKE"
   ]
  },
  {
   "cell_type": "code",
   "execution_count": null,
   "id": "063b1c19-c9a3-40e5-81c7-6095b389308b",
   "metadata": {},
   "outputs": [],
   "source": [
    "u_da = ds_u.u\n",
    "v_da = ds_v.v"
   ]
  },
  {
   "cell_type": "code",
   "execution_count": null,
   "id": "f90d8aec-cb1d-4b11-ab94-65ab113256de",
   "metadata": {},
   "outputs": [],
   "source": [
    "%%time\n",
    "[EKE, MKE] = calc_EKE(u_da, v_da, time_name='time')"
   ]
  },
  {
   "cell_type": "code",
   "execution_count": null,
   "id": "4aa99228-6a3a-4a55-98ed-6c434314298e",
   "metadata": {},
   "outputs": [],
   "source": [
    "KE = xr.merge([EKE,MKE])"
   ]
  },
  {
   "cell_type": "code",
   "execution_count": null,
   "id": "b5565872-e1e3-4ab9-9667-eaed9015c67b",
   "metadata": {},
   "outputs": [],
   "source": [
    "%%time\n",
    "!rm -rf /g/data/v14/tm4888/data/ACCESS-S2/accessS2.RA.EKE.regrid_1deg.zarr\n",
    "KE.to_zarr('/g/data/v14/tm4888/data/ACCESS-S2/accessS2.RA.EKE.regrid_1deg.zarr',consolidated=True)"
   ]
  },
  {
   "cell_type": "markdown",
   "id": "c4067bce-baee-4f5e-ba0e-835221b4cd48",
   "metadata": {},
   "source": [
    "# $ The\\ End$"
   ]
  },
  {
   "cell_type": "markdown",
   "id": "b09b8aab-8bc3-407c-ad57-6252ea42293b",
   "metadata": {},
   "source": [
    "# Break glass in case of emergency\n",
    "# $\\Downarrow$"
   ]
  },
  {
   "cell_type": "code",
   "execution_count": null,
   "id": "1a65ef49-d1f3-49ae-bb47-21465b35901c",
   "metadata": {},
   "outputs": [],
   "source": [
    "client.restart()"
   ]
  },
  {
   "cell_type": "code",
   "execution_count": null,
   "id": "76991ca7-13c0-49cc-8b86-b6474f083f8d",
   "metadata": {},
   "outputs": [],
   "source": [
    "client.shutdown()"
   ]
  },
  {
   "cell_type": "code",
   "execution_count": null,
   "id": "417ef20d-c44c-4b7f-a979-b925369702cb",
   "metadata": {},
   "outputs": [],
   "source": [
    "client.restart()"
   ]
  },
  {
   "cell_type": "code",
   "execution_count": null,
   "id": "321a2262-89da-4b80-b05b-994199427ec7",
   "metadata": {},
   "outputs": [],
   "source": []
  },
  {
   "cell_type": "code",
   "execution_count": null,
   "id": "f961e184-a346-4952-a757-66ed566e61f4",
   "metadata": {},
   "outputs": [],
   "source": []
  },
  {
   "cell_type": "code",
   "execution_count": null,
   "id": "033739ed-e732-4df2-b54c-6d01fc8c7e05",
   "metadata": {},
   "outputs": [],
   "source": []
  },
  {
   "cell_type": "code",
   "execution_count": null,
   "id": "e8fc696d-9bbf-4893-86e3-4a58a69b2c68",
   "metadata": {},
   "outputs": [],
   "source": []
  },
  {
   "cell_type": "code",
   "execution_count": null,
   "id": "c1c514d2-d940-4cae-bf0f-ef1a2966de49",
   "metadata": {},
   "outputs": [],
   "source": []
  },
  {
   "cell_type": "code",
   "execution_count": null,
   "id": "0895bace-1d87-49c8-913a-ae5b6bfe7b21",
   "metadata": {},
   "outputs": [],
   "source": []
  },
  {
   "cell_type": "code",
   "execution_count": null,
   "id": "4e550003-b120-4695-a372-1f3b70318ec5",
   "metadata": {},
   "outputs": [],
   "source": []
  },
  {
   "cell_type": "code",
   "execution_count": null,
   "id": "fa84b0b2-ee3c-42ec-b0e9-d6da3dd34339",
   "metadata": {},
   "outputs": [],
   "source": []
  },
  {
   "cell_type": "code",
   "execution_count": null,
   "id": "7e7d8b91-f131-411f-b94a-3dda9d419ba4",
   "metadata": {},
   "outputs": [],
   "source": []
  },
  {
   "cell_type": "code",
   "execution_count": null,
   "id": "5cdab7fa-228d-463a-a899-24cf232224e7",
   "metadata": {},
   "outputs": [],
   "source": []
  },
  {
   "cell_type": "code",
   "execution_count": null,
   "id": "01886a35-c890-4206-a937-6651c480c96d",
   "metadata": {},
   "outputs": [],
   "source": []
  },
  {
   "cell_type": "code",
   "execution_count": null,
   "id": "88da6c5a-1a51-4b1d-998b-732d7a5e7fb2",
   "metadata": {},
   "outputs": [],
   "source": []
  },
  {
   "cell_type": "code",
   "execution_count": null,
   "id": "48aa34da-f1c0-4e0c-8d21-d37af1f1328b",
   "metadata": {},
   "outputs": [],
   "source": []
  },
  {
   "cell_type": "code",
   "execution_count": null,
   "id": "201cd020-714c-4227-b461-03d1054d267d",
   "metadata": {},
   "outputs": [],
   "source": []
  },
  {
   "cell_type": "code",
   "execution_count": null,
   "id": "f4f0c1aa-b7eb-4c57-8dda-6f73537f8cb3",
   "metadata": {},
   "outputs": [],
   "source": []
  },
  {
   "cell_type": "markdown",
   "id": "c645cc92",
   "metadata": {},
   "source": [
    "# SST, SSS, MLD1-2,d20,HC300,td"
   ]
  },
  {
   "cell_type": "markdown",
   "id": "c3c8ca65",
   "metadata": {},
   "source": [
    "### load the whole timeseries using `drop` preproccessor"
   ]
  },
  {
   "cell_type": "raw",
   "id": "4a314b08",
   "metadata": {},
   "source": [
    "# this is needed as unexpected permission errors have been introduced by new BoM data\n",
    "year_start = 1981\n",
    "year_end = 2018"
   ]
  },
  {
   "cell_type": "code",
   "execution_count": null,
   "id": "a9634631",
   "metadata": {},
   "outputs": [],
   "source": [
    "%%time\n",
    "ds_SST_1981_2018 = xr.open_mfdataset('/g/data/ux62/access-s2/reanalysis/ocean/sst/mo_sst_*.nc',parallel=True,preprocess=drop_not_in_2015)\n",
    "#ds_SST_1981_2018 = xr.open_mfdataset(\n",
    "#    [f'/g/data/ux62/access-s2/reanalysis/ocean/sst/mo_sst_{x}.nc' for x in range(year_start, year_end)],parallel=True,preprocess=drop_not_in_2015\n",
    "#)"
   ]
  },
  {
   "cell_type": "code",
   "execution_count": null,
   "id": "685c3722",
   "metadata": {},
   "outputs": [],
   "source": [
    "%%time\n",
    "ds_SSS_1981_2018 = xr.open_mfdataset('/g/data/ux62/access-s2/reanalysis/ocean/sss/mo_sss_*.nc',parallel=True,preprocess=drop_not_in_2015)"
   ]
  },
  {
   "cell_type": "code",
   "execution_count": null,
   "id": "3a78e554",
   "metadata": {},
   "outputs": [],
   "source": [
    "%%time\n",
    "ds_mld1_1981_2018 = xr.open_mfdataset('/g/data/ux62/access-s2/reanalysis/ocean/mld1/mo_mld1_*.nc',parallel=True,preprocess=drop_not_in_2015)"
   ]
  },
  {
   "cell_type": "code",
   "execution_count": null,
   "id": "a2765088",
   "metadata": {},
   "outputs": [],
   "source": [
    "%%time\n",
    "ds_mld2_1981_2018 = xr.open_mfdataset('/g/data/ux62/access-s2/reanalysis/ocean/mld2/mo_mld2_*.nc',parallel=True,preprocess=drop_not_in_2015)"
   ]
  },
  {
   "cell_type": "code",
   "execution_count": null,
   "id": "5c639ae7",
   "metadata": {},
   "outputs": [],
   "source": [
    "%%time\n",
    "ds_D20_1981_2018 = xr.open_mfdataset('/g/data/ux62/access-s2/reanalysis/ocean/d20/mo_d20_*.nc',parallel=True,preprocess=drop_not_in_2015)"
   ]
  },
  {
   "cell_type": "code",
   "execution_count": null,
   "id": "c24f5466",
   "metadata": {},
   "outputs": [],
   "source": [
    "%%time\n",
    "ds_hc300_1981_2018 = xr.open_mfdataset('/g/data/ux62/access-s2/reanalysis/ocean/hc300/mo_hc300_*.nc',parallel=True,preprocess=drop_not_in_2015)"
   ]
  },
  {
   "cell_type": "code",
   "execution_count": null,
   "id": "0e9a0176",
   "metadata": {},
   "outputs": [],
   "source": [
    "%%time\n",
    "ds_td_1981_2018 = xr.open_mfdataset('/g/data/ux62/access-s2/reanalysis/ocean/td/mo_td_*.nc',parallel=True,preprocess=drop_not_in_2015)"
   ]
  },
  {
   "cell_type": "code",
   "execution_count": null,
   "id": "3b67b524",
   "metadata": {},
   "outputs": [],
   "source": [
    "%%time\n",
    "ds_temp_1981_2018 = xr.open_mfdataset('/g/data/ux62/access-s2/reanalysis/ocean/temp/mo_temp_*.nc',parallel=True,preprocess=drop_not_in_2015)"
   ]
  },
  {
   "cell_type": "code",
   "execution_count": null,
   "id": "9fb47e54",
   "metadata": {},
   "outputs": [],
   "source": [
    "ds_temp50_1981_2018 = ds_temp_1981_2018.sel(deptht=50,method='nearest').rename({'temp':'temp50'})\n",
    "ds_temp100_1981_2018 = ds_temp_1981_2018.sel(deptht=100,method='nearest').rename({'temp':'temp100'})\n",
    "ds_temp200_1981_2018 = ds_temp_1981_2018.sel(deptht=200,method='nearest').rename({'temp':'temp200'})\n",
    "ds_temp500_1981_2018 = ds_temp_1981_2018.sel(deptht=500,method='nearest').rename({'temp':'temp500'})"
   ]
  },
  {
   "cell_type": "code",
   "execution_count": null,
   "id": "bfa25b02",
   "metadata": {},
   "outputs": [],
   "source": [
    "ds_ACCESS_S2_RA_ocean = xr.merge([ds_temp50_1981_2018.drop('deptht'),\n",
    "                                  ds_temp100_1981_2018.drop('deptht'),\n",
    "                                  ds_temp200_1981_2018.drop('deptht'),\n",
    "                                  ds_temp500_1981_2018.drop('deptht'),\n",
    "                                  ds_SST_1981_2018.squeeze(),\n",
    "                                  ds_SSS_1981_2018.squeeze(),\n",
    "                                  ds_mld1_1981_2018,\n",
    "                                  ds_mld2_1981_2018,\n",
    "                                  ds_D20_1981_2018,\n",
    "                                  ds_hc300_1981_2018,\n",
    "                                  ds_td_1981_2018\n",
    "                                 ],compat='override')\n",
    "ds_ACCESS_S2_RA_ocean = ds_ACCESS_S2_RA_ocean.drop('time_counter_bnds')\n",
    "ds_ACCESS_S2_RA_ocean = ds_ACCESS_S2_RA_ocean.drop('deptht')\n",
    "ds_ACCESS_S2_RA_ocean"
   ]
  },
  {
   "cell_type": "markdown",
   "id": "024e104b",
   "metadata": {},
   "source": [
    "## add back in key metadata"
   ]
  },
  {
   "cell_type": "code",
   "execution_count": null,
   "id": "9957e372",
   "metadata": {},
   "outputs": [],
   "source": [
    "areat = (xr.open_mfdataset('/g/data/ux62/access-s2/reanalysis/ocean/sst/mo_sst_2016.nc',parallel=True)).areat.to_dataset()\n",
    "areau = (xr.open_mfdataset('/g/data/ux62/access-s2/reanalysis/ocean/u/mo_u_2016.nc',parallel=True)).areau.to_dataset()\n",
    "areav = (xr.open_mfdataset('/g/data/ux62/access-s2/reanalysis/ocean/v/mo_v_2016.nc',parallel=True)).areav.to_dataset()"
   ]
  },
  {
   "cell_type": "code",
   "execution_count": null,
   "id": "19822698",
   "metadata": {},
   "outputs": [],
   "source": [
    "ds_ACCESS_S2_RA_ocean = xr.combine_by_coords([ds_ACCESS_S2_RA_ocean,areat])\n",
    "ds_ACCESS_S2_RA_ocean"
   ]
  },
  {
   "cell_type": "markdown",
   "id": "b7f8173c",
   "metadata": {},
   "source": [
    "# Deal with the same depth coordinates given two different names & rename time"
   ]
  },
  {
   "cell_type": "code",
   "execution_count": null,
   "id": "cada1df5",
   "metadata": {},
   "outputs": [],
   "source": [
    "#ds_ACCESS_S2_RA_ocean = ds_ACCESS_S2_RA_ocean.rename({'deptht':'depth','time_counter':'time'})\n",
    "ds_ACCESS_S2_RA_ocean = ds_ACCESS_S2_RA_ocean.rename({'time_counter':'time'})"
   ]
  },
  {
   "cell_type": "code",
   "execution_count": null,
   "id": "69de24f2",
   "metadata": {},
   "outputs": [],
   "source": [
    "ds_ACCESS_S2_RA_ocean.sst.isel(time=0).plot(size = 10)"
   ]
  },
  {
   "cell_type": "raw",
   "id": "89331d12",
   "metadata": {},
   "source": [
    "nav_lon = ds_ACCESS_S2_RA_ocean['nav_lon'].compute()\n",
    "nav_lat = ds_ACCESS_S2_RA_ocean['nav_lat'].compute()"
   ]
  },
  {
   "cell_type": "code",
   "execution_count": null,
   "id": "87cf9d09",
   "metadata": {},
   "outputs": [],
   "source": [
    "ds_ACCESS_S2_RA_ocean = ds_ACCESS_S2_RA_ocean.rename({'nav_lon': 'lon', 'nav_lat': 'lat'})\n",
    "ds_ACCESS_S2_RA_ocean"
   ]
  },
  {
   "cell_type": "code",
   "execution_count": null,
   "id": "7bc59c08",
   "metadata": {},
   "outputs": [],
   "source": [
    "ds_ACCESS_S2_RA_ocean.nbytes/1e9"
   ]
  },
  {
   "cell_type": "markdown",
   "id": "04bb4fb9",
   "metadata": {},
   "source": [
    "# SAVE ocean tgrid zarr file"
   ]
  },
  {
   "cell_type": "code",
   "execution_count": null,
   "id": "ee76b6f4",
   "metadata": {},
   "outputs": [],
   "source": [
    "%%time\n",
    "ds_ACCESS_S2_RA_ocean.to_zarr(store = '/g/data/v14/tm4888/data/ACCESS-S2/accessS2.RA.ocean.nativeTgrid.zarr',consolidated=True)"
   ]
  },
  {
   "cell_type": "markdown",
   "id": "fcab3314",
   "metadata": {},
   "source": [
    "# Check if zarr collections exist in `/g/data/v14/tm4888/data/ACCESS-S2/` and skip above\n",
    "# $\\Downarrow$"
   ]
  },
  {
   "cell_type": "code",
   "execution_count": null,
   "id": "10152611",
   "metadata": {},
   "outputs": [],
   "source": [
    "ds_ACCESS_S2_RA_ocean_nativeTgrid = xr.open_zarr('/g/data/v14/tm4888/data/ACCESS-S2/accessS2.RA.ocean.nativeTgrid.zarr',consolidated=True)"
   ]
  },
  {
   "cell_type": "code",
   "execution_count": null,
   "id": "8b2f7c94",
   "metadata": {},
   "outputs": [],
   "source": [
    "%%time\n",
    "ds_ACCESS_S2_RA_ocean_nativeTgrid.mld1.mean('time').plot(robust=True)\n",
    "fig = plt.gcf()\n",
    "fig.set_size_inches(10, 10)\n",
    "plt.ylim([200, 400])\n",
    "plt.xlim([300, 500])\n",
    "plt.xlabel('x')\n",
    "plt.ylabel('y')\n",
    "plt.title('mld1')"
   ]
  },
  {
   "cell_type": "markdown",
   "id": "67e8f303",
   "metadata": {},
   "source": [
    "# memory // 16GB plus 160GB on cluster"
   ]
  },
  {
   "cell_type": "code",
   "execution_count": null,
   "id": "681b6638",
   "metadata": {},
   "outputs": [],
   "source": [
    "ds_ACCESS_S2_RA_ocean_nativeTgrid.nbytes/1e9"
   ]
  },
  {
   "cell_type": "markdown",
   "id": "d6970481",
   "metadata": {},
   "source": [
    "#### let's not persist this given crash on write\n",
    "ds_ACCESS_S2_RA_ocean_nativeTgrid = ds_ACCESS_S2_RA_ocean_nativeTgrid.persist()"
   ]
  },
  {
   "cell_type": "markdown",
   "id": "bf5b7fcf",
   "metadata": {
    "tags": []
   },
   "source": [
    "# Regridding Step"
   ]
  },
  {
   "cell_type": "markdown",
   "id": "255ae527",
   "metadata": {},
   "source": [
    "## curvilinear grid"
   ]
  },
  {
   "cell_type": "code",
   "execution_count": null,
   "id": "98d2e0bc",
   "metadata": {},
   "outputs": [],
   "source": [
    "nav_lon = ds_ACCESS_S2_RA_ocean_nativeTgrid['lon'].compute()\n",
    "nav_lat = ds_ACCESS_S2_RA_ocean_nativeTgrid['lat'].compute()"
   ]
  },
  {
   "cell_type": "code",
   "execution_count": null,
   "id": "57338b32",
   "metadata": {},
   "outputs": [],
   "source": [
    "plt.scatter(nav_lon, nav_lat, s=0.01)  # plot grid locations\n",
    "fig = plt.gcf()\n",
    "fig.set_size_inches(18.5, 10.5)\n",
    "plt.ylim([-80, 90])\n",
    "plt.xlabel('lon')\n",
    "plt.ylabel('lat')\n",
    "plt.title('ACCESS-S2 Curvilinear grid')"
   ]
  },
  {
   "cell_type": "markdown",
   "id": "db30a4fb",
   "metadata": {},
   "source": [
    "# CHOOSE YOUR NEW GRID // define uniform 1x1 grid"
   ]
  },
  {
   "cell_type": "code",
   "execution_count": null,
   "id": "b0da1f48",
   "metadata": {},
   "outputs": [],
   "source": [
    "new_1deg_grid = xe.util.grid_global(1, 1)\n",
    "new_1deg_grid"
   ]
  },
  {
   "cell_type": "code",
   "execution_count": null,
   "id": "12f7666e",
   "metadata": {},
   "outputs": [],
   "source": [
    "plt.scatter(new_1deg_grid.lon, new_1deg_grid.lat, s=0.01)  # plot grid locations\n",
    "fig = plt.gcf()\n",
    "fig.set_size_inches(10, 10)\n",
    "plt.xlabel('lon')\n",
    "plt.ylabel('lat')\n",
    "plt.title('uniform grid')"
   ]
  },
  {
   "cell_type": "code",
   "execution_count": null,
   "id": "9de1d488",
   "metadata": {},
   "outputs": [],
   "source": [
    "%%time\n",
    "regridder_S2_1deg_Tgrid = xe.Regridder(ds_ACCESS_S2_RA_ocean_nativeTgrid, new_1deg_grid,'bilinear', ignore_degenerate=True, periodic=True,reuse_weights=False)"
   ]
  },
  {
   "cell_type": "markdown",
   "id": "78c9dc3c",
   "metadata": {},
   "source": [
    "## EARTH SYSTEM MODELLING FRAMEWORK (NCAR / NOAA) - https://en.wikipedia.org/wiki/Earth_System_Modeling_Framework </br></br>  xESMF // https://github.com/JiaweiZhuang/xESMF/blob/master/README.rst"
   ]
  },
  {
   "cell_type": "markdown",
   "id": "9af14752",
   "metadata": {},
   "source": [
    "## $\\bigstar$ solution to parallel regridding issue = https://github.com/JiaweiZhuang/xESMF/issues/71"
   ]
  },
  {
   "cell_type": "markdown",
   "id": "87ca7dce",
   "metadata": {},
   "source": [
    "#### regrid the full dataset object"
   ]
  },
  {
   "cell_type": "code",
   "execution_count": null,
   "id": "fdc812e6",
   "metadata": {},
   "outputs": [],
   "source": [
    "%%time\n",
    "regridder_S2_1deg_Tgrid._grid_in = None\n",
    "regridder_S2_1deg_Tgrid._grid_out = None\n",
    "ds_ACCESS_S2_RA_ocean_1degRegrid = regridder_S2_1deg_Tgrid(ds_ACCESS_S2_RA_ocean_nativeTgrid)"
   ]
  },
  {
   "cell_type": "code",
   "execution_count": null,
   "id": "fcd0323f",
   "metadata": {},
   "outputs": [],
   "source": [
    "ds_ACCESS_S2_RA_ocean_1degRegrid"
   ]
  },
  {
   "cell_type": "code",
   "execution_count": null,
   "id": "eccc678b",
   "metadata": {},
   "outputs": [],
   "source": [
    "ds_ACCESS_S2_RA_ocean_1degRegrid = ds_ACCESS_S2_RA_ocean_1degRegrid.assign_coords({'x': ds_ACCESS_S2_RA_ocean_1degRegrid.lon.isel(y=0),'y': ds_ACCESS_S2_RA_ocean_1degRegrid.lat.isel(x=0)}).drop(['lon','lat']).rename({'x':'lon','y':'lat'})"
   ]
  },
  {
   "cell_type": "code",
   "execution_count": null,
   "id": "6f648160-d20d-453e-b6d0-f300d550eccb",
   "metadata": {},
   "outputs": [],
   "source": [
    "ds_ACCESS_S2_RA_ocean_1degRegrid"
   ]
  },
  {
   "cell_type": "code",
   "execution_count": null,
   "id": "d4ccec39",
   "metadata": {},
   "outputs": [],
   "source": [
    "ds_ACCESS_S2_RA_ocean_1degRegrid.nbytes/1e9"
   ]
  },
  {
   "cell_type": "code",
   "execution_count": null,
   "id": "6eaa2055",
   "metadata": {},
   "outputs": [],
   "source": []
  },
  {
   "cell_type": "markdown",
   "id": "061822a6",
   "metadata": {},
   "source": [
    "## Sanity check"
   ]
  },
  {
   "cell_type": "code",
   "execution_count": null,
   "id": "421b2de3",
   "metadata": {},
   "outputs": [],
   "source": [
    "%%time\n",
    "regrid_data = ds_ACCESS_S2_RA_ocean_1degRegrid.mld1.mean(dim='time').compute()\n",
    "coarsened_data = ds_ACCESS_S2_RA_ocean_nativeTgrid.mld1.mean(dim='time')\n",
    "coarsened_data = coarsened_data.coarsen({'x':4,'y':4}, boundary=\"trim\").mean().compute()"
   ]
  },
  {
   "cell_type": "code",
   "execution_count": null,
   "id": "5916af03",
   "metadata": {},
   "outputs": [],
   "source": [
    "%%time\n",
    "fig, (ax1, ax2) = plt.subplots(1, 2,figsize=(20,10))\n",
    "fig.suptitle('compare regridded lon/lat to coarsened native x/y grid',fontsize=20)\n",
    "regrid_data.plot(robust=True,ax=ax1)\n",
    "coarsened_data.plot(robust=True,ax=ax2)\n",
    "ax1.set_ylim([-60,0])\n",
    "ax1.set_xlim([110,180])\n",
    "ax2.set_ylim([50,125])\n",
    "ax2.set_xlim([36,107])"
   ]
  },
  {
   "cell_type": "markdown",
   "id": "816ee47d",
   "metadata": {},
   "source": [
    "# write 1deg Tgrid file to zarr"
   ]
  },
  {
   "cell_type": "code",
   "execution_count": null,
   "id": "81737a43",
   "metadata": {},
   "outputs": [],
   "source": [
    "ds_ACCESS_S2_RA_ocean_1degRegrid"
   ]
  },
  {
   "cell_type": "code",
   "execution_count": null,
   "id": "ef462250",
   "metadata": {},
   "outputs": [],
   "source": [
    "%%time\n",
    "ds_ACCESS_S2_RA_ocean_1degRegrid.to_zarr(store = '/g/data/v14/tm4888/data/ACCESS-S2/accessS2.RA.ocean.Tregrid_1deg.zarr',consolidated=True)"
   ]
  },
  {
   "cell_type": "markdown",
   "id": "15267e15",
   "metadata": {},
   "source": [
    "# U & V"
   ]
  },
  {
   "cell_type": "markdown",
   "id": "e84c71c6",
   "metadata": {},
   "source": [
    "# Check if zarr collections exist in `/g/data/v14/tm4888/data/ACCESS-S2/` and skip arrows if you can\n",
    "# $\\Downarrow$"
   ]
  },
  {
   "cell_type": "markdown",
   "id": "70efe911",
   "metadata": {},
   "source": [
    "# ACCESS-S2 ocean reanalysis (RA) 1981 - 2018"
   ]
  },
  {
   "cell_type": "markdown",
   "id": "bc377fdd",
   "metadata": {},
   "source": [
    "# load U & V S2_RA"
   ]
  },
  {
   "cell_type": "code",
   "execution_count": null,
   "id": "43f22b46",
   "metadata": {
    "tags": []
   },
   "outputs": [],
   "source": [
    "%%time\n",
    "# define preprocess drop function - this unfortunately removes useful information like areau that's missing from 2015 files\n",
    "def drop_not_in_2015(ds):\n",
    "    if 'latu_bounds' in ds.data_vars:\n",
    "        ds = ds.drop(['latu_bounds'])\n",
    "    if 'lonu_bounds' in ds.data_vars:\n",
    "        ds = ds.drop(['lonu_bounds'])\n",
    "    if 'latv_bounds' in ds.data_vars:\n",
    "        ds = ds.drop(['latv_bounds'])\n",
    "    if 'lonv_bounds' in ds.data_vars:\n",
    "        ds = ds.drop(['lonv_bounds'])\n",
    "    if 'depthu_bounds' in ds.data_vars:\n",
    "        ds = ds.drop(['depthu_bounds'])\n",
    "    if 'areau' in ds.data_vars:\n",
    "        ds = ds.drop(['areau'])\n",
    "    if 'depthv_bounds' in ds.data_vars:\n",
    "        ds = ds.drop(['depthv_bounds'])\n",
    "    if 'areav' in ds.data_vars:\n",
    "        ds = ds.drop(['areav'])    \n",
    "    return ds\n",
    "ds_u_1981_2020 = xr.open_mfdataset('/g/data/ux62/access-s2/reanalysis/ocean/u/mo_u_*.nc',parallel=True,preprocess=drop_not_in_2015)\n",
    "ds_u_1981_2020"
   ]
  },
  {
   "cell_type": "code",
   "execution_count": null,
   "id": "4ab5ed1c",
   "metadata": {
    "tags": []
   },
   "outputs": [],
   "source": [
    "%%time\n",
    "# define preprocess drop function - this unfortunately removes useful information like areau that's missing from 2015 files\n",
    "def drop_not_in_2015(ds):\n",
    "    if 'latu_bounds' in ds.data_vars:\n",
    "        ds = ds.drop(['latu_bounds'])\n",
    "    if 'lonu_bounds' in ds.data_vars:\n",
    "        ds = ds.drop(['lonu_bounds'])\n",
    "    if 'latv_bounds' in ds.data_vars:\n",
    "        ds = ds.drop(['latv_bounds'])\n",
    "    if 'lonv_bounds' in ds.data_vars:\n",
    "        ds = ds.drop(['lonv_bounds'])\n",
    "    if 'depthu_bounds' in ds.data_vars:\n",
    "        ds = ds.drop(['depthu_bounds'])\n",
    "    if 'areau' in ds.data_vars:\n",
    "        ds = ds.drop(['areau'])\n",
    "    if 'depthv_bounds' in ds.data_vars:\n",
    "        ds = ds.drop(['depthv_bounds'])\n",
    "    if 'areav' in ds.data_vars:\n",
    "        ds = ds.drop(['areav'])    \n",
    "    return ds\n",
    "ds_v_1981_2020 = xr.open_mfdataset('/g/data/ux62/access-s2/reanalysis/ocean/v/mo_v_*.nc',parallel=True,preprocess=drop_not_in_2015)\n",
    "ds_v_1981_2020"
   ]
  },
  {
   "cell_type": "markdown",
   "id": "3669618c",
   "metadata": {},
   "source": [
    "# Deal with the same depth coordinates given two different names & rename time"
   ]
  },
  {
   "cell_type": "code",
   "execution_count": null,
   "id": "29399a95",
   "metadata": {},
   "outputs": [],
   "source": [
    "ds_u_1981_2020 = ds_u_1981_2020.rename({'depthu':'depth','time_counter':'time'})\n",
    "ds_v_1981_2020 = ds_v_1981_2020.rename({'depthv':'depth','time_counter':'time'})"
   ]
  },
  {
   "cell_type": "code",
   "execution_count": null,
   "id": "d46df26f-12c8-4910-86ca-1f7cc116f1e7",
   "metadata": {},
   "outputs": [],
   "source": [
    "ds_u_1981_2020 "
   ]
  },
  {
   "cell_type": "markdown",
   "id": "f02f59e4-a556-429c-ab1b-21da72198622",
   "metadata": {},
   "source": [
    "# re-chunk with rechunker!\n",
    "# and write out native grid U & V zarr collections"
   ]
  },
  {
   "cell_type": "code",
   "execution_count": null,
   "id": "c716baa6-303e-46fe-a45e-d0efdb09352d",
   "metadata": {},
   "outputs": [],
   "source": [
    "ds_u = ds_u_1981_2020[['u']]\n",
    "# not sure this encoding reset is needed #\n",
    "for var in ds_u.variables:\n",
    "        ds_u[var].encoding = {}"
   ]
  },
  {
   "cell_type": "code",
   "execution_count": null,
   "id": "e5fd4a27-af27-4193-ba0b-6ea13b5f1031",
   "metadata": {},
   "outputs": [],
   "source": [
    "ds_u"
   ]
  },
  {
   "cell_type": "code",
   "execution_count": null,
   "id": "69de5fca-f33c-49c1-b479-c2bcb5e1cd61",
   "metadata": {},
   "outputs": [],
   "source": [
    "%%time\n",
    "target_chunks = {\n",
    "        'u': {'time':480,'depth':1,'x':250,'y':250},\n",
    "        'time': None,\n",
    "        'depth': None}\n",
    "\n",
    "mem_max = '20GB'\n",
    "\n",
    "target_store = '/g/data/v14/tm4888/data/ACCESS-S2/.rechunker/group_rechunked.zarr'\n",
    "temp_store = '/g/data/v14/tm4888/data/ACCESS-S2/.rechunker/group_rechunked-tmp.zarr'\n",
    "! rm -rf /g/data/v14/tm4888/data/ACCESS-S2/.rechunker/*.zarr\n",
    "\n",
    "array_plan = rechunk(ds_u, target_chunks, mem_max, target_store,temp_store=temp_store)\n",
    "rechunked_result = array_plan.execute()\n",
    "print('final chunking scheme:'+str(rechunked_result.u.chunks))\n",
    "ds_u_rechunked = xr.open_zarr('/g/data/v14/tm4888/data/ACCESS-S2/.rechunker/group_rechunked.zarr',\n",
    "                             consolidated=False)\n",
    "! rm -rf /g/data/v14/tm4888/data/ACCESS-S2/accessS2.RA.ocean.u.nativeUgrid.zarr\n",
    "ds_u_rechunked.to_zarr(store = '/g/data/v14/tm4888/data/ACCESS-S2/accessS2.RA.ocean.u.nativeUgrid.zarr',\n",
    "                                         consolidated=True)"
   ]
  },
  {
   "cell_type": "code",
   "execution_count": null,
   "id": "d3d19a61-0142-4ea8-bf8e-414f8f6c4ec4",
   "metadata": {},
   "outputs": [],
   "source": [
    "%%time\n",
    "ds_u_rechunked.to_zarr(store = '/g/data/v14/tm4888/data/ACCESS-S2/accessS2.RA.ocean.u.nativeUgrid.zarr',\n",
    "                                         consolidated=True)"
   ]
  },
  {
   "cell_type": "code",
   "execution_count": null,
   "id": "4387d147-e2bc-4403-9cf6-512e8fc890cc",
   "metadata": {},
   "outputs": [],
   "source": [
    "ds_v = ds_v_1981_2020[['v']]\n",
    "# not sure this encoding reset is needed #\n",
    "for var in ds_v.variables:\n",
    "        ds_v[var].encoding = {}"
   ]
  },
  {
   "cell_type": "code",
   "execution_count": null,
   "id": "60395aa3-697a-4f8b-90a3-b41e9e9d4305",
   "metadata": {},
   "outputs": [],
   "source": [
    "%%time\n",
    "target_chunks = {\n",
    "        'v': {'time':480,'depth':1,'x':250,'y':250},\n",
    "        'time': None,\n",
    "        'depth': None}\n",
    "\n",
    "mem_max = '20GB'\n",
    "\n",
    "target_store = '/g/data/v14/tm4888/data/ACCESS-S2/.rechunker/group_rechunked.zarr'\n",
    "temp_store = '/g/data/v14/tm4888/data/ACCESS-S2/.rechunker/group_rechunked-tmp.zarr'\n",
    "! rm -rf /g/data/v14/tm4888/data/ACCESS-S2/.rechunker/*.zarr\n",
    "\n",
    "array_plan = rechunk(ds_v, target_chunks, mem_max, target_store,temp_store=temp_store)\n",
    "rechunked_result = array_plan.execute()\n",
    "print('final chunking scheme:'+str(rechunked_result.v.chunks))\n",
    "ds_v_rechunked = xr.open_zarr('/g/data/v14/tm4888/data/ACCESS-S2/.rechunker/group_rechunked.zarr',\n",
    "                             consolidated=False)\n",
    "! rm -rf /g/data/v14/tm4888/data/ACCESS-S2/accessS2.RA.ocean.v.nativeVgrid.zarr\n",
    "ds_v_rechunked.to_zarr(store = '/g/data/v14/tm4888/data/ACCESS-S2/accessS2.RA.ocean.v.nativeVgrid.zarr',\n",
    "                                         consolidated=True)"
   ]
  },
  {
   "cell_type": "markdown",
   "id": "f6d0ba83",
   "metadata": {},
   "source": [
    "# $\\Downarrow$\n",
    "# CAN SKIP TO THIS STEP IF U & V `ZARR` FILES ARE WRITTEN AND AVAILABLE\n",
    "hard part for u & v done above"
   ]
  },
  {
   "cell_type": "code",
   "execution_count": null,
   "id": "076e49c3",
   "metadata": {
    "tags": []
   },
   "outputs": [],
   "source": [
    "u = xr.open_zarr('/g/data/v14/tm4888/data/ACCESS-S2/accessS2.RA.ocean.u.nativeUgrid.zarr',consolidated=True)\n",
    "v = xr.open_zarr('/g/data/v14/tm4888/data/ACCESS-S2/accessS2.RA.ocean.v.nativeVgrid.zarr',consolidated=True)"
   ]
  },
  {
   "cell_type": "code",
   "execution_count": null,
   "id": "277b9cc7",
   "metadata": {},
   "outputs": [],
   "source": [
    "def calc_EKE(u, v, time_name = 'time'):\n",
    "    '''\n",
    "    Author1 = {\"name\": \"Thomas Moore\", \"affiliation\": \"CSIRO\", \"email\": \"thomas.moore@csiro.au\", \"orcid\": \"0000-0003-3930-1946\"}\n",
    "    u,v are x and y currents as an xarray data array\n",
    "    '''\n",
    "    u_mean = u.mean(time_name)\n",
    "    v_mean = v.mean(time_name)\n",
    "    MKE = 0.5*(u_mean**2 + v_mean**2).rename('MKE') # currents\n",
    "    EKE = ( 0.5 * ((u-u_mean)**2 + (v-v_mean)**2) ).rename('EKE') # eddies\n",
    "    return EKE, MKE"
   ]
  },
  {
   "cell_type": "code",
   "execution_count": null,
   "id": "08d23a46",
   "metadata": {},
   "outputs": [],
   "source": [
    "u_da = u.u\n",
    "v_da = v.v"
   ]
  },
  {
   "cell_type": "code",
   "execution_count": null,
   "id": "d1a1d877",
   "metadata": {},
   "outputs": [],
   "source": [
    "%%time\n",
    "[EKE, MKE] = calc_EKE(u_da, v_da, time_name='time')"
   ]
  },
  {
   "cell_type": "code",
   "execution_count": null,
   "id": "edcffbe1",
   "metadata": {},
   "outputs": [],
   "source": [
    "KE = xr.merge([EKE,MKE])"
   ]
  },
  {
   "cell_type": "code",
   "execution_count": null,
   "id": "c3dae1f3",
   "metadata": {},
   "outputs": [],
   "source": [
    "KE"
   ]
  },
  {
   "cell_type": "code",
   "execution_count": null,
   "id": "1b7c9ca0",
   "metadata": {},
   "outputs": [],
   "source": [
    "%%time\n",
    "!rm -rf /g/data/v14/tm4888/data/ACCESS-S2/accessS2.RA.EKE.nativeGrid.zarr\n",
    "KE.to_zarr('/g/data/v14/tm4888/data/ACCESS-S2/accessS2.RA.EKE.nativeGrid.zarr',consolidated=True)"
   ]
  },
  {
   "cell_type": "markdown",
   "id": "8e61ab9e",
   "metadata": {},
   "source": [
    "# $\\Downarrow$\n",
    "# CAN SKIP TO THIS STEP IF EKE `ZARR` FILE IS WRITTEN AND AVAILABLE\n",
    "hard part for u & v & EKE & MKE done above"
   ]
  },
  {
   "cell_type": "code",
   "execution_count": null,
   "id": "c09bdbf4",
   "metadata": {},
   "outputs": [],
   "source": [
    "KE = xr.open_zarr('/g/data/v14/tm4888/data/ACCESS-S2/accessS2.RA.EKE.nativeGrid.zarr',consolidated=True)"
   ]
  },
  {
   "cell_type": "code",
   "execution_count": null,
   "id": "2a6275d7",
   "metadata": {},
   "outputs": [],
   "source": [
    "EKE_mean = KE.EKE.mean('time').compute()"
   ]
  },
  {
   "cell_type": "markdown",
   "id": "9c547f0b",
   "metadata": {},
   "source": [
    "# reduce dataset to surface only"
   ]
  },
  {
   "cell_type": "code",
   "execution_count": null,
   "id": "a9ac6cd0",
   "metadata": {},
   "outputs": [],
   "source": [
    "KE_surface = KE.isel(depth=0).compute()"
   ]
  },
  {
   "cell_type": "code",
   "execution_count": null,
   "id": "596b7e93",
   "metadata": {},
   "outputs": [],
   "source": [
    "KE_surface.sel(x=slice(250,450),y=slice(250,450)).mean('time').EKE.plot(vmax=.05)"
   ]
  },
  {
   "cell_type": "markdown",
   "id": "85f0ba62",
   "metadata": {},
   "source": [
    "# write file to netcdf"
   ]
  },
  {
   "cell_type": "raw",
   "id": "1dbcb055-ffba-4186-a5f0-0db3717ee2c8",
   "metadata": {},
   "source": [
    "%%time\n",
    "KE_surface.to_netcdf('/g/data/v14/tm4888/data/ACCESS-S2/accessS2.RA.EKE_surface.nc',mode='w')"
   ]
  },
  {
   "cell_type": "raw",
   "id": "cbfc0198-5535-4a35-95ce-2ea1784c8f6e",
   "metadata": {},
   "source": [
    "KE = KE.persist()"
   ]
  },
  {
   "cell_type": "raw",
   "id": "51c768f3-af7f-40e3-bd09-a35a6c18f33a",
   "metadata": {},
   "source": [
    "%%time\n",
    "KE.to_netcdf('/g/data/v14/tm4888/data/ACCESS-S2/accessS2.RA.EKE.nc',mode='w')"
   ]
  },
  {
   "cell_type": "markdown",
   "id": "2ade2b10",
   "metadata": {},
   "source": [
    "# $ The\\ End$"
   ]
  },
  {
   "cell_type": "code",
   "execution_count": null,
   "id": "946523f5",
   "metadata": {},
   "outputs": [],
   "source": []
  },
  {
   "cell_type": "markdown",
   "id": "9bc46bde",
   "metadata": {},
   "source": [
    "# Break glass in case of emergency\n",
    "# $\\Downarrow$"
   ]
  },
  {
   "cell_type": "code",
   "execution_count": null,
   "id": "56944df5",
   "metadata": {},
   "outputs": [],
   "source": [
    "client.restart()"
   ]
  },
  {
   "cell_type": "code",
   "execution_count": 11,
   "id": "a452cf37",
   "metadata": {},
   "outputs": [
    {
     "name": "stderr",
     "output_type": "stream",
     "text": [
      "distributed.client - ERROR - Failed to reconnect to scheduler after 30.00 seconds, closing client\n",
      "_GatheringFuture exception was never retrieved\n",
      "future: <_GatheringFuture finished exception=CancelledError()>\n",
      "asyncio.exceptions.CancelledError\n"
     ]
    }
   ],
   "source": [
    "client.shutdown()"
   ]
  },
  {
   "cell_type": "code",
   "execution_count": null,
   "id": "4464c198",
   "metadata": {},
   "outputs": [],
   "source": [
    "client.restart()"
   ]
  }
 ],
 "metadata": {
  "kernelspec": {
   "display_name": "Python 3",
   "language": "python",
   "name": "python3"
  },
  "language_info": {
   "codemirror_mode": {
    "name": "ipython",
    "version": 3
   },
   "file_extension": ".py",
   "mimetype": "text/x-python",
   "name": "python",
   "nbconvert_exporter": "python",
   "pygments_lexer": "ipython3",
   "version": "3.9.4"
  }
 },
 "nbformat": 4,
 "nbformat_minor": 5
}
