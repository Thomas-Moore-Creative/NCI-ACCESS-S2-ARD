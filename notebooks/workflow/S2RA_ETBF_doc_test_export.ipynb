{
 "cells": [
  {
   "cell_type": "markdown",
   "id": "31bbe048",
   "metadata": {},
   "source": [
    "# S2RA_ETBF_doc_test_export"
   ]
  },
  {
   "cell_type": "markdown",
   "id": "fde8a751",
   "metadata": {},
   "source": [
    "**Date:** <br>\n",
    "23 February 2022 <br>\n",
    "**Background:** <br>\n",
    "Issue -  <br>\n",
    "**Author(s):**<br>\n",
    "Thomas Moore<br>"
   ]
  },
  {
   "cell_type": "markdown",
   "id": "f18a60fe",
   "metadata": {},
   "source": [
    "### OOD documentation\n",
    "https://opus.nci.org.au/display/DAE/Setting+up+a+Dask+Cluster+on+OOD"
   ]
  },
  {
   "cell_type": "code",
   "execution_count": 2,
   "id": "26f0f507",
   "metadata": {},
   "outputs": [],
   "source": [
    "Author1 = {\"name\": \"Thomas Moore\", \"affiliation\": \"CSIRO\", \"email\": \"thomas.moore@csiro.au\", \"orcid\": \"0000-0003-3930-1946\"}"
   ]
  },
  {
   "cell_type": "code",
   "execution_count": 3,
   "id": "7586239d",
   "metadata": {
    "tags": []
   },
   "outputs": [],
   "source": [
    "import xarray as xr\n",
    "import numpy as np\n",
    "import xrft\n",
    "import xesmf as xe\n",
    "import scipy\n",
    "import matplotlib.pyplot as plt\n",
    "import datetime\n",
    "import pandas as pd\n",
    "import matplotlib.dates as mdates\n",
    "from matplotlib.dates import DateFormatter\n",
    "import os\n",
    "import re\n",
    "import cartopy.crs as ccrs\n",
    "import proplot as pplt\n",
    "from rechunker import rechunk\n",
    "%config Completer.use_jedi = False"
   ]
  },
  {
   "cell_type": "markdown",
   "id": "66d1ff16-8c67-4360-8920-de24a4df4b12",
   "metadata": {},
   "source": [
    "## import helper"
   ]
  },
  {
   "cell_type": "code",
   "execution_count": 4,
   "id": "4957c4b9-5159-484b-86a1-a8489aa4f19e",
   "metadata": {},
   "outputs": [],
   "source": [
    "import importlib.util\n",
    "spec = importlib.util.spec_from_file_location(\"helper\", \"/g/data/v14/tm4888/code/helper-py/helper_tools.py\")\n",
    "helper = importlib.util.module_from_spec(spec)\n",
    "spec.loader.exec_module(helper)"
   ]
  },
  {
   "cell_type": "markdown",
   "id": "6b3f8b43",
   "metadata": {},
   "source": [
    "## OOD cluster"
   ]
  },
  {
   "cell_type": "raw",
   "id": "4d890946-7069-4f95-8fb6-b9487c50ee6f",
   "metadata": {},
   "source": [
    "from dask.distributed import Client,Scheduler\n",
    "from dask_jobqueue import SLURMCluster\n",
    "cluster = SLURMCluster(cores=2,processes=1,memory=\"47GB\",walltime='02:00:00')\n",
    "client = Client(cluster)\n",
    "cluster.scale(cores=24)"
   ]
  },
  {
   "cell_type": "code",
   "execution_count": 5,
   "id": "d77e4584-525c-4aa2-b294-02fedb93b31e",
   "metadata": {},
   "outputs": [
    {
     "name": "stderr",
     "output_type": "stream",
     "text": [
      "/g/data/v14/tm4888/miniconda3/envs/pangeo_hpc/lib/python3.9/site-packages/dask_jobqueue/core.py:20: FutureWarning: tmpfile is deprecated and will be removed in a future release. Please use dask.utils.tmpfile instead.\n",
      "  from distributed.utils import tmpfile\n"
     ]
    }
   ],
   "source": [
    "from dask.distributed import Client,Scheduler\n",
    "from dask_jobqueue import SLURMCluster\n",
    "cluster = SLURMCluster(cores=1,processes=1,memory=\"23GB\",walltime='02:00:00')\n",
    "client = Client(cluster)\n",
    "cluster.scale(cores=12)"
   ]
  },
  {
   "cell_type": "code",
   "execution_count": 6,
   "id": "b3de759e",
   "metadata": {},
   "outputs": [
    {
     "data": {
      "text/html": [
       "<div>\n",
       "    <div style=\"width: 24px; height: 24px; background-color: #e1e1e1; border: 3px solid #9D9D9D; border-radius: 5px; position: absolute;\"> </div>\n",
       "    <div style=\"margin-left: 48px;\">\n",
       "        <h3 style=\"margin-bottom: 0px;\">Client</h3>\n",
       "        <p style=\"color: #9D9D9D; margin-bottom: 0px;\">Client-7ee64fef-9b51-11ec-b7cb-fa163e47732a</p>\n",
       "        <table style=\"width: 100%; text-align: left;\">\n",
       "\n",
       "        <tr>\n",
       "        \n",
       "            <td style=\"text-align: left;\"><strong>Connection method:</strong> Cluster object</td>\n",
       "            <td style=\"text-align: left;\"><strong>Cluster type:</strong> dask_jobqueue.SLURMCluster</td>\n",
       "        \n",
       "        </tr>\n",
       "\n",
       "        \n",
       "            <tr>\n",
       "                <td style=\"text-align: left;\">\n",
       "                    <strong>Dashboard: </strong> <a href=\"/proxy/8787/status\" target=\"_blank\">/proxy/8787/status</a>\n",
       "                </td>\n",
       "                <td style=\"text-align: left;\"></td>\n",
       "            </tr>\n",
       "        \n",
       "\n",
       "        </table>\n",
       "\n",
       "        \n",
       "            <details>\n",
       "            <summary style=\"margin-bottom: 20px;\"><h3 style=\"display: inline;\">Cluster Info</h3></summary>\n",
       "            <div class=\"jp-RenderedHTMLCommon jp-RenderedHTML jp-mod-trusted jp-OutputArea-output\">\n",
       "    <div style=\"width: 24px; height: 24px; background-color: #e1e1e1; border: 3px solid #9D9D9D; border-radius: 5px; position: absolute;\">\n",
       "    </div>\n",
       "    <div style=\"margin-left: 48px;\">\n",
       "        <h3 style=\"margin-bottom: 0px; margin-top: 0px;\">SLURMCluster</h3>\n",
       "        <p style=\"color: #9D9D9D; margin-bottom: 0px;\">ef8e603a</p>\n",
       "        <table style=\"width: 100%; text-align: left;\">\n",
       "            <tr>\n",
       "                <td style=\"text-align: left;\">\n",
       "                    <strong>Dashboard:</strong> <a href=\"/proxy/8787/status\" target=\"_blank\">/proxy/8787/status</a>\n",
       "                </td>\n",
       "                <td style=\"text-align: left;\">\n",
       "                    <strong>Workers:</strong> 0\n",
       "                </td>\n",
       "            </tr>\n",
       "            <tr>\n",
       "                <td style=\"text-align: left;\">\n",
       "                    <strong>Total threads:</strong> 0\n",
       "                </td>\n",
       "                <td style=\"text-align: left;\">\n",
       "                    <strong>Total memory:</strong> 0 B\n",
       "                </td>\n",
       "            </tr>\n",
       "            \n",
       "        </table>\n",
       "\n",
       "        <details>\n",
       "            <summary style=\"margin-bottom: 20px;\">\n",
       "                <h3 style=\"display: inline;\">Scheduler Info</h3>\n",
       "            </summary>\n",
       "\n",
       "            <div style=\"\">\n",
       "    <div>\n",
       "        <div style=\"width: 24px; height: 24px; background-color: #FFF7E5; border: 3px solid #FF6132; border-radius: 5px; position: absolute;\"> </div>\n",
       "        <div style=\"margin-left: 48px;\">\n",
       "            <h3 style=\"margin-bottom: 0px;\">Scheduler</h3>\n",
       "            <p style=\"color: #9D9D9D; margin-bottom: 0px;\">Scheduler-e65da6f8-b94c-4bab-a5d3-85f61583b834</p>\n",
       "            <table style=\"width: 100%; text-align: left;\">\n",
       "                <tr>\n",
       "                    <td style=\"text-align: left;\">\n",
       "                        <strong>Comm:</strong> tcp://10.0.128.161:41303\n",
       "                    </td>\n",
       "                    <td style=\"text-align: left;\">\n",
       "                        <strong>Workers:</strong> 0\n",
       "                    </td>\n",
       "                </tr>\n",
       "                <tr>\n",
       "                    <td style=\"text-align: left;\">\n",
       "                        <strong>Dashboard:</strong> <a href=\"/proxy/8787/status\" target=\"_blank\">/proxy/8787/status</a>\n",
       "                    </td>\n",
       "                    <td style=\"text-align: left;\">\n",
       "                        <strong>Total threads:</strong> 0\n",
       "                    </td>\n",
       "                </tr>\n",
       "                <tr>\n",
       "                    <td style=\"text-align: left;\">\n",
       "                        <strong>Started:</strong> Just now\n",
       "                    </td>\n",
       "                    <td style=\"text-align: left;\">\n",
       "                        <strong>Total memory:</strong> 0 B\n",
       "                    </td>\n",
       "                </tr>\n",
       "            </table>\n",
       "        </div>\n",
       "    </div>\n",
       "\n",
       "    <details style=\"margin-left: 48px;\">\n",
       "        <summary style=\"margin-bottom: 20px;\">\n",
       "            <h3 style=\"display: inline;\">Workers</h3>\n",
       "        </summary>\n",
       "\n",
       "        \n",
       "\n",
       "    </details>\n",
       "</div>\n",
       "\n",
       "        </details>\n",
       "    </div>\n",
       "</div>\n",
       "            </details>\n",
       "        \n",
       "\n",
       "    </div>\n",
       "</div>"
      ],
      "text/plain": [
       "<Client: 'tcp://10.0.128.161:41303' processes=0 threads=0, memory=0 B>"
      ]
     },
     "execution_count": 6,
     "metadata": {},
     "output_type": "execute_result"
    }
   ],
   "source": [
    "client"
   ]
  },
  {
   "cell_type": "markdown",
   "id": "745720ce-d572-4130-bfa4-0dd22a0c23a9",
   "metadata": {},
   "source": [
    "# load final ETBF S2 025grid collections from zarr"
   ]
  },
  {
   "cell_type": "code",
   "execution_count": 8,
   "id": "760ee6b7-e297-49e2-940c-ee969677e20c",
   "metadata": {},
   "outputs": [
    {
     "name": "stdout",
     "output_type": "stream",
     "text": [
      "CPU times: user 103 ms, sys: 16.6 ms, total: 120 ms\n",
      "Wall time: 183 ms\n"
     ]
    }
   ],
   "source": [
    "%%time\n",
    "ds = xr.open_zarr('/g/data/v14/tm4888/data/ACCESS-S2/accessS2.RA.ocean.masked.AUSWCPregion.ETBFvars.zarr',consolidated=True)"
   ]
  },
  {
   "cell_type": "code",
   "execution_count": null,
   "id": "0a2465dd-2a81-423a-906d-400c5a154e31",
   "metadata": {},
   "outputs": [],
   "source": [
    "ds = ds.drop_vars(['areat','areau','areav','maskT','maskU','maskV'"
   ]
  },
  {
   "cell_type": "code",
   "execution_count": null,
   "id": "d564c734-ba1b-4a18-91dd-e3f8c0d20ea8",
   "metadata": {},
   "outputs": [],
   "source": []
  },
  {
   "cell_type": "code",
   "execution_count": null,
   "id": "ab9aae8b-e920-4b0f-a456-00e74ace0a74",
   "metadata": {},
   "outputs": [],
   "source": []
  },
  {
   "cell_type": "code",
   "execution_count": null,
   "id": "5669a5e2-fb83-446e-a421-44e786c05d7a",
   "metadata": {},
   "outputs": [],
   "source": []
  },
  {
   "cell_type": "code",
   "execution_count": null,
   "id": "b0ba7158-dfff-43b0-b20a-4df61f180a7a",
   "metadata": {},
   "outputs": [],
   "source": []
  },
  {
   "cell_type": "code",
   "execution_count": null,
   "id": "2e1ff6b6-ca40-4523-bcea-9d89d40b2a8d",
   "metadata": {},
   "outputs": [],
   "source": []
  },
  {
   "cell_type": "code",
   "execution_count": null,
   "id": "65e2a459-f424-4d01-95bf-2044a89a2c87",
   "metadata": {},
   "outputs": [],
   "source": []
  },
  {
   "cell_type": "code",
   "execution_count": null,
   "id": "c6443400-b926-4418-86e3-6f67535552fc",
   "metadata": {},
   "outputs": [],
   "source": []
  },
  {
   "cell_type": "code",
   "execution_count": null,
   "id": "18bcd919-304c-4b2f-942d-788a6224088c",
   "metadata": {},
   "outputs": [],
   "source": []
  },
  {
   "cell_type": "code",
   "execution_count": null,
   "id": "ddd3ae72-8ae5-4c7e-87d7-5142927cb1ff",
   "metadata": {},
   "outputs": [],
   "source": []
  },
  {
   "cell_type": "code",
   "execution_count": null,
   "id": "34f46349-efe9-4b72-ad96-b3a439c8ab2a",
   "metadata": {},
   "outputs": [],
   "source": []
  },
  {
   "cell_type": "markdown",
   "id": "8225e7bc-47a9-4730-bde5-21a7966eeb6a",
   "metadata": {},
   "source": [
    "# Write out single zarr collection"
   ]
  },
  {
   "cell_type": "code",
   "execution_count": null,
   "id": "b5565872-e1e3-4ab9-9667-eaed9015c67b",
   "metadata": {},
   "outputs": [],
   "source": [
    "%%time\n",
    "ds_TUV.to_zarr('/g/data/v14/tm4888/data/ACCESS-S2/accessS2.RA.ocean.ETBFvars_025deg.zarr',consolidated=True)"
   ]
  },
  {
   "cell_type": "markdown",
   "id": "c4067bce-baee-4f5e-ba0e-835221b4cd48",
   "metadata": {},
   "source": [
    "# $ The\\ End$"
   ]
  },
  {
   "cell_type": "markdown",
   "id": "b09b8aab-8bc3-407c-ad57-6252ea42293b",
   "metadata": {},
   "source": [
    "# Break glass in case of emergency\n",
    "# $\\Downarrow$"
   ]
  },
  {
   "cell_type": "code",
   "execution_count": null,
   "id": "1a65ef49-d1f3-49ae-bb47-21465b35901c",
   "metadata": {},
   "outputs": [],
   "source": [
    "client.restart()"
   ]
  },
  {
   "cell_type": "code",
   "execution_count": 16,
   "id": "76991ca7-13c0-49cc-8b86-b6474f083f8d",
   "metadata": {},
   "outputs": [],
   "source": [
    "client.shutdown()"
   ]
  },
  {
   "cell_type": "code",
   "execution_count": null,
   "id": "417ef20d-c44c-4b7f-a979-b925369702cb",
   "metadata": {},
   "outputs": [],
   "source": [
    "client.restart()"
   ]
  }
 ],
 "metadata": {
  "kernelspec": {
   "display_name": "Python 3",
   "language": "python",
   "name": "python3"
  },
  "language_info": {
   "codemirror_mode": {
    "name": "ipython",
    "version": 3
   },
   "file_extension": ".py",
   "mimetype": "text/x-python",
   "name": "python",
   "nbconvert_exporter": "python",
   "pygments_lexer": "ipython3",
   "version": "3.9.4"
  }
 },
 "nbformat": 4,
 "nbformat_minor": 5
}
